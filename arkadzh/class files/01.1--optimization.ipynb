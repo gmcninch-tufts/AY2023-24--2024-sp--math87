{
 "cells": [
  {
   "cell_type": "markdown",
   "metadata": {
    "lines_to_next_cell": 0,
    "slideshow": {
     "slide_type": "slide"
    }
   },
   "source": [
    "Math087 - Mathematical Modeling\n",
    "===============================\n",
    "[Tufts University](http://www.tufts.edu) -- [Department of Math](http://math.tufts.edu)  \n",
    "[Arkadz Kirshtein](https://math.tufts.edu/people/facultyKirshtein.htm) <arkadz.kirshtein@tufts.edu>   \n",
    "*Fall 2023*\n",
    "\n",
    "*Based on materials created by James Adler and George McNinch*\n",
    "\n",
    "Course material (Class 1): Optimization\n",
    "--------------------------------------"
   ]
  },
  {
   "cell_type": "markdown",
   "metadata": {
    "slideshow": {
     "slide_type": "slide"
    }
   },
   "source": [
    "Some generalities\n",
    "-----------------\n",
    "Optimization is the most common application of mathematics. Here are some “real-world” examples:\n",
    "\n",
    "- **Business optimization**. A business manager attempts to understand and control parameters in order to maximize profit and minimize costs.\n",
    "\n",
    "- **Natural resource management**. Control harvest rates to maximize long-term yield, while conserving resources.\n",
    "\n",
    "- **Environmental regulation**. Governments sets standards to minimize environmental costs, while maximizing production of goods.\n",
    "\n",
    "- **IT management**. Computer system managers try to maximize throughput and minimize delays.\n",
    "\n",
    "- **Pharmaceutical optimization**. Doctors and pharmacists regulate drugs to minimize harmful side effects and maximize healing."
   ]
  },
  {
   "cell_type": "markdown",
   "metadata": {
    "slideshow": {
     "slide_type": "subslide"
    }
   },
   "source": [
    "In this first part of our modeling course, we are going to discuss some sorts of optimization problems and related matters:\n",
    "\n",
    "- *single variable optimization* and *sensitivity analysis*\n",
    "\n",
    "- *multivariable optimization*\n",
    "\n",
    "- *multivariable optimization with constraints*"
   ]
  },
  {
   "cell_type": "markdown",
   "metadata": {
    "slideshow": {
     "slide_type": "subslide"
    }
   },
   "source": [
    "# Single Variable Optimization\n",
    "\n",
    "In this first section of our modeling class, we are going to examine a few *single variable* optimization problems. In some sense, these amount of complicated versions of *word problems* that you might have met in Calculus I (differential calculus).\n",
    "\n",
    "The procedure to carry out a calculus based solution can then be described roughly as follows: \n",
    "\n",
    "- find the function $f(x)$ that measures the quantity that you desire\n",
    "  to optimize, and the relevant interval $[a,b]$ of values of\n",
    "  independent variable $x$.\n",
    "- find the critical points $c_1,c_2,\\dots,c_N$ of $f$ in the interval $(a,b)$.\n",
    "- if $f$ is a *nice enough* function, the maximum and minimum value of\n",
    "  $f$ will be found in the list $f(a),f(c_1),\\dots,f(c_N),f(b)$ --\n",
    "  remember that you must check the endpoints $a,b$!  "
   ]
  },
  {
   "cell_type": "markdown",
   "metadata": {
    "slideshow": {
     "slide_type": "slide"
    }
   },
   "source": [
    "\n",
    "\n",
    "\n",
    "## Example: Oil spill \n",
    "\n",
    "> An oil spill has contaminated 200 miles of Alaskan shoreline. The\n",
    "> shipping company responsible for the accident has been given 14 days\n",
    "> to clean up the shoreline, after which it will be required to pay a\n",
    "> fine of \\\\$10,000 per day for each day in which any part of the\n",
    "> shoreline remains uncleaned.\n",
    "\n",
    "Let's assume that the fine depends on fractional days. For example,\n",
    "if the work is completed in 15.5 days, we'll suppose that the company would pay a\n",
    "fine of \n",
    "\n",
    "$$1.5 \\cdot 10000 = 15000.$$\n",
    "\n",
    "> Cleanup crews can be hired, and each crew cleans 5 miles of beach per week.\n",
    "> \n",
    "> There is one local cleanup crew available at a cost of \\\\$500 per day. \n",
    ">\n",
    "> Additional non-local crews can be hired. The hire of each non-local\n",
    "> crew incurs an \\\\$18,000 one-time travel cost. These additional\n",
    "> crews work for \\\\$800 per day for each crew (and each crew has the\n",
    "> same cleanup rate of 5 miles of beach per week)."
   ]
  },
  {
   "cell_type": "markdown",
   "metadata": {
    "slideshow": {
     "slide_type": "subslide"
    }
   },
   "source": [
    "Relevant parameters:\n",
    "\n",
    "* miles cleaned per crew per week = $5$, so\n",
    "* $m$ = miles cleaned per crew per day = $5/7$\n",
    "* $f$ = fine charged per day = \\\\$$10,000$\n",
    "* $TC$ = travel costs per outside crew = \\\\$$18,000$\n",
    "\n",
    "\n",
    "The main choice that the company must make is: \"how many outside crews to hire?\"\n",
    "\n",
    "* $n$ = # of outside crews to hire\n",
    "\n",
    "According to the background description, there are a number of quantities that depend on this choice:\n",
    "\n",
    "* $t$ = # of days for complete cleanup\n",
    "* $F$ = fine to be paid\n",
    "* $C_{crew}$ = payments to cleanup crews\n",
    "* $C_{tot}$ = total cleanup cost = $F + C_{crew}$"
   ]
  },
  {
   "cell_type": "markdown",
   "metadata": {
    "slideshow": {
     "slide_type": "subslide"
    }
   },
   "source": [
    "Let's give **mathematical expressions** for these quantities:\n",
    "\n",
    "$t = 200\\cdot \\dfrac{1}{n+1} \\cdot \\dfrac{1}{m}$\n",
    "\n",
    "(Indeed, $n+1$ crews working at a rate of $m$ miles per day\n",
    "will clean 200 miles of beach in the indicated number of days)\n",
    "\n",
    "$F= \\begin{cases} 0 & \\text{if $t<14$} \\\\ f\\cdot(t-14) & \\text{if $t \\ge 14$} \\end{cases}$\n",
    "\n",
    "(Indeed, no fine if work is completed within two weeks; otherwise, the\n",
    "fine is given by the indicated formula)\n",
    "\n",
    "$\\begin{array}{rl}\n",
    "C_{crew} = &{500\\cdot t + 800\\cdot t\\cdot n + TC\\cdot n}\\\\\n",
    "C_{tot} = &{F + C_{crew}}\\end{array}$"
   ]
  },
  {
   "cell_type": "markdown",
   "metadata": {
    "slideshow": {
     "slide_type": "subslide"
    }
   },
   "source": [
    "Now let's give `python` code for computing these quantities.\n",
    "\n",
    "\n",
    "Note that we use the parameter values as *default values* for some of the arguments\n",
    "of the *crew_cost* and *cost* functions."
   ]
  },
  {
   "cell_type": "code",
   "execution_count": 1,
   "metadata": {
    "slideshow": {
     "slide_type": "slide"
    }
   },
   "outputs": [],
   "source": [
    "class OilSpillCleanup:\n",
    "    def __init__(self,cleanup_rate=5.0/7,tc=18000,miles=200,fine_per_day=10000):\n",
    "        self.miles = miles                \n",
    "        self.cleanup_rate = cleanup_rate   \n",
    "        self.tc = tc                      \n",
    "        self.fine_per_day = fine_per_day\n",
    "       \n",
    "    def report_parameters(self):\n",
    "        lines = [f\"> miles to clean :   {self.miles}\",\n",
    "                 f\"> cleanup_rate   :   {self.cleanup_rate:.2f} (miles/day)/crew\",\n",
    "                 f\"> transport costs: $ {self.tc:,d} per external crew\",\n",
    "                 f\"> fine per day   : $ {self.fine_per_day:,d} per day\",]\n",
    "        return \"\\n\".join(lines) + \"\\n\"\n",
    "                \n",
    "    def time(self,n): \n",
    "        # time to clean the shoreline if n external crews are hired\n",
    "        return self.miles/((n+1)*self.cleanup_rate)\n",
    "\n",
    "    def fine(self,t): \n",
    "        # The total fine imposed. Depends on:\n",
    "        # t = # of days for complete cleanup \n",
    "        return 0 if (t<14) else self.fine_per_day*(t-14)\n",
    "\n",
    "    def crew_costs(self,n):\n",
    "        # cost in payments to crews. Depends on\n",
    "        # n = number of non-local crews hired\n",
    "        t=self.time(n) # time for cleanup\n",
    "        return 500*t + 800*t*n + self.tc*n\n",
    "\n",
    "    def cost(self,n):\n",
    "        # total expenses incurred for hire of n external crews\n",
    "        t=self.time(n)\n",
    "        return self.fine(t) + self.crew_costs(n) "
   ]
  },
  {
   "cell_type": "markdown",
   "metadata": {
    "slideshow": {
     "slide_type": "slide"
    }
   },
   "source": [
    "### Let's first just make a table of results\n",
    "\n",
    "In our table, the rows will contain the values of the various\n",
    "quantities for possible values of $n$, the number of \"outside\"\n",
    "cleanup crews hired.\n",
    "\n",
    "For this, we are going to use python's [**Pandas**\n",
    "module](https://pandas.pydata.org/docs/index.html).  We'll use the\n",
    "\"DataFrame\" data structure (which is a bit like a python dictionary\n",
    "for which the keys are the column headers and the values are the\n",
    "column data)."
   ]
  },
  {
   "cell_type": "code",
   "execution_count": 2,
   "metadata": {
    "slideshow": {
     "slide_type": "subslide"
    }
   },
   "outputs": [],
   "source": [
    "import pandas as pd\n",
    "\n",
    "## The following overrides the usual display formatting of floating point numbers. \n",
    "## It is just an aesthetic choice...\n",
    "\n",
    "pd.set_option('display.float_format', lambda x: \"{:,.2f}\".format(x))"
   ]
  },
  {
   "cell_type": "code",
   "execution_count": 3,
   "metadata": {
    "slideshow": {
     "slide_type": "subslide"
    }
   },
   "outputs": [],
   "source": [
    "# define an instance of the OilSpillCleanup class, with the default arguments.\n",
    "c = OilSpillCleanup()\n",
    "\n",
    "# and define a function of two arguments:\n",
    "# c, a class of type OilSpillCleanup, and\n",
    "# crew_range, a list of integers, to be used as the \"number of external crews hired\"\n",
    "#             crew_range defaults to the list [0,1,...,24]\n",
    "#\n",
    "def oil_spill_costs(c, crew_range=range(0,25)):\n",
    "    return pd.DataFrame(\n",
    "            {'#external crews'      : crew_range,\n",
    "             'cost'   : map( lambda n: c.cost(n) , crew_range),\n",
    "             'days'   : map( lambda n: c.time(n) , crew_range),\n",
    "             'fine'   : map( lambda n: c.fine(c.time(n)) , crew_range)\n",
    "            },\n",
    "            index=crew_range)"
   ]
  },
  {
   "cell_type": "code",
   "execution_count": 4,
   "metadata": {
    "slideshow": {
     "slide_type": "subslide"
    }
   },
   "outputs": [
    {
     "data": {
      "text/html": [
       "<div>\n",
       "<style scoped>\n",
       "    .dataframe tbody tr th:only-of-type {\n",
       "        vertical-align: middle;\n",
       "    }\n",
       "\n",
       "    .dataframe tbody tr th {\n",
       "        vertical-align: top;\n",
       "    }\n",
       "\n",
       "    .dataframe thead th {\n",
       "        text-align: right;\n",
       "    }\n",
       "</style>\n",
       "<table border=\"1\" class=\"dataframe\">\n",
       "  <thead>\n",
       "    <tr style=\"text-align: right;\">\n",
       "      <th></th>\n",
       "      <th>#external crews</th>\n",
       "      <th>cost</th>\n",
       "      <th>days</th>\n",
       "      <th>fine</th>\n",
       "    </tr>\n",
       "  </thead>\n",
       "  <tbody>\n",
       "    <tr>\n",
       "      <th>0</th>\n",
       "      <td>0</td>\n",
       "      <td>2,800,000.00</td>\n",
       "      <td>280.00</td>\n",
       "      <td>2,660,000.00</td>\n",
       "    </tr>\n",
       "    <tr>\n",
       "      <th>1</th>\n",
       "      <td>1</td>\n",
       "      <td>1,460,000.00</td>\n",
       "      <td>140.00</td>\n",
       "      <td>1,260,000.00</td>\n",
       "    </tr>\n",
       "    <tr>\n",
       "      <th>2</th>\n",
       "      <td>2</td>\n",
       "      <td>1,025,333.33</td>\n",
       "      <td>93.33</td>\n",
       "      <td>793,333.33</td>\n",
       "    </tr>\n",
       "    <tr>\n",
       "      <th>3</th>\n",
       "      <td>3</td>\n",
       "      <td>817,000.00</td>\n",
       "      <td>70.00</td>\n",
       "      <td>560,000.00</td>\n",
       "    </tr>\n",
       "    <tr>\n",
       "      <th>4</th>\n",
       "      <td>4</td>\n",
       "      <td>699,200.00</td>\n",
       "      <td>56.00</td>\n",
       "      <td>420,000.00</td>\n",
       "    </tr>\n",
       "    <tr>\n",
       "      <th>5</th>\n",
       "      <td>5</td>\n",
       "      <td>626,666.67</td>\n",
       "      <td>46.67</td>\n",
       "      <td>326,666.67</td>\n",
       "    </tr>\n",
       "    <tr>\n",
       "      <th>6</th>\n",
       "      <td>6</td>\n",
       "      <td>580,000.00</td>\n",
       "      <td>40.00</td>\n",
       "      <td>260,000.00</td>\n",
       "    </tr>\n",
       "    <tr>\n",
       "      <th>7</th>\n",
       "      <td>7</td>\n",
       "      <td>549,500.00</td>\n",
       "      <td>35.00</td>\n",
       "      <td>210,000.00</td>\n",
       "    </tr>\n",
       "    <tr>\n",
       "      <th>8</th>\n",
       "      <td>8</td>\n",
       "      <td>529,777.78</td>\n",
       "      <td>31.11</td>\n",
       "      <td>171,111.11</td>\n",
       "    </tr>\n",
       "    <tr>\n",
       "      <th>9</th>\n",
       "      <td>9</td>\n",
       "      <td>517,600.00</td>\n",
       "      <td>28.00</td>\n",
       "      <td>140,000.00</td>\n",
       "    </tr>\n",
       "    <tr>\n",
       "      <th>10</th>\n",
       "      <td>10</td>\n",
       "      <td>510,909.09</td>\n",
       "      <td>25.45</td>\n",
       "      <td>114,545.45</td>\n",
       "    </tr>\n",
       "    <tr>\n",
       "      <th>11</th>\n",
       "      <td>11</td>\n",
       "      <td>508,333.33</td>\n",
       "      <td>23.33</td>\n",
       "      <td>93,333.33</td>\n",
       "    </tr>\n",
       "    <tr>\n",
       "      <th>12</th>\n",
       "      <td>12</td>\n",
       "      <td>508,923.08</td>\n",
       "      <td>21.54</td>\n",
       "      <td>75,384.62</td>\n",
       "    </tr>\n",
       "    <tr>\n",
       "      <th>13</th>\n",
       "      <td>13</td>\n",
       "      <td>512,000.00</td>\n",
       "      <td>20.00</td>\n",
       "      <td>60,000.00</td>\n",
       "    </tr>\n",
       "    <tr>\n",
       "      <th>14</th>\n",
       "      <td>14</td>\n",
       "      <td>517,066.67</td>\n",
       "      <td>18.67</td>\n",
       "      <td>46,666.67</td>\n",
       "    </tr>\n",
       "    <tr>\n",
       "      <th>15</th>\n",
       "      <td>15</td>\n",
       "      <td>523,750.00</td>\n",
       "      <td>17.50</td>\n",
       "      <td>35,000.00</td>\n",
       "    </tr>\n",
       "    <tr>\n",
       "      <th>16</th>\n",
       "      <td>16</td>\n",
       "      <td>531,764.71</td>\n",
       "      <td>16.47</td>\n",
       "      <td>24,705.88</td>\n",
       "    </tr>\n",
       "    <tr>\n",
       "      <th>17</th>\n",
       "      <td>17</td>\n",
       "      <td>540,888.89</td>\n",
       "      <td>15.56</td>\n",
       "      <td>15,555.56</td>\n",
       "    </tr>\n",
       "    <tr>\n",
       "      <th>18</th>\n",
       "      <td>18</td>\n",
       "      <td>550,947.37</td>\n",
       "      <td>14.74</td>\n",
       "      <td>7,368.42</td>\n",
       "    </tr>\n",
       "    <tr>\n",
       "      <th>19</th>\n",
       "      <td>19</td>\n",
       "      <td>561,800.00</td>\n",
       "      <td>14.00</td>\n",
       "      <td>0.00</td>\n",
       "    </tr>\n",
       "    <tr>\n",
       "      <th>20</th>\n",
       "      <td>20</td>\n",
       "      <td>580,000.00</td>\n",
       "      <td>13.33</td>\n",
       "      <td>0.00</td>\n",
       "    </tr>\n",
       "    <tr>\n",
       "      <th>21</th>\n",
       "      <td>21</td>\n",
       "      <td>598,181.82</td>\n",
       "      <td>12.73</td>\n",
       "      <td>0.00</td>\n",
       "    </tr>\n",
       "    <tr>\n",
       "      <th>22</th>\n",
       "      <td>22</td>\n",
       "      <td>616,347.83</td>\n",
       "      <td>12.17</td>\n",
       "      <td>0.00</td>\n",
       "    </tr>\n",
       "    <tr>\n",
       "      <th>23</th>\n",
       "      <td>23</td>\n",
       "      <td>634,500.00</td>\n",
       "      <td>11.67</td>\n",
       "      <td>0.00</td>\n",
       "    </tr>\n",
       "    <tr>\n",
       "      <th>24</th>\n",
       "      <td>24</td>\n",
       "      <td>652,640.00</td>\n",
       "      <td>11.20</td>\n",
       "      <td>0.00</td>\n",
       "    </tr>\n",
       "  </tbody>\n",
       "</table>\n",
       "</div>"
      ],
      "text/plain": [
       "    #external crews         cost   days         fine\n",
       "0                 0 2,800,000.00 280.00 2,660,000.00\n",
       "1                 1 1,460,000.00 140.00 1,260,000.00\n",
       "2                 2 1,025,333.33  93.33   793,333.33\n",
       "3                 3   817,000.00  70.00   560,000.00\n",
       "4                 4   699,200.00  56.00   420,000.00\n",
       "5                 5   626,666.67  46.67   326,666.67\n",
       "6                 6   580,000.00  40.00   260,000.00\n",
       "7                 7   549,500.00  35.00   210,000.00\n",
       "8                 8   529,777.78  31.11   171,111.11\n",
       "9                 9   517,600.00  28.00   140,000.00\n",
       "10               10   510,909.09  25.45   114,545.45\n",
       "11               11   508,333.33  23.33    93,333.33\n",
       "12               12   508,923.08  21.54    75,384.62\n",
       "13               13   512,000.00  20.00    60,000.00\n",
       "14               14   517,066.67  18.67    46,666.67\n",
       "15               15   523,750.00  17.50    35,000.00\n",
       "16               16   531,764.71  16.47    24,705.88\n",
       "17               17   540,888.89  15.56    15,555.56\n",
       "18               18   550,947.37  14.74     7,368.42\n",
       "19               19   561,800.00  14.00         0.00\n",
       "20               20   580,000.00  13.33         0.00\n",
       "21               21   598,181.82  12.73         0.00\n",
       "22               22   616,347.83  12.17         0.00\n",
       "23               23   634,500.00  11.67         0.00\n",
       "24               24   652,640.00  11.20         0.00"
      ]
     },
     "execution_count": 4,
     "metadata": {},
     "output_type": "execute_result"
    }
   ],
   "source": [
    "oil_spill_costs(c)  ## Compute use the *default* parameter values."
   ]
  },
  {
   "cell_type": "markdown",
   "metadata": {
    "slideshow": {
     "slide_type": "slide"
    }
   },
   "source": [
    "We can of course just scan the columns with our eyes to see where the costs are minimized. But we can also use *pandas* API-functions.\n",
    "\n",
    "In the terminology of *pandas*, we'll extract the *costs* column `df['cost']` of the \"dataframe\" `df` as a *series*, and then use the `idxmin` method to find the *index* `j` at which the costs are minimized.\n",
    "Finally, the loc property of `df` allows to select the data `df.loc[j]` in the row with index label `j`."
   ]
  },
  {
   "cell_type": "code",
   "execution_count": 5,
   "metadata": {
    "slideshow": {
     "slide_type": "subslide"
    }
   },
   "outputs": [],
   "source": [
    "def minimize_costs(c,crew_range=range(0,25)):\n",
    "    ## make the data-frame \n",
    "    costs_df = oil_spill_costs(c,crew_range) \n",
    "    ## find the index of the data-frame entry with minimal costs\n",
    "    min_index = costs_df['cost'].idxmin()\n",
    "    ## return the corresponding data-frame entry  \n",
    "    return costs_df.loc[min_index]    \n",
    "\n",
    "def report_minimal_costs(c,crew_range=range(0,25)):\n",
    "    r = minimize_costs(c,crew_range)\n",
    "    return \"\\n\".join([f\"For n in {crew_range}, and with these parameters:\",\n",
    "                      \"\",\n",
    "                      c.report_parameters(),\n",
    "                      f\"the total costs are minimized by hiring n = {r['#external crews']} external crews.\",\n",
    "                      \"Here are the details:\",\n",
    "                      \"\",\n",
    "                      str(r)]) + \"\\n\"\n"
   ]
  },
  {
   "cell_type": "code",
   "execution_count": 6,
   "metadata": {
    "slideshow": {
     "slide_type": "subslide"
    }
   },
   "outputs": [
    {
     "name": "stdout",
     "output_type": "stream",
     "text": [
      "For n in range(0, 25), and with these parameters:\n",
      "\n",
      "> miles to clean :   200\n",
      "> cleanup_rate   :   0.71 (miles/day)/crew\n",
      "> transport costs: $ 18,000 per external crew\n",
      "> fine per day   : $ 10,000 per day\n",
      "\n",
      "the total costs are minimized by hiring n = 11.0 external crews.\n",
      "Here are the details:\n",
      "\n",
      "#external crews        11.00\n",
      "cost              508,333.33\n",
      "days                   23.33\n",
      "fine               93,333.33\n",
      "Name: 11, dtype: float64\n",
      "\n"
     ]
    }
   ],
   "source": [
    "## c is the class obtained above via OilSpillCleanup()\n",
    "##\n",
    "print(report_minimal_costs(c))"
   ]
  },
  {
   "cell_type": "markdown",
   "metadata": {
    "slideshow": {
     "slide_type": "slide"
    }
   },
   "source": [
    "### <a id='minimal_cost_cell'> Minimal costs (for basic parameters)</a>\n",
    "\n",
    "From the preceding calculation, it appears that the cost is minimized\n",
    "by hiring $n=11$ outside crews. With that number of crews, cleanup\n",
    "takes slightly more than 3 weeks with a total cost of \\\\$508K\n",
    "(including a fine of \\\\$93K).\n",
    "\n",
    "Below, we'll use some calculus to confirm this observation!!!\n",
    "\n",
    "Before talking about the calculus, let's observe that it is easy to look for minimal costs with other parameters. With this code, we need to be careful that the range of crew sizes the code considers is large enough, though. \n",
    "\n",
    "Consider the following example:"
   ]
  },
  {
   "cell_type": "code",
   "execution_count": 7,
   "metadata": {
    "slideshow": {
     "slide_type": "subslide"
    }
   },
   "outputs": [
    {
     "name": "stdout",
     "output_type": "stream",
     "text": [
      "For n in range(0, 25), and with these parameters:\n",
      "\n",
      "> miles to clean :   300\n",
      "> cleanup_rate   :   0.50 (miles/day)/crew\n",
      "> transport costs: $ 15,000 per external crew\n",
      "> fine per day   : $ 20,000 per day\n",
      "\n",
      "the total costs are minimized by hiring n = 24.0 external crews.\n",
      "Here are the details:\n",
      "\n",
      "#external crews          24.00\n",
      "cost              1,032,800.00\n",
      "days                     24.00\n",
      "fine                200,000.00\n",
      "Name: 24, dtype: float64\n",
      "\n"
     ]
    }
   ],
   "source": [
    "## make a new instance of our OilSpillCleanup class, with some different parameters\n",
    "\n",
    "c1 = OilSpillCleanup(miles=300,fine_per_day=20000,tc=15000,cleanup_rate=.5)\n",
    "\n",
    "## and look for minimal costs, first with the default range of n's, and then with a slightly bigger range:\n",
    "\n",
    "print(report_minimal_costs(c1))"
   ]
  },
  {
   "cell_type": "code",
   "execution_count": 8,
   "metadata": {
    "slideshow": {
     "slide_type": "subslide"
    }
   },
   "outputs": [
    {
     "name": "stdout",
     "output_type": "stream",
     "text": [
      "For n in range(0, 35), and with these parameters:\n",
      "\n",
      "> miles to clean :   300\n",
      "> cleanup_rate   :   0.50 (miles/day)/crew\n",
      "> transport costs: $ 15,000 per external crew\n",
      "> fine per day   : $ 20,000 per day\n",
      "\n",
      "the total costs are minimized by hiring n = 27.0 external crews.\n",
      "Here are the details:\n",
      "\n",
      "#external crews          27.00\n",
      "cost              1,027,142.86\n",
      "days                     21.43\n",
      "fine                148,571.43\n",
      "Name: 27, dtype: float64\n",
      "\n"
     ]
    }
   ],
   "source": [
    "print(report_minimal_costs(c1,crew_range=range(0,35)))\n",
    "## Notice! We wouldn't have seen the minimum if we had used the default crew_range..."
   ]
  },
  {
   "cell_type": "markdown",
   "metadata": {
    "slideshow": {
     "slide_type": "slide"
    }
   },
   "source": [
    "-----\n",
    "## <a id=\"calculus_cell\">Applying calculus to the problem</a>\n",
    "\n",
    "We now return to consideration of the \"default values\" of the parameters.\n",
    "\n",
    "Our computations so far *suggest* - but don't *confirm* - the optimal number of crews to hire to minimize costs. We are going to use calculus to confirm this number for our \"default\" parameter values $m = 5.0/7$, $TC=18000$, $f=10000$, for 200 miles of coast.\n",
    "\n",
    "\n"
   ]
  },
  {
   "cell_type": "markdown",
   "metadata": {
    "slideshow": {
     "slide_type": "subslide"
    }
   },
   "source": [
    "Recall the formulas:\n",
    "\n",
    "$\\begin{array}{rl}\n",
    "t = &200\\cdot \\dfrac{1}{n+1} \\cdot \\dfrac{1}{5/7} = \\dfrac{280}{n+1}\\\\\n",
    "F= &\\begin{cases}  0 &  \\text{if $t<14$} \\\\ 10000\\cdot(t-14) & \\text{if $t \\ge 14$} \\end{cases} \\\\\n",
    "C_{crew} = &500\\cdot t + 800\\cdot t\\cdot n + 18000\\cdot n\\\\\n",
    "C_{tot} = &F + C_{crew}\n",
    "\\end{array}$"
   ]
  },
  {
   "cell_type": "markdown",
   "metadata": {
    "slideshow": {
     "slide_type": "subslide"
    }
   },
   "source": [
    "\n",
    "$C_{tot}$ is expressed here as a function of both $t$ and $n$. But of course, $t$ is determined by $n$.\n",
    "\n",
    "We want to express $C_{tot}$ as a function only of $n$. The obstacle here is that the fine $F$ is not expressed directly as a function of $n$, and the best way to deal with this is to consider different cases.\n",
    "\n",
    "We first ask the question: \"how many crews would we need if we were to clean\n",
    "everything up in exactly 14 days?\""
   ]
  },
  {
   "cell_type": "markdown",
   "metadata": {
    "slideshow": {
     "slide_type": "subslide"
    }
   },
   "source": [
    "For this we must solve the equation $t(n)=14$; i.e.: \n",
    "$$14 = \\dfrac{280}{1+n}$$\n",
    "\n",
    "Thus, $n+1=\\dfrac{280}{14}$. We find that\n",
    "$n+1 = 20$ so that $n=19$. In other words, if 19 external crews are hired, work is completed in two weeks.\n",
    "\n",
    "Thus we see that for $n \\ge 19$ we have $F = 0$ and $C_{tot} = C_{crew}$, while for $n < 19$\n",
    "$$F(n) = 10000\\cdot \\left (\\dfrac{280}{1+n} - 14\\right)$$ \n",
    "\n",
    "The remaining expenses are the costs associated with hiring cleanup crews. They are\n",
    "given by the function:\n",
    "\n",
    "$$C_{crew}(n) = \\dfrac{500 \\cdot 280}{1+n}+\\dfrac{800 \\cdot 280}{1+n}⋅n+18000⋅n $$\n",
    "\n",
    "And, the total cost function is given as a function of $n$ by:\n",
    "$$C_{tot}(n) =  \\left \\{ \\begin{matrix} F(n) + C_{crew}(n) & n < 19 \\\\ C_{crew}(n) & n \\ge 19\\end{matrix} \\right .$$ \n",
    "\n",
    "We now pause to use `python` to draw some graphs."
   ]
  },
  {
   "cell_type": "markdown",
   "metadata": {
    "jupyter": {
     "outputs_hidden": false
    },
    "slideshow": {
     "slide_type": "subslide"
    }
   },
   "source": [
    "\n",
    "Of course, in python we find these functions using methods of the class `c = OilSpillCleanup()` as follows:\n",
    "\n",
    "* $F(n)   \\leftrightarrow$  `c.fine(c.time(n))`\n",
    "* $C_{crew}(n) \\leftrightarrow $ `c.crew_cost(n)`\n",
    "* $C_{tot}(n) \\leftrightarrow $ `c.cost(n)`"
   ]
  },
  {
   "cell_type": "markdown",
   "metadata": {
    "slideshow": {
     "slide_type": "slide"
    }
   },
   "source": [
    "Graphs\n",
    "------\n",
    "\n",
    "For a specified class `c` of `OilSpillCleanup`, we can use python's [matplotlib](https://matplotlib.org/) package to draw graphs of the functions\n",
    "`c.cost(n)` and `c.fine(c.time(n))` viewed as functions of `n`.\n"
   ]
  },
  {
   "cell_type": "code",
   "execution_count": 9,
   "metadata": {
    "slideshow": {
     "slide_type": "subslide"
    }
   },
   "outputs": [],
   "source": [
    "c = OilSpillCleanup()   ### the class with the default values\n",
    "\n",
    "import matplotlib.pyplot as plt\n",
    "import numpy as np\n",
    "\n",
    "def create_graph(c, crew_min=2, crew_max=30, mesh=200, vlines = []):\n",
    "    x = np.linspace(crew_min,crew_max,mesh)\n",
    "        \n",
    "    fig, ax = plt.subplots(figsize=(12,6))  \n",
    "    ax.plot(x,np.array([c.cost(n) for n in x]),label=\"C_tot(n)\")\n",
    "    ax.plot(x,np.array([c.fine(c.time(n))  for n in x]),label=\"Fine(n)\")\n",
    "\n",
    "    ax.set_xlabel(\"# crews\")\n",
    "    ax.set_ylabel(\"total cost in $\")\n",
    "    ax.legend()\n",
    "\n",
    "    for t in vlines:\n",
    "        ax.axvline(x=t, color=\"red\", dashes=[1,4])\n",
    "\n",
    "    ax.set_title(\"Cleanup costs\")\n",
    "    return fig"
   ]
  },
  {
   "cell_type": "code",
   "execution_count": 10,
   "metadata": {
    "slideshow": {
     "slide_type": "subslide"
    }
   },
   "outputs": [
    {
     "data": {
      "image/png": "[encoded data removed]",
      "text/plain": [
       "<Figure size 864x432 with 1 Axes>"
      ]
     },
     "metadata": {
      "needs_background": "light"
     },
     "output_type": "display_data"
    }
   ],
   "source": [
    "gg=create_graph(c,vlines=[11.23,19])\n",
    "\n",
    "## the return value of create_graph \n",
    "## in a notebook, you'll just see the graph output.\n",
    "## if not in a notebook, you should now call gg.show() in order to *see* the graph..."
   ]
  },
  {
   "cell_type": "markdown",
   "metadata": {
    "slideshow": {
     "slide_type": "slide"
    }
   },
   "source": [
    "The interval $(19,\\infty)$\n",
    "--------------------------\n",
    "\n",
    "Our computations strongly *suggest* that the costs are not minimized by taking $n$ in the interval $(19,\\infty)$. Let's start our analysis by confirming this fact so that we can then focus on the cost function for $0 \\le n \\le 19$.\n",
    "\n",
    "For $n \\ge 19$, recall that\n",
    "$$C_{tot}(n) = C_{crew}(n) = \\dfrac{a}{n+1} + \\dfrac{b\\cdot n}{n+1} + cn$$\n",
    "for constants $a,b,c$ given by $a = 500\\cdot 280$, $b = 800 \\cdot 280$ and $c = 18000$.\n",
    "\n",
    "Differentiating in $n$, find that\n",
    "$$(\\clubsuit) \\quad \\dfrac{dC_{tot}}{dn} = c + \\dfrac{b}{(n+1)^2} - \\dfrac{a}{(n+1)^2}$$\n",
    "since $\\dfrac{d}{dn}\\left[\\dfrac{n}{n+1} \\right] = \\dfrac{1}{(1+n)^2} $.\n",
    "\n",
    "For $n \\ge 19$ notice that:\n",
    "$$\\dfrac{a}{(n+1)^2} \\le \\dfrac{a}{20^2} = 350.$$\n",
    "Since $b$ is non-negative, we see:\n",
    "\n",
    "$$c + \\dfrac{b}{n+1} - \\dfrac{a}{(n+1)^2} \\ge c - 350 >0.$$\n",
    "\n",
    "This confirms - as the above graph suggests -- that $C_{tot}$ is increasing for $n \\ge 19$. Thus for $n$ in $[19,\\infty)$ the minimal costs are located at the endpoint.\n",
    "\n",
    "So to find the minimum value of the cost function $C_{\\text{tot}}$ it is enough to find the minimum value for $n$ in the interval $[0,19]$.\n"
   ]
  },
  {
   "cell_type": "markdown",
   "metadata": {
    "slideshow": {
     "slide_type": "subslide"
    }
   },
   "source": [
    "\n",
    "The interval $[0,19]$\n",
    "----------------------\n",
    "\n",
    "For $0 \\le n \\le 19$, the total cost function now has the form\n",
    "\n",
    "$$C_{tot}(n) = \\dfrac{a_1}{n+1} + \\dfrac{b \\cdot n}{n+1} + cn + d$$\n",
    "\n",
    "where $b$ and $c$ are as before but now $a_1 = (500 + 10000)\\cdot 280 = 10500 \\cdot 280$,\n",
    "and where the constant $d$ is given by $d=-14\\cdot 10000$.\n",
    "\n",
    "The derivative $\\dfrac{dC_{tot}}{dn}$ is still given by $(\\clubsuit)$ with $a$ replaced by $a_1$.\n",
    "\n",
    "To find critical points on the interval $(0,19)$, we solve the equation $\\dfrac{dC_{tot}}{dn} = 0$ for $n$. Clearing denominators, we find that this amounts to solving the equation:\n",
    "$$0 = -a_1 + b + c(n+1)^2$$\n",
    "or\n",
    "$$(n+1)^2 = \\dfrac{a_1 - b}{c}$$\n",
    "\n",
    "Since $n \\ge 0$ is required by the problem, the solution is\n",
    "$$n= -1+\\sqrt{\\dfrac{a_1 - b}{c}}$$\n",
    "\n",
    "\n",
    "Let's compute this value:"
   ]
  },
  {
   "cell_type": "code",
   "execution_count": 11,
   "metadata": {
    "slideshow": {
     "slide_type": "subslide"
    }
   },
   "outputs": [
    {
     "data": {
      "text/plain": [
       "11.283683848458853"
      ]
     },
     "execution_count": 11,
     "metadata": {},
     "output_type": "execute_result"
    }
   ],
   "source": [
    "a_1 = 10500*280\n",
    "b=800*280\n",
    "c=18000\n",
    "-1 + np.sqrt((a_1 - b)/c)"
   ]
  },
  {
   "cell_type": "markdown",
   "metadata": {
    "slideshow": {
     "slide_type": "subslide"
    }
   },
   "source": [
    "Thus $C_{tot}$ has a critical point at a value slightly larger than $n=11$.\n",
    "\n",
    "Note that \n",
    "$$\\dfrac{d^2 C_{tot}}{dn^2} = \\dfrac{d}{dn}\\left[\\dfrac{b-a_1}{(n+1)^2}\\right]\n",
    "= \\dfrac{-2(b-a_1)}{(n+1)^3}$$\n",
    "\n",
    "Since $b-a_1<0$, we find that $\\dfrac{d^2 C_{tot}}{dn}$ is positive for $n \\ge 0$. Thus, the graph is concave up and the indicated critical point is therefore a local minimum. \n",
    "\n",
    "The computations we already made using ``python`` then confirm that $n=11$ minimizes the cost function (without this numerical evidence, the minimum might have occurred at $n=12$, or at \n",
    "one of the endpoints $n=0$ or $n=19$).\n",
    "\n",
    "-------"
   ]
  },
  {
   "cell_type": "markdown",
   "metadata": {
    "slideshow": {
     "slide_type": "slide"
    }
   },
   "source": [
    "Sensitivity analysis\n",
    "====================\n",
    "\n",
    "We are interested in describing the extent to which the solution to an optimization problem\n",
    "is sensitive to the parameters.\n",
    "\n",
    "In the case of this oil-spill problem, parameters include:\n",
    "- the length of beach that must be cleaned\n",
    "- the rate of beach cleaning that a crew can achieve (miles/week)\n",
    "- the travel costs per external crew\n",
    "- the daily fine imposed \n",
    "\n",
    "We want a way of measuring how \"sensitive\" our solution was to a given parameter.\n",
    "\n",
    "For instance, let’s assume that the amount of miles cleaned per week, $m$, were not known exactly. Let’s look at the cost function again, but regard $m$ in as an unknown parameter.\n"
   ]
  },
  {
   "cell_type": "markdown",
   "metadata": {
    "slideshow": {
     "slide_type": "subslide"
    }
   },
   "source": [
    "We consider the cost function for $n$ in the range in which the fine applies (how reasonable is that assumption?!)\n",
    "\n",
    "As before, this function and its derivative have the form:\n",
    "$$C_{tot}(n) = \\dfrac{a}{n+1} + \\dfrac{b \\cdot n}{n+1} + cn + d$$\n",
    "and\n",
    "$$\\dfrac{dC_{tot}}{dn} = c + \\dfrac{b}{(n+1)^2} - \\dfrac{a}{(n+1)^2}$$\n",
    "Now, the coefficients $a,b,c,d$ depend on $m$.\n",
    "\n",
    "More precisely, going back to the original formulation one seees that\n",
    "\n",
    "- $a = \\dfrac{10500 \\cdot 200}{m}$\n",
    "\n",
    "- $b = \\dfrac{800 \\cdot 200}{m}$\n",
    "\n",
    "- $c = 18000$\n",
    "\n",
    "- $d = 14 \\cdot 10000$\n",
    "\n",
    "Our earlier calculations show that $C_{tot}$ has exactly one critical point in the interval $n \\ge 0$; in this situtation it is\n",
    "$$n= -1+\\sqrt{\\dfrac{a - b}{c}} = -1 + \\sqrt{\\dfrac{(10500-800)\\cdot 200}{18000 \\cdot m}} \\approx -1 + \\sqrt{\\dfrac{107.7}{m}}$$"
   ]
  },
  {
   "cell_type": "markdown",
   "metadata": {
    "slideshow": {
     "slide_type": "subslide"
    }
   },
   "source": [
    "Recall that the original value of $m$ was $5/7 \\approx 0.71429$ miles per day.\n",
    "\n",
    "If instead $m = .75$, we find the critical point at\n",
    "$$n \\approx -1 + \\sqrt{\\dfrac{107.7}{.75}} \\approx 10.98$$\n",
    "\n",
    "If $m=.65$, we find the critical point at\n",
    "$$n \\approx -1 + \\sqrt{\\dfrac{107.7}{.65}} \\approx 11.87$$\n",
    "\n",
    "There is certainly *some* dependence on $m$, but it doesn't seem *too* sensitive."
   ]
  },
  {
   "cell_type": "markdown",
   "metadata": {
    "slideshow": {
     "slide_type": "subslide"
    }
   },
   "source": [
    "If a quantity $y = y(x)$ depends on a quantity $x$, the sensitivity of $y$ to $x$ is defined to be\n",
    "the relative change in $y$ brought about by a relative change in $x$:\n",
    "$$\\dfrac{\\dfrac{\\Delta y}{y}}{\\dfrac{\\Delta x}{x}}=\n",
    "\\dfrac {\\dfrac{y(x+\\Delta x) - y(x)}{y(x)}}{\\dfrac{\\Delta x}{x}}=\n",
    "\\dfrac{y(x+\\Delta x) - y(x)}{\\Delta x} \\cdot \\dfrac{x}{y(x)}$$\n",
    "\n",
    "Taking the limit as $\\Delta x \\to 0$, this expression becomes\n",
    "$$S(y,x) = \\dfrac{dy}{dx}\\cdot \\dfrac{x}{y}.$$"
   ]
  },
  {
   "cell_type": "markdown",
   "metadata": {
    "slideshow": {
     "slide_type": "subslide"
    }
   },
   "source": [
    "In our problem, we consider the dependence of the critical point $n = n(m)$ on the quantity $m$.\n",
    "We have seen that\n",
    "$$n(m)\\approx -1 + \\sqrt{\\dfrac{107.7}{m}} = -1 + \\sqrt{107.7}\\cdot m^{-0.5}$$\n",
    "\n",
    "So the sensitivity $S(n,m)$ is given by\n",
    "$$S(n,m) = \\dfrac{dn}{dm} \\cdot \\dfrac{m}{n(m)} =  107.7 \\cdot (-0.5) \\cdot m^{-1.5} \\cdot \\dfrac{m}{-1 + 107.7 \\cdot m^{-0.5}}\n",
    "= \\dfrac{53.8 \\cdot m^{0.5}}{1 - 107.7 \\cdot m^{-0.5}}\n",
    "= \\dfrac{53.8 \\cdot m}{\\sqrt{m} - 107.7}\n",
    "$$\n",
    "\n",
    "So e.g. when $m = 5/7 = 0.714$, we find that\n",
    "$$S(n,0.714) \\approx -0.35949$$\n",
    "\n",
    "Thus a 1% change in the miles of beach cleaned per day by a crew results in  roughly a third of a % change in the optimal value of $n$."
   ]
  },
  {
   "cell_type": "markdown",
   "metadata": {
    "slideshow": {
     "slide_type": "subslide"
    }
   },
   "source": [
    "In contrast, if we did the same calculation with the fine amount, $f$ , we’d obtain $S(n, f) \\approx 0.561$,\n",
    "for $f = 10,000$.\n",
    "Of course, this doesn’t sound very different, but note that while a 1% error in $m$ is reasonable, we probably expect\n",
    "much larger changes in $f$ (e.g. one can imagine regulators doubling the fine!).\n",
    "A 100% change in $f$ results in about a 56% change in $n$,\n",
    "so our strategy is not robust to \"expected\" changes in $f$."
   ]
  },
  {
   "cell_type": "markdown",
   "metadata": {
    "slideshow": {
     "slide_type": "skip"
    }
   },
   "source": [
    "Finally, you may have been disappointed to have to do calculations with paper-and-pencil. \n",
    "\n",
    "### Avoiding the paper-and-pencil work with symbolic calculations\n",
    "\n",
    "Computers can *approximate* derivatives in various ways, and this can be useful. But sometimes computers can even do symbolic calculations. The effectiveness of such calculations in general is probably somewhat limited, but e.g. if you know anything about computer algebra systems (Mathematica, Matlab, ...) you know that they can calculate (some) derivatives. \n",
    "\n",
    "Can we do the same in ``python``?? \n",
    "\n",
    "Of course!! I'm just going to give a sketch here.\n",
    "\n",
    "For more details about symbolic calculations in python consult [symbolic mathematics package](https://www.sympy.org/en/index.html).\n",
    "\n",
    "Recall the `python` expressions for the main funtion of interest:\n",
    "\n",
    "* $C_{tot}(n) \\leftrightarrow $ `c.cost(n)`\n",
    "\n",
    "\n",
    "\n",
    "We will make a \"symbolic variable\" we'll call `y`.\n",
    "\n",
    "We would like to make a symbolic version the `python` function `c.cost(n)` by valuation at  `n=y`.\n",
    "\n",
    "Unfortunately, our definition of `c.cost(n)` involved a test of inequality (to decide whether the fine calculation applied). But it is not \"legal\" to test inequalities with the symbol `y`. (More precisely, such tests can't be sensibly interpreted).\n",
    "\n",
    "For small enough $n$, `c.cost(n)` is equal to\n",
    "`c.crew_costs(n) + c.fine_per_day * (c.time(n)-14)`. And this latter expression *can* be evaluated at the symbolic variable `y`.\n",
    "\n",
    "And *sympy* permits us to symbolically differentiate the resulting expression:\n",
    "\n",
    "We carry this out in the next cell:"
   ]
  },
  {
   "cell_type": "code",
   "execution_count": 12,
   "metadata": {
    "slideshow": {
     "slide_type": "skip"
    }
   },
   "outputs": [
    {
     "name": "stdout",
     "output_type": "stream",
     "text": [
      "C(y) = 18000*y + 160000*y/(0.714285714285714*y + 0.714285714285714) - 140000 + 2100000/(0.714285714285714*y + 0.714285714285714)\n",
      "\n",
      "\n",
      "C'(y) = -224000.0*y/(y + 1)**2 + 18000 - 2940000.0/(y + 1)**2 + 160000/(0.714285714285714*y + 0.714285714285714)\n",
      "\n",
      "\n",
      "C''(y) = 448000.0*y/(y + 1)**3 - 448000.0/(y + 1)**2 + 5880000.0/(y + 1)**3\n",
      "\n",
      "\n"
     ]
    }
   ],
   "source": [
    "import sympy as sp\n",
    "c = OilSpillCleanup()\n",
    "\n",
    "y = sp.Symbol('y')    # symbolic variable\n",
    "\n",
    "def lcost(n):\n",
    "    return c.crew_costs(n) + c.fine_per_day * (c.time(n) - 14)\n",
    "\n",
    "lcost_symb = lcost(y)\n",
    "\n",
    "d_lcost_symb = sp.diff(lcost_symb,y)  # first derivative, for n<19\n",
    "dd_lcost_symb = sp.diff(d_lcost_symb,y) # second derivative, for n<19\n",
    "\n",
    "print(f\"C(y) = {lcost_symb}\\n\\n\")\n",
    "print(f\"C'(y) = {d_lcost_symb}\\n\\n\")\n",
    "print(f\"C''(y) = {dd_lcost_symb}\\n\\n\")"
   ]
  },
  {
   "cell_type": "markdown",
   "metadata": {
    "slideshow": {
     "slide_type": "skip"
    }
   },
   "source": [
    "Now e.g. `sympy` solvers are able to find the critical point for the symbolic derivative `d_lcost_symb`, as follows:"
   ]
  },
  {
   "cell_type": "code",
   "execution_count": 13,
   "metadata": {
    "slideshow": {
     "slide_type": "skip"
    }
   },
   "outputs": [
    {
     "data": {
      "text/plain": [
       "[-13.2836838484589, 11.2836838484589]"
      ]
     },
     "execution_count": 13,
     "metadata": {},
     "output_type": "execute_result"
    }
   ],
   "source": [
    "sp.solve(d_lcost_symb,y)"
   ]
  },
  {
   "cell_type": "markdown",
   "metadata": {
    "slideshow": {
     "slide_type": "skip"
    }
   },
   "source": [
    "This finds our postive critical point of 11.28. \n",
    "\n",
    "This is convenient, but to solve the problem we still require analysis e.g. about the interval $19 < n$ (which isn't modelled by our symbolic function `lcost_symb`) and\n",
    "it requires us to study the critical point (apply second derivative test etc.) So there remains work to be done...\n",
    "----"
   ]
  },
  {
   "cell_type": "markdown",
   "metadata": {
    "slideshow": {
     "slide_type": "slide"
    }
   },
   "source": [
    "# Follow-up: Some general ideas behind modeling\n",
    "\n",
    "1. Ask the question:\n",
    "    * Here the question should be phrased correctly in mathematical terms; this will help make clear what must be found.\n",
    "    * Make a list of all the variables and constants; include units as appropriate.\n",
    "    * State all assumptions about these variables and constants; include equations and inequalities.\n",
    "    * Check units to make sure things make sense.\n",
    "    * State your objective in mathematical terms (i.e., \"minimization problem\" in the example above).\n",
    "    * It may even be useful to make an educated guess at this point on what the answer should be. \n",
    "<!-- -->\n",
    "2. Select the modeling approach.\n",
    "    - Choose a general solution procedure to solve the mathematical problem (in our case first and second derivative tests).\n",
    "    - This might be the most difficult part and to a large extent depends on just good experience. That’s our goal...to get some experience.\n",
    "<!-- -->\n",
    "3. Formulate the model.\n",
    "    - Restate the question in terms of your model (in our example, what function are we taking the derivative of?).\n",
    "    - You may need to relabel or redefine things to make it work. This is where the mathematical model and real physical model may start to differ...\n",
    "<!-- -->\n",
    "4. Solve the model.\n",
    "    - Apply Step 2 to Step 3.\n",
    "    - Use any useful technologies, such as computation if necessary, but consider the errors that they may introduce.\n",
    "<!-- -->\n",
    "5. Answer the question.\n",
    "    - Rephrase the result of Step 4 in non-technical terms.\n",
    "    - Goal is now to make your answer understandable to the person that posed it, keeping in mind that person may not be a mathematician.\n",
    "    - Think about what the errors might be, or how realistic the answer actually is.\n",
    "    - How did it compare to what expectations?\n",
    "\n",
    "Of course this is very general and may be problem dependent, but it at least describes our goals in modeling."
   ]
  }
 ],
 "metadata": {
  "celltoolbar": "Slideshow",
  "jupytext": {
   "formats": "ipynb,md"
  },
  "kernelspec": {
   "display_name": "Python 3",
   "language": "python",
   "name": "python3"
  },
  "language_info": {
   "codemirror_mode": {
    "name": "ipython",
    "version": 3
   },
   "file_extension": ".py",
   "mimetype": "text/x-python",
   "name": "python",
   "nbconvert_exporter": "python",
   "pygments_lexer": "ipython3",
   "version": "3.6.7"
  },
  "name": "01--optimization.ipynb"
 },
 "nbformat": 4,
 "nbformat_minor": 4
}
