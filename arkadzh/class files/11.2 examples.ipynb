{
 "cells": [
  {
   "cell_type": "markdown",
   "metadata": {},
   "source": [
    "Math087 - Mathematical Modeling\n",
    "===============================\n",
    "[Tufts University](http://www.tufts.edu) -- [Department of Math](http://math.tufts.edu)  \n",
    "[Arkadz Kirshtein](https://math.tufts.edu/people/facultyKirshtein.htm) <arkadz.kirshtein@tufts.edu>  \n",
    "*Fall 2023*\n",
    "\n",
    "*Based on materials created by James Adler and George McNinch*\n",
    "\n",
    "Course material (Class 11): Some practical examples\n",
    "---------------------------------------------------------------"
   ]
  },
  {
   "cell_type": "markdown",
   "metadata": {},
   "source": [
    "Introduction\n",
    "============\n",
    "\n",
    "Last week, we introduced some finite-state machines whose transition behavior could be described by a matrix. This week, we investigate properties of such matrices, by studying their eigenvalues and eigenvectors."
   ]
  },
  {
   "cell_type": "markdown",
   "metadata": {},
   "source": [
    "Eigen-stuff\n",
    "============\n",
    "\n",
    "Recall that a number $\\lambda \\in\\mathbb{R}$ is an *eigenvalue* of $A \\in \\mathbb{R}^{n \\times n}$ if there is a non-zero vector $\\mathbf{v} \\in \\mathbb{R}^n$ for which\n",
    "$$A \\mathbf{v} = \\lambda \\mathbf{v};$$\n",
    "$\\mathbf{v}$ is then called an *eigenvector*.\n",
    "\n",
    "If $A$ is diagonal -- e.g. if \n",
    "\n",
    "$$A = \\begin{bmatrix}\n",
    "\\lambda_1 & 0 & 0 & 0 \\\\\n",
    "0 & \\lambda_2 & 0 & 0 \\\\\n",
    "0 & 0 & \\lambda_3 & 0  \\\\\n",
    "0 & 0 & 0 & \\lambda_4 \\\\\n",
    "\\end{bmatrix} =\\operatorname{diag}(\\lambda_1,\\lambda_2,\\lambda_3,\\lambda_4)$$\n",
    "\n",
    "-- it is easy to see that each standard basis vector $\\mathbf{e}_i$\n",
    "is an eigenvector, with corresponding eigenvalue $\\lambda_i$ (the $(i,i)$-the entry of $A$)."
   ]
  },
  {
   "cell_type": "markdown",
   "metadata": {},
   "source": [
    "Diagonalizable matrices\n",
    "=======================\n",
    "\n",
    "Now suppose that $A$ is an $n\\times n$ matrix, that\n",
    "$\\mathbf{v}_1,\\dots,\\mathbf{v}_n$ are eigenvectors for $A$, and that\n",
    "$\\lambda_1,\\dots,\\lambda_n$ are the corresponding eigenvalues.\n",
    "Write\n",
    "$$P = \\begin{bmatrix} \\mathbf{v}_1 & \\cdots & \\mathbf{v}_n \\end{bmatrix}$$\n",
    "for the matrix whose columns are the $\\mathbf{v}_i$.\n",
    "\n",
    "**Theorem**: If the eigenvectors $\\mathbf{v}_1,\\dots,\\mathbf{v}_n$\n",
    "are linearly independent -- equivalently, if the matrix $P$ is invertible -- then \n",
    "$$P^{-1} A P = \\begin{bmatrix}\n",
    "\\lambda_1 & 0 & 0 & 0 \\\\\n",
    "0 & \\lambda_2 & 0 & 0 \\\\\n",
    "\\vdots & \\vdots & \\ddots & \\vdots  \\\\\n",
    "0 & 0 & 0 & \\lambda_n \\\\\n",
    "\\end{bmatrix} = \\operatorname{diag}(\\lambda_1,\\dots,\\lambda_n)$$\n",
    "i.e. $P^{-1} A P$ is the diagonal matrix $n \\times n$ matrix whose diagonal entries\n",
    "are $\\lambda_1,\\dots,\\lambda_n$.\n",
    "\n",
    "---------------"
   ]
  },
  {
   "cell_type": "markdown",
   "metadata": {},
   "source": [
    "Diagonalizable matrices & power iteration\n",
    "=========================================\n",
    "**Theorem**: Let $A$ be a diagonalizable $n \\times n$, with $n$ linearly independent eigenvectors $\\mathbf{v}_1,\\dots,\\mathbf{v}_n$\n",
    "with corresponding eigenvalues $\\lambda_1,\\dots,\\lambda_n$.\n",
    "As before, write\n",
    "\n",
    "$$P = \\begin{bmatrix} \n",
    "\\mathbf{v}_1 & \\cdots & \\mathbf{v}_n \n",
    "\\end{bmatrix}.$$\n",
    "\n",
    "**a)** Suppose $|\\lambda_i| <1$ for all $i$. Then $A^m \\to \\mathbf{0}$ as $m \\to \\infty$.\n",
    "\n",
    "**b)** Suppose that $\\lambda_1 = 1$, and $|\\lambda_i| <1$ for $2 \\le i \\le n$. \n",
    "Any vector $\\mathbf{v} \\in \\mathbb{R}^n$ may be written\n",
    "\n",
    "$$\\mathbf{v} = \\sum_{i=1}^n c_i \\mathbf{v}_i.$$\n",
    "\n",
    "If $c_1 \\ne 0$, then \n",
    "$$A^m \\mathbf{v} = c_1\\mathbf{v}_1 \n",
    "\\quad \\text{as} \\quad m \\to \\infty.$$\n",
    "\n",
    "If $c_1 = 0$ then\n",
    "$$A^m \\mathbf{v} =  \\mathbf{0}\n",
    "\\quad \\text{as} \\quad m \\to \\infty.$$\n",
    "\n",
    "Corollary\n",
    "---------\n",
    "\n",
    "Suppose that $A$ is diagonalizable with eigenvalues $\\lambda_1,\\dots,\\lambda_n$, that\n",
    "$\\lambda_1 = 1$, and that $|\\lambda_i| < 1$ for $i =2,...,n$.\n",
    "Let $\\mathbf{v_1}$ be a 1-eigenvector for $A$.\n",
    "\n",
    "Then \n",
    "\n",
    "$$A^m \\to B \\quad \\text{as $m \\to \\infty$}$$\n",
    "\n",
    "for a matrix $B$ with the property that each column of $B$ is either $\\mathbf{0}$\n",
    "or some multiple of $\\mathbf{v_1}$.\n",
    "\n",
    "----------------"
   ]
  },
  {
   "cell_type": "markdown",
   "metadata": {},
   "source": [
    "Stochastic Matrices\n",
    "====================\n",
    "\n",
    "A vector $\\mathbf{v} = \\begin{bmatrix} v_1 & v_2 & \\cdots & v_n \\end{bmatrix}^T \\in \\mathbb{R}^n$ will be said to be a *probability vector* if\n",
    "all of its entries $v_i$ satisfy $v_i \\ge 0$ and if\n",
    "$$\\begin{bmatrix} 1 & 1 & \\cdots & 1 \\end{bmatrix} \\cdot \\mathbf{v} = \\sum_{i=1}^n v_i = 1.$$\n",
    "\n",
    "Let $A = \\begin{bmatrix} a_{ij} \\end{bmatrix} \\in \\mathbb{R}^{n \\times n}$. We say that $A$ is a *stochastic matrix* if $a_{ij} \\ge 0$ for all $i,j$ and if\n",
    "$$\\begin{bmatrix} 1 & 1 & \\cdots & 1 \\end{bmatrix} \\cdot A = \\begin{bmatrix} 1 &  1 &  \\cdots & 1 \\end{bmatrix};$$\n",
    "in words, $A$ is a stochastic matrix if each column of $A$ is a probability vector.\n",
    "\n",
    "\n",
    "**Proposition:** Let $A$ be a stochastic matrix.  \n",
    "**a)** $A$ has an eigenvector with eigenvalue 1.  \n",
    "**b)** Let $\\lambda$ be any eigenvalue of a $A$.  Then $|\\lambda| \\le 1$.  \n",
    "**c)** If $\\mathbf{w}$ is an eigenvector of $A$ with eigenvalue $\\lambda$ satisfying\n",
    "$\\lambda \\ne 1$ then $\\begin{bmatrix} 1 & 1 & \\cdots & 1 \\end{bmatrix} \\mathbf{w} = 0$.\n",
    "\n",
    "**Corollary:**\n",
    "Suppose that the stochastic matrix $A$ is diagonalizable, and that  the *1-eigenspace* of $A$ has dimension 1. Let $\\mathbf{v}$ be an eigenvector for $A$ with eigenvalue 1, and set $c = \\begin{bmatrix} 1 & 1 & \\cdots & 1 \\end{bmatrix} \\mathbf{v}$.\n",
    "Then $\\mathbf{w} = \\dfrac{\\mathbf{v}}{c}$ is a probability vector, and\n",
    "\n",
    "$$A^m \\to B \\quad \\text{as $m \\to \\infty$}$$\n",
    "\n",
    "for a stochastic matrix $B$. Each column of $B$ is equal to $\\mathbf{w}$.\n",
    "\n",
    "------\n",
    "\n",
    "**Theorem: (Perron-Frobenius)** Let $G$ be a transition diagram for a Markov chain, and suppose that $G$ is strongly connected and aperiodic. Let $P$ be the corresponding stochastic matrix. The multiplicity of the eigenvalue $\\lambda = 1$ for $P$ is 1 -- i.e.\n",
    "\n",
    "$$\\dim \\operatorname{Null}(P-I_n) = 1.$$\n",
    "\n",
    "All other eigenvalues $\\lambda$ satisfy $|\\lambda|  < 1$.\n",
    "\n",
    "There is a $1$-eigenvector $\\mathbf{v}$ which is a probability vector.\n",
    "\n",
    "--------------"
   ]
  },
  {
   "cell_type": "code",
   "execution_count": 1,
   "metadata": {},
   "outputs": [],
   "source": [
    "import numpy as np\n",
    "\n",
    "from numpy.random import default_rng\n",
    "\n",
    "from numpy.linalg import eig, matrix_power\n",
    "\n",
    "rng = default_rng()\n",
    "\n",
    "def rand_stoch(n):\n",
    "    v=np.array([rng.random(n) for i in range(n)])\n",
    "    # v=rng.random((n,n)) # same result\n",
    "    f=np.ones(n)@v\n",
    "    return (1/f)*v\n"
   ]
  },
  {
   "cell_type": "code",
   "execution_count": 2,
   "metadata": {},
   "outputs": [
    {
     "name": "stdout",
     "output_type": "stream",
     "text": [
      "[[5.25932892e-02 1.77044928e-01 1.55607615e-01 2.53402677e-01\n",
      "  1.45677335e-01 9.40023084e-02 1.13830721e-01 1.19067307e-01]\n",
      " [1.63737874e-01 2.01543248e-01 4.03224704e-02 1.45555294e-01\n",
      "  6.91382744e-02 1.98931600e-01 6.14108444e-02 2.32806019e-01]\n",
      " [1.50623835e-01 4.60799214e-03 1.78584447e-01 2.66747550e-01\n",
      "  2.14934984e-01 1.47594303e-01 1.07402729e-01 2.02231998e-01]\n",
      " [1.42718348e-01 2.44577378e-01 1.42572931e-01 7.58966520e-02\n",
      "  1.49968956e-01 7.94383403e-02 1.66537035e-01 6.52587504e-02]\n",
      " [4.12951328e-02 1.81460549e-04 1.77085595e-01 3.04433322e-02\n",
      "  7.17084568e-03 1.92964341e-01 5.22106411e-02 4.20653284e-02]\n",
      " [1.62226650e-01 2.56516631e-01 8.73877318e-02 1.33102083e-01\n",
      "  4.36348297e-02 1.61871222e-01 1.88236187e-01 1.12059225e-02]\n",
      " [1.43934703e-01 7.18374899e-02 1.26745142e-01 6.13856761e-02\n",
      "  1.59508903e-01 1.30577575e-02 1.46431633e-01 1.97020616e-01]\n",
      " [1.42870168e-01 4.36908736e-02 9.16940676e-02 3.34667364e-02\n",
      "  2.09965871e-01 1.12140129e-01 1.63940209e-01 1.30344059e-01]]\n"
     ]
    },
    {
     "data": {
      "text/plain": [
       "array([1., 1., 1., 1., 1., 1., 1., 1.])"
      ]
     },
     "execution_count": 2,
     "metadata": {},
     "output_type": "execute_result"
    }
   ],
   "source": [
    "T=rand_stoch(8)\n",
    "print(T)\n",
    "np.ones(8)@T"
   ]
  },
  {
   "cell_type": "code",
   "execution_count": 3,
   "metadata": {},
   "outputs": [],
   "source": [
    "e_vals,e_vecs = eig(T)"
   ]
  },
  {
   "cell_type": "code",
   "execution_count": 4,
   "metadata": {},
   "outputs": [
    {
     "data": {
      "text/plain": [
       "array([ 1.        +0.j        ,  0.20742554+0.j        ,\n",
       "       -0.13656183+0.07117379j, -0.13656183-0.07117379j,\n",
       "       -0.1019428 +0.j        ,  0.10555982+0.j        ,\n",
       "        0.00825825+0.13460686j,  0.00825825-0.13460686j])"
      ]
     },
     "execution_count": 4,
     "metadata": {},
     "output_type": "execute_result"
    }
   ],
   "source": [
    "e_vals"
   ]
  },
  {
   "cell_type": "code",
   "execution_count": 5,
   "metadata": {},
   "outputs": [
    {
     "data": {
      "text/plain": [
       "array([0.13965469, 0.14157466, 0.15511433, 0.1342152 , 0.07468989,\n",
       "       0.1376896 , 0.10912701, 0.10793462])"
      ]
     },
     "execution_count": 5,
     "metadata": {},
     "output_type": "execute_result"
    }
   ],
   "source": [
    "w=e_vecs[:,0]\n",
    "v = (1/(np.ones(8)@w))*w\n",
    "np.real(v)"
   ]
  },
  {
   "cell_type": "code",
   "execution_count": 6,
   "metadata": {},
   "outputs": [],
   "source": [
    "vv=(matrix_power(T,200)[:,0])"
   ]
  },
  {
   "cell_type": "code",
   "execution_count": 7,
   "metadata": {},
   "outputs": [
    {
     "data": {
      "text/plain": [
       "array([0.13965469, 0.14157466, 0.15511433, 0.1342152 , 0.07468989,\n",
       "       0.1376896 , 0.10912701, 0.10793462])"
      ]
     },
     "execution_count": 7,
     "metadata": {},
     "output_type": "execute_result"
    }
   ],
   "source": [
    "vv"
   ]
  },
  {
   "cell_type": "code",
   "execution_count": 8,
   "metadata": {},
   "outputs": [
    {
     "data": {
      "text/plain": [
       "array([ True,  True,  True,  True,  True,  True,  True,  True])"
      ]
     },
     "execution_count": 8,
     "metadata": {},
     "output_type": "execute_result"
    }
   ],
   "source": [
    "v-vv < 1e-7*np.ones(8)"
   ]
  },
  {
   "cell_type": "code",
   "execution_count": 9,
   "metadata": {},
   "outputs": [
    {
     "data": {
      "text/plain": [
       "True"
      ]
     },
     "execution_count": 9,
     "metadata": {},
     "output_type": "execute_result"
    }
   ],
   "source": [
    "(v-vv < 1e-7*np.ones(8)).all()"
   ]
  },
  {
   "cell_type": "markdown",
   "metadata": {},
   "source": [
    "How to rank-order the entries in  a vector??\n",
    "---------------------------------------------\n",
    "\n",
    "Python can sort -- but sometimes you don't just want the sorted values.\n"
   ]
  },
  {
   "cell_type": "code",
   "execution_count": 10,
   "metadata": {},
   "outputs": [
    {
     "data": {
      "text/plain": [
       "array([0.13965469, 0.14157466, 0.15511433, 0.1342152 , 0.07468989,\n",
       "       0.1376896 , 0.10912701, 0.10793462])"
      ]
     },
     "execution_count": 10,
     "metadata": {},
     "output_type": "execute_result"
    }
   ],
   "source": [
    "vv"
   ]
  },
  {
   "cell_type": "code",
   "execution_count": 11,
   "metadata": {},
   "outputs": [
    {
     "data": {
      "text/plain": [
       "[(0, 0.13965469144042364),\n",
       " (1, 0.14157465811218395),\n",
       " (2, 0.1551143257249531),\n",
       " (3, 0.1342151998141175),\n",
       " (4, 0.07468988966967852),\n",
       " (5, 0.1376896038569325),\n",
       " (6, 0.10912701427389195),\n",
       " (7, 0.10793461710781899)]"
      ]
     },
     "execution_count": 11,
     "metadata": {},
     "output_type": "execute_result"
    }
   ],
   "source": [
    "ll = [(i,vv[i]) for i in range(8)]\n",
    "ll"
   ]
  },
  {
   "cell_type": "code",
   "execution_count": 12,
   "metadata": {},
   "outputs": [],
   "source": [
    "ll.sort(key=lambda x:(-1)*x[1])"
   ]
  },
  {
   "cell_type": "code",
   "execution_count": 13,
   "metadata": {},
   "outputs": [
    {
     "data": {
      "text/plain": [
       "[(2, 0.1551143257249531),\n",
       " (1, 0.14157465811218395),\n",
       " (0, 0.13965469144042364),\n",
       " (5, 0.1376896038569325),\n",
       " (3, 0.1342151998141175),\n",
       " (6, 0.10912701427389195),\n",
       " (7, 0.10793461710781899),\n",
       " (4, 0.07468988966967852)]"
      ]
     },
     "execution_count": 13,
     "metadata": {},
     "output_type": "execute_result"
    }
   ],
   "source": [
    "ll"
   ]
  },
  {
   "cell_type": "code",
   "execution_count": 14,
   "metadata": {},
   "outputs": [],
   "source": [
    "def top_ten(n,it):\n",
    "    T=rand_stoch(n)\n",
    "    vv=matrix_power(T,it)[:,0]\n",
    "    ll=[(i,vv[i]) for i in range(n)]\n",
    "    ll.sort(key=lambda x:(-1)*x[1])\n",
    "    iter_string = \"\\n\".join([f\"{l[0]:3d} - {l[1]:.5f}\" for l in ll[0:10]])\n",
    "    \n",
    "    e_vals,e_vecs = eig(T)\n",
    "    w=e_vecs[:,0]\n",
    "    ww = (1/(np.ones(n)@w))*w\n",
    "    kl=[(i,ww[i]) for i in range(n)]\n",
    "    kl.sort(key=lambda x:(-1)*x[1])\n",
    "    eig_string = \"\\n\".join([f\"{l[0]:3d} - {l[1]:.5f}\" for l in kl[0:10]])\n",
    "    \n",
    "    return iter_string + \"\\n\\n\" + eig_string"
   ]
  },
  {
   "cell_type": "code",
   "execution_count": 15,
   "metadata": {},
   "outputs": [
    {
     "name": "stdout",
     "output_type": "stream",
     "text": [
      " 30 - 0.02429\n",
      " 21 - 0.02340\n",
      " 14 - 0.02338\n",
      " 24 - 0.02322\n",
      " 23 - 0.02313\n",
      "  6 - 0.02230\n",
      " 47 - 0.02215\n",
      "  2 - 0.02203\n",
      " 26 - 0.02201\n",
      " 31 - 0.02161\n",
      "\n",
      " 30 - 0.02302+0.00000j\n",
      " 17 - 0.02296+0.00000j\n",
      " 23 - 0.02293+0.00000j\n",
      " 21 - 0.02222+0.00000j\n",
      " 26 - 0.02211+0.00000j\n",
      " 14 - 0.02209+0.00000j\n",
      "  6 - 0.02201+0.00000j\n",
      " 22 - 0.02188+0.00000j\n",
      "  2 - 0.02172+0.00000j\n",
      " 18 - 0.02171+0.00000j\n"
     ]
    }
   ],
   "source": [
    "print(top_ten(50,2))"
   ]
  }
 ],
 "metadata": {
  "kernelspec": {
   "display_name": "Python 3",
   "language": "python",
   "name": "python3"
  },
  "language_info": {
   "codemirror_mode": {
    "name": "ipython",
    "version": 3
   },
   "file_extension": ".py",
   "mimetype": "text/x-python",
   "name": "python",
   "nbconvert_exporter": "python",
   "pygments_lexer": "ipython3",
   "version": "3.6.7"
  }
 },
 "nbformat": 4,
 "nbformat_minor": 4
}
