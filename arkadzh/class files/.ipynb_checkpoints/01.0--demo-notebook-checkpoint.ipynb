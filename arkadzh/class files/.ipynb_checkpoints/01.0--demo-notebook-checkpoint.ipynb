{
 "cells": [
  {
   "cell_type": "markdown",
   "metadata": {},
   "source": [
    "Math087 - Mathematical Modeling\n",
    "===============================\n",
    "[Tufts University](http://www.tufts.edu) -- [Department of Math](http://math.tufts.edu)  \n",
    "[Arkadz Kirshtein](https://math.tufts.edu/people/facultyKirshtein.htm) <arkadz.kirshtein@tufts.edu>  \n",
    "*Fall 2023*\n",
    "\n",
    "*Based on materials created by James Adler and George McNinch*\n",
    "\n",
    "Course material (Class 1): \"Demo\" notebook\n",
    "-----------------------------------------"
   ]
  },
  {
   "cell_type": "markdown",
   "metadata": {},
   "source": [
    "This notebook is intended to illustrate some features of [**jupyter** notebooks](https://jupyter.org/).\n",
    "\n",
    "For the most part, materials for this course will be presented in the form of notebooks like this one.\n",
    "\n",
    "You can view notebooks on [colab](https://colab.research.google.com/notebooks/intro.ipynb) or\n",
    "you can install some software on your own computer and view/edit notebooks there; there is discussion of installation on the [course web site](https://gmcninch-tufts.github.io/math87-fall2020/) -- in particular, the [\"python & jupyter resources information\"](https://gmcninch-tufts.github.io/math87-fall2020/course-info/03e-resources--python-and-jupyter.html) page.\n",
    "\n",
    "Mathematical typesetting\n",
    "-------------------------\n",
    "\n",
    "Jupyter notebooks contain text (like this) but also they can contain *mathematical symbols*; for example:\n",
    "$$\\int_{-\\infty}^\\infty f(x) dx = 0 \\quad \\text{or} \\quad \\begin{bmatrix} \\alpha & \\beta \\\\ \\gamma & \\delta \\end{bmatrix}$$\n",
    "\n",
    "If you are interested in what is going on \"under the hood\", text is entered using ``markdown`` syntax which is converted to ``html`` and displayed in your browser. \n",
    "\n",
    "Markdown and MathJax\n",
    "---------------------\n",
    "\n",
    "You can see the ``markdown`` underlying what you are reading now by \"double clicking\" \n",
    "\n",
    "You can read about [markdown syntax starting from here](https://en.wikipedia.org/wiki/Markdown),\n",
    "though there shouldn't be a need for you to write markdown for our course.\n",
    "\n",
    "The mathematical typeset appears thanks to an *extension* to markdown/html called [**MathJax**](https://www.mathjax.org/); again, you don't really need to know details about mathjax. But\n",
    "it is worth knowing that the syntax is the same as ``LaTeX``.\n",
    "\n",
    "Under the hood?\n",
    "----------------\n",
    "\n",
    "If you are *curious*, you can see the markdown/mathjax that was used to create the text you are reading currently.\n",
    "\n",
    "First, notice that there is a \"boxed region\" containing this text - in the parlance of ``jupyter`` notebooks, that region is called a ``cell``. If you click with the mouse pointer on this text, that ``cell`` receives ``focus``.\n",
    "\n",
    "Now that you've focussed on this cell, you can get at the underlying ``code`` in a couple of ways:\n",
    "\n",
    "- probably the simplest is to just double-click with the mouse inside the cell.\n",
    "  In order to return to normal viewing, press shift-[enter]\n",
    "  \n",
    "- in ``colab``, you can click the right-hand mouse button to get a menu of options - then choose \"Edit\"\n",
    "\n",
    "- in ``jupyter`` lab/notebook, there are some key sequences that enable editing, but I think I won't go into those details for now. \"double-click\" should always work..."
   ]
  },
  {
   "cell_type": "markdown",
   "metadata": {},
   "source": [
    "Code!\n",
    "-----\n",
    "\n",
    "More importantly, ``jupyter`` permits you to view and evaluate ``code``. For this course, we'll always use code in the ``python`` (specifically: ``python3``) language, but other possibilities are available.\n",
    "\n",
    "Remember the ``cells`` that we mentioned above? Well, there are a few types of cells. One is called a ``markdown`` cell, and such cells contain text (and mathematics) for reading. Another is called a ``code cell``, and it contains (in this case) ``python`` code.\n",
    "\n",
    "The next cell is an example of a ``code cell``.\n"
   ]
  },
  {
   "cell_type": "code",
   "execution_count": null,
   "metadata": {},
   "outputs": [],
   "source": []
  },
  {
   "cell_type": "code",
   "execution_count": 3,
   "metadata": {},
   "outputs": [
    {
     "name": "stdout",
     "output_type": "stream",
     "text": [
      "0 - 1.00000\n",
      "1 - 1.00000\n",
      "2 - 1.00000\n",
      "3 - 1.00000\n",
      "4 - 1.00000\n",
      "5 - 1.00000\n",
      "6 - 1.00000\n",
      "7 - 1.00000\n",
      "8 - 1.00000\n",
      "9 - 1.00000\n"
     ]
    }
   ],
   "source": [
    "from math import sin,cos\n",
    "\n",
    "def g(x):\n",
    "    return sin(x)**2 + cos(x)**2\n",
    "\n",
    "for i in range(10):\n",
    "    print(f\"{i} - {g(i):.5f}\")\n",
    "    "
   ]
  },
  {
   "cell_type": "markdown",
   "metadata": {},
   "source": [
    "To execute the contents of a  ``code cell``, type [shift]-[enter] while that cell has the focus.\n",
    "If the code in the cell produced ``output``, code execution will result in a new cell containing that output."
   ]
  },
  {
   "cell_type": "code",
   "execution_count": null,
   "metadata": {},
   "outputs": [],
   "source": []
  }
 ],
 "metadata": {
  "kernelspec": {
   "display_name": "Python 3",
   "language": "python",
   "name": "python3"
  },
  "language_info": {
   "codemirror_mode": {
    "name": "ipython",
    "version": 3
   },
   "file_extension": ".py",
   "mimetype": "text/x-python",
   "name": "python",
   "nbconvert_exporter": "python",
   "pygments_lexer": "ipython3",
   "version": "3.6.7"
  }
 },
 "nbformat": 4,
 "nbformat_minor": 4
}
