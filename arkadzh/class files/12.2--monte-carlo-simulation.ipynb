{
 "cells": [
  {
   "cell_type": "markdown",
   "metadata": {
    "slideshow": {
     "slide_type": "slide"
    }
   },
   "source": [
    "Math087 - Mathematical Modeling\n",
    "===============================\n",
    "[Tufts University](http://www.tufts.edu) -- [Department of Math](http://math.tufts.edu)  \n",
    "[Arkadz Kirshtein](https://math.tufts.edu/people/faculty/arkadz-kirshtein) <arkadz.kirshtein@tufts.edu>  \n",
    "*Fall 2023*\n",
    "\n",
    "*Based on materials created by James Adler and George McNinch*\n",
    "\n",
    "Course material (Class 12): Monte-Carlo simulation\n",
    "----------------------------------------------------------------"
   ]
  },
  {
   "cell_type": "markdown",
   "metadata": {
    "slideshow": {
     "slide_type": "slide"
    }
   },
   "source": [
    "A modeling application of Monte-Carlo methods: fish tanks!\n",
    "==========================================================\n",
    "\n",
    "In this notebook we are going to discuss a modeling example.\n",
    "\n",
    "Suppose that you have been promoted to inventory manager at **Jane's Fish Tank Emporium** (JFTE).\n",
    "\n",
    "JFTE sells only 150 gallon fish tanks that are bulky, so it prefers to not keep more in stock than are needed at any given point in time.\n",
    "\n",
    "Suppose that on average JFTE sells one tank per week. \n",
    "\n",
    "JFTE can order new tanks at any point, but they must wait 5 days for the arrival of a new tank once it has been ordered.\n",
    "\n",
    "The task is to design a good strategy for ordering fish tanks."
   ]
  },
  {
   "cell_type": "markdown",
   "metadata": {
    "slideshow": {
     "slide_type": "subslide"
    }
   },
   "source": [
    "Relevant questions & parameters??\n",
    "============\n",
    "\n",
    "- profit from the sale of a tank?\n",
    "- cost of storage for an unsold tank in stock?\n",
    "- what does \"on average, one tank is sold per week\" really mean??\n",
    "- what strategies are even possible?\n",
    "\n",
    "Let's consider some extremal cases first:\n",
    "\n",
    "- if the profit per tank is large and the storage costs for an in-stock tank relatively small, then a good strategy is to keep a relatively large inventory.\n",
    "- if the profit per tank is small and the storage costs for an in-stock tank are relatively large, then a good strategy is to keep little-or-no inventory and order as required.\n",
    "\n",
    "It is difficult to formulate too many generalities without knowing further information.\n",
    "\n",
    "An important rule of modeling we'd like to follow is this:\n",
    "\n",
    "Start with a relatively simple model, but build it to allow incremental additions of complexity."
   ]
  },
  {
   "cell_type": "markdown",
   "metadata": {
    "slideshow": {
     "slide_type": "slide"
    }
   },
   "source": [
    "Simplifying assumptions\n",
    "=======================\n",
    "\n",
    "1. Let's assume that \"on average, JFTE sells one tank per week\" means that on any given day, there is a \n",
    "$\\dfrac{1}{7}$ chance of an interested customer entering the store.\n",
    "\n",
    "2. If an interested customer arrives but there is no stock, the potential sale is then *lost* (thus our model doesn't acknowledge rainchecks or instructions to a customer to \"try next week\").\n",
    "\n",
    "3. The cost of storing a tank is high enough that you only want to store tanks you expect to sell \"soon\".\n",
    "\n",
    "These assumptions suggest two strategies, which we want to compare.\n",
    "\n",
    "**Strategy A.** Set a *standing order* to have one tank delivered each week.  \n",
    "**Strategy B.** Order a new tank whenever one is sold -- *on-demand ordering*\n",
    "\n",
    "We are going to use a Monte-Carlo simulation to compare these two strategies."
   ]
  },
  {
   "cell_type": "markdown",
   "metadata": {
    "slideshow": {
     "slide_type": "subslide"
    }
   },
   "source": [
    "Our simulation\n",
    "==============\n",
    "\n",
    "The first step is to simulate arrival of customers. We are going to make a list of $N$ days for our simulation, and for each day we are going to use a random selection to \"decide\" whether a customer arrives.\n",
    "\n",
    "For each day, we would like to keep track of various information:\n",
    "\n",
    "- does a customer arrive? (determined randomly)\n",
    "- is there a tank in stock? (ordering is determined by our strategy)\n",
    "\n",
    "So let's create a ``python`` data structure which keeps track of the required information. We'll just use a ``class`` named ``JFTE`` which has instance variables ``customers``, ``stock``, ``sales`` etc.\n",
    "  \n",
    "When we construct an instance of the class, we indicate the number of days ``N`` for our simulation. We create a list corresponding to ``days``, and the random number generated \"decides\" whether or not a customer will arrive on the given day.\n",
    "\n",
    "We now implement our *strategies* as functions which take as argument an instance of the class ``JFTE``\n",
    "and return an instance of the class ``result``.\n",
    "\n"
   ]
  },
  {
   "cell_type": "code",
   "execution_count": 1,
   "metadata": {
    "slideshow": {
     "slide_type": "subslide"
    }
   },
   "outputs": [],
   "source": [
    "import numpy as np\n",
    "import itertools as it\n",
    "\n",
    "from numpy.random import default_rng\n",
    "rng = default_rng()\n"
   ]
  },
  {
   "cell_type": "code",
   "execution_count": 2,
   "metadata": {
    "slideshow": {
     "slide_type": "subslide"
    }
   },
   "outputs": [],
   "source": [
    "\n",
    "def customer(prob=1./7):\n",
    "    return rng.choice([1,0],p=[prob,1-prob])\n",
    "\n",
    "\n",
    "class JFTE():\n",
    "    def __init__(self,N,prob=1./7):\n",
    "        self.customers = [customer(prob=prob) for n in range(N)]\n",
    "        self.reset()\n",
    "    \n",
    "    def reset(self):\n",
    "        self.stock = 1\n",
    "        self.sales = 0\n",
    "        self.lost_sales = 0\n",
    "        self.storage_days = 0\n",
    "        self.max_stock = 1\n",
    "    \n",
    "    def num_days(self):\n",
    "        return len(self.customers)\n",
    "    \n",
    "    def add_stock(self):\n",
    "        self.stock = self.stock + 1\n",
    "        if self.stock > self.max_stock:\n",
    "            self.max_stock = self.stock\n",
    "    \n",
    "    def sale(self):\n",
    "        self.stock = self.stock - 1\n",
    "        self.sales = self.sales + 1\n",
    "        \n",
    "    def result(self):\n",
    "        return result(self.num_days(),self.sales,self.lost_sales,\n",
    "                      self.storage_days,self.max_stock)\n"
   ]
  },
  {
   "cell_type": "code",
   "execution_count": 3,
   "metadata": {
    "slideshow": {
     "slide_type": "subslide"
    }
   },
   "outputs": [],
   "source": [
    "class result():\n",
    "    def __init__(self,num_days,sales,lost_sales,storage_days,max_stock):\n",
    "        self.num_days = num_days\n",
    "        self.sales = sales\n",
    "        self.lost_sales = lost_sales\n",
    "        self.storage_days = storage_days\n",
    "        self.max_stock = max_stock\n",
    "\n",
    "    def report(self):\n",
    "        entries = [f\"weeks:        {self.num_days/7.}\",\n",
    "                   f\"sales:        {self.sales}\",\n",
    "                   f\"lost sales:   {self.lost_sales}\",\n",
    "                   f\"storage_days: {self.storage_days}  (effective)\",\n",
    "                   f\"max stock:    {self.max_stock}\",\n",
    "                    ]\n",
    "        return \"\\n\".join(entries)\n",
    "        "
   ]
  },
  {
   "cell_type": "markdown",
   "metadata": {
    "slideshow": {
     "slide_type": "slide"
    }
   },
   "source": [
    "The first strategy is to have a standing order made each week on the same day.\n"
   ]
  },
  {
   "cell_type": "code",
   "execution_count": 4,
   "metadata": {
    "slideshow": {
     "slide_type": "fragment"
    }
   },
   "outputs": [],
   "source": [
    "def stand_order(J,dow=6):\n",
    "    ## dow = arrival day-of-week for standing order; should be in [0,1,2,3,4,5,6]\n",
    "    ## we'll assume that the first day of the ``days`` list is dow=0.\n",
    "    \n",
    "    N = J.num_days()\n",
    "    J.reset()\n",
    "    \n",
    "    for i in range(N):\n",
    "        c = J.customers[i]\n",
    "        if dow == np.mod(i,7):\n",
    "            J.add_stock()\n",
    "        if c>0 and J.stock == 0:\n",
    "            J.lost_sales = J.lost_sales + 1\n",
    "        if c>0 and J.stock > 0:\n",
    "            J.sale()\n",
    "        J.storage_days = J.storage_days + J.stock\n",
    "    return J.result()\n"
   ]
  },
  {
   "cell_type": "markdown",
   "metadata": {
    "slideshow": {
     "slide_type": "slide"
    }
   },
   "source": [
    "The second strategy is to have a order placed as soon as a sale is made."
   ]
  },
  {
   "cell_type": "code",
   "execution_count": 5,
   "metadata": {
    "slideshow": {
     "slide_type": "fragment"
    }
   },
   "outputs": [],
   "source": [
    "def order_on_demand(J):\n",
    "    J.reset()\n",
    "    order_wait = np.inf\n",
    "    for c in J.customers:\n",
    "        if c>0 and J.stock==0:\n",
    "            J.lost_sales = J.lost_sales + 1\n",
    "        if c>0 and J.stock>0:\n",
    "            J.sale()\n",
    "            \n",
    "        J.storage_days = J.storage_days + J.stock\n",
    "        if  order_wait == np.inf and J.stock==0:\n",
    "            order_wait = 5\n",
    "        if order_wait == 0:\n",
    "            J.add_stock()\n",
    "            order_wait = np.inf\n",
    "        if order_wait>0:\n",
    "            order_wait = order_wait - 1\n",
    "    return J.result()\n"
   ]
  },
  {
   "cell_type": "code",
   "execution_count": 6,
   "metadata": {
    "slideshow": {
     "slide_type": "slide"
    }
   },
   "outputs": [],
   "source": [
    "J = JFTE(2*52*7)\n",
    "\n",
    "J1 = stand_order(J,dow=6)\n",
    "J2 = order_on_demand(J)\n"
   ]
  },
  {
   "cell_type": "code",
   "execution_count": 7,
   "metadata": {
    "slideshow": {
     "slide_type": "fragment"
    }
   },
   "outputs": [
    {
     "name": "stdout",
     "output_type": "stream",
     "text": [
      "weeks:        104.0\n",
      "sales:        101\n",
      "lost sales:   10\n",
      "storage_days: 2037  (effective)\n",
      "max stock:    9\n"
     ]
    }
   ],
   "source": [
    "print(J1.report())"
   ]
  },
  {
   "cell_type": "code",
   "execution_count": 8,
   "metadata": {
    "slideshow": {
     "slide_type": "fragment"
    }
   },
   "outputs": [
    {
     "name": "stdout",
     "output_type": "stream",
     "text": [
      "weeks:        104.0\n",
      "sales:        64\n",
      "lost sales:   47\n",
      "storage_days: 349  (effective)\n",
      "max stock:    1\n"
     ]
    }
   ],
   "source": [
    "print(J2.report())"
   ]
  },
  {
   "cell_type": "code",
   "execution_count": 9,
   "metadata": {
    "slideshow": {
     "slide_type": "slide"
    }
   },
   "outputs": [],
   "source": [
    "import pandas as pd\n",
    "\n",
    "JL = list(map(JFTE,25*[2*52*7])) # np.array(10*[2*52*7]) same as 2*52*7*np.ones(10)\n",
    "\n",
    "def report_trials(JL):\n",
    "    JS = list(map(stand_order,JL))\n",
    "    JD = list(map(order_on_demand,JL))\n",
    "    rdict = {\"sales       - standing\":list(map(lambda x:x.sales,     JS)),\n",
    "             \"lost sales  - standing\":list(map(lambda x:x.lost_sales,JS)),\n",
    "             \"storage_days- standing\":list(map(lambda x:x.storage_days,JS)),\n",
    "             \"max stock   - standing\":list(map(lambda x:x.max_stock,JS)),\n",
    "             \"sales       - demand\":  list(map(lambda x:x.sales,     JD)),\n",
    "             \"lost sales  - demand\":  list(map(lambda x:x.lost_sales,JD)),\n",
    "             \"storage_days- demand\":  list(map(lambda x:x.storage_days,JD)),\n",
    "             \"max stock   - demand\":list(map(lambda x:x.max_stock,JD))\n",
    "              }\n",
    "    return pd.DataFrame(rdict)"
   ]
  },
  {
   "cell_type": "code",
   "execution_count": 10,
   "metadata": {
    "lines_to_next_cell": 0,
    "slideshow": {
     "slide_type": "subslide"
    }
   },
   "outputs": [
    {
     "data": {
      "text/html": [
       "<div>\n",
       "<style scoped>\n",
       "    .dataframe tbody tr th:only-of-type {\n",
       "        vertical-align: middle;\n",
       "    }\n",
       "\n",
       "    .dataframe tbody tr th {\n",
       "        vertical-align: top;\n",
       "    }\n",
       "\n",
       "    .dataframe thead th {\n",
       "        text-align: right;\n",
       "    }\n",
       "</style>\n",
       "<table border=\"1\" class=\"dataframe\">\n",
       "  <thead>\n",
       "    <tr style=\"text-align: right;\">\n",
       "      <th></th>\n",
       "      <th>sales       - standing</th>\n",
       "      <th>lost sales  - standing</th>\n",
       "      <th>storage_days- standing</th>\n",
       "      <th>max stock   - standing</th>\n",
       "      <th>sales       - demand</th>\n",
       "      <th>lost sales  - demand</th>\n",
       "      <th>storage_days- demand</th>\n",
       "      <th>max stock   - demand</th>\n",
       "    </tr>\n",
       "  </thead>\n",
       "  <tbody>\n",
       "    <tr>\n",
       "      <th>0</th>\n",
       "      <td>93</td>\n",
       "      <td>0</td>\n",
       "      <td>9519</td>\n",
       "      <td>24</td>\n",
       "      <td>59</td>\n",
       "      <td>34</td>\n",
       "      <td>374</td>\n",
       "      <td>1</td>\n",
       "    </tr>\n",
       "    <tr>\n",
       "      <th>1</th>\n",
       "      <td>96</td>\n",
       "      <td>4</td>\n",
       "      <td>4841</td>\n",
       "      <td>16</td>\n",
       "      <td>59</td>\n",
       "      <td>41</td>\n",
       "      <td>378</td>\n",
       "      <td>1</td>\n",
       "    </tr>\n",
       "    <tr>\n",
       "      <th>2</th>\n",
       "      <td>87</td>\n",
       "      <td>2</td>\n",
       "      <td>7273</td>\n",
       "      <td>21</td>\n",
       "      <td>54</td>\n",
       "      <td>35</td>\n",
       "      <td>404</td>\n",
       "      <td>1</td>\n",
       "    </tr>\n",
       "    <tr>\n",
       "      <th>3</th>\n",
       "      <td>97</td>\n",
       "      <td>1</td>\n",
       "      <td>6597</td>\n",
       "      <td>17</td>\n",
       "      <td>59</td>\n",
       "      <td>39</td>\n",
       "      <td>374</td>\n",
       "      <td>1</td>\n",
       "    </tr>\n",
       "    <tr>\n",
       "      <th>4</th>\n",
       "      <td>97</td>\n",
       "      <td>8</td>\n",
       "      <td>3873</td>\n",
       "      <td>13</td>\n",
       "      <td>59</td>\n",
       "      <td>46</td>\n",
       "      <td>374</td>\n",
       "      <td>1</td>\n",
       "    </tr>\n",
       "    <tr>\n",
       "      <th>5</th>\n",
       "      <td>95</td>\n",
       "      <td>13</td>\n",
       "      <td>1981</td>\n",
       "      <td>11</td>\n",
       "      <td>64</td>\n",
       "      <td>44</td>\n",
       "      <td>344</td>\n",
       "      <td>1</td>\n",
       "    </tr>\n",
       "    <tr>\n",
       "      <th>6</th>\n",
       "      <td>104</td>\n",
       "      <td>13</td>\n",
       "      <td>1825</td>\n",
       "      <td>6</td>\n",
       "      <td>65</td>\n",
       "      <td>52</td>\n",
       "      <td>338</td>\n",
       "      <td>1</td>\n",
       "    </tr>\n",
       "    <tr>\n",
       "      <th>7</th>\n",
       "      <td>94</td>\n",
       "      <td>7</td>\n",
       "      <td>3196</td>\n",
       "      <td>12</td>\n",
       "      <td>60</td>\n",
       "      <td>41</td>\n",
       "      <td>373</td>\n",
       "      <td>1</td>\n",
       "    </tr>\n",
       "    <tr>\n",
       "      <th>8</th>\n",
       "      <td>103</td>\n",
       "      <td>14</td>\n",
       "      <td>1353</td>\n",
       "      <td>6</td>\n",
       "      <td>66</td>\n",
       "      <td>51</td>\n",
       "      <td>333</td>\n",
       "      <td>1</td>\n",
       "    </tr>\n",
       "    <tr>\n",
       "      <th>9</th>\n",
       "      <td>103</td>\n",
       "      <td>7</td>\n",
       "      <td>2557</td>\n",
       "      <td>9</td>\n",
       "      <td>62</td>\n",
       "      <td>48</td>\n",
       "      <td>360</td>\n",
       "      <td>1</td>\n",
       "    </tr>\n",
       "    <tr>\n",
       "      <th>10</th>\n",
       "      <td>99</td>\n",
       "      <td>0</td>\n",
       "      <td>3628</td>\n",
       "      <td>10</td>\n",
       "      <td>63</td>\n",
       "      <td>36</td>\n",
       "      <td>350</td>\n",
       "      <td>1</td>\n",
       "    </tr>\n",
       "    <tr>\n",
       "      <th>11</th>\n",
       "      <td>92</td>\n",
       "      <td>2</td>\n",
       "      <td>4755</td>\n",
       "      <td>13</td>\n",
       "      <td>54</td>\n",
       "      <td>40</td>\n",
       "      <td>404</td>\n",
       "      <td>1</td>\n",
       "    </tr>\n",
       "    <tr>\n",
       "      <th>12</th>\n",
       "      <td>100</td>\n",
       "      <td>1</td>\n",
       "      <td>5012</td>\n",
       "      <td>15</td>\n",
       "      <td>56</td>\n",
       "      <td>45</td>\n",
       "      <td>392</td>\n",
       "      <td>1</td>\n",
       "    </tr>\n",
       "    <tr>\n",
       "      <th>13</th>\n",
       "      <td>94</td>\n",
       "      <td>1</td>\n",
       "      <td>7684</td>\n",
       "      <td>18</td>\n",
       "      <td>54</td>\n",
       "      <td>41</td>\n",
       "      <td>404</td>\n",
       "      <td>1</td>\n",
       "    </tr>\n",
       "    <tr>\n",
       "      <th>14</th>\n",
       "      <td>87</td>\n",
       "      <td>1</td>\n",
       "      <td>3861</td>\n",
       "      <td>18</td>\n",
       "      <td>51</td>\n",
       "      <td>37</td>\n",
       "      <td>422</td>\n",
       "      <td>1</td>\n",
       "    </tr>\n",
       "    <tr>\n",
       "      <th>15</th>\n",
       "      <td>102</td>\n",
       "      <td>2</td>\n",
       "      <td>3424</td>\n",
       "      <td>12</td>\n",
       "      <td>61</td>\n",
       "      <td>43</td>\n",
       "      <td>363</td>\n",
       "      <td>1</td>\n",
       "    </tr>\n",
       "    <tr>\n",
       "      <th>16</th>\n",
       "      <td>85</td>\n",
       "      <td>0</td>\n",
       "      <td>5421</td>\n",
       "      <td>20</td>\n",
       "      <td>52</td>\n",
       "      <td>33</td>\n",
       "      <td>416</td>\n",
       "      <td>1</td>\n",
       "    </tr>\n",
       "    <tr>\n",
       "      <th>17</th>\n",
       "      <td>98</td>\n",
       "      <td>4</td>\n",
       "      <td>2224</td>\n",
       "      <td>8</td>\n",
       "      <td>60</td>\n",
       "      <td>42</td>\n",
       "      <td>368</td>\n",
       "      <td>1</td>\n",
       "    </tr>\n",
       "    <tr>\n",
       "      <th>18</th>\n",
       "      <td>104</td>\n",
       "      <td>13</td>\n",
       "      <td>1943</td>\n",
       "      <td>8</td>\n",
       "      <td>66</td>\n",
       "      <td>51</td>\n",
       "      <td>336</td>\n",
       "      <td>1</td>\n",
       "    </tr>\n",
       "    <tr>\n",
       "      <th>19</th>\n",
       "      <td>91</td>\n",
       "      <td>9</td>\n",
       "      <td>4292</td>\n",
       "      <td>17</td>\n",
       "      <td>58</td>\n",
       "      <td>42</td>\n",
       "      <td>380</td>\n",
       "      <td>1</td>\n",
       "    </tr>\n",
       "    <tr>\n",
       "      <th>20</th>\n",
       "      <td>89</td>\n",
       "      <td>5</td>\n",
       "      <td>5844</td>\n",
       "      <td>20</td>\n",
       "      <td>56</td>\n",
       "      <td>38</td>\n",
       "      <td>392</td>\n",
       "      <td>1</td>\n",
       "    </tr>\n",
       "    <tr>\n",
       "      <th>21</th>\n",
       "      <td>104</td>\n",
       "      <td>8</td>\n",
       "      <td>2718</td>\n",
       "      <td>10</td>\n",
       "      <td>59</td>\n",
       "      <td>53</td>\n",
       "      <td>374</td>\n",
       "      <td>1</td>\n",
       "    </tr>\n",
       "    <tr>\n",
       "      <th>22</th>\n",
       "      <td>82</td>\n",
       "      <td>1</td>\n",
       "      <td>8317</td>\n",
       "      <td>23</td>\n",
       "      <td>50</td>\n",
       "      <td>33</td>\n",
       "      <td>432</td>\n",
       "      <td>1</td>\n",
       "    </tr>\n",
       "    <tr>\n",
       "      <th>23</th>\n",
       "      <td>101</td>\n",
       "      <td>11</td>\n",
       "      <td>1269</td>\n",
       "      <td>6</td>\n",
       "      <td>63</td>\n",
       "      <td>49</td>\n",
       "      <td>350</td>\n",
       "      <td>1</td>\n",
       "    </tr>\n",
       "    <tr>\n",
       "      <th>24</th>\n",
       "      <td>98</td>\n",
       "      <td>5</td>\n",
       "      <td>2932</td>\n",
       "      <td>10</td>\n",
       "      <td>66</td>\n",
       "      <td>37</td>\n",
       "      <td>332</td>\n",
       "      <td>1</td>\n",
       "    </tr>\n",
       "  </tbody>\n",
       "</table>\n",
       "</div>"
      ],
      "text/plain": [
       "    sales       - standing  lost sales  - standing  storage_days- standing  \\\n",
       "0                       93                       0                    9519   \n",
       "1                       96                       4                    4841   \n",
       "2                       87                       2                    7273   \n",
       "3                       97                       1                    6597   \n",
       "4                       97                       8                    3873   \n",
       "5                       95                      13                    1981   \n",
       "6                      104                      13                    1825   \n",
       "7                       94                       7                    3196   \n",
       "8                      103                      14                    1353   \n",
       "9                      103                       7                    2557   \n",
       "10                      99                       0                    3628   \n",
       "11                      92                       2                    4755   \n",
       "12                     100                       1                    5012   \n",
       "13                      94                       1                    7684   \n",
       "14                      87                       1                    3861   \n",
       "15                     102                       2                    3424   \n",
       "16                      85                       0                    5421   \n",
       "17                      98                       4                    2224   \n",
       "18                     104                      13                    1943   \n",
       "19                      91                       9                    4292   \n",
       "20                      89                       5                    5844   \n",
       "21                     104                       8                    2718   \n",
       "22                      82                       1                    8317   \n",
       "23                     101                      11                    1269   \n",
       "24                      98                       5                    2932   \n",
       "\n",
       "    max stock   - standing  sales       - demand  lost sales  - demand  \\\n",
       "0                       24                    59                    34   \n",
       "1                       16                    59                    41   \n",
       "2                       21                    54                    35   \n",
       "3                       17                    59                    39   \n",
       "4                       13                    59                    46   \n",
       "5                       11                    64                    44   \n",
       "6                        6                    65                    52   \n",
       "7                       12                    60                    41   \n",
       "8                        6                    66                    51   \n",
       "9                        9                    62                    48   \n",
       "10                      10                    63                    36   \n",
       "11                      13                    54                    40   \n",
       "12                      15                    56                    45   \n",
       "13                      18                    54                    41   \n",
       "14                      18                    51                    37   \n",
       "15                      12                    61                    43   \n",
       "16                      20                    52                    33   \n",
       "17                       8                    60                    42   \n",
       "18                       8                    66                    51   \n",
       "19                      17                    58                    42   \n",
       "20                      20                    56                    38   \n",
       "21                      10                    59                    53   \n",
       "22                      23                    50                    33   \n",
       "23                       6                    63                    49   \n",
       "24                      10                    66                    37   \n",
       "\n",
       "    storage_days- demand  max stock   - demand  \n",
       "0                    374                     1  \n",
       "1                    378                     1  \n",
       "2                    404                     1  \n",
       "3                    374                     1  \n",
       "4                    374                     1  \n",
       "5                    344                     1  \n",
       "6                    338                     1  \n",
       "7                    373                     1  \n",
       "8                    333                     1  \n",
       "9                    360                     1  \n",
       "10                   350                     1  \n",
       "11                   404                     1  \n",
       "12                   392                     1  \n",
       "13                   404                     1  \n",
       "14                   422                     1  \n",
       "15                   363                     1  \n",
       "16                   416                     1  \n",
       "17                   368                     1  \n",
       "18                   336                     1  \n",
       "19                   380                     1  \n",
       "20                   392                     1  \n",
       "21                   374                     1  \n",
       "22                   432                     1  \n",
       "23                   350                     1  \n",
       "24                   332                     1  "
      ]
     },
     "execution_count": 10,
     "metadata": {},
     "output_type": "execute_result"
    }
   ],
   "source": [
    "report_trials(JL)"
   ]
  },
  {
   "cell_type": "markdown",
   "metadata": {},
   "source": [
    "\n"
   ]
  }
 ],
 "metadata": {
  "jupytext": {
   "formats": "ipynb,md"
  },
  "kernelspec": {
   "display_name": "Python 3",
   "language": "python",
   "name": "python3"
  },
  "language_info": {
   "codemirror_mode": {
    "name": "ipython",
    "version": 3
   },
   "file_extension": ".py",
   "mimetype": "text/x-python",
   "name": "python",
   "nbconvert_exporter": "python",
   "pygments_lexer": "ipython3",
   "version": "3.6.7"
  }
 },
 "nbformat": 4,
 "nbformat_minor": 4
}
