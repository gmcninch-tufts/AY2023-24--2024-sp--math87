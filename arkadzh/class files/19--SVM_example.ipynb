{
 "cells": [
  {
   "cell_type": "markdown",
   "metadata": {
    "id": "rX8mhOLljYeM"
   },
   "source": [
    "Math087 - Mathematical Modeling\n",
    "===============================\n",
    "[Tufts University](http://www.tufts.edu) -- [Department of Math](http://math.tufts.edu)  \n",
    "[Arkadz Kirshtein](https://math.tufts.edu/people/facultyKirshtein.htm) <arkadz.kirshtein@tufts.edu>  \n",
    "*Fall 2023*\n",
    "\n",
    "Course material (Class 19): Support Vector Machine example\n",
    "----------------------------------------------------------------\n"
   ]
  },
  {
   "cell_type": "code",
   "execution_count": 2,
   "metadata": {
    "id": "jreXlyMjhWGl"
   },
   "outputs": [],
   "source": [
    "from sklearn import svm\n",
    "import numpy as np\n",
    "\n",
    "#create a dataset to classify: points distributed uniformly on a square [-1,1]^2\n",
    "X=(2*np.random.rand(10000)-1).reshape((5000,2))\n",
    "# assign 1 to first and third quadrant and 0 otherwise\n",
    "Y=np.array([1 if xx[0]*xx[1]>=0 else 0 for xx in X])"
   ]
  },
  {
   "cell_type": "code",
   "execution_count": 3,
   "metadata": {
    "colab": {
     "base_uri": "https://localhost:8080/"
    },
    "id": "i0UfFTgkh0bD",
    "outputId": "b8804977-d431-4e7a-d6cb-39e7df49e6ca"
   },
   "outputs": [
    {
     "data": {
      "text/plain": [
       "SVC(C=1.0, break_ties=False, cache_size=200, class_weight=None, coef0=0.0,\n",
       "    decision_function_shape='ovr', degree=3, gamma='scale', kernel='rbf',\n",
       "    max_iter=-1, probability=False, random_state=None, shrinking=True,\n",
       "    tol=0.001, verbose=False)"
      ]
     },
     "execution_count": 3,
     "metadata": {},
     "output_type": "execute_result"
    }
   ],
   "source": [
    "#create and train SVM classificator\n",
    "mM=svm.SVC()\n",
    "\n",
    "mM.fit(X,Y)"
   ]
  },
  {
   "cell_type": "code",
   "execution_count": 4,
   "metadata": {
    "colab": {
     "base_uri": "https://localhost:8080/"
    },
    "id": "lGN-zF8siP2-",
    "outputId": "86231bb1-2cb0-469e-956e-f4232022e93a"
   },
   "outputs": [
    {
     "data": {
      "text/plain": [
       "array([1, 0, 1])"
      ]
     },
     "execution_count": 4,
     "metadata": {},
     "output_type": "execute_result"
    }
   ],
   "source": [
    "#predict on the data within range\n",
    "mM.predict([[0.5,0.5],[-0.5,0.5],[-0.5,-0.5]])"
   ]
  },
  {
   "cell_type": "code",
   "execution_count": 5,
   "metadata": {
    "colab": {
     "base_uri": "https://localhost:8080/"
    },
    "id": "OG07l5aLgXMD",
    "outputId": "7b15bac8-1194-4830-99b4-f1c504d43667"
   },
   "outputs": [
    {
     "data": {
      "text/plain": [
       "array([1, 1, 1])"
      ]
     },
     "execution_count": 5,
     "metadata": {},
     "output_type": "execute_result"
    }
   ],
   "source": [
    "#predict on the data out of range\n",
    "mM.predict([[2,2],[-2,2],[-2,-2]])"
   ]
  },
  {
   "cell_type": "markdown",
   "metadata": {
    "id": "E8KCv1cOg8pn"
   },
   "source": [
    "As we can see the classifier does not always work as expected when the data is out of range"
   ]
  }
 ],
 "metadata": {
  "colab": {
   "collapsed_sections": [
    "rX8mhOLljYeM"
   ],
   "name": "ML-and-SVM-examples.ipynb",
   "provenance": []
  },
  "kernelspec": {
   "display_name": "Python 3",
   "language": "python",
   "name": "python3"
  },
  "language_info": {
   "codemirror_mode": {
    "name": "ipython",
    "version": 3
   },
   "file_extension": ".py",
   "mimetype": "text/x-python",
   "name": "python",
   "nbconvert_exporter": "python",
   "pygments_lexer": "ipython3",
   "version": "3.6.7"
  }
 },
 "nbformat": 4,
 "nbformat_minor": 1
}
