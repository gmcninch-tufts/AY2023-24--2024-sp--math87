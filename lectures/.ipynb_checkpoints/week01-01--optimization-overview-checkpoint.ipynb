{
 "cells": [
  {
   "cell_type": "markdown",
   "id": "5d74d836-5d45-4d52-9ebf-189a972139bd",
   "metadata": {},
   "source": [
    "# Overview\n",
    "\n",
    "Optimization is the most common application of mathematics. Here are\n",
    "some “real-world” examples:\n",
    "\n",
    "-   **Business optimization**. A business manager attempts to understand\n",
    "    and control parameters in order to maximize profit and minimize\n",
    "    costs.\n",
    "\n",
    "-   **Natural resource management**. Control harvest rates to maximize\n",
    "    long-term yield, while conserving resources.\n",
    "\n",
    "-   **Environmental regulation**. Governments sets standards to minimize\n",
    "    environmental costs, while maximizing production of goods.\n",
    "\n",
    "-   **IT management**. Computer system managers try to maximize\n",
    "    throughput and minimize delays.\n",
    "\n",
    "-   **Pharmaceutical optimization**. Doctors and pharmacists regulate\n",
    "    drugs to minimize harmful side effects and maximize healing."
   ]
  },
  {
   "cell_type": "markdown",
   "id": "bc727c1d-52fb-4483-a44a-aef3a2da0c50",
   "metadata": {},
   "source": [
    "In this first part of our modeling course, we are going to discuss some\n",
    "sorts of optimization problems and related matters:\n",
    "\n",
    "-   *single variable optimization* and *sensitivity analysis*\n",
    "\n",
    "-   *multivariable optimization*\n",
    "\n",
    "-   *multivariable optimization with constraints*\n",
    "\n",
    "We'll start this week without a discussion of *single variable optimization*."
   ]
  },
  {
   "cell_type": "markdown",
   "id": "7df58f80-34ac-4ddb-9d9b-c0855ea3cc86",
   "metadata": {},
   "source": [
    "# Single Variable Optimization\n",
    "\n",
    "In this first section of our modeling class, we are going to examine a\n",
    "few *single variable* optimization problems. In some sense, these amount\n",
    "to complicated versions of *word problems* that you might have met in\n",
    "Calculus I (differential calculus).\n",
    "\n",
    "The procedure to carry out a calculus based solution can then be\n",
    "described roughly as follows:\n",
    "\n",
    "-   find the function $f(x)$ that measures the quantity that you desire\n",
    "    to optimize, and the relevant interval $[a,b]$ of values of\n",
    "    independent variable $x$.\n",
    "-   find the critical points $c_1,c_2,\\dots,c_N$ of $f$ in the interval\n",
    "    $(a,b)$.\n",
    "-   if $f$ is a *nice enough* function, the maximum and minimum value of\n",
    "    $f$ will be found in the list $f(a),f(c_1),\\dots,f(c_N),f(b)$ –\n",
    "    remember that you must check the endpoints $a,b$!"
   ]
  },
  {
   "cell_type": "code",
   "execution_count": null,
   "id": "393f4168-8bdd-4f20-bfe6-ca214a5b2b4e",
   "metadata": {},
   "outputs": [],
   "source": []
  }
 ],
 "metadata": {
  "kernelspec": {
   "display_name": "Python 3 (ipykernel)",
   "language": "python",
   "name": "python3"
  },
  "language_info": {
   "codemirror_mode": {
    "name": "ipython",
    "version": 3
   },
   "file_extension": ".py",
   "mimetype": "text/x-python",
   "name": "python",
   "nbconvert_exporter": "python",
   "pygments_lexer": "ipython3",
   "version": "3.11.6"
  }
 },
 "nbformat": 4,
 "nbformat_minor": 5
}
