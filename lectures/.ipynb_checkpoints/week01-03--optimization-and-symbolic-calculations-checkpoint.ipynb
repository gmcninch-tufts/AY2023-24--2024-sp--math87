{
 "cells": [
  {
   "cell_type": "markdown",
   "id": "9370c408-0db3-49bb-8c5c-f359902aa62a",
   "metadata": {},
   "source": [
    "# [George McNinch](http://gmcninch.math.tufts.edu) Math 87 - Spring 2024\n",
    "\n",
    "# § Week 1.3 - Optimization and symbolic calculations"
   ]
  },
  {
   "attachments": {},
   "cell_type": "markdown",
   "id": "a7f22aa0-3b59-4880-ab4b-95cfd6244e72",
   "metadata": {},
   "source": [
    "# Using symbolic calculations\n",
    "\n",
    "You may have been disappointed to have to do calculations with\n",
    "paper-and-pencil.\n",
    "\n",
    "Computers can *approximate* derivatives in various ways, and this can be\n",
    "useful. \n",
    "\n",
    "Sometimes computers can even do symbolic calculations. The\n",
    "effectiveness of such calculations in general is probably somewhat\n",
    "limited, but e.g. if you know anything about computer algebra systems\n",
    "(Mathematica, Matlab, …) you know that they can calculate (some)\n",
    "derivatives.\n",
    "\n",
    "Can we do the same in `python`??\n",
    "\n",
    "Of course!! I’m just going to give a sketch here.\n",
    "\n",
    "For more details about symbolic calculations in python consult the [symbolic\n",
    "mathematics package](https://www.sympy.org/en/index.html).\n"
   ]
  },
  {
   "cell_type": "markdown",
   "id": "d9a9ec4c-0abc-4290-a9d9-67370e504158",
   "metadata": {},
   "source": [
    "# A simple example\n",
    "\n",
    "Let's find and classify the critical points for the cubic polynomial\n",
    "\n",
    "$$G(t) = t^3 - 4t^2 - 5t - 2.$$"
   ]
  },
  {
   "cell_type": "code",
   "execution_count": 37,
   "id": "6d438a59-0df7-4091-9610-0b9334c51c94",
   "metadata": {},
   "outputs": [],
   "source": [
    "import sympy as sp\n",
    "sp.init_printing()\n",
    "\n",
    "tt = sp.Symbol('t') \n",
    "\n",
    "def G(t): return t**3 - 4*t**2 - 5*t - 2"
   ]
  },
  {
   "cell_type": "markdown",
   "id": "33616bbc-f439-42cc-b4af-865e9e25df9f",
   "metadata": {},
   "source": [
    "The above code created a *symbolic variable** `tt``, and defined the function $G$.\n",
    "\n",
    "We make make a *symbolic* version of the function `G`."
   ]
  },
  {
   "cell_type": "code",
   "execution_count": 24,
   "id": "81105534-abe3-4c7e-a996-968231d3fec5",
   "metadata": {},
   "outputs": [
    {
     "data": {
      "text/latex": [
       "$\\displaystyle t^{3} - 4 t^{2} - 5 t - 2$"
      ],
      "text/plain": [
       "t**3 - 4*t**2 - 5*t - 2"
      ]
     },
     "execution_count": 24,
     "metadata": {},
     "output_type": "execute_result"
    }
   ],
   "source": [
    "Gs = G(tt)\n",
    "Gs"
   ]
  },
  {
   "cell_type": "markdown",
   "id": "d2e5d0c9-a858-4bba-97f9-e9deb300bce1",
   "metadata": {},
   "source": [
    "Now we symbolically find the first and second derivative of $G$:"
   ]
  },
  {
   "cell_type": "code",
   "execution_count": 66,
   "id": "420938c1-0b3f-483c-8fe5-8d9fb420fd5b",
   "metadata": {},
   "outputs": [
    {
     "data": {
      "image/png": "[encoded data removed]",
      "text/latex": [
       "$\\displaystyle 3 t^{2} - 8 t - 5$"
      ],
      "text/plain": [
       "   2          \n",
       "3⋅t  - 8⋅t - 5"
      ]
     },
     "execution_count": 66,
     "metadata": {},
     "output_type": "execute_result"
    }
   ],
   "source": [
    "DGs = sp.diff(Gs,tt)\n",
    "DDGs = sp.diff(DGs,tt)\n",
    "\n",
    "DGs"
   ]
  },
  {
   "cell_type": "markdown",
   "id": "f8f456e3-0d75-46b6-a5a0-8543c631f413",
   "metadata": {},
   "source": [
    "Now we use the `sympy` solver to find the critical points of $G$ - i.e the *zeros* of the derivative `DGs`"
   ]
  },
  {
   "cell_type": "code",
   "execution_count": 52,
   "id": "1636c6a2-d68c-4ae4-945e-e1d9340a8d9c",
   "metadata": {},
   "outputs": [
    {
     "data": {
      "image/png": "[encoded data removed]",
      "text/latex": [
       "$\\displaystyle \\left[ \\frac{4}{3} - \\frac{\\sqrt{31}}{3}, \\  \\frac{4}{3} + \\frac{\\sqrt{31}}{3}\\right]$"
      ],
      "text/plain": [
       "⎡4   √31  4   √31⎤\n",
       "⎢─ - ───, ─ + ───⎥\n",
       "⎣3    3   3    3 ⎦"
      ]
     },
     "execution_count": 52,
     "metadata": {},
     "output_type": "execute_result"
    }
   ],
   "source": [
    "crits = sp.solve(DGs,tt)\n",
    "crits"
   ]
  },
  {
   "cell_type": "markdown",
   "id": "f833bb4c-3c7b-4912-a13f-3e820ba8ccc7",
   "metadata": {},
   "source": [
    "We make an actual function `DDG` out of the symbolic expression `DDGs` and apply this function to each critical point:"
   ]
  },
  {
   "cell_type": "code",
   "execution_count": 60,
   "id": "d4905dd7-0ee1-4fe9-8a0a-04a19358f08f",
   "metadata": {},
   "outputs": [
    {
     "data": {
      "image/png": "[encoded data removed]",
      "text/latex": [
       "$\\displaystyle \\left[ - 2 \\sqrt{31}, \\  2 \\sqrt{31}\\right]$"
      ],
      "text/plain": [
       "[-2⋅√31, 2⋅√31]"
      ]
     },
     "execution_count": 60,
     "metadata": {},
     "output_type": "execute_result"
    }
   ],
   "source": [
    "DDG = sp.lambdify(tt,DDGs)\n",
    "list(map(DDG,crits))"
   ]
  },
  {
   "cell_type": "markdown",
   "id": "9c5e1199-1406-4c25-adfd-972c9898befb",
   "metadata": {},
   "source": [
    "Since the value of `DDG` is *negative* at the first critical point, we see that $G$ has a local max at $t=\\dfrac{4}{3} - \\dfrac{\\sqrt{31}}{3}$.\n",
    "\n",
    "Similarly, $G$ has a local min at $t=\\dfrac{4}{3} +\\dfrac{\\sqrt{31}}{3}$.\n",
    "\n",
    "We confirm this with a sketch of the graph of $G$:"
   ]
  },
  {
   "cell_type": "code",
   "execution_count": 65,
   "id": "7cd3fd9e-174a-4d96-a677-f84199b5e3f3",
   "metadata": {},
   "outputs": [
    {
     "data": {
      "image/png": "[encoded data removed]",
      "text/plain": [
       "<Figure size 640x480 with 1 Axes>"
      ]
     },
     "metadata": {},
     "output_type": "display_data"
    }
   ],
   "source": [
    "import matplotlib.pyplot as plt\n",
    "import numpy as np\n",
    "\n",
    "t = np.linspace(-3,6)\n",
    "\n",
    "fig, ax = plt.subplots()  \n",
    "ax.plot(t,G(t),label=\"G\")\n",
    "\n",
    "for t in crits:\n",
    "        ax.axvline(x=t, color=\"red\", dashes=[1,4])\n"
   ]
  },
  {
   "cell_type": "markdown",
   "id": "2a3e5f73-e1e5-4b27-acd6-a85a3c4ad785",
   "metadata": {},
   "source": [
    "# Return to the \"oil spill\" problem\n",
    "\n",
    "Recall the `python` expressions for the main function of interest:\n",
    "\n",
    "-   \\$C\\_{tot}(n) \\$ `c.cost(n)`\n",
    "\n",
    "We will make a “symbolic variable” we’ll call `y`.\n",
    "\n",
    "We would like to make a symbolic version the `python` function\n",
    "`c.cost(n)` by valuation at `n=y`.\n",
    "\n",
    "Unfortunately, our definition of `c.cost(n)` involved a test of\n",
    "inequality (to decide whether the fine calculation applied). But it is\n",
    "not “legal” to test inequalities with the symbol `y`. (More precisely,\n",
    "such tests can’t be sensibly interpreted).\n",
    "\n",
    "For small enough $n$, `c.cost(n)` is equal to\n",
    "`c.crew_costs(n) + c.fine_per_day * (c.time(n)-14)`. And this latter\n",
    "expression *can* be evaluated at the symbolic variable `y`.\n",
    "\n",
    "And *sympy* permits us to symbolically differentiate the resulting\n",
    "expression:\n",
    "\n",
    "We carry this out in the next cell:\n"
   ]
  },
  {
   "cell_type": "code",
   "execution_count": 11,
   "id": "868c1292-0c3a-433e-a863-05332ed0798b",
   "metadata": {},
   "outputs": [],
   "source": [
    "%%capture\n",
    "\n",
    "%run week01-02--optimization.ipynb import *\n"
   ]
  },
  {
   "cell_type": "code",
   "execution_count": 6,
   "id": "7dbd73cd-744f-46db-99ac-da9e0fb1f89e",
   "metadata": {},
   "outputs": [
    {
     "name": "stdout",
     "output_type": "stream",
     "text": [
      "C(y) = 18000*y + 160000*y/(0.714285714285714*y + 0.714285714285714) - 140000 + 2100000/(0.714285714285714*y + 0.714285714285714)\n",
      "\n",
      "\n",
      "C'(y) = -224000.0*y/(y + 1)**2 + 18000 - 2940000.0/(y + 1)**2 + 160000/(0.714285714285714*y + 0.714285714285714)\n",
      "\n",
      "\n",
      "C''(y) = 448000.0*y/(y + 1)**3 - 448000.0/(y + 1)**2 + 5880000.0/(y + 1)**3\n",
      "\n",
      "\n"
     ]
    }
   ],
   "source": [
    "\n",
    "import sympy as sp\n",
    "c = OilSpillCleanup()\n",
    "\n",
    "y = sp.Symbol('y')    # symbolic variable\n",
    "\n",
    "def lcost(n):\n",
    "    return c.crew_costs(n) + c.fine_per_day * (c.time(n) - 14)\n",
    "\n",
    "lcost_symb = lcost(y)\n",
    "\n",
    "d_lcost_symb = sp.diff(lcost_symb,y)  # first derivative, for n<19\n",
    "dd_lcost_symb = sp.diff(d_lcost_symb,y) # second derivative, for n<19\n",
    "\n",
    "print(f\"C(y) = {lcost_symb}\\n\\n\")\n",
    "print(f\"C'(y) = {d_lcost_symb}\\n\\n\")\n",
    "print(f\"C''(y) = {dd_lcost_symb}\\n\\n\")\n"
   ]
  },
  {
   "cell_type": "markdown",
   "id": "cc4cd615-e326-47b3-a4df-552384fac771",
   "metadata": {},
   "source": [
    "Now e.g. `sympy` solvers are able to find the critical point for the\n",
    "symbolic derivative `d_lcost_symb`, as follows:\n"
   ]
  },
  {
   "cell_type": "code",
   "execution_count": 13,
   "id": "2d9d4dfb-9609-4b7e-9a65-ebdc0c761116",
   "metadata": {},
   "outputs": [
    {
     "name": "stdout",
     "output_type": "stream",
     "text": [
      "[-13.2836838484589, 11.2836838484589]\n"
     ]
    }
   ],
   "source": [
    "crits = sp.solve(d_lcost_symb,y)\n",
    "print(crits)"
   ]
  },
  {
   "cell_type": "markdown",
   "id": "704afbc0-1546-4cb7-91d3-e3b756f5e86c",
   "metadata": {},
   "source": [
    "Notice that the value of the second derivative at the positive critical point $11.28$ is positive:\n"
   ]
  },
  {
   "cell_type": "code",
   "execution_count": 16,
   "id": "a8400ffe-4e21-4483-9b83-e7dcfc286dc6",
   "metadata": {},
   "outputs": [
    {
     "data": {
      "text/latex": [
       "$\\displaystyle \\text{True}$"
      ],
      "text/plain": [
       "True"
      ]
     },
     "execution_count": 16,
     "metadata": {},
     "output_type": "execute_result"
    }
   ],
   "source": [
    "\n",
    "dd_lcost_symb.evalf(subs={y:crits[1]}) > 0\n"
   ]
  },
  {
   "cell_type": "markdown",
   "id": "60af21bb-92b9-4393-89d1-065fa129aaf6",
   "metadata": {},
   "source": [
    "This the second derivative test shows that our postive critical point of 11.28 determines a *local minimum* for the cost function.\n",
    "\n",
    "This is convenient, but to solve the problem we still require analysis\n",
    "e.g. about the interval $19 < n$ (which isn’t modeled by our symbolic\n",
    "function `lcost_symb`)."
   ]
  },
  {
   "cell_type": "code",
   "execution_count": null,
   "id": "7d0d3a62-927e-4512-b5df-968c4885429f",
   "metadata": {},
   "outputs": [],
   "source": []
  }
 ],
 "metadata": {
  "kernelspec": {
   "display_name": "Python 3 (ipykernel)",
   "language": "python",
   "name": "python3"
  },
  "language_info": {
   "codemirror_mode": {
    "name": "ipython",
    "version": 3
   },
   "file_extension": ".py",
   "mimetype": "text/x-python",
   "name": "python",
   "nbconvert_exporter": "python",
   "pygments_lexer": "ipython3",
   "version": "3.11.6"
  }
 },
 "nbformat": 4,
 "nbformat_minor": 5
}
