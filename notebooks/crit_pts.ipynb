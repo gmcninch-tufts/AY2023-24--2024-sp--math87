{
 "cells": [
  {
   "cell_type": "code",
   "execution_count": 5,
   "id": "a72335a7-5d1d-46c6-ba04-a4d5c86fc467",
   "metadata": {},
   "outputs": [
    {
     "name": "stdout",
     "output_type": "stream",
     "text": [
      "sin\n",
      " [-1.5707926535864782, 1.5708073464201515]\n",
      "cubic\n",
      " [0.42264, 1.57736]\n"
     ]
    }
   ],
   "source": [
    "import numpy as np\n",
    "\n",
    "def cubic(x):\n",
    "    return x*(x-1)*(x-2)\n",
    "    \n",
    "def crit_pts(ff,xx,tol=1E-5):\n",
    "    gg = np.gradient(ff,xx)\n",
    "    res = [ x for (x,g) in zip(xx,gg)\n",
    "            if np.abs(g)<tol ]\n",
    "    return res\n",
    "\n",
    "def crit_pts_fun(f,a,b,n,tol=1E-5):\n",
    "    xx=np.arange(a,b,1/n)\n",
    "    ff=f(xx)\n",
    "    return crit_pts(ff,xx,tol)\n",
    "\n",
    "s=crit_pts_fun(np.sin,-np.pi,np.pi,1E4,tol=5E-5)\n",
    "\n",
    "c=crit_pts_fun(cubic,0,2,5E4,tol=3.5E-5)\n",
    "\n",
    "print(f\"sin\\n {s}\")\n",
    "print(f\"cubic\\n {c}\")"
   ]
  },
  {
   "cell_type": "code",
   "execution_count": null,
   "id": "f05047ad-6642-449c-a3fa-604f9948f0a2",
   "metadata": {},
   "outputs": [],
   "source": []
  }
 ],
 "metadata": {
  "kernelspec": {
   "display_name": "Python 3 (ipykernel)",
   "language": "python",
   "name": "python3"
  },
  "language_info": {
   "codemirror_mode": {
    "name": "ipython",
    "version": 3
   },
   "file_extension": ".py",
   "mimetype": "text/x-python",
   "name": "python",
   "nbconvert_exporter": "python",
   "pygments_lexer": "ipython3",
   "version": "3.11.6"
  }
 },
 "nbformat": 4,
 "nbformat_minor": 5
}
