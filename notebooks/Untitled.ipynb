{
 "cells": [
  {
   "cell_type": "code",
   "execution_count": 1,
   "id": "243de13d-749a-4f38-b00e-988fdd413c37",
   "metadata": {},
   "outputs": [],
   "source": [
    "import numpy as np\n"
   ]
  },
  {
   "cell_type": "code",
   "execution_count": 2,
   "id": "dda67b5e-64bd-4444-8f6b-ab9b3297902a",
   "metadata": {},
   "outputs": [],
   "source": []
  },
  {
   "cell_type": "code",
   "execution_count": 124,
   "id": "a72335a7-5d1d-46c6-ba04-a4d5c86fc467",
   "metadata": {},
   "outputs": [
    {
     "name": "stdout",
     "output_type": "stream",
     "text": [
      "sin\n",
      " [-1.5707926535864782, 1.5708073464201515]\n",
      "cubic\n",
      " [0.42264, 1.57736]\n"
     ]
    }
   ],
   "source": [
    "def cubic(x):\n",
    "    return x*(x-1)*(x-2)\n",
    "    \n",
    "def crit_pts(ff,xx,tol=1E-5):\n",
    "    gg = np.gradient(ff,xx)\n",
    "    res = [ x for (x,g) in zip(xx,gg)\n",
    "            if np.abs(g)<tol ]\n",
    "    return res\n",
    "\n",
    "\n",
    "def crit_pts_fun(f,a,b,n,tol=1E-5):\n",
    "    xx=np.arange(a,b,1/n)\n",
    "    ff=f(xx)\n",
    "    return crit_pts_f(ff,xx,tol)\n",
    "\n",
    "s=crit_pts_prime(np.sin,-np.pi,np.pi,1E4,tol=5E-5)\n",
    "\n",
    "c=crit_pts_prime(cubic,0,4,5E4,tol=3.5E-5)\n",
    "\n",
    "print(f\"sin\\n {s}\")\n",
    "print(f\"cubic\\n {c}\")"
   ]
  },
  {
   "cell_type": "code",
   "execution_count": 14,
   "id": "15b37378-caae-486b-9931-435a5a7c5828",
   "metadata": {},
   "outputs": [
    {
     "name": "stdout",
     "output_type": "stream",
     "text": [
      "1e-07\n"
     ]
    }
   ],
   "source": [
    "critpt(f,-1,1,10)\n"
   ]
  },
  {
   "cell_type": "code",
   "execution_count": 56,
   "id": "f9b3dbfa-b6fe-4087-8398-deb606ae9d71",
   "metadata": {},
   "outputs": [
    {
     "data": {
      "text/plain": [
       "1.5773502691896255"
      ]
     },
     "execution_count": 56,
     "metadata": {},
     "output_type": "execute_result"
    }
   ],
   "source": [
    "(3+np.sqrt(3))/3"
   ]
  },
  {
   "cell_type": "code",
   "execution_count": 57,
   "id": "44ef6e2d-e219-4d7e-ad5f-f838ed9e3113",
   "metadata": {},
   "outputs": [
    {
     "data": {
      "text/plain": [
       "0.42264973081037427"
      ]
     },
     "execution_count": 57,
     "metadata": {},
     "output_type": "execute_result"
    }
   ],
   "source": [
    "(3-np.sqrt(3))/3"
   ]
  },
  {
   "cell_type": "code",
   "execution_count": null,
   "id": "b1d9698b-f7ec-4071-a200-612c8d96471b",
   "metadata": {},
   "outputs": [],
   "source": []
  }
 ],
 "metadata": {
  "kernelspec": {
   "display_name": "Python 3 (ipykernel)",
   "language": "python",
   "name": "python3"
  },
  "language_info": {
   "codemirror_mode": {
    "name": "ipython",
    "version": 3
   },
   "file_extension": ".py",
   "mimetype": "text/x-python",
   "name": "python",
   "nbconvert_exporter": "python",
   "pygments_lexer": "ipython3",
   "version": "3.10.12"
  }
 },
 "nbformat": 4,
 "nbformat_minor": 5
}
