{
 "cells": [
  {
   "cell_type": "code",
   "execution_count": 3,
   "id": "243de13d-749a-4f38-b00e-988fdd413c37",
   "metadata": {},
   "outputs": [],
   "source": [
    "import numpy as np\n"
   ]
  },
  {
   "cell_type": "code",
   "execution_count": 55,
   "id": "a72335a7-5d1d-46c6-ba04-a4d5c86fc467",
   "metadata": {},
   "outputs": [
    {
     "name": "stdout",
     "output_type": "stream",
     "text": [
      "sin - critical points: [-1.5708026535795026, -1.5707926535795025, 1.5707873464410786, 1.5707973464410792]\n",
      "cubic - critical points: [0.42265, 1.57735]\n"
     ]
    }
   ],
   "source": [
    "\n",
    "def crit_pts(ff,xx,tol=1E-5):\n",
    "    gg = np.gradient(ff,xx)\n",
    "    res = [ x for (x,g) in zip(xx,gg)\n",
    "            if np.abs(g)<tol ]\n",
    "    return res\n",
    "\n",
    "\n",
    "def crit_pts_fun(f,a,b,n,tol=1E-5):\n",
    "    xx=np.arange(a,b,1/n)\n",
    "    ff=f(xx)\n",
    "    return crit_pts(ff,xx,tol)\n",
    "\n",
    "s=crit_pts_fun(np.sin,-np.pi,np.pi,1E5)\n",
    "\n",
    "c=crit_pts_fun(cubic,0,4,1E5)\n",
    "\n",
    "print(f\"sin - critical points: {s}\")\n",
    "print(f\"cubic - critical points: {c}\")"
   ]
  },
  {
   "cell_type": "code",
   "execution_count": 53,
   "id": "a21b442c-2877-4842-bf9b-21d7febfffdb",
   "metadata": {},
   "outputs": [
    {
     "data": {
      "text/plain": [
       "[-0.5226000000001627, 3.1891999999994285]"
      ]
     },
     "execution_count": 53,
     "metadata": {},
     "output_type": "execute_result"
    }
   ],
   "source": [
    "def G(t): return t**3 - 4*t**2 - 5*t - 2\n",
    "\n",
    "crit_pts_fun(G,-2,6,5E3,tol=1E-3)"
   ]
  },
  {
   "cell_type": "code",
   "execution_count": 62,
   "id": "dd1a4780-b59f-454b-afc1-f34bf4bdbd43",
   "metadata": {},
   "outputs": [
    {
     "data": {
      "text/plain": [
       "[-2.199092653587804,\n",
       " -1.5707926535864782,\n",
       " -0.9424926535851523,\n",
       " -0.3141926535838264,\n",
       " 0.9425073464188252,\n",
       " 1.5708073464201515,\n",
       " 2.199107346421478,\n",
       " 2.8274073464228033]"
      ]
     },
     "execution_count": 62,
     "metadata": {},
     "output_type": "execute_result"
    }
   ],
   "source": [
    "def H(t): return np.sin(5*t) \n",
    "\n",
    "crit_pts_fun(H,-np.pi,np.pi,1E4,tol=1E-3)"
   ]
  },
  {
   "cell_type": "code",
   "execution_count": 4,
   "id": "167afc84-161c-4a31-9d71-354cb7791a54",
   "metadata": {},
   "outputs": [],
   "source": [
    "%%capture\n",
    "\n",
    "%run week01-02--optimization.ipynb import *"
   ]
  },
  {
   "cell_type": "code",
   "execution_count": 81,
   "id": "a215eca9-1648-42e3-8366-a02bd6a99f6c",
   "metadata": {},
   "outputs": [
    {
     "data": {
      "text/plain": [
       "[11.28368]"
      ]
     },
     "execution_count": 81,
     "metadata": {},
     "output_type": "execute_result"
    }
   ],
   "source": [
    "c = OilSpillCleanup()\n",
    "\n",
    "f = np.vectorize(c.cost)\n",
    "\n",
    "res=crit_pts_fun(f,0,19,1E5,1.5E-2)\n",
    "res"
   ]
  },
  {
   "cell_type": "code",
   "execution_count": null,
   "id": "9c2672c8-c794-4f39-a038-218cff5fb22e",
   "metadata": {},
   "outputs": [],
   "source": []
  }
 ],
 "metadata": {
  "kernelspec": {
   "display_name": "Python 3 (ipykernel)",
   "language": "python",
   "name": "python3"
  },
  "language_info": {
   "codemirror_mode": {
    "name": "ipython",
    "version": 3
   },
   "file_extension": ".py",
   "mimetype": "text/x-python",
   "name": "python",
   "nbconvert_exporter": "python",
   "pygments_lexer": "ipython3",
   "version": "3.11.6"
  }
 },
 "nbformat": 4,
 "nbformat_minor": 5
}
