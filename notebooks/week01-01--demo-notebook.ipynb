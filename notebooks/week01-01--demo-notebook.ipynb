{
 "cells": [
  {
   "cell_type": "markdown",
   "metadata": {},
   "source": [
    "This notebook is intended to illustrate some features of [**jupyter**\n",
    "notebooks](https://jupyter.org/).\n",
    "\n",
    "For the most part, materials for this course will be presented in the\n",
    "form of notebooks like this one.\n",
    "\n",
    "You can view notebooks on\n",
    "[colab](https://colab.research.google.com/notebooks/intro.ipynb) or you\n",
    "can install some software on your own computer and view/edit notebooks\n",
    "there; there is discussion of installation on the [course web\n",
    "site](https://gmcninch-tufts.github.io/math87-fall2020/) – in\n",
    "particular, the [“python & jupyter resources\n",
    "information”](https://gmcninch-tufts.github.io/math87-fall2020/course-info/03e-resources--python-and-jupyter.html)\n",
    "page."
   ],
   "id": "55c90f65-0838-4d26-ae2f-53f714a3f816"
  },
  {
   "cell_type": "markdown",
   "metadata": {},
   "source": [
    "# Mathematical typesetting\n",
    "\n",
    "Jupyter notebooks contain text (like this) but also they can contain\n",
    "*mathematical symbols*; for example: $$\\int_{-\\infty}^\\infty f(x) dx =\n",
    "0 \\quad \\text{or} \\quad \\begin{bmatrix} \\alpha & \\beta \\\\ \\gamma &\n",
    "\\delta \\end{bmatrix}$$\n",
    "\n",
    "If you are interested in what is going on “under the hood”, text is\n",
    "entered using `markdown` syntax which is converted to `html` and\n",
    "displayed in your browser."
   ],
   "id": "038ba912-43f1-4e37-b8f9-a1d59676800f"
  },
  {
   "cell_type": "markdown",
   "metadata": {},
   "source": [
    "# Markdown and MathJax\n",
    "\n",
    "You can see the `markdown` underlying what you are reading now by\n",
    "“double clicking”\n",
    "\n",
    "You can read about [markdown syntax starting from\n",
    "here](https://en.wikipedia.org/wiki/Markdown), though there shouldn’t be\n",
    "a need for you to write markdown for our course.\n",
    "\n",
    "The mathematical typeset appears thanks to an *extension* to\n",
    "markdown/html called [**MathJax**](https://www.mathjax.org/); again, you\n",
    "don’t really need to know details about mathjax. But it is worth knowing\n",
    "that the syntax is the same as `LaTeX`."
   ],
   "id": "4ad91b1a-c69b-4672-838a-8e9ac0cbe5ca"
  },
  {
   "cell_type": "markdown",
   "metadata": {},
   "source": [
    "# Under the hood?\n",
    "\n",
    "If you are *curious*, you can see the markdown/mathjax that was used to\n",
    "create the text you are reading currently.\n",
    "\n",
    "First, notice that there is a “boxed region” containing this text - in\n",
    "the parlance of `jupyter` notebooks, that region is called a `cell`. If\n",
    "you click with the mouse pointer on this text, that `cell` receives\n",
    "`focus`.\n",
    "\n",
    "Now that you’ve focussed on this cell, you can get at the underlying\n",
    "`code` in a couple of ways:\n",
    "\n",
    "-   probably the simplest is to just double-click with the mouse inside\n",
    "    the cell. In order to return to normal viewing, press\n",
    "    shift-\\[enter\\]\n",
    "\n",
    "-   in `colab`, you can click the right-hand mouse button to get a menu\n",
    "    of options - then choose “Edit”\n",
    "\n",
    "-   in `jupyter` lab/notebook, there are some key sequences that enable\n",
    "    editing, but I think I won’t go into those details for now.\n",
    "    “double-click” should always work…"
   ],
   "id": "3844221a-dd0c-456b-a0d5-26ec91142ea0"
  },
  {
   "cell_type": "markdown",
   "metadata": {},
   "source": [
    "# Code!\n",
    "\n",
    "More importantly, `jupyter` permits you to view and evaluate `code`. For\n",
    "this course, we’ll always use code in the `python` (specifically:\n",
    "`python3`) language, but other possibilities are available.\n",
    "\n",
    "Remember the `cells` that we mentioned above? Well, there are a few\n",
    "types of cells. One is called a `markdown` cell, and such cells contain\n",
    "text (and mathematics) for reading. Another is called a `code cell`, and\n",
    "it contains (in this case) `python` code.\n",
    "\n",
    "The next cell is an example of a `code cell`."
   ],
   "id": "9d5b9df7-c745-4cf9-88eb-d2452a27f0f4"
  },
  {
   "cell_type": "code",
   "execution_count": null,
   "metadata": {},
   "outputs": [],
   "source": [
    "from math import sin,cos\n",
    "\n",
    "def g(x):\n",
    "    return sin(x)**2 + cos(x)**2\n",
    "\n",
    "def h(x):\n",
    "    return sin(x)**2 - cos(x)**2\n",
    "\n",
    "for i in range(10):\n",
    "    print(f\"{i} - {g(i):.5f} - {h(i):.5f}\")"
   ],
   "id": "c2b1738d-235c-4f24-95d6-c9b13401bbf6"
  },
  {
   "cell_type": "markdown",
   "metadata": {},
   "source": [
    "To execute the contents of a `code cell`, type \\[shift\\]-\\[enter\\] while\n",
    "that cell has the focus. If the code in the cell produced `output`, code\n",
    "execution will result in a new cell containing that output.\n",
    "\n",
    "Code in later code-cells will \\`\\`remember’’ definitions from earlier\n",
    "cells."
   ],
   "id": "62c8620d-4777-4914-99a3-16afa8d6042c"
  },
  {
   "cell_type": "code",
   "execution_count": null,
   "metadata": {},
   "outputs": [],
   "source": [
    "print(h(3))"
   ],
   "id": "d2fb80a4-da79-4447-8997-576dd7f593b0"
  }
 ],
 "nbformat": 4,
 "nbformat_minor": 5,
 "metadata": {
  "jupytext": {
   "text_representation": {
    "extension": ".md",
    "format_name": "markdown",
    "format_version": "1.2",
    "jupytext_version": "1.6.0"
   }
  },
  "kernelspec": {
   "name": "python3",
   "display_name": "Python 3",
   "language": "python"
  },
  "language_info": {
   "name": "python",
   "codemirror_mode": {
    "name": "ipython",
    "version": "2"
   },
   "file_extension": ".py",
   "mimetype": "text/x-python",
   "nbconvert_exporter": "python",
   "pygments_lexer": "ipython2",
   "version": "2.7.15"
  }
 }
}
