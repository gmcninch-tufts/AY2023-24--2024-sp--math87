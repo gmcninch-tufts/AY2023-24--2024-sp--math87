{
 "cells": [
  {
   "cell_type": "markdown",
   "id": "9370c408-0db3-49bb-8c5c-f359902aa62a",
   "metadata": {},
   "source": [
    "# [George McNinch](http://gmcninch.math.tufts.edu) Math 87 - Spring 2024\n",
    "\n",
    "# § Week 1.3\n",
    "\n",
    "# Optimization & derivatives of functions"
   ]
  },
  {
   "attachments": {},
   "cell_type": "markdown",
   "id": "a7f22aa0-3b59-4880-ab4b-95cfd6244e72",
   "metadata": {},
   "source": [
    "# Using code to calculate derivatives\n",
    "\n",
    "In our discussion of the `oil spill` problem, you may have been disappointed to have to do calculations with paper-and-pencil.\n",
    "\n",
    "There are two possible ways around this, which I'd like to discuss briefly (with examples).\n",
    "\n",
    "- We can use software for symbolic calculation of derivatives.\n",
    "\n",
    "- Alternatively, we can *numerically approximate* derivatives. \n",
    "\n",
    "This `notebook` will discuss these possibilities. For each method, we first treat some simple examples, and then we apply the method to the `oil spill` problem."
   ]
  },
  {
   "cell_type": "markdown",
   "id": "d8c6c55e-e921-43ac-8e81-10b63c28e4dd",
   "metadata": {},
   "source": [
    "# Symbolic calculations\n",
    "\n",
    "First, let's investige how `python` can make symbolic calculations using the `sympy` package.\n",
    "\n",
    "\n",
    "For more details about symbolic calculations in python consult the [symbolic\n",
    "mathematics package](https://www.sympy.org/en/index.html).\n",
    "\n"
   ]
  },
  {
   "cell_type": "markdown",
   "id": "d9a9ec4c-0abc-4290-a9d9-67370e504158",
   "metadata": {},
   "source": [
    "## A simple example\n",
    "\n",
    "Let's find and classify the critical points for the cubic polynomial\n",
    "\n",
    "$$G(t) = t^3 - 4t^2 - 5t - 2.$$"
   ]
  },
  {
   "cell_type": "markdown",
   "id": "33616bbc-f439-42cc-b4af-865e9e25df9f",
   "metadata": {},
   "source": [
    "Let's import the `sympy` package, and declare `tt` to be a *symbol*:"
   ]
  },
  {
   "cell_type": "code",
   "execution_count": 1,
   "id": "6d438a59-0df7-4091-9610-0b9334c51c94",
   "metadata": {},
   "outputs": [],
   "source": [
    "import sympy as sp\n",
    "sp.init_printing()\n",
    "\n",
    "tt = sp.Symbol('t') "
   ]
  },
  {
   "cell_type": "markdown",
   "id": "3b42aee5-80b1-41bc-82cf-03348d6a1874",
   "metadata": {},
   "source": [
    "We now define the function $G$, and we create a corresponding *symbolic* version of $G$ by evaluating the function $G$ at the symbol `tt`."
   ]
  },
  {
   "cell_type": "code",
   "execution_count": 2,
   "id": "81105534-abe3-4c7e-a996-968231d3fec5",
   "metadata": {},
   "outputs": [
    {
     "data": {
      "image/png": "[encoded data removed]",
      "text/latex": [
       "$\\displaystyle t^{3} - 4 t^{2} - 5 t - 2$"
      ],
      "text/plain": [
       " 3      2          \n",
       "t  - 4⋅t  - 5⋅t - 2"
      ]
     },
     "execution_count": 2,
     "metadata": {},
     "output_type": "execute_result"
    }
   ],
   "source": [
    "def G(t): return t**3 - 4*t**2 - 5*t - 2\n",
    "    \n",
    "Gs = G(tt)\n",
    "Gs"
   ]
  },
  {
   "cell_type": "markdown",
   "id": "d2e5d0c9-a858-4bba-97f9-e9deb300bce1",
   "metadata": {},
   "source": [
    "Now we symbolically find the first and second derivative of $G$, using\n",
    "the function `diff` from the `sympy` package:"
   ]
  },
  {
   "cell_type": "code",
   "execution_count": 3,
   "id": "420938c1-0b3f-483c-8fe5-8d9fb420fd5b",
   "metadata": {},
   "outputs": [],
   "source": [
    "DGs = sp.diff(Gs,tt)           # first derivative\n",
    "DDGs = sp.diff(DGs,tt)         # second derivative"
   ]
  },
  {
   "cell_type": "markdown",
   "id": "723d4032-6164-4281-acf7-622096edc7ff",
   "metadata": {},
   "source": [
    "For example, we can see the first derivative:"
   ]
  },
  {
   "cell_type": "code",
   "execution_count": 4,
   "id": "a7bc13b2-6334-47b9-ae0c-15fe776e3501",
   "metadata": {},
   "outputs": [
    {
     "data": {
      "image/png": "[encoded data removed]",
      "text/latex": [
       "$\\displaystyle 3 t^{2} - 8 t - 5$"
      ],
      "text/plain": [
       "   2          \n",
       "3⋅t  - 8⋅t - 5"
      ]
     },
     "execution_count": 4,
     "metadata": {},
     "output_type": "execute_result"
    }
   ],
   "source": [
    "DGs"
   ]
  },
  {
   "cell_type": "markdown",
   "id": "f8f456e3-0d75-46b6-a5a0-8543c631f413",
   "metadata": {},
   "source": [
    "Now we use the `sympy` solver to find the critical points of $G$ - i.e the solutions of the equation `DGs == 0`"
   ]
  },
  {
   "cell_type": "code",
   "execution_count": 5,
   "id": "1636c6a2-d68c-4ae4-945e-e1d9340a8d9c",
   "metadata": {},
   "outputs": [
    {
     "data": {
      "image/png": "[encoded data removed]",
      "text/latex": [
       "$\\displaystyle \\left[ \\frac{4}{3} - \\frac{\\sqrt{31}}{3}, \\  \\frac{4}{3} + \\frac{\\sqrt{31}}{3}\\right]$"
      ],
      "text/plain": [
       "⎡4   √31  4   √31⎤\n",
       "⎢─ - ───, ─ + ───⎥\n",
       "⎣3    3   3    3 ⎦"
      ]
     },
     "execution_count": 5,
     "metadata": {},
     "output_type": "execute_result"
    }
   ],
   "source": [
    "crits = sp.solve(DGs,tt)\n",
    "crits"
   ]
  },
  {
   "cell_type": "code",
   "execution_count": 7,
   "id": "c4887e3a-e3a4-4a2d-881d-01c9f1bacbbd",
   "metadata": {},
   "outputs": [
    {
     "data": {
      "image/png": "[encoded data removed]",
      "text/latex": [
       "$\\displaystyle \\left[ -0.522588120943341, \\  3.18925478761001\\right]$"
      ],
      "text/plain": [
       "[-0.522588120943341, 3.18925478761001]"
      ]
     },
     "execution_count": 7,
     "metadata": {},
     "output_type": "execute_result"
    }
   ],
   "source": [
    "list(map(lambda c: c.evalf(),crits))\n"
   ]
  },
  {
   "cell_type": "markdown",
   "id": "f833bb4c-3c7b-4912-a13f-3e820ba8ccc7",
   "metadata": {},
   "source": [
    "Using the fuction `lambdify`, we make an actual function `DDG` out of the symbolic expression `DDGs` and apply this function to each critical point:"
   ]
  },
  {
   "cell_type": "code",
   "execution_count": null,
   "id": "d4905dd7-0ee1-4fe9-8a0a-04a19358f08f",
   "metadata": {},
   "outputs": [],
   "source": [
    "DDG = sp.lambdify(tt,DDGs)\n",
    "list(map(DDG,crits))"
   ]
  },
  {
   "cell_type": "markdown",
   "id": "9c5e1199-1406-4c25-adfd-972c9898befb",
   "metadata": {},
   "source": [
    "Since the value of `DDG` is *negative* at the first critical point, we see that $G$ has a local max at $t=\\dfrac{4}{3} - \\dfrac{\\sqrt{31}}{3}$.\n",
    "\n",
    "Similarly, $G$ has a local min at $t=\\dfrac{4}{3} +\\dfrac{\\sqrt{31}}{3}$.\n",
    "\n",
    "We confirm this with a sketch of the graph of $G$:"
   ]
  },
  {
   "cell_type": "code",
   "execution_count": null,
   "id": "7cd3fd9e-174a-4d96-a677-f84199b5e3f3",
   "metadata": {},
   "outputs": [],
   "source": [
    "import matplotlib.pyplot as plt\n",
    "import numpy as np\n",
    "\n",
    "t = np.linspace(-3,6)\n",
    "\n",
    "fig, ax = plt.subplots()  \n",
    "ax.plot(t,G(t),label=\"G\")\n",
    "\n",
    "for t in crits:\n",
    "        ax.axvline(x=t, color=\"red\", dashes=[1,4])\n"
   ]
  },
  {
   "cell_type": "markdown",
   "id": "63cddc08-9c69-4e63-af5d-07ce384148b6",
   "metadata": {},
   "source": [
    "## A trig example\n",
    "\n",
    "Let $H1(t) = \\sin(5t)$ and $H2(t) = \\sin(5t + 3\\pi/8)$. Let's classify the critical points of $H1(t)$ and $H2(t)$ on the interval $[-\\pi,\\pi]$.\n",
    "\n",
    "This time, we use the `sin` function from the `sympy` library."
   ]
  },
  {
   "cell_type": "code",
   "execution_count": null,
   "id": "1091b541-0211-4290-a03d-f578dbf06fc2",
   "metadata": {},
   "outputs": [],
   "source": [
    "import sympy as sp\n",
    "sp.init_printing()\n",
    "\n",
    "tt = sp.Symbol('t') \n",
    "\n",
    "H1s = sp.sin(5*tt)\n",
    "\n",
    "H2s = sp.sin(5*tt + 3*sp.S.Pi/8)"
   ]
  },
  {
   "cell_type": "code",
   "execution_count": null,
   "id": "edd482ef-d732-4f7a-ba29-6a2400de4cac",
   "metadata": {},
   "outputs": [],
   "source": [
    "DH1s = sp.diff(H1s)\n",
    "DH1s"
   ]
  },
  {
   "cell_type": "code",
   "execution_count": null,
   "id": "70ca2619-96b9-45d7-b6d9-7f780b6e6a05",
   "metadata": {},
   "outputs": [],
   "source": [
    "DH2s = sp.diff(H2s)\n",
    "DH2s"
   ]
  },
  {
   "cell_type": "code",
   "execution_count": null,
   "id": "db1c165b-696f-4c7a-a9be-b23aae6c6614",
   "metadata": {},
   "outputs": [],
   "source": [
    "DDH1s = sp.diff(DH1s)\n",
    "DDH1s"
   ]
  },
  {
   "cell_type": "code",
   "execution_count": null,
   "id": "1ca44d6c-3e46-485a-905d-8c8f0b9e5701",
   "metadata": {},
   "outputs": [],
   "source": [
    "DDH2s = sp.diff(DH2s)\n",
    "DDH2s"
   ]
  },
  {
   "cell_type": "markdown",
   "id": "a1c7d04c-8a12-4dc8-960f-35636f3d38b8",
   "metadata": {},
   "source": [
    "Now, we want to find the critical points in the interval $[-\\pi,\\pi]$. For this, we first\n",
    "define this `interval` and use the `solveset` function to find the solutions to `DHs==0` on this interval:"
   ]
  },
  {
   "cell_type": "code",
   "execution_count": null,
   "id": "51de2160-1a06-4922-a8d6-fdc2639929f7",
   "metadata": {},
   "outputs": [],
   "source": [
    "int = sp.sets.sets.Interval(-np.pi,np.pi)\n",
    "\n",
    "crits1 = sp.solveset(DH1s,tt,domain=int)\n",
    "list(crits1)"
   ]
  },
  {
   "cell_type": "code",
   "execution_count": null,
   "id": "a773e568-a605-4572-b413-8ebc6ac63863",
   "metadata": {},
   "outputs": [],
   "source": [
    "crits2 = sp.solveset(DH2s,tt,domain=int)\n",
    "crits2"
   ]
  },
  {
   "cell_type": "markdown",
   "id": "c5cc6fcd-b673-466d-96d0-bc8c4faefcf2",
   "metadata": {},
   "source": [
    "We now use the second derivative test to classify the critical points as a (local) `min` or `max`"
   ]
  },
  {
   "cell_type": "code",
   "execution_count": null,
   "id": "a693c257-138d-45f3-873a-94588517bcb4",
   "metadata": {},
   "outputs": [],
   "source": [
    "def classify(DD,cp): \n",
    "    if DD.subs(tt,cp)>0:\n",
    "        return \"min\"\n",
    "    elif DD.subs(tt,cp)<0:\n",
    "        return \"max\"\n",
    "    else: return \"inconclusive\"\n",
    "\n",
    "list(map(lambda x: (x,classify(DDH1s,x)),crits1.evalf()))\n"
   ]
  },
  {
   "cell_type": "code",
   "execution_count": null,
   "id": "16b074b4-680c-40b6-aa15-3b4c3f298f96",
   "metadata": {},
   "outputs": [],
   "source": [
    "results = list(map(lambda x: (x,classify(DDH2s,x)),crits2.evalf()))\n",
    "results"
   ]
  },
  {
   "cell_type": "markdown",
   "id": "dcfbb3c8-bd4a-4a15-bc14-25108c125739",
   "metadata": {},
   "source": [
    "Let's confirm our classification using graphs:"
   ]
  },
  {
   "cell_type": "code",
   "execution_count": null,
   "id": "d37ed067-78a0-4d05-9089-b01547ee175b",
   "metadata": {},
   "outputs": [],
   "source": [
    "import matplotlib.pyplot as plt\n",
    "import numpy as np\n",
    "\n",
    "tl = np.linspace(-np.pi,np.pi,200)\n",
    "\n",
    "def H1(t): return np.sin(5*t)\n",
    "def H2(t): return np.sin(5*t + 3*np.pi/8)\n",
    "\n",
    "fig, ax = plt.subplots()  \n",
    "ax.set_title(\"Graph of H1(t) = sin(5t)\")\n",
    "ax.plot(tl,H1(tl),label=\"H1\")\n",
    "\n",
    "for t in crits1:\n",
    "        ax.axvline(x=t, color=\"red\", dashes=[1,4])"
   ]
  },
  {
   "cell_type": "code",
   "execution_count": null,
   "id": "9057983a-c662-4e7f-a7d1-7799100b2cd5",
   "metadata": {},
   "outputs": [],
   "source": [
    "fig, ax = plt.subplots()  \n",
    "ax.plot(tl,H2(tl),label=\"H2\")\n",
    "ax.set_title(\"Graph of H2(t) = sin(5t + 3pi/8)\")\n",
    "\n",
    "for t in crits2:\n",
    "        ax.axvline(x=t, color=\"red\", dashes=[1,4])\n"
   ]
  },
  {
   "cell_type": "markdown",
   "id": "2a3e5f73-e1e5-4b27-acd6-a85a3c4ad785",
   "metadata": {},
   "source": [
    "## Return to the \"oil spill\" problem\n",
    "\n",
    "Recall the `python` expressions for the main function of interest:\n",
    "\n",
    "-   \\$C\\_{tot}(n) \\$ `c.cost(n)`\n",
    "\n",
    "We will make a “symbolic variable” we’ll call `y`.\n",
    "\n",
    "We would like to make a symbolic version the `python` function\n",
    "`c.cost(n)` by valuation at `n=y`.\n",
    "\n",
    "Unfortunately, our definition of `c.cost(n)` involved a test of\n",
    "inequality (to decide whether the fine calculation applied). But it is\n",
    "not “legal” to test inequalities with the symbol `y`. (More precisely,\n",
    "such tests can’t be sensibly interpreted).\n",
    "\n",
    "For small enough $n$, `c.cost(n)` is equal to\n",
    "`c.crew_costs(n) + c.fine_per_day * (c.time(n)-14)`. And this latter\n",
    "expression *can* be evaluated at the symbolic variable `y`.\n",
    "\n",
    "And *sympy* permits us to symbolically differentiate the resulting\n",
    "expression:\n",
    "\n",
    "In the next cell, we load the *definitions* from the `oil spill` notebook."
   ]
  },
  {
   "cell_type": "code",
   "execution_count": null,
   "id": "868c1292-0c3a-433e-a863-05332ed0798b",
   "metadata": {},
   "outputs": [],
   "source": [
    "%%capture\n",
    "\n",
    "%run week01-02--optimization.ipynb import *\n"
   ]
  },
  {
   "cell_type": "code",
   "execution_count": null,
   "id": "7dbd73cd-744f-46db-99ac-da9e0fb1f89e",
   "metadata": {},
   "outputs": [],
   "source": [
    "\n",
    "import sympy as sp\n",
    "sp.init_printing()\n",
    "\n",
    "c = OilSpillCleanup()\n",
    "\n",
    "y = sp.Symbol('y')    # symbolic variable\n",
    "\n",
    "def lcost(n):\n",
    "    return c.crew_costs(n) + c.fine_per_day * (c.time(n) - 14)\n",
    "\n",
    "lcost_symb = lcost(y)\n",
    "D_lcost_symb = sp.diff(lcost_symb,y)  # first derivative, for n<19\n",
    "DD_lcost_symb = sp.diff(D_lcost_symb,y) # second derivative, for n<19\n",
    "\n",
    "lcost_symb"
   ]
  },
  {
   "cell_type": "code",
   "execution_count": null,
   "id": "05590baa-42c2-4b22-b1ea-1b86825579aa",
   "metadata": {},
   "outputs": [],
   "source": [
    "D_lcost_symb"
   ]
  },
  {
   "cell_type": "code",
   "execution_count": null,
   "id": "40eb970d-f100-469b-8ab4-fe022cea70c2",
   "metadata": {},
   "outputs": [],
   "source": [
    "DD_lcost_symb"
   ]
  },
  {
   "cell_type": "markdown",
   "id": "cc4cd615-e326-47b3-a4df-552384fac771",
   "metadata": {},
   "source": [
    "Now e.g. `sympy` solvers are able to find the critical point for the\n",
    "symbolic derivative `D_lcost_symb`, as follows:\n"
   ]
  },
  {
   "cell_type": "code",
   "execution_count": null,
   "id": "2d9d4dfb-9609-4b7e-9a65-ebdc0c761116",
   "metadata": {},
   "outputs": [],
   "source": [
    "crits = sp.solve(D_lcost_symb,y)\n",
    "print(crits)"
   ]
  },
  {
   "cell_type": "markdown",
   "id": "704afbc0-1546-4cb7-91d3-e3b756f5e86c",
   "metadata": {},
   "source": [
    "Notice that the value of the second derivative at the positive critical point $11.28$ is positive:\n"
   ]
  },
  {
   "cell_type": "code",
   "execution_count": null,
   "id": "a8400ffe-4e21-4483-9b83-e7dcfc286dc6",
   "metadata": {},
   "outputs": [],
   "source": [
    "DD_lcost = sp.lambdify(y,DD_lcost_symb)\n",
    "\n",
    "DD_lcost(crits[1])>0\n"
   ]
  },
  {
   "cell_type": "markdown",
   "id": "60af21bb-92b9-4393-89d1-065fa129aaf6",
   "metadata": {},
   "source": [
    "This the second derivative test shows that our postive critical point of 11.28 determines a *local minimum* for the cost function; this is the conclusion we came to previously.\n",
    "\n",
    "Note that this symbolic method doesn't completely solve the problem: we still require analysis\n",
    "about the interval $19 < n$ (where the cost function isn’t modeled by our symbolic function `lcost_symb`)."
   ]
  },
  {
   "cell_type": "markdown",
   "id": "025f9490-7663-4d32-9ec4-88edd7fde59b",
   "metadata": {},
   "source": [
    "# Numerical calculations\n",
    "\n",
    "In another direction, rather than relying on symbolic calculations, we can use numerical methods to approximate derivatives.\n",
    "\n",
    "Let's see what this might look like. We import the `numpy` package, and define some functions to extract critical points. These functions depend on the `numpy` function\n",
    "`gradient` which - in the case of a function of a single variable - approximates the derivative."
   ]
  },
  {
   "cell_type": "code",
   "execution_count": 9,
   "id": "0ad5e8ef-5867-499a-9d34-55f0fd9697d6",
   "metadata": {},
   "outputs": [],
   "source": [
    "import numpy as np\n",
    "\n",
    "def crit_pts(ff,xx,tol=1E-5):\n",
    "    gg = np.gradient(ff,xx)\n",
    "    res = [ x for (x,g) in zip(xx,gg)\n",
    "            if np.abs(g)<tol ]\n",
    "    return res\n",
    "\n",
    "def crit_pts_fun(f,a,b,n,tol=1E-5):\n",
    "    xx=np.arange(a,b,1/n)\n",
    "    ff=f(xx)\n",
    "    return crit_pts(ff,xx,tol)\n",
    "    "
   ]
  },
  {
   "cell_type": "markdown",
   "id": "339d1c31-dadc-4d43-a8ce-a642837b8dfb",
   "metadata": {},
   "source": [
    "Let use these functions on our cubic polynomial $G(t)$ from above.\n",
    "Remember that the `sympy` solve found the critical points to be\n",
    "$\\dfrac{4}{3} \\pm \\dfrac{\\sqrt{31}}{3}$."
   ]
  },
  {
   "cell_type": "code",
   "execution_count": 10,
   "id": "d1ea771b-87f0-40f6-8e3a-09ea1f7fd31a",
   "metadata": {},
   "outputs": [
    {
     "data": {
      "image/png": "[encoded data removed]",
      "text/latex": [
       "$\\displaystyle \\left[ -0.522600000000163, \\  3.18919999999943\\right]$"
      ],
      "text/plain": [
       "[-0.5226000000001627, 3.1891999999994285]"
      ]
     },
     "execution_count": 10,
     "metadata": {},
     "output_type": "execute_result"
    }
   ],
   "source": [
    "def G(t): return t**3 - 4*t**2 - 5*t - 2\n",
    "\n",
    "crit_pts_fun(G,-2,6,5E3,tol=1E-3)"
   ]
  },
  {
   "cell_type": "markdown",
   "id": "a7089ab3-fb59-459a-a5c1-f3019c9ab3f0",
   "metadata": {},
   "source": [
    "Compare with:"
   ]
  },
  {
   "cell_type": "code",
   "execution_count": 12,
   "id": "9179e3c1-6fda-47b2-9bab-9fae26509fdf",
   "metadata": {},
   "outputs": [
    {
     "data": {
      "image/png": "[encoded data removed]",
      "text/latex": [
       "$\\displaystyle \\left[ -0.522588120943341, \\  3.18925478761001\\right]$"
      ],
      "text/plain": [
       "[-0.5225881209433405, 3.189254787610007]"
      ]
     },
     "execution_count": 12,
     "metadata": {},
     "output_type": "execute_result"
    }
   ],
   "source": [
    "[4/3 - np.sqrt(31)/3,4/3 + np.sqrt(31)/3]"
   ]
  },
  {
   "cell_type": "markdown",
   "id": "a972ad55-21bc-4ecd-945c-da3be6125eb0",
   "metadata": {},
   "source": [
    "**But**: if we change the tolerances in the argument to `crit_pts_fun`, we get redundant critical points, or we miss critical points."
   ]
  },
  {
   "cell_type": "code",
   "execution_count": 22,
   "id": "f6b48135-7ed6-42e9-ba78-108faf6a7ec2",
   "metadata": {},
   "outputs": [
    {
     "data": {
      "image/png": "[encoded data removed]",
      "text/latex": [
       "$\\displaystyle \\left[ -0.523000000000163, \\  -0.522800000000163, \\  -0.522600000000163, \\  -0.522400000000163, \\  -0.522200000000163, \\  3.18899999999943, \\  3.18919999999943, \\  3.18939999999943, \\  3.18959999999943\\right]$"
      ],
      "text/plain": [
       "[-0.5230000000001627, -0.5228000000001627, -0.5226000000001627, -0.5224000000001627, -0.52220000000016\n",
       "28, 3.188999999999428, 3.1891999999994285, 3.189399999999429, 3.1895999999994284]"
      ]
     },
     "execution_count": 22,
     "metadata": {},
     "output_type": "execute_result"
    }
   ],
   "source": [
    "crit_pts_fun(G,-2,6,5E3,tol=5E-3)"
   ]
  },
  {
   "cell_type": "code",
   "execution_count": 23,
   "id": "9a3eadb8-04e0-4a45-97ee-a66d62c0649e",
   "metadata": {},
   "outputs": [
    {
     "data": {
      "image/png": "[encoded data removed]",
      "text/latex": [
       "$\\displaystyle \\left[ \\right]$"
      ],
      "text/plain": [
       "[]"
      ]
     },
     "execution_count": 23,
     "metadata": {},
     "output_type": "execute_result"
    }
   ],
   "source": [
    "crit_pts_fun(G,-2,6,5E3,tol=1E-4)"
   ]
  },
  {
   "cell_type": "markdown",
   "id": "9c5942e4-3aab-404e-9ae8-e069aefec84e",
   "metadata": {},
   "source": [
    "Let's return to our `oil spill` problem. "
   ]
  },
  {
   "cell_type": "code",
   "execution_count": 19,
   "id": "168729e5-9bdb-494b-9721-c01c1bd522c0",
   "metadata": {},
   "outputs": [],
   "source": [
    "%%capture\n",
    "\n",
    "%run week01-01--optimization.ipynb import *"
   ]
  },
  {
   "cell_type": "markdown",
   "id": "f538e286-ab4b-4421-b28f-32d6e51ba632",
   "metadata": {},
   "source": [
    "If we make good choices of tolerances, we can get a pretty good estimate for the critical point of the cost function:"
   ]
  },
  {
   "cell_type": "code",
   "execution_count": 32,
   "id": "9dcfe343-57fc-464d-9284-b32188e95b79",
   "metadata": {},
   "outputs": [
    {
     "data": {
      "image/png": "[encoded data removed]",
      "text/latex": [
       "$\\displaystyle \\left[ 11.2837\\right]$"
      ],
      "text/plain": [
       "[11.283700000000001]"
      ]
     },
     "execution_count": 32,
     "metadata": {},
     "output_type": "execute_result"
    }
   ],
   "source": [
    "c = OilSpillCleanup()\n",
    "\n",
    "f = np.vectorize(c.cost)\n",
    "\n",
    "res=crit_pts_fun(f,0,19,1E4,1E-1)\n",
    "res"
   ]
  },
  {
   "cell_type": "markdown",
   "id": "933fe3c5-bbbc-454d-b9a7-08f074859fa3",
   "metadata": {},
   "source": [
    "But in some sense, this required us to already know the answer!\n",
    "\n",
    "with the wrong tolerances, it is easy to miss the critical point:"
   ]
  },
  {
   "cell_type": "code",
   "execution_count": 37,
   "id": "413f1151-24ad-4c2d-96a2-95664e541b63",
   "metadata": {},
   "outputs": [
    {
     "data": {
      "image/png": "[encoded data removed]",
      "text/latex": [
       "$\\displaystyle \\left[ \\right]$"
      ],
      "text/plain": [
       "[]"
      ]
     },
     "execution_count": 37,
     "metadata": {},
     "output_type": "execute_result"
    }
   ],
   "source": [
    "res=crit_pts_fun(f,0,19,1E4,1E-2)\n",
    "res"
   ]
  },
  {
   "cell_type": "markdown",
   "id": "a334e536-3772-4ecf-977b-42a0fa5f0009",
   "metadata": {},
   "source": [
    "And it is easy to get redundant reported critical points:"
   ]
  },
  {
   "cell_type": "code",
   "execution_count": 36,
   "id": "2e1ab6fe-1e3c-461f-9382-409880822133",
   "metadata": {},
   "outputs": [
    {
     "data": {
      "image/png": "[encoded data removed]",
      "text/latex": [
       "$\\displaystyle \\left[ 11.2836, \\  11.2837, \\  11.2838\\right]$"
      ],
      "text/plain": [
       "[11.2836, 11.283700000000001, 11.283800000000001]"
      ]
     },
     "execution_count": 36,
     "metadata": {},
     "output_type": "execute_result"
    }
   ],
   "source": [
    "res=crit_pts_fun(f,0,19,1E4,4E-1)\n",
    "res"
   ]
  }
 ],
 "metadata": {
  "kernelspec": {
   "display_name": "Python 3 (ipykernel)",
   "language": "python",
   "name": "python3"
  },
  "language_info": {
   "codemirror_mode": {
    "name": "ipython",
    "version": 3
   },
   "file_extension": ".py",
   "mimetype": "text/x-python",
   "name": "python",
   "nbconvert_exporter": "python",
   "pygments_lexer": "ipython3",
   "version": "3.11.6"
  }
 },
 "nbformat": 4,
 "nbformat_minor": 5
}
