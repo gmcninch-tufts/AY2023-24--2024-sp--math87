{
 "cells": [
  {
   "cell_type": "markdown",
   "id": "399be582-763d-429c-8cf2-fd8bf38635ec",
   "metadata": {},
   "source": [
    "This notebook is intended to illustrate some features of [**jupyter**\n",
    "notebooks](https://jupyter.org/).\n",
    "\n",
    "For the most part, materials for this course will be presented in the\n",
    "form of notebooks like this one.\n",
    "\n",
    "You can view notebooks on\n",
    "[colab](https://colab.research.google.com/notebooks/intro.ipynb) or you\n",
    "can install some software on your own computer and view/edit notebooks\n",
    "there; there is discussion of installation on the [course web\n",
    "site](https://gmcninch-tufts.github.io/math87-fall2020/) – in\n",
    "particular, the [“python & jupyter resources\n",
    "information”](https://gmcninch-tufts.github.io/math87-fall2020/course-info/03e-resources--python-and-jupyter.html)\n",
    "page."
   ]
  },
  {
   "cell_type": "markdown",
   "id": "f9f891b3-a993-4d47-8fad-b052566342ef",
   "metadata": {},
   "source": [
    "# Mathematical typesetting\n",
    "\n",
    "Jupyter notebooks contain text (like this) but also they can contain\n",
    "*mathematical symbols*; for example: $$\\int_{-\\infty}^\\infty f(x) dx =\n",
    "0 \\quad \\text{or} \\quad \\begin{bmatrix} \\alpha & \\beta \\\\ \\gamma &\n",
    "\\delta \\end{bmatrix}$$\n",
    "\n",
    "If you are interested in what is going on “under the hood”, text is\n",
    "entered using `markdown` syntax which is converted to `html` and\n",
    "displayed in your browser."
   ]
  },
  {
   "cell_type": "markdown",
   "id": "4cad28a1-d4a9-4577-9e34-75a99f1296d0",
   "metadata": {},
   "source": [
    "# Markdown and MathJax\n",
    "\n",
    "You can see the `markdown` underlying what you are reading now by\n",
    "“double clicking”\n",
    "\n",
    "You can read about [markdown syntax starting from\n",
    "here](https://en.wikipedia.org/wiki/Markdown), though there shouldn’t be\n",
    "a need for you to write markdown for our course.\n",
    "\n",
    "The mathematical typeset appears thanks to an *extension* to\n",
    "markdown/html called [**MathJax**](https://www.mathjax.org/); again, you\n",
    "don’t really need to know details about mathjax. But it is worth knowing\n",
    "that the syntax is the same as `LaTeX`."
   ]
  },
  {
   "cell_type": "markdown",
   "id": "36f14b3f-0364-4135-a8fc-95d2bc926c27",
   "metadata": {},
   "source": [
    "# Under the hood?\n",
    "\n",
    "If you are *curious*, you can see the markdown/mathjax that was used to\n",
    "create the text you are reading currently.\n",
    "\n",
    "First, notice that there is a “boxed region” containing this text - in\n",
    "the parlance of `jupyter` notebooks, that region is called a `cell`. If\n",
    "you click with the mouse pointer on this text, that `cell` receives\n",
    "`focus`.\n",
    "\n",
    "Now that you’ve focussed on this cell, you can get at the underlying\n",
    "`code` in a couple of ways:\n",
    "\n",
    "-   probably the simplest is to just double-click with the mouse inside\n",
    "    the cell. In order to return to normal viewing, press\n",
    "    shift-\\[enter\\]\n",
    "\n",
    "-   in `colab`, you can click the right-hand mouse button to get a menu\n",
    "    of options - then choose “Edit”\n",
    "\n",
    "-   in `jupyter` lab/notebook, there are some key sequences that enable\n",
    "    editing, but I think I won’t go into those details for now.\n",
    "    “double-click” should always work…"
   ]
  },
  {
   "cell_type": "markdown",
   "id": "ae58dd8f-c0f1-40cc-ae48-f8016031bb71",
   "metadata": {},
   "source": [
    "# Code!\n",
    "\n",
    "More importantly, `jupyter` permits you to view and evaluate `code`. For\n",
    "this course, we’ll always use code in the `python` (specifically:\n",
    "`python3`) language, but other possibilities are available.\n",
    "\n",
    "Remember the `cells` that we mentioned above? Well, there are a few\n",
    "types of cells. One is called a `markdown` cell, and such cells contain\n",
    "text (and mathematics) for reading. Another is called a `code cell`, and\n",
    "it contains (in this case) `python` code.\n",
    "\n",
    "The next cell is an example of a `code cell`."
   ]
  },
  {
   "cell_type": "code",
   "execution_count": 1,
   "id": "d008e4c8-aeec-4c7c-a2da-67c898a52421",
   "metadata": {},
   "outputs": [
    {
     "ename": "SyntaxError",
     "evalue": "f-string: expecting '}' (3714669475.py, line 10)",
     "output_type": "error",
     "traceback": [
      "\u001b[0;36m  Cell \u001b[0;32mIn[1], line 10\u001b[0;36m\u001b[0m\n\u001b[0;31m    print(f\"{i} - {g(i):.5f} - {h(i):.5f\")\u001b[0m\n\u001b[0m                                         ^\u001b[0m\n\u001b[0;31mSyntaxError\u001b[0m\u001b[0;31m:\u001b[0m f-string: expecting '}'\n"
     ]
    }
   ],
   "source": [
    "from math import sin,cos\n",
    "\n",
    "def g(x):\n",
    "    return sin(x)**2 + cos(x)**2\n",
    "\n",
    "def h(x):\n",
    "    return sin(x)**2 - cos(x)**2\n",
    "\n",
    "for i in range(10):\n",
    "    print(f\"{i} - {g(i):.5f} - {h(i):.5f}\")"
   ]
  },
  {
   "cell_type": "markdown",
   "id": "1bec9e31-ef2d-4444-91de-778fcd47f1ed",
   "metadata": {},
   "source": [
    "To execute the contents of a `code cell`, type \\[shift\\]-\\[enter\\] while\n",
    "that cell has the focus. If the code in the cell produced `output`, code\n",
    "execution will result in a new cell containing that output.\n",
    "\n",
    "Code in later code-cells will \\`\\`remember’’ the contents of earlier\n",
    "cells."
   ]
  },
  {
   "cell_type": "code",
   "execution_count": null,
   "id": "1b1b3b9d-767d-4a36-afc1-7f501116471a",
   "metadata": {},
   "outputs": [],
   "source": [
    "print(h(3))"
   ]
  }
 ],
 "metadata": {
  "jupytext": {
   "text_representation": {
    "extension": ".md",
    "format_name": "markdown",
    "format_version": "1.2",
    "jupytext_version": "1.6.0"
   }
  },
  "kernelspec": {
   "display_name": "Python 3 (ipykernel)",
   "language": "python",
   "name": "python3"
  },
  "language_info": {
   "codemirror_mode": {
    "name": "ipython",
    "version": 3
   },
   "file_extension": ".py",
   "mimetype": "text/x-python",
   "name": "python",
   "nbconvert_exporter": "python",
   "pygments_lexer": "ipython3",
   "version": "3.11.3"
  }
 },
 "nbformat": 4,
 "nbformat_minor": 5
}
