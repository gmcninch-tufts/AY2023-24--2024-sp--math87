{
 "cells": [
  {
   "cell_type": "code",
   "execution_count": 3,
   "id": "243de13d-749a-4f38-b00e-988fdd413c37",
   "metadata": {},
   "outputs": [],
   "source": [
    "import numpy as np\n"
   ]
  },
  {
   "cell_type": "code",
   "execution_count": 33,
   "id": "a72335a7-5d1d-46c6-ba04-a4d5c86fc467",
   "metadata": {},
   "outputs": [
    {
     "name": "stdout",
     "output_type": "stream",
     "text": [
      "sin\n",
      "   [-1.5707926535795025, 1.5707973464410792]\n",
      "cubic\n",
      "   [0.42265, 1.57735]\n"
     ]
    }
   ],
   "source": [
    "def cubic(x):\n",
    "    return x*(x-1)*(x-2)\n",
    "    \n",
    "def crit_pts(ff,xx,tol=1E-5):\n",
    "    gg = np.gradient(ff,xx)\n",
    "    res = [ x for (x,g) in zip(xx,gg)\n",
    "            if np.abs(g)<tol ]\n",
    "    return res\n",
    "\n",
    "\n",
    "def crit_pts_fun(f,a,b,n):\n",
    "    xx=np.arange(a,b,1/n)\n",
    "    ff=f(xx)\n",
    "    return crit_pts(ff,xx,tol=1/(2*n))\n",
    "\n",
    "s=crit_pts_fun(np.sin,-np.pi,np.pi,1E5)\n",
    "\n",
    "c=crit_pts_fun(cubic,0,4,1E5)\n",
    "\n",
    "print(f\"sin\\n   {s}\")\n",
    "print(f\"cubic\\n   {c}\")"
   ]
  },
  {
   "cell_type": "code",
   "execution_count": null,
   "id": "a215eca9-1648-42e3-8366-a02bd6a99f6c",
   "metadata": {},
   "outputs": [],
   "source": []
  }
 ],
 "metadata": {
  "kernelspec": {
   "display_name": "Python 3 (ipykernel)",
   "language": "python",
   "name": "python3"
  },
  "language_info": {
   "codemirror_mode": {
    "name": "ipython",
    "version": 3
   },
   "file_extension": ".py",
   "mimetype": "text/x-python",
   "name": "python",
   "nbconvert_exporter": "python",
   "pygments_lexer": "ipython3",
   "version": "3.11.6"
  }
 },
 "nbformat": 4,
 "nbformat_minor": 5
}
