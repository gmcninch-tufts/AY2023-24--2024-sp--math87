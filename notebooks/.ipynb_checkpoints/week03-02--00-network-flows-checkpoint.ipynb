{
 "cells": [
  {
   "cell_type": "markdown",
   "id": "12d01644-0284-430d-a6ca-adf512e580b0",
   "metadata": {},
   "source": [
    "# [George McNinch](http://gmcninch.math.tufts.edu) Math 87 - Spring 2024\n",
    "\n",
    "# Week 3\n",
    "\n",
    "# § Network flows and linear programming"
   ]
  },
  {
   "cell_type": "markdown",
   "id": "d3cb5474-e002-4e59-88c8-5330d82306aa",
   "metadata": {},
   "source": [
    "# Overview\n",
    "\n",
    "So far we have looked at a few examples of linear programs. The key step\n",
    "in modeling these problems is to write down the program itself.\n",
    "\n",
    "As we saw, for simple programs, such as the carpenter problem, we can\n",
    "figure it out geometrically. There were only a few variables and a few\n",
    "obvious constraints and it was easy to check all the “vertices.”"
   ]
  },
  {
   "cell_type": "markdown",
   "id": "a3073996-98b5-414f-bda4-21dc2d58cda0",
   "metadata": {},
   "source": [
    "# Network flows\n",
    "\n",
    "We are going to consider some more complex situations for which we will\n",
    "use a *network flow* to help produce the corresponding \\*linear program.\n",
    "\n",
    "Let’s recall that a *directed graph* is a pair $G = (V,E)$ where the\n",
    "elements of the set $V$ are the *vertices* of the graph, and where\n",
    "$E ⊂ V × V$ are the *edges* of $G$. Thus, an element $e = (a,b) ∈ E$\n",
    "represents a directed edge from vertex $a$ to vertex $b$.\n",
    "\n",
    "A node is a *source* if it only appears in outgoing edges, and a node is\n",
    "a *sink* if it only appears in incoming edges.\n",
    "\n",
    "For example, `S` is a source and `T` is a sink in the following directed\n",
    "graph."
   ]
  },
  {
   "cell_type": "code",
   "execution_count": null,
   "id": "aafe7920-aa29-4806-b599-d56bb08d4f6a",
   "metadata": {},
   "outputs": [],
   "source": [
    "from graphviz import Digraph\n",
    "\n",
    "class digraph:\n",
    "\n",
    "  def __init__(self,vertices,edges,title='example'):\n",
    "    self.vertices=vertices\n",
    "    self.edges=edges\n",
    "    self.title=title\n",
    "\n",
    "  def drawSubgraph(self,vertices=None):\n",
    "    dot = Digraph(dg.title)\n",
    "    dot.attr(rankdir='LR')\n",
    "\n",
    "    vv = vertices if vertices else dg.vertices\n",
    "\n",
    "    for x in vv:\n",
    "      dot.node(x)\n",
    "\n",
    "    for (a,b) in dg.edges:\n",
    "      if (a in vv) and (b in vv):\n",
    "        dot.edge(a,b)\n",
    "\n",
    "    return dot\n",
    "\n",
    "vv = [ 'S','a','b','c','d','T']\n",
    "ee = [ ('S','a'),\n",
    "                       ('S','b'),\n",
    "                       ('S','d'),\n",
    "                       ('a','c'),\n",
    "                       ('b','c'),\n",
    "                       ('c','T'),\n",
    "                       ('d','T')\n",
    "                       ]\n",
    "\n",
    "dg = digraph(vertices = ,\n",
    "             edges = )\n",
    "\n",
    "dg.drawSubgraph()"
   ]
  },
  {
   "cell_type": "code",
   "execution_count": null,
   "id": "7ba5cadb-eebc-49dc-9a7b-ef06d1b791dd",
   "metadata": {},
   "outputs": [],
   "source": [
    "\n",
    "class digraphWithCapacity:\n",
    "\n",
    "  def __init__(self,vertices,edges,cap,title='example'):\n",
    "    self.vertices=vertices\n",
    "    self.edges=edges\n",
    "    self.cap=cap\n",
    "    self.title=title\n",
    "\n",
    "  def drawSubgraph(self,vertices=None):\n",
    "    dot = Digraph(dg.title)\n",
    "    dot.attr(rankdir='LR')\n",
    "\n",
    "    vv = vertices if vertices else dg.vertices\n",
    "\n",
    "    for x in vv:\n",
    "      dot.node(x)\n",
    "\n",
    "    for (a,b) in dg.edges:\n",
    "      if (a in vv) and (b in vv):\n",
    "        if cap[(a,b)]:\n",
    "          dot.edge(a,b,label=format(cap[(a,b)]))\n",
    "        else:\n",
    "          dot.edge(a,b)\n",
    "\n",
    "    return dot\n",
    "    \n",
    "\n",
    "cap = { ('S','a'):1,\n",
    "        ('S','b'):1,\n",
    "        ('S','d'):2,\n",
    "        ('a','c'):1,\n",
    "        ('b','c'):1,\n",
    "        ('c','T'):2,\n",
    "        ('d','T'):1\n",
    "        }\n",
    "\n",
    "  \n",
    "dgc=digraphWithCapacity(vertices,edges,cap)\n",
    "dgc.drawSubgraph()"
   ]
  },
  {
   "cell_type": "code",
   "execution_count": null,
   "id": "ae1b90c0-1d44-489b-a140-e8031e1667e0",
   "metadata": {},
   "outputs": [],
   "source": [
    "dgc.drawSubgraph(['a','b','c','T'])"
   ]
  },
  {
   "cell_type": "code",
   "execution_count": null,
   "id": "8e213060-9998-4c19-84ee-4eddc19fa6d0",
   "metadata": {},
   "outputs": [],
   "source": [
    "\n",
    "class networkFlow(digraphWithCapacity):\n",
    "\n",
    "  def __init__(self,vertices,edges,cap,title='example'):\n",
    "    digraphWithCapacity.__init__(vertices,edges,cap,title)\n",
    "    \n",
    "  def getIncoming(self,vertex):\n",
    "    return filter(lambda (a,b): b == vertex, self.edges)\n",
    "    \n",
    "  def getOutgoing(self,vertex):\n",
    "    return filter(lambda (a,b): a == vertex, self.edges)\n",
    "    \n",
    "  def getCap(self,edge):\n",
    "    ec = self.cap[edge]\n",
    "    return ec if ec else 0\n",
    "\n",
    "\n"
   ]
  }
 ],
 "metadata": {
  "jupytext": {
   "text_representation": {
    "extension": ".md",
    "format_name": "markdown",
    "format_version": "1.2",
    "jupytext_version": "1.6.0"
   }
  },
  "kernelspec": {
   "display_name": "Python 3",
   "language": "python",
   "name": "python3"
  },
  "language_info": {
   "codemirror_mode": {
    "name": "ipython",
    "version": "2"
   },
   "file_extension": ".py",
   "mimetype": "text/x-python",
   "name": "python",
   "nbconvert_exporter": "python",
   "pygments_lexer": "ipython2",
   "version": "2.7.15"
  }
 },
 "nbformat": 4,
 "nbformat_minor": 5
}
