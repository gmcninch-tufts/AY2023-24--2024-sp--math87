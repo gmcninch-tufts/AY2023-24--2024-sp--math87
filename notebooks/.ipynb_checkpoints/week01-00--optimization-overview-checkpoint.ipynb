{
 "cells": [
  {
   "cell_type": "markdown",
   "id": "5d74d836-5d45-4d52-9ebf-189a972139bd",
   "metadata": {},
   "source": [
    "# Overview\n",
    "\n",
    "Optimization is the most common application of mathematics. Here are\n",
    "some “real-world” examples:\n",
    "\n",
    "-   **Business optimization**. A business manager attempts to understand\n",
    "    and control parameters in order to maximize profit and minimize\n",
    "    costs.\n",
    "\n",
    "-   **Natural resource management**. Control harvest rates to maximize\n",
    "    long-term yield, while conserving resources.\n",
    "\n",
    "-   **Environmental regulation**. Governments sets standards to minimize\n",
    "    environmental costs, while maximizing production of goods.\n",
    "\n",
    "-   **IT management**. Computer system managers try to maximize\n",
    "    throughput and minimize delays.\n",
    "\n",
    "-   **Pharmaceutical optimization**. Doctors and pharmacists regulate\n",
    "    drugs to minimize harmful side effects and maximize healing."
   ]
  },
  {
   "cell_type": "code",
   "execution_count": null,
   "id": "a748c177-09b1-440c-b628-d0abc5f3fd8d",
   "metadata": {},
   "outputs": [],
   "source": []
  }
 ],
 "metadata": {
  "kernelspec": {
   "display_name": "Python 3 (ipykernel)",
   "language": "python",
   "name": "python3"
  },
  "language_info": {
   "codemirror_mode": {
    "name": "ipython",
    "version": 3
   },
   "file_extension": ".py",
   "mimetype": "text/x-python",
   "name": "python",
   "nbconvert_exporter": "python",
   "pygments_lexer": "ipython3",
   "version": "3.11.6"
  }
 },
 "nbformat": 4,
 "nbformat_minor": 5
}
