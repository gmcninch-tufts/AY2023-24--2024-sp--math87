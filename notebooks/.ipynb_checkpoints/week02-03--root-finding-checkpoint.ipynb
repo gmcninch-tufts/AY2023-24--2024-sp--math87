{
 "cells": [
  {
   "cell_type": "markdown",
   "id": "41a5e526-a2d7-43ef-a180-18196b1f5fe0",
   "metadata": {},
   "source": [
    "# [George McNinch](http://gmcninch.math.tufts.edu) Math 87 - Spring 2024\n",
    "\n",
    "# § Root Finding"
   ]
  },
  {
   "cell_type": "markdown",
   "id": "d28d46fe-6dfc-4c72-aea6-cc1364849994",
   "metadata": {},
   "source": [
    "# Overview\n",
    "\n",
    "We are often interesting in finding solutions to (non-linear) equations\n",
    "$𝑓(𝑥)=0$.\n",
    "\n",
    "Here we describe various methods for finding such solutions under\n",
    "assumptions and requirements.\n",
    "\n",
    "By a root of $𝑓$, we just mean a real number $𝑥_0$ such that $𝑓(𝑥_0)=0$.\n",
    "\n",
    "Of course, for some very special functions $𝑓$, we have formulas for\n",
    "roots. For example, if $𝑓$ is a quadratic polynomial, say\n",
    "$𝑓(𝑥)=𝑎𝑥^2+𝑏𝑥+𝑐$ for real numbers $𝑎,𝑏,𝑐$, then there are in general two\n",
    "roots, given by the *quadratic formula*\n",
    "$$𝑥_0=\\dfrac{−𝑏±\\sqrt{𝑏^2−4𝑎𝑐}}{2𝑎}.$$ (Of course, these roots are only\n",
    "real numbers in case of $𝑏^2−4 𝑎 𝑐 \\ge 0$).\n",
    "\n",
    "But such a formula is far too much to ask for, in general!\n",
    "\n",
    "We describe here algorithmic methods for approximating roots of “nice\n",
    "enough” functions which are less precise but more generally applicable."
   ]
  },
  {
   "cell_type": "markdown",
   "id": "33e9ce45-1c21-4ac9-acee-f50235feeb2f",
   "metadata": {},
   "source": [
    "# Bisection - overview\n",
    "\n",
    "The bisection algorithm permits one to approximate a root of a\n",
    "continuous function $𝑓$, provided that one knows points $𝑥_𝐿<𝑥_𝑅$ in the\n",
    "domain of $𝑓$ for which the function values $𝑓(𝑥_𝐿)$ and $𝑓(𝑥_𝑅)$ are\n",
    "non-zero and have opposite signs. The algorithm then returns an\n",
    "approximate root in the interval $(𝑥_𝐿,𝑥_𝑅)$.\n",
    "\n",
    "Of course, for a continuous $𝑓$ the *intermediate value theorem* implies\n",
    "that there is at least one root $𝑥_0$ of $𝑓$ in the interval $(𝑥𝐿,𝑥𝑅)$.\n",
    "\n",
    "To find a root, the algorithm iteratively divides the interval\n",
    "$[𝑥_𝐿,𝑥_𝑅]$ into two sub-intervals by introducing the midpoint\n",
    "$𝑥_𝐶=\\dfrac{𝑥_𝐿+𝑥_𝑅}{2}$. It examines the signs of the values $𝑓(𝑥_𝐿)$,\n",
    "$𝑓(𝑥_𝐶)$ and $𝑓(𝑥_𝑅)$ and discards the interval on which the sign\n",
    "doesn’t change. (Of course, if $𝑓(𝑥_𝐶)$ happens to be zero, that is the\n",
    "root!)\n",
    "\n",
    "So for example, if $𝑓(𝑥_𝐿)$ and $𝑓(𝑥_𝐶)$ differ in sign, the procedure\n",
    "is repeated on this smaller interval $[𝑥_𝐿,𝑥_𝐶]$.\n",
    "\n",
    "One way of looking at the “theory” underlying the use of this algorithm\n",
    "is the following: writing $x_N$ for the approximate solution returned by\n",
    "the algorithm after $N$ iterations, one knows that the limit\n",
    "$$\\lim_{N \\to \\infty} x_N$$ exists and is a solution to $f(x) = 0$ – in\n",
    "words: the estimates converge to a solution.\n",
    "\n",
    "The `python` library `scipy` has an [implementation of the bisection\n",
    "algorithm](https://docs.scipy.org/doc/scipy/reference/generated/scipy.optimize.bisect.html#scipy.optimize.bisect),\n",
    "which we can use.\n",
    "\n",
    "This implementation is found in the `scipy.optimization` library, and\n",
    "the function has the following specification:"
   ]
  },
  {
   "cell_type": "code",
   "execution_count": 3,
   "id": "4d3b89f0-52aa-49bc-be54-7122d1bce5f8",
   "metadata": {},
   "outputs": [
    {
     "ename": "NameError",
     "evalue": "name 'scipy' is not defined",
     "output_type": "error",
     "traceback": [
      "\u001b[0;31m---------------------------------------------------------------------------\u001b[0m",
      "\u001b[0;31mNameError\u001b[0m                                 Traceback (most recent call last)",
      "Cell \u001b[0;32mIn[3], line 1\u001b[0m\n\u001b[0;32m----> 1\u001b[0m \u001b[43mscipy\u001b[49m\u001b[38;5;241m.\u001b[39moptimize\u001b[38;5;241m.\u001b[39mbisect(f,a,b,args\u001b[38;5;241m=\u001b[39m(), \n\u001b[1;32m      2\u001b[0m                       xtol\u001b[38;5;241m=\u001b[39m\u001b[38;5;241m2e-12\u001b[39m, \n\u001b[1;32m      3\u001b[0m                       rtol\u001b[38;5;241m=\u001b[39m\u001b[38;5;241m8.881784197001252e-16\u001b[39m, \n\u001b[1;32m      4\u001b[0m                       maxiter\u001b[38;5;241m=\u001b[39m\u001b[38;5;241m100\u001b[39m, \n\u001b[1;32m      5\u001b[0m                       full_output\u001b[38;5;241m=\u001b[39m\u001b[38;5;28;01mFalse\u001b[39;00m, \n\u001b[1;32m      6\u001b[0m                       disp\u001b[38;5;241m=\u001b[39m\u001b[38;5;28;01mTrue\u001b[39;00m)\n",
      "\u001b[0;31mNameError\u001b[0m: name 'scipy' is not defined"
     ]
    }
   ],
   "source": [
    "import scipy \n",
    "scipy.optimize.bisect(f,a,b,args=(), \n",
    "                      xtol=2e-12, \n",
    "                      rtol=8.881784197001252e-16, \n",
    "                      maxiter=100, \n",
    "                      full_output=False, \n",
    "                      disp=True)"
   ]
  },
  {
   "cell_type": "markdown",
   "id": "e0dacbef-59de-4842-b3a9-9255ccb24ffc",
   "metadata": {},
   "source": [
    "Here `f` is the function in question, and `a` and `b` are the values\n",
    "bracketing some root of `f`.\n",
    "\n",
    "Morally, the argument `rtol` indicates the desired tolerance – thus the\n",
    "function should return a value `x` for which `|f(x)| < rtol`. In\n",
    "practice, things are a bit more complicated (read the docs when\n",
    "required…!)\n",
    "\n",
    "Also:\n",
    "\n",
    "> If convergence is not achieved in `maxiter` iterations, an error is\n",
    "> raised. Must be \\>= 0."
   ]
  },
  {
   "cell_type": "markdown",
   "id": "8a2bc6be-59ea-4d58-898d-a901cf7eb11d",
   "metadata": {},
   "source": [
    "# Example\n",
    "\n",
    "For example, we can use ’bisect‘ to approximate the roots of \\\\(f(x) =\n",
    "x^2 - x -1\\\\). Recall that those roots are \\\\\\[\\\\\\]"
   ]
  },
  {
   "cell_type": "code",
   "execution_count": 2,
   "id": "ed64f04d-9090-440d-94fa-2d42412d8bbf",
   "metadata": {},
   "outputs": [
    {
     "name": "stdout",
     "output_type": "stream",
     "text": [
      "bisection solutions: [ 1.61803399 -0.61803399]\n",
      "via radicals:        [ 1.61803399 -0.61803399]\n",
      "difference:          [-1.17417187e-12  1.17417187e-12]\n"
     ]
    }
   ],
   "source": [
    "import numpy as np\n",
    "from scipy.optimize import bisect\n",
    "\n",
    "def f(x):\n",
    "    return x**2 - x - 1\n",
    "\n",
    "## lets make a list of the solutions\n",
    "\n",
    "approx_sol = np.array([bisect(f,1,2),\n",
    "                       bisect(f,-2,0)])\n",
    "\n",
    "sol_via_radicals = np.array([(1+np.sqrt(5))/2,\n",
    "                             (1-np.sqrt(5))/2 ])\n",
    "\n",
    "report = \"\\n\".join([f\"bisection solutions: {approx_sol}\",\n",
    "                    f\"via radicals:        {sol_via_radicals}\",\n",
    "                    f\"difference:          {approx_sol-sol_via_radicals}\"])\n",
    "\n",
    "print(report)"
   ]
  },
  {
   "cell_type": "markdown",
   "id": "f08d7b71-01be-45e5-b4d6-d5af9d81db56",
   "metadata": {},
   "source": [
    "**Question**: what does this `bisect`function do if `f(a)` and `f(b)`\n",
    "have the same sign?\n",
    "\n",
    "# Example\n",
    "\n",
    "We can estimate zeros of the \\\\(\\\\) function - here we get an\n",
    "approximation to \\\\(\\\\), since we happen to know that $\\sin(1) >0$,\n",
    "$\\sin(4)<0$, and $\\pi$ is the unique root of $\\sin(x)=0$ between $1$ and\n",
    "$4$:"
   ]
  },
  {
   "cell_type": "code",
   "execution_count": null,
   "id": "aaea0ae5-dcd2-4e9e-b315-9fa9a628ab96",
   "metadata": {},
   "outputs": [],
   "source": [
    "def g(x): return np.sin(x)\n",
    "\n",
    "bisect(g,1,4)"
   ]
  },
  {
   "cell_type": "markdown",
   "id": "5abc977f-6634-41a8-82f9-1c54a8cbff75",
   "metadata": {},
   "source": [
    "**Question**: How does this solution compare with the value of pi stored\n",
    "by `numpy`?\n",
    "\n",
    "(Compare with `np.pi`)\n",
    "\n",
    "# Example\n",
    "\n",
    "And we can estimate the transcendental number \\\\(e = (1)\\\\) e.g. by\n",
    "finding roots of the function \\\\(f(x) = 1 - (x)\\\\):\n",
    "\n",
    "(**Question**: try comparing the answer with `np.exp(1)`)."
   ]
  },
  {
   "cell_type": "code",
   "execution_count": null,
   "id": "b70fafef-56ce-4db5-b40e-6e0bbe6d05c5",
   "metadata": {},
   "outputs": [],
   "source": [
    "def h(x):\n",
    "    return 1 - np.log(x)\n",
    "\n",
    "bisect(h,1,3)"
   ]
  },
  {
   "cell_type": "markdown",
   "id": "90e9b357-4946-45d2-a7f9-1ed3292656f0",
   "metadata": {},
   "source": [
    "Here are some slightly more sophisticated methods of approximating\n",
    "roots:\n",
    "\n",
    "# Secant Method\n",
    "\n",
    "[You can read the wikipedia\n",
    "description](https://en.wikipedia.org/wiki/Secant_method) of the secant\n",
    "method here.\n",
    "\n",
    "> The secant method is a root-finding algorithm that uses a succession\n",
    "> of roots of secant lines to better approximate a root of a function f.\n",
    "\n",
    "# Newton’s method\n",
    "\n",
    "[And here is the wikipedia description of Newton’s\n",
    "method](https://en.wikipedia.org/wiki/Newton%27s_method).\n",
    "\n",
    "> it is a root-finding algorithm which produces successively better\n",
    "> approximations to the roots (or zeroes) of a real-valued function. The\n",
    "> most basic version starts with a single-variable function $f$ defined\n",
    "> for a real variable $x$, the function’s derivative $f'$, and an\n",
    "> initial guess $x_0$ for a root of $f$.\n",
    "\n",
    "Let’s quickly summarize the simplest form of Newton’s method:\n",
    "\n",
    "If the function is sufficiently “nice” and if the initial guess $x_0$ is\n",
    "close enough to a root, then\n",
    "\n",
    "$$x_1 = x_0 − \\dfrac{f(x_0)}{f'(x_0)}$$\n",
    "\n",
    "is a better approximation of the root than $x_0$. Notice that $x_1$ is\n",
    "the $x$-coordinate of the point of intersection of the $x$-axis with the\n",
    "tangent line to $f$ at $(x_0,f(x_0)$.\n",
    "\n",
    "The process is then iterated: for $n \\ge 2$, we set $$x_n = x_{n-1} -\n",
    "\\dfrac{f(x_{n-1})}{f'(x_{n-1})}.$$\n",
    "\n",
    "Under favorable circumstances, $\\lim_{n \\to \\infty} x_n$ is a root of\n",
    "$f$.\n",
    "\n",
    "The `scipy` library makes both the secant method and Newton’s method\n",
    "available via\n",
    "[scipy.optimize.newton](https://docs.scipy.org/doc/scipy/reference/generated/scipy.optimize.newton.html)"
   ]
  },
  {
   "cell_type": "code",
   "execution_count": null,
   "id": "bd7df4b3-9817-4af7-8ed4-89ae546258b9",
   "metadata": {},
   "outputs": [],
   "source": [
    "scipy.optimize.newton(func, x0, \n",
    "                      fprime=None, \n",
    "                      args=(), \n",
    "                      tol=1.48e-08, \n",
    "                      maxiter=50, \n",
    "                      fprime2=None, \n",
    "                      x1=None, \n",
    "                      rtol=0.0, \n",
    "                      full_output=False, \n",
    "                      disp=True)"
   ]
  },
  {
   "cell_type": "markdown",
   "id": "5e9559b6-35c9-4a84-bb23-e400181ac968",
   "metadata": {},
   "source": [
    "The mandatory arguments to this function are `func` and the initial\n",
    "guess `x0`. If the derivative `fprime` is given, this function uses\n",
    "Newton’s method to approximate a root.\n",
    "\n",
    "If the value of `fprime2` is `None` - the default value – then this\n",
    "function uses either Newton’s method or the secant method to approximate\n",
    "a root of $f$. (If a second derivative `fprime2` is given, then\n",
    "[Halley’s method](https://en.wikipedia.org/wiki/Halley%27s_method) is\n",
    "used).\n",
    "\n",
    "Assuming `fprime2 = None`, whether to use Newton’s method or the secant\n",
    "method is determined by the value of `fprime`.\n",
    "\n",
    "If the value of `fprime` is `None` (the default value), then this\n",
    "function uses the secant method to approximate a root of $f$. It then\n",
    "requires a value other than `None` for the `x1` argument (since the\n",
    "secant method requires *two* initial values).\n",
    "\n",
    "If `fprime` is given, this function uses Newton’s method to approximate\n",
    "a root.\n",
    "\n",
    "Let’s repeat the preceding examples:\n",
    "\n",
    "## Example\n",
    "\n",
    "-   $f(x) = x^2 - x -1$."
   ]
  },
  {
   "cell_type": "code",
   "execution_count": null,
   "id": "f7e3a1ce-4382-439a-93fb-eda526498ce7",
   "metadata": {},
   "outputs": [],
   "source": [
    "from scipy.optimize import newton\n",
    "\n",
    "def f(x):\n",
    "    return x**2 - x - 1\n",
    "\n",
    "## secant method\n",
    "sec=[newton(f,1,x1=2),newton(f,-1,x1=-2)]\n",
    "\n",
    "## Newton's method\n",
    "def fprime(x):\n",
    "    return 2*x - 1\n",
    "\n",
    "newt=[newton(f,1,fprime),newton(f,-1,fprime)]\n",
    "\n",
    "report = \"\\n\".join([f\"secant {sec}\",\n",
    "                    f\"newton {newt}\",])\n",
    "print(report)"
   ]
  },
  {
   "cell_type": "markdown",
   "id": "0a0226f8-d507-4e98-96f1-0e5dd598fec6",
   "metadata": {},
   "source": [
    "# Example\n",
    "\n",
    "$\\pi$ via $\\sin$"
   ]
  },
  {
   "cell_type": "code",
   "execution_count": null,
   "id": "94e5d59f-1ffe-47fd-8d3a-df075734ed8e",
   "metadata": {},
   "outputs": [],
   "source": [
    "## use the secant method with x0 = 1 and x1 = 4\n",
    "sec_pi = newton(np.sin,1.0,x1=4.0)\n",
    "\n",
    "## use newton's method with x0=1\n",
    "newt_pi = newton(np.sin,2,fprime=np.cos)\n",
    "\n",
    "report = \"\\n\".join([f\"secant: {sec_pi}\",\n",
    "                    f\"newton: {newt_pi}\"])\n",
    "\n",
    "print(report)"
   ]
  },
  {
   "cell_type": "markdown",
   "id": "1a725150-fa9d-4b8f-99f9-3c98f8335342",
   "metadata": {},
   "source": [
    "# Example:\n",
    "\n",
    "$e$ via $h(x) = 1 - \\ln(x)$."
   ]
  },
  {
   "cell_type": "code",
   "execution_count": null,
   "id": "8e4ab097-57f6-4e47-bd45-70151edd53a7",
   "metadata": {},
   "outputs": [],
   "source": [
    "def h(x):\n",
    "    return 1 - np.log(x)\n",
    "\n",
    "def hprime(x):\n",
    "    return -1/x\n",
    "\n",
    "e_secant = newton(h,2,x1=3)\n",
    "e_newt   = newton(h,3,fprime=hprime)\n",
    "\n",
    "\n",
    "report = \"\\n\".join([f\"secant: {e_secant}\",\n",
    "                    f\"newton: {e_newt}\"])\n",
    "\n",
    "print(report)"
   ]
  },
  {
   "cell_type": "markdown",
   "id": "b65b00df-b532-4b6e-9ad8-957a9942a9e1",
   "metadata": {},
   "source": [
    "**Question**: what was the role of $x_0$ and $x_1$ in the above secant\n",
    "method examples? and what was the role of $x_0$ in the above\n",
    "newton-method examples?\n",
    "\n",
    "See what happens when you vary $x_0$ in the computation of `newt_pi`\n",
    "above.\n",
    "\n",
    "See what happens when you give `newton` an incorrect first derivative."
   ]
  },
  {
   "cell_type": "markdown",
   "id": "67a05dce-b133-4867-9b30-e498283a7131",
   "metadata": {},
   "source": [
    "# Modeling exaample\n",
    "\n",
    "A large population of $N$ people need to be tested for a disease. In\n",
    "order to reduce the costs of testing, a grouping strategy is proposed:\n",
    "Take blood samples from each person in a group of $x$ people. Divide\n",
    "each sample in half and mix one-half of each person’s sample into one\n",
    "mixture. Test the mixture. If it is negative, then we know that all $x$\n",
    "people in the group are negative. If it is positive, then at least one\n",
    "person in that group is positive, so test the other half of each\n",
    "person’s sample. What value of $x$ minimizes the total number of tests\n",
    "that needs to be done?\n",
    "\n",
    "Variables:\n",
    "\n",
    "-   $N$ = total population\n",
    "-   $x$ = group size\n",
    "-   $q$ = probability of one individual testing negative\n",
    "-   $T$ = total number of tests\n",
    "-   $T_g$ = total number of group tests\n",
    "-   $T_i$ = expected number of individual tests\n",
    "-   $T = T_g + T_i$\n",
    "\n",
    "The number of group tests is just the population/group size,\n",
    "$T_g = N/x$.\n",
    "\n",
    "For $T_i$ we have $N/x$ groups of $x$ people and the probability of all\n",
    "people in the group being negative is $q^x$. Thus, the probability of\n",
    "one person in the group testing positive is $1 − q^x$. If this happens,\n",
    "we have to do x tests! So…\n",
    "\n",
    "$$T_i = \\dfrac{N}{x}\\left[(1-q^x)x \\right] = N\\left(1-q^x\\right).$$\n",
    "\n",
    "and thus\n",
    "\n",
    "$$T = T_i + T_g = \\dfrac{N}{x} + N(1-q^x) = N(\\dfrac{1}{x} + 1 -\n",
    "q^x).$$\n",
    "\n",
    "To find the value of $x$ that yields the minimum number of required\n",
    "tests, we need to solve the equation $\\dfrac{dT}{dx} = 0$.\n",
    "\n",
    "Well, $$\\dfrac{dT}{dx} = N\\left(\\dfrac{-1}{x^2} - q^x \\ln q\\right).$$\n",
    "\n",
    "Since $q$ represents a *probability*, we have $0<q<1$. In particular,\n",
    "$\\ln(q) < 0$. Thus in order that $\\dfrac{dT}{dx} = 0$. we must have\n",
    "$$g(x) = \\dfrac{-1}{x^2} - (\\ln q)q^x = 0.$$\n",
    "\n",
    "It is not easy to directly solve the equation $g(x) = 0$. So we will\n",
    "apply Newton’s method. For this, we need to know $g'(x)$ as well; it is\n",
    "\n",
    "$$g'(x) = \\dfrac{2}{x^3} - (\\ln q)^2 q^x.$$"
   ]
  },
  {
   "cell_type": "code",
   "execution_count": null,
   "id": "91134c91-3fba-4261-90c0-79dee6fbfdf1",
   "metadata": {},
   "outputs": [],
   "source": [
    "import numpy as np\n",
    "from functools import partial \n",
    "\n",
    "def g(q,x):\n",
    "    return (-1/x**2) - np.log(q)* q**x\n",
    "\n",
    "def gprime(q,x):\n",
    "    return 2/x**3 - (np.log(q))**2 * q**x\n",
    "\n",
    "q_values = [0.7, 0.8, 0.9, 0.95, 0.99, 0.999, 0.9999]\n",
    "\n",
    "## note that partial(g,q) returns the function given by h(x) = g(q,x)\n",
    "## in other words, we \"partially evaluate\" the function g(q,x) to get a function \n",
    "## only of x.\n",
    "\n",
    "def newt(q): \n",
    "    return newton(partial(g,q),2,fprime=partial(gprime,q))\n",
    "\n",
    "# the following code returns a list of pairs (q,newt(q))\n",
    "# where q runs through the list q_values.\n",
    "# Here, newt(q) is the solution to g(q,x) = 0 obtained from Newton's method\n",
    "# (with x0 = 2).\n",
    "\n",
    "list(map(lambda x: (x,newt(x)),q_values))\n"
   ]
  }
 ],
 "metadata": {
  "jupytext": {
   "text_representation": {
    "extension": ".md",
    "format_name": "markdown",
    "format_version": "1.2",
    "jupytext_version": "1.6.0"
   }
  },
  "kernelspec": {
   "display_name": "Python 3 (ipykernel)",
   "language": "python",
   "name": "python3"
  },
  "language_info": {
   "codemirror_mode": {
    "name": "ipython",
    "version": 3
   },
   "file_extension": ".py",
   "mimetype": "text/x-python",
   "name": "python",
   "nbconvert_exporter": "python",
   "pygments_lexer": "ipython3",
   "version": "3.11.3"
  }
 },
 "nbformat": 4,
 "nbformat_minor": 5
}
