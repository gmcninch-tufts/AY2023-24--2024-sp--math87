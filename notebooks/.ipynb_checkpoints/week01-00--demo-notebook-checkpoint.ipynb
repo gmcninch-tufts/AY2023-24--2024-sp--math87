{
 "cells": [
  {
   "cell_type": "markdown",
   "id": "a174dadb-e97f-4b79-af9b-e32bf1d3194a",
   "metadata": {},
   "source": []
  },
  {
   "cell_type": "markdown",
   "id": "e603d0ff-ae51-483f-bcb4-2678b0e5ea63",
   "metadata": {},
   "source": [
    "This notebook is intended to illustrate some features of [**jupyter**\n",
    "notebooks](https://jupyter.org/).\n",
    "\n",
    "For the most part, materials for this course will be presented in the\n",
    "form of notebooks like this one.\n",
    "\n",
    "You can view notebooks on\n",
    "[colab](https://colab.research.google.com/notebooks/intro.ipynb) or you\n",
    "can install some software on your own computer and view/edit notebooks\n",
    "there; there is discussion of installation on the [course web\n",
    "site](https://gmcninch-tufts.github.io/math87-fall2020/) – in\n",
    "particular, the [“python & jupyter resources\n",
    "information”](https://gmcninch-tufts.github.io/math87-fall2020/course-info/03e-resources--python-and-jupyter.html)\n",
    "page."
   ]
  },
  {
   "cell_type": "markdown",
   "id": "8e4e1e24-eeaf-4668-a717-336cee1ed7ec",
   "metadata": {},
   "source": [
    "# Mathematical typesetting\n",
    "\n",
    "Jupyter notebooks contain text (like this) but also they can contain\n",
    "*mathematical symbols*; for example: $$\\int_{-\\infty}^\\infty f(x) dx =\n",
    "0 \\quad \\text{or} \\quad \\begin{bmatrix} \\alpha & \\beta \\\\ \\gamma &\n",
    "\\delta \\end{bmatrix}$$\n",
    "\n",
    "If you are interested in what is going on “under the hood”, text is\n",
    "entered using `markdown` syntax which is converted to `html` and\n",
    "displayed in your browser."
   ]
  },
  {
   "cell_type": "markdown",
   "id": "455249bc-e1cb-4c71-8e1c-ca7a6e9ec9c3",
   "metadata": {},
   "source": [
    "# Markdown and MathJax\n",
    "\n",
    "You can see the `markdown` underlying what you are reading now by\n",
    "“double clicking”\n",
    "\n",
    "You can read about [markdown syntax starting from\n",
    "here](https://en.wikipedia.org/wiki/Markdown), though there shouldn’t be\n",
    "a need for you to write markdown for our course.\n",
    "\n",
    "The mathematical typeset appears thanks to an *extension* to\n",
    "markdown/html called [**MathJax**](https://www.mathjax.org/); again, you\n",
    "don’t really need to know details about mathjax. But it is worth knowing\n",
    "that the syntax is the same as `LaTeX`."
   ]
  },
  {
   "cell_type": "markdown",
   "id": "0a717048-1e92-469c-a179-508a09a8988d",
   "metadata": {},
   "source": [
    "# Under the hood?\n",
    "\n",
    "If you are *curious*, you can see the markdown/mathjax that was used to\n",
    "create the text you are reading currently.\n",
    "\n",
    "First, notice that there is a “boxed region” containing this text - in\n",
    "the parlance of `jupyter` notebooks, that region is called a `cell`. If\n",
    "you click with the mouse pointer on this text, that `cell` receives\n",
    "`focus`.\n",
    "\n",
    "Now that you’ve focussed on this cell, you can get at the underlying\n",
    "`code` in a couple of ways:\n",
    "\n",
    "-   probably the simplest is to just double-click with the mouse inside\n",
    "    the cell. In order to return to normal viewing, press\n",
    "    shift-\\[enter\\]\n",
    "\n",
    "-   in `colab`, you can click the right-hand mouse button to get a menu\n",
    "    of options - then choose “Edit”\n",
    "\n",
    "-   in `jupyter` lab/notebook, there are some key sequences that enable\n",
    "    editing, but I think I won’t go into those details for now.\n",
    "    “double-click” should always work…"
   ]
  },
  {
   "cell_type": "markdown",
   "id": "e73027b5-3571-4928-87a6-cdce49e42c95",
   "metadata": {},
   "source": [
    "# Code!\n",
    "\n",
    "More importantly, `jupyter` permits you to view and evaluate `code`. For\n",
    "this course, we’ll always use code in the `python` (specifically:\n",
    "`python3`) language, but other possibilities are available.\n",
    "\n",
    "Remember the `cells` that we mentioned above? Well, there are a few\n",
    "types of cells. One is called a `markdown` cell, and such cells contain\n",
    "text (and mathematics) for reading. Another is called a `code cell`, and\n",
    "it contains (in this case) `python` code.\n",
    "\n",
    "The next cell is an example of a `code cell`."
   ]
  },
  {
   "cell_type": "code",
   "execution_count": 4,
   "id": "5285968d-08e3-4529-901c-f6b9037ea61d",
   "metadata": {},
   "outputs": [
    {
     "name": "stdout",
     "output_type": "stream",
     "text": [
      "0 - 1.00000 - -1.00000\n",
      "1 - 1.00000 - 0.41615\n",
      "2 - 1.00000 - 0.65364\n",
      "3 - 1.00000 - -0.96017\n",
      "4 - 1.00000 - 0.14550\n",
      "5 - 1.00000 - 0.83907\n",
      "6 - 1.00000 - -0.84385\n",
      "7 - 1.00000 - -0.13674\n",
      "8 - 1.00000 - 0.95766\n",
      "9 - 1.00000 - -0.66032\n",
      "10 - 1.00000 - -0.40808\n",
      "11 - 1.00000 - 0.99996\n",
      "12 - 1.00000 - -0.42418\n",
      "13 - 1.00000 - -0.64692\n",
      "14 - 1.00000 - 0.96261\n",
      "15 - 1.00000 - -0.15425\n",
      "16 - 1.00000 - -0.83422\n",
      "17 - 1.00000 - 0.84857\n",
      "18 - 1.00000 - 0.12796\n",
      "19 - 1.00000 - -0.95507\n"
     ]
    }
   ],
   "source": [
    "from math import sin,cos\n",
    "\n",
    "def g(x):\n",
    "    return sin(x)**2 + cos(x)**2\n",
    "\n",
    "def h(x):\n",
    "    return sin(x)**2 - cos(x)**2\n",
    "\n",
    "for i in range(20):\n",
    "    print(f\"{i} - {g(i):.5f} - {h(i):.5f}\")"
   ]
  },
  {
   "cell_type": "markdown",
   "id": "b2ddf829-9166-4f56-a6e0-5fa0481b7fd3",
   "metadata": {},
   "source": [
    "To execute the contents of a `code cell`, type \\[shift\\]-\\[enter\\] while\n",
    "that cell has the focus. If the code in the cell produced `output`, code\n",
    "execution will result in a new cell containing that output.\n",
    "\n",
    "Code in later code-cells will \\`\\`remember’’ definitions from earlier\n",
    "cells."
   ]
  },
  {
   "cell_type": "code",
   "execution_count": 3,
   "id": "94293733-5de0-4f6d-adbc-0f47037ab821",
   "metadata": {},
   "outputs": [
    {
     "data": {
      "text/plain": [
       "-0.960170286650366"
      ]
     },
     "execution_count": 3,
     "metadata": {},
     "output_type": "execute_result"
    }
   ],
   "source": [
    "h(3)"
   ]
  },
  {
   "cell_type": "code",
   "execution_count": null,
   "id": "5df53e59-3114-438b-b5a8-b5ba1bb79de6",
   "metadata": {},
   "outputs": [],
   "source": []
  }
 ],
 "metadata": {
  "jupytext": {
   "text_representation": {
    "extension": ".md",
    "format_name": "markdown",
    "format_version": "1.2",
    "jupytext_version": "1.6.0"
   }
  },
  "kernelspec": {
   "display_name": "Python 3 (ipykernel)",
   "language": "python",
   "name": "python3"
  },
  "language_info": {
   "codemirror_mode": {
    "name": "ipython",
    "version": 3
   },
   "file_extension": ".py",
   "mimetype": "text/x-python",
   "name": "python",
   "nbconvert_exporter": "python",
   "pygments_lexer": "ipython3",
   "version": "3.11.6"
  }
 },
 "nbformat": 4,
 "nbformat_minor": 5
}
