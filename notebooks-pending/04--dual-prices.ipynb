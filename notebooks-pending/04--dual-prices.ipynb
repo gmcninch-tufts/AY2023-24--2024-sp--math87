{
 "cells": [
  {
   "cell_type": "markdown",
   "metadata": {},
   "source": [
    "Math087 - Mathematical Modeling\n",
    "===============================\n",
    "[Tufts University](http://www.tufts.edu) -- [Department of Math](http://math.tufts.edu)  \n",
    "[George McNinch](http://gmcninch.math.tufts.edu) <george.mcninch@tufts.edu>  \n",
    "*Fall 2020*\n",
    "\n",
    "Course material (Week 4): Dual prices & integer programming\n",
    "-----------------------------------------------------------"
   ]
  },
  {
   "cell_type": "markdown",
   "metadata": {},
   "source": [
    "Recollections\n",
    "=============\n",
    "\n",
    "Let's briefly recall the notion of *slack variables* and *complementary slackness* from our duality discussion.\n",
    "\n",
    "To this end, consider a linear program $\\mathcal{L}$ given by\n",
    "$(\\mathbf{c} \\in \\mathbb{R}^{1 \\times n},A \\in \\mathbb{R}^{r \\times n}, \\mathbf{b} \\in \\mathbb{R}^r)$ which seeks to ``maximize`` its objective function. We write $\\mathbf{0} \\le \\mathbf{x} \\in \\mathbb{R}^n$ for the variable vector of our linear program, and we recall that it satisfies $A \\mathbf{x} \\le \\mathbf{b}$.\n",
    "\n",
    "As usual we'll write $\\mathcal{L}'$ for the dual linear program -- it is determined by the triple $(\\mathbf{b}^T,A^T,\\mathcal{c}^T)$; it seeks to ``minimize`` its objective function; the dual varible vector is written\n",
    "$\\mathbf{y} \\in \\mathbf{R}^r$ and it satisfies $\\mathbf{y} \\ge \\mathbf{0}$ and\n",
    "$A^T\\mathbf{y} \\ge \\mathbf{c}^T$.\n",
    "\n",
    "*Complementary slackness* is the assertion that for feasible points $\\mathbf{x}$ for $\\mathcal{L}$ and $\\mathbf{y}$ for $\\mathcal{L}'$, $\\mathbf{x}$ is optimal for $\\mathcal{L}$ and $\\mathbf{y}$ is optimal for $\\mathcal{L}'$ if and only if\n",
    "\n",
    "$$(\\clubsuit) \\quad (\\mathbf{b} - A\\mathbf{x})^T \\cdot \\mathbf{y} = 0 \\quad \\text{and} \\quad (\\mathbf{y}^TA - \\mathbf{c}) \\cdot \\mathbf{x} = 0.$$\n",
    "\n",
    "For optimal vectors $\\mathbf{x}^*$ and $\\mathbf{y}^*$ we refer to the slack vectors:\n",
    "\n",
    "$$(\\mathbf{b} - A\\mathbf{x}^*) \\quad \\text{and} \\quad ((\\mathbf{y}^*)^TA - \\mathbf{c})$$\n",
    "\n",
    "**Remark**: Recall that if $\\mathbf{x}$ is a feasible point for $\\mathcal{L}$, then $A \\mathbf{x} \\le \\mathbf{b}$ or put another way, the slack vector $\\mathbf{b} - A\\mathbf{x} \\ge \\mathbf{0}$ is non-negative. Now, if also $\\mathbf{y} \\ge \\mathbf{0}$, it is easy to see that the product -- a scalar quantity -- satisfies\n",
    "\n",
    "$$(\\mathbf{b} - A\\mathbf{x})^T\\cdot \\mathbf{y} \\ge 0$$ \n",
    "\n",
    "and that in order to have $(\\mathbf{b} - A\\mathbf{x})^T\\cdot \\mathbf{y} = 0$ for a non-zero vector $\\mathbf{y}$, some of the coefficients of $\\mathbf{b} - A\\mathbf{x}$ must be zero; in the discussion below we say that those coefficients - or the corresponding constraints -- are *binding*."
   ]
  },
  {
   "cell_type": "markdown",
   "metadata": {},
   "source": [
    "Example \n",
    "=======\n",
    "\n",
    "A company has acquired 100 lots on which to build homes of two styles: Cape Cod and Ranch. They will build these homes over a year, during which they will have available\n",
    "13,000 hours of bricklayer labor and 12,000 hours of carpenter labor. Each Cape Cod house requires\n",
    "200 hours of carpentry labor and 50 hours of bricklayer labor. Each Ranch house requires 120 hours\n",
    "of bricklayer labor and 100 hours of carpentry. The profit for building a Cape Cod home is projected\n",
    "to be \\\\$5,100 and each Ranch home is projected to be \\\\$5,000.\n",
    "How many of each type of house would you recommend building?\n",
    "\n",
    "Variables: \n",
    "\n",
    "- $C$ = # Cape Cod homes built\n",
    "- $R$ = # Ranch homes built\n",
    "\n",
    "Primal linear program: *maximize* for the data $(\\mathbf{c},A,\\mathbf{b})$.\n",
    "\n",
    "- $\\mathbf{c} = \\begin{bmatrix} 5100 & 5000 \\end{bmatrix}$\n",
    "- $A = \\begin{bmatrix} 1& 1 \\\\  200 & 100 \\\\ 50 & 120 \\end{bmatrix}$\n",
    "- $\\mathbf{b} = \\begin{bmatrix} 100 \\\\ 12000 \\\\ 13000 \\end{bmatrix}$\n",
    "\n",
    "i.e. the objective function is given by $\\mathbf{c} \\cdot \\begin{bmatrix} C \\\\ R \\end{bmatrix} = 5100C + 5000R$ where $\\begin{bmatrix} C \\\\ R \\end{bmatrix} \\ge \\mathbf{0}$.\n",
    "\n",
    "And $A \\cdot \\begin{bmatrix} C \\\\ R \\end{bmatrix} \\le \\mathbf{b}$.\n",
    "\n",
    "-----\n",
    "\n",
    "Thus the dual linear program is given by the data $(\\mathbf{b}^T,A^T,\\mathbf{c}^T)$.\n",
    "\n",
    "We label the variables of the dual linear program using the two resource constraints: $\\mathbf{y} = \\begin{bmatrix}\n",
    "y_l \\\\ y_c \\\\ y_b\n",
    "\\end{bmatrix}$ where $y_l$ denotes the unit price of a lot, $y_c$ denotes the unit price of carpentry labor, and $y_b$ denotes the unit price of bricklayer labor.\n",
    "\n",
    "So the objective function for the dual system is given by\n",
    "$$\\mathbf{b}^T \\cdot \\begin{bmatrix}\n",
    "y_l \\\\ y_b \\\\ y_c\n",
    "\\end{bmatrix} = 100y_l + 12000y_b + 13000y_c$$ \n",
    "and the inequality constraints are given by\n",
    "$$A^T \\cdot  \\begin{bmatrix}\n",
    "y_l \\\\ y_b \\\\ y_c\n",
    "\\end{bmatrix} \\ge \\mathbf{c}^T = \\begin{bmatrix} 5100 \\\\ 5000 \\end{bmatrix}$$"
   ]
  },
  {
   "cell_type": "code",
   "execution_count": 4,
   "metadata": {},
   "outputs": [
    {
     "name": "stdout",
     "output_type": "stream",
     "text": [
      "** primal:\n",
      "      con: array([], dtype=float64)\n",
      "     fun: -501999.99949602375\n",
      " message: 'Optimization terminated successfully.'\n",
      "     nit: 6\n",
      "   slack: array([1.00372574e-07, 1.21506564e-05, 2.40000001e+03])\n",
      "  status: 0\n",
      " success: True\n",
      "       x: array([19.99999998, 79.99999992]) \n",
      "\n",
      "-----------\n",
      "\n",
      "\n",
      "** dual:\n",
      "      con: array([], dtype=float64)\n",
      "     fun: 501999.9998959654\n",
      " message: 'Optimization terminated successfully.'\n",
      "     nit: 6\n",
      "   slack: array([-1.05458003e-06, -1.04126411e-06])\n",
      "  status: 0\n",
      " success: True\n",
      "       x: array([4.90000000e+03, 1.00000000e+00, 1.49202321e-10])\n"
     ]
    }
   ],
   "source": [
    "from scipy.optimize import linprog\n",
    "import numpy as np\n",
    "\n",
    "c = np.array([5100,5000])\n",
    "A = np.array([[1,1],[200,100],[50,120]])\n",
    "b = np.array([100,12000,13000])\n",
    "\n",
    "primal = linprog((-1)*c,A_ub = A,b_ub = b)\n",
    "\n",
    "dual = linprog(b,A_ub = (-1)*A.T,b_ub = (-1)*c)\n",
    "\n",
    "print(\"** primal:\\n\",primal,\"\\n\\n-----------\\n\\n\")\n",
    "print(\"** dual:\\n\",dual)"
   ]
  },
  {
   "cell_type": "markdown",
   "metadata": {},
   "source": [
    "So ``scipy`` confirms that an optimal solution  to the primal linear system is\n",
    "\n",
    "$$\\mathbf{x}^* = \\begin{bmatrix} C \\\\ R \\end{bmatrix} = \\begin{bmatrix} 20 \\\\ 80 \\end{bmatrix}$$\n",
    "\n",
    "Note that $\\mathbf{c} \\cdot \\begin{bmatrix} 20 \\\\ 80 \\end{bmatrix} = \\$502,000$\n",
    "\n",
    "And an optimal solution to the dual linear system is\n",
    "\n",
    "$$\\mathbf{y}^* = \\begin{bmatrix} y_l \\\\ y_b \\\\ y_c \\end{bmatrix} = \\begin{bmatrix} 4900 \\\\ 1 \\\\0\\end{bmatrix}$$\n",
    "\n",
    "------\n",
    "\n",
    "Let's try to understand what the *slack vectors* are telling us.\n",
    "\n",
    "Let's compute\n",
    "$$(\\mathbf{b} - A\\mathbf{x}^*) \\quad \\text{and} \\quad ((\\mathbf{y}^*)^TA - \\mathbf{c})$$\n"
   ]
  },
  {
   "cell_type": "code",
   "execution_count": 5,
   "metadata": {},
   "outputs": [
    {
     "name": "stdout",
     "output_type": "stream",
     "text": [
      "[1.00372574e-07 1.21506564e-05 2.40000001e+03]\n",
      "[-1.05458003e-06 -1.04126411e-06]\n"
     ]
    }
   ],
   "source": [
    "xstar = primal.x    # we get the vector from the .x member of the \n",
    "                    # class returned by linprog\n",
    "    \n",
    "ystar = dual.x\n",
    "\n",
    "slack_primal = b - A@xstar\n",
    "slack_dual = ystar@A - c\n",
    "\n",
    "print(slack_primal)\n",
    "print(slack_dual)\n"
   ]
  },
  {
   "cell_type": "markdown",
   "metadata": {},
   "source": [
    "We focus on \n",
    "$$(\\mathbf{b} - A\\mathbf{x}^*) \\approx \\begin{bmatrix} 0 \\\\ 0 \\\\ 2400 \\end{bmatrix}$$\n",
    "\n",
    "First, this confirms (at least part of) the complementary slackness result; indeed,\n",
    "$$(\\mathbf{b} - A\\mathbf{x}^*)^T \\cdot \\mathbf{y}^* =  \\begin{bmatrix}\n",
    "0 & 0 & 2400\\end{bmatrix} \\cdot \\begin{bmatrix} 4900 \\\\ 1 \\\\0\\end{bmatrix} = 0.$$\n",
    "\n",
    "In general, *one says that the constraints -- or the dual variables -- corresponding to zero entries of the slack vector are binding*. \n",
    "\n",
    "In this case, the first and second entries of the slack variable $\\mathbf{b} - A\\mathbf{x}^*$ are zero, and hence the \"lots\" and \"carpentry\" constraints are binding; the resulting dual prices are 4900 for lots and 1 for carpentry.\n",
    "But we have an oversupply of available bricklaying, and thus the dual price for bricklaying is 0.\n",
    "\n",
    "As some heuristic evidence for why we see the result we do, note that Cape Cod houses are more profitable, but require more carpentry.\n",
    "\n",
    "Understanding the dual prices\n",
    "=============================\n",
    "Let's try to understand the meanining of the dual prices in this case.\n",
    "The *dual price lemma* -- see the slide below -- shows that -- roughly speaking -- the dual price\n",
    "predicts the change in the objective function if the right-hand side of the constraint inequality changes by 1.\n",
    "\n",
    "Imagine that the owner of 15 lots adjacent to the development describe above offers to sell them for \\\\$60,000 total. Should you buy them?\n",
    "\n",
    "Well, this amounts to changing the inequality $C+R \\le 100$ to $C+R \\le 115$.\n",
    "Since the dual price of lots is \\\\$4900, we predict a gain in profit of\n",
    "\\\\$ $4900 \\times 15$. For total price \\\\$60,000 for the 15 lots amounts to a per-lot price of \\\\$4000 per lot.\n",
    "\n",
    "So, if the prediction is correct, we would make a profit of \\\\$900 per lot!\n",
    "\n",
    "Re-reading the fine print on the lemma below, however, we actually see that it isn't quite true \"on the nose\" that changes in the constraint values cause the objective function to increases by the corresponding multiple of the dual price -- in fact, that increase is only an \"upper bound\" (however, see the remark below the lemma for some justification for why it is not an unreasonable estimate to use).\n",
    "\n",
    "In fact, re-running the linear program after replacing the inequality constraint by $C+R \\le 115$, \n",
    "our profits increase from \\\\$502,000 to \\\\$563,895\n",
    "i.e. by roughly \\\\$62,000. After we spend the \\\\$60,000 on the new lots,\n",
    "we only net \\\\$2,000. So we make considerably less than the estimated \n",
    "\\\\$ $900 \\times 15 = 13,500$.\n",
    "\n",
    "\n",
    "\n",
    "\n"
   ]
  },
  {
   "cell_type": "code",
   "execution_count": 6,
   "metadata": {},
   "outputs": [
    {
     "data": {
      "text/plain": [
       "[array([  7.36842105, 105.26315789]),\n",
       " -563894.7368044334,\n",
       " array([2.36842106e+00, 8.07409378e-07, 8.64250978e-07]),\n",
       " array([1.26503367e-11, 1.90526316e+01, 2.57894737e+01])]"
      ]
     },
     "execution_count": 6,
     "metadata": {},
     "output_type": "execute_result"
    }
   ],
   "source": [
    "bprime = b + np.array([15,0,0])\n",
    "\n",
    "primal_tweaked = linprog((-1)*c,A_ub = A,b_ub = bprime)\n",
    "\n",
    "dual_tweaked   = linprog(bprime,A_ub = (-1)*A.T,b_ub = (-1)*c)\n",
    "\n",
    "[primal_tweaked.x, primal_tweaked.fun, primal_tweaked.slack, dual_tweaked.x]"
   ]
  },
  {
   "cell_type": "markdown",
   "metadata": {},
   "source": [
    "As a final comment, one can recompute the slack vector for the \"new\" linear program (with $C+R \\le 115$) - one now finds no slack at all in either of the labor contraints (so they are both *binding*), but there is now slack in the *lot* constraint, which reflects an \"oversupply\" of lots."
   ]
  },
  {
   "cell_type": "code",
   "execution_count": null,
   "metadata": {},
   "outputs": [],
   "source": []
  },
  {
   "cell_type": "markdown",
   "metadata": {},
   "source": [
    "Dual price lemma\n",
    "----------------\n",
    "\n",
    "Let's consider again a linear program $\\mathcal{L}$ in standard form given by data $(\\mathbf{c},A,\\mathbf{b})$.\n",
    "\n",
    "Let $\\Delta \\mathbf{b} \\in \\mathbb{R}^r$ be a small perturbation of $\\mathbf{b} \\in \\mathbb{R}^r$.\n",
    "\n",
    "**Lemma:** Suppose that $\\mathbf{x}^*$ is an optimal solution to the linear program $\\mathcal{L}$ and that $\\mathbf{x}'$ is an optimal solution to the linear program\n",
    "$\\mathcal{L}_\\Delta$ given by the data $(\\mathbf{c},A,\\mathbf{b} + \\Delta \\mathbf{b})$.\n",
    "Then \n",
    "\n",
    "$$\\mathbf{c} \\cdot \\mathbf{x'} \\le \\mathbf{c} \\cdot \\mathbf{x}^* + \\Delta \\mathbf{b}^T \\cdot \\mathbf{y}^*$$\n",
    "\n",
    "where $\\mathbf{y}^*$ is an optimal solution to the dual linear system $\\mathcal{L}'$.\n",
    "\n",
    "\n",
    "**Remark** One can actually prove equality in the lemma provided that\n",
    "the perturbation $\\Delta \\mathbf{b}$ vector is \"small enough\".\n",
    "\n",
    "**Proof of Lemma:**\n",
    "\n",
    "Note that the constraints of the unaltered dual $\\mathcal{L}'$ are the same as those of the altered dual $\\mathcal{L}_a'$. Thus, an optimal solution $\\mathbf{y}^*$ for $\\mathcal{L}'$ is at least feasible for $\\mathcal{L}_a'$.\n",
    "\n",
    "So we may apply the weak duality theorem to see that\n",
    "\n",
    "$$(*) \\quad \\mathbf{c} \\cdot \\mathbf{x}' \\le (\\mathbf{b} + \\Delta \\mathbf{b})^T \\cdot \\mathbf{y}^*\n",
    "= \\mathbf{b}^T \\cdot \\mathbf{y}^* + \\Delta \\mathbf{b}^T \\cdot \\mathbf{y}^*.$$\n",
    "\n",
    "However, by strong duality of the unaltered linear programs, we have\n",
    "$$\\mathbf{c} \\cdot \\mathbf{x}^* = \\mathbf{b}^T \\cdot \\mathbf{y}^*;$$\n",
    "substituting in $(*)$ we find\n",
    "$$ \\mathbf{c} \\cdot \\mathbf{x}' \\le \\mathbf{c} \\cdot \\mathbf{x}^* + \\Delta \\mathbf{b}^T \\cdot \\mathbf{y}^*$$ \n",
    "as required.\n",
    "**QED**"
   ]
  },
  {
   "cell_type": "code",
   "execution_count": null,
   "metadata": {},
   "outputs": [],
   "source": []
  }
 ],
 "metadata": {
  "jupytext": {
   "formats": "ipynb,md"
  },
  "kernelspec": {
   "display_name": "Python 3",
   "language": "python",
   "name": "python3"
  },
  "language_info": {
   "codemirror_mode": {
    "name": "ipython",
    "version": 3
   },
   "file_extension": ".py",
   "mimetype": "text/x-python",
   "name": "python",
   "nbconvert_exporter": "python",
   "pygments_lexer": "ipython3",
   "version": "3.7.3"
  }
 },
 "nbformat": 4,
 "nbformat_minor": 4
}
