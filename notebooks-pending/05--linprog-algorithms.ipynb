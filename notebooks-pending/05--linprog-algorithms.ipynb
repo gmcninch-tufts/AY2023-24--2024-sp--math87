{
 "cells": [
  {
   "cell_type": "markdown",
   "metadata": {
    "slideshow": {
     "slide_type": "slide"
    }
   },
   "source": [
    "Math087 - Mathematical Modeling\n",
    "===============================\n",
    "[Tufts University](http://www.tufts.edu) -- [Department of Math](http://math.tufts.edu)  \n",
    "[George McNinch](http://gmcninch.math.tufts.edu) <george.mcninch@tufts.edu>  \n",
    "*Fall 2020*\n",
    "\n",
    "Course material (Week 5): Overview on the simplex algorithm\n",
    "-------------------------------------------------------------"
   ]
  },
  {
   "cell_type": "markdown",
   "metadata": {
    "slideshow": {
     "slide_type": "slide"
    }
   },
   "source": [
    "How does one solve a linear program??\n",
    "=====================================\n",
    "\n",
    "When we first introduced linear programs, we observed that one might hope to solve them just by *brute force*.\n",
    "Let's consider a linear program $\\mathcal{L}$ in standard form given by $$(\\mathbf{c} \\in \\mathbb{R}^{1 \\times n},A \\in \\mathbb{R}^{r\\times n},\\mathbf{b} \\in \\mathbb{R}^r);$$\n",
    "thus the variable $\\mathbf{x} \\in \\mathbb{R}^n$ satisfies $\\mathbf{0} \\le \\mathbf{x}$ and $A\\mathbf{x} \\le \\mathbf{b}$.\n",
    "\n",
    "The rows of the matrix $A$ -- as well as the condition $\\mathbf{x} \\ge \\mathbf{0}$ -- correspond to inequalities involving linear equations in the coefficients of $\\mathbf{x}$. One expects to optimize the objective function $\\mathbf{c} \\mathbf{x}$ at intersection points of a collection of these $r$ linear equations.\n",
    "\n",
    "We pointed out that one would expect to have to check roughly $\\dbinom{r}{n}$ intersection points to solve the linear program by *brute force*, and that this presents an unreasonably large number of required calculations even when $r$ and $n$ don't seem *so* big.\n",
    "\n"
   ]
  },
  {
   "cell_type": "markdown",
   "metadata": {
    "slideshow": {
     "slide_type": "subslide"
    }
   },
   "source": [
    "So far, our treatment of linear programs so far has mainly focused on other issues:\n",
    "\n",
    "- how to reformulate them (\"eliminate equality constraints\")\n",
    "- how to describe them via network flow diagrams\n",
    "- how to understand the relation between a linear program and its dual linear program\n",
    "\n",
    "so we haven't really considered the question \"how are linear programs solved?\".\n",
    "\n",
    "A nice achievement of 20th century mathematics was a formulation of several algorithms for solving linear programs more efficiently than *brute force*. In fact, ``python``'s ``scipy`` library uses one (actually: it can use several) of these algorithms -- by default it uses the so-called [simplex algorithm](https://en.wikipedia.org/wiki/Simplex_algorithm).\n",
    "\n",
    "I don't want to try to completely explain any of this algorithm, but I wanted to at least make a few comments about it in this brief notebook."
   ]
  },
  {
   "cell_type": "markdown",
   "metadata": {
    "slideshow": {
     "slide_type": "slide"
    }
   },
   "source": [
    "Augmented form\n",
    "==============\n",
    "\n",
    "Recall that we've obsered that we can eliminate equality constraints in a linear program, and thus put it in what we've called *standard form* (a notion that so far was mainly interesting for us because of its role in defining the dual linear program).\n",
    "\n",
    "We now observe that on the other hand we can replace inequality constraints with equality constraints, at the expense of increasing the number of variables we consider. In fact, we've already met this notion -- some of these new variables are precisely the *slack variables* we mentioned in our discussion of *complementary slackness*."
   ]
  },
  {
   "cell_type": "markdown",
   "metadata": {
    "slideshow": {
     "slide_type": "subslide"
    }
   },
   "source": [
    "Consider the linear program $\\mathcal{L}$ from above. Recall that the\n",
    "slack variables are defined by $$\\mathbf{z} = \\begin{bmatrix} z_1 \\\\\n",
    "z_2 \\\\ \\vdots \\\\ z_r \\end{bmatrix} = \\mathbf{b} - A\\mathbf{x}.$$\n",
    "\n",
    "We observe that  $$A\\mathbf{x} \\le \\mathbf{b} \\quad \\text{if and only if} \\quad \\mathbf{z} \\ge \\mathbf{0}.$$"
   ]
  },
  {
   "cell_type": "markdown",
   "metadata": {
    "slideshow": {
     "slide_type": "subslide"
    }
   },
   "source": [
    "\n",
    "We now consider the \"new\" variable vector\n",
    "$$\\mathbf{w} = \\begin{bmatrix} v \\\\ \\mathbf{x} \\\\ \\mathbf{z} \\end{bmatrix}  \\in \\mathbb{R}^{n + r + 1}$$\n",
    "and the $(1+r) \\times (1 + n + r)$  matrix\n",
    "$$B = \\begin{bmatrix} \n",
    "       1 & -\\mathbf{c} & \\mathbf{0}_{1 \\times r} \\\\\n",
    "       \\mathbf{0} & A & I_{r \\times r}\n",
    "      \\end{bmatrix}$$\n",
    " "
   ]
  },
  {
   "cell_type": "markdown",
   "metadata": {
    "slideshow": {
     "slide_type": "subslide"
    }
   },
   "source": [
    "We note that \n",
    "$$B \\mathbf{w} =  \\begin{bmatrix} \n",
    "       1 & -\\mathbf{c} & \\mathbf{0} \\\\\n",
    "       \\mathbf{0} & A & I_r\n",
    "      \\end{bmatrix}\\cdot \\begin{bmatrix} v \\\\ \\mathbf{x} \\\\ \\mathbf{z} \\end{bmatrix} = \n",
    "  \\begin{bmatrix}\n",
    "    v - \\mathbf{c} \\mathbf{x} \\\\\n",
    "    A\\mathbf{x} + \\mathbf{z}\n",
    "\\end{bmatrix}$$ \n",
    "so that the condition\n",
    "$$B \\mathbf{w} = \\begin{bmatrix} 0 \\\\ \\mathbf{b} \\end{bmatrix}$$\n",
    "means that the coefficient $v$ of $\\mathbf{w}$ is equal to the value $\\mathbf{c} \\mathbf{x}$ of the objective function of $\\mathcal{L}$, and that $\\mathbf{z} = \\mathbf{b} - A\\mathbf{x}$.\n",
    "Moreover, insisting that $\\mathbf{w} \\ge 0$ amounts to the condition(s) that $v \\ge 0$, that $\\mathbf{x} \\ge 0$\n",
    "and that $\\mathbf{z} \\ge 0$ so that $A \\mathbf{x} \\le \\mathbf{b}$."
   ]
  },
  {
   "cell_type": "markdown",
   "metadata": {
    "slideshow": {
     "slide_type": "subslide"
    }
   },
   "source": [
    "Thus in trying to solve $\\mathcal{L}$ we may -- if we wish -- replace $\\mathcal{L}$ by an *equivalent* linear program with  in general more variables and only equality constraints. Moreover, we may as well suppose that the objective function is *equal to* one of the variables ($v$ in the above discussion)."
   ]
  },
  {
   "cell_type": "markdown",
   "metadata": {
    "slideshow": {
     "slide_type": "slide"
    }
   },
   "source": [
    "Example\n",
    "=======\n",
    "\n",
    "Consider the linear program ``maximize`` $\\mathbf{c} \\mathbf{x}$ where\n",
    "\n",
    "$\\mathbf{c} = \\begin{bmatrix} 5 & 4 & 3\\end{bmatrix}, \\quad \\mathbf{x} \\ge 0$\n",
    "\n",
    "$A=\\begin{bmatrix}\n",
    "   2 & 3 & 1 \\\\\n",
    "   4 & 1 & 2 \\\\\n",
    "   3 & 4 & 2\n",
    " \\end{bmatrix}$, $\\mathbf{b} = \\begin{bmatrix} 5 \\\\ 11 \\\\ 8 \\end{bmatrix}$, and $A \\mathbf{x} \\le \\mathbf{b}$.\n",
    "\n",
    "Thus we form $\\mathbf{w} = \\begin{bmatrix} v \\\\ \\mathbf{x} \\\\ \\mathbf{z} \\end{bmatrix} = \n",
    "\\begin{bmatrix} v & x_1 & x_2 & x_3 & z_1 & z_2 & z_3\\end{bmatrix}^T$, and\n",
    "$$B =  \n",
    "\\begin{bmatrix} \n",
    "  1 & -\\mathbf{c} & \\mathbf{0} \\\\\n",
    "  \\mathbf{0} & A & I_r\n",
    "\\end{bmatrix}\n",
    "=\\begin{bmatrix}\n",
    "  1 & -5 & -4 & -3 & 0 & 0 & 0 \\\\\n",
    "  0 & 2 & 3 & 1 & 1 & 0 & 0 \\\\\n",
    "  0 & 4 & 1 & 2  & 0 & 1 & 0 \\\\\n",
    "  0 & 3 & 4 & 2 & 0 & 0 & 1 \n",
    " \\end{bmatrix}$$\n",
    "\n"
   ]
  },
  {
   "cell_type": "markdown",
   "metadata": {
    "slideshow": {
     "slide_type": "subslide"
    }
   },
   "source": [
    "\n",
    "and we consider the linear program:\n",
    "``maximize`` $v$ for $\\mathbf{w} = \\begin{bmatrix} v \\\\ \\mathbf{x} \\\\ \\mathbf{z} \\end{bmatrix} \\ge 0$ subject to \n",
    "$B \\mathbf{w} = \\begin{bmatrix}\n",
    "0 & 5 & 11 & 8 \n",
    "\\end{bmatrix}^T$."
   ]
  },
  {
   "cell_type": "markdown",
   "metadata": {
    "slideshow": {
     "slide_type": "slide"
    }
   },
   "source": [
    "“Pivoting”\n",
    "============\n",
    "\n",
    "We've just seen that we as well consider a linear program in the variable vector $\\mathbf{x} \\ge \\mathbf{0}$ subject to an equality\n",
    "constraint $B \\mathbf{x} = \\mathbf{b}$ where our goal is to maximize the value of the variable $x_1$ -- note that we can\n",
    "view the coefficients of $\\mathbf{x}$ as \"variables\".\n",
    "\n",
    "For a given feasible point, we say that the variables that take a value of zero are *non-basic*, and all the other variables are *basic*.\n",
    "\n",
    "The goal is to perform an operation we'll call a *pivot*.\n",
    "\n",
    "Rather than explain this operation, I just want to quickly examine it in the context of the preceding example, for some choice of feasible point.\n",
    "\n"
   ]
  },
  {
   "cell_type": "markdown",
   "metadata": {
    "slideshow": {
     "slide_type": "subslide"
    }
   },
   "source": [
    "Rather than explain this pivot operation, I just want to quickly examine it in the context of the preceding example, for some choice of feasible point.\n",
    "\n",
    "Note that $\\mathbf{w}_0 = \\begin{bmatrix} 0 & 0 & 0 & 0 & 5 & 11 & 8 \\end{bmatrix}^T$ is a feasible point\n",
    "since $B \\mathbf{w}_0 = \\begin{bmatrix} 0 & 5 & 11 & 8 \\end{bmatrix}^T$.\n",
    "\n",
    "For this choice of feasible point, the non-basic variables are ($v$ and) $x_1,x_2,x_3$ and the basic variables are $z_1,z_2,z_3$.\n",
    "\n",
    "Now, the idea is to exchange the point $\\mathbf{w}_0$ for another feasible point $\\mathbf{w}_1$ with properties:\n",
    "- the $v$-coordinate of $\\mathbf{w}_1$ is larger than that of $\\mathbf{w}_0$ (i.e. the objecive function increases)\n",
    "- the set of basic variables for $\\mathbf{w}_1$ differs from those for $\\mathbf{w}_0$ by exactly one variable.\n",
    "\n",
    "Such an exchange is what is meant by a \"pivot\".\n",
    "\n",
    "So roughly speaking, a \"pivot\" depends on the choice of a variable (i.e. an index).\n",
    "\n",
    "\n"
   ]
  },
  {
   "cell_type": "markdown",
   "metadata": {
    "slideshow": {
     "slide_type": "subslide"
    }
   },
   "source": [
    "It turns out (I'm not going to give the details of why!) that one possible $\\mathbf{w}_1$ resulting from a pivot in this case is\n",
    "$$\\mathbf{w}_1 = \\begin{bmatrix} 25/2 & 5/2 & 0 & 0 & 0 & 1 & 1/2 \\end{bmatrix}^T$$\n",
    "(note that $z_1,x_2,x_3$ are non-basic, $x_1,z_2,z_3$ are basic, and $v = 25/2$ increased from $\\mathbf{w}_0$).\n",
    "\n",
    "The important observation (which I'm not at all explaining here!) is that if such a choice $\\mathbf{w}_1$ is not possible, then the optimal value of the objective function is already attained at $\\mathbf{w}_0$. \n",
    "\n",
    "So very roughly speaking: if one understands how to perform the pivot operation - and in particular, how to determine whether or not a pivot is possible -- then one knows how to iterate and implement the simplex method.\n",
    "\n",
    "And it turns out that the simplex method gives an effective way of solving a linear program.  Indeed, on average the number of steps in the \"algorithm\"\n",
    "\n",
    "```\n",
    "start with a feasible point;\n",
    "replace by pivoting;\n",
    "iterate until no pivot is possible\n",
    "``` \n",
    "\n",
    "is given by a quadratic polynomial in the quantity $\\min(n,r)$."
   ]
  },
  {
   "cell_type": "code",
   "execution_count": null,
   "metadata": {},
   "outputs": [],
   "source": []
  }
 ],
 "metadata": {
  "jupytext": {
   "formats": "ipynb,md"
  },
  "kernelspec": {
   "display_name": "Python 3",
   "language": "python",
   "name": "python3"
  },
  "language_info": {
   "codemirror_mode": {
    "name": "ipython",
    "version": 3
   },
   "file_extension": ".py",
   "mimetype": "text/x-python",
   "name": "python",
   "nbconvert_exporter": "python",
   "pygments_lexer": "ipython3",
   "version": "3.7.3"
  }
 },
 "nbformat": 4,
 "nbformat_minor": 4
}
