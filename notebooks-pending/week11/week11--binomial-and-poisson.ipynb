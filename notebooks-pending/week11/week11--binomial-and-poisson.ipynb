{
 "cells": [
  {
   "cell_type": "markdown",
   "metadata": {
    "slideshow": {
     "slide_type": "slide"
    }
   },
   "source": [
    "Math087 - Mathematical Modeling\n",
    "===============================\n",
    "[Tufts University](http://www.tufts.edu) -- [Department of Math](http://math.tufts.edu)  \n",
    "[George McNinch](http://gmcninch.math.tufts.edu) <george.mcninch@tufts.edu>  \n",
    "*Fall 2020*\n",
    "\n",
    "Course material (Week 11): Binomial & Poisson distributions\n",
    "----------------------------------------------------------------"
   ]
  },
  {
   "cell_type": "markdown",
   "metadata": {
    "slideshow": {
     "slide_type": "slide"
    }
   },
   "source": [
    "Intro\n",
    "=====\n",
    "\n",
    "Recall that while modeling *Jane's Fish Tank Emporium*, we stipulated that \"on average, there is one customer per week\" meant that there was a ``1/7`` chance per day of a customer arriving.  With this formulation, there could *never* be 2 customers in a day. On the other hand, that may not be a reasonable assumption.\n",
    "\n",
    "In this notebook, we are going to talk about more sophisticated probabilistic descriptions.\n",
    "\n",
    "We'll start by discussing the JFTE example.\n"
   ]
  },
  {
   "cell_type": "markdown",
   "metadata": {
    "slideshow": {
     "slide_type": "slide"
    }
   },
   "source": [
    "JFTE, revisited\n",
    "================\n",
    "\n",
    "Recall our asusmption is that the probability of a customer visiting the store each day is ``p = 1/7``.\n",
    "\n",
    "Suppose the store has a 4-hour morning shift and a 4-hour afternoon shift, and suppose that a customer is equally likely to come in the morning shift as in the afternoon shift. \n",
    "\n",
    "Then the probability that a customer arrives in the morning shift is $\\dfrac{1}{2}\\cdot\\dfrac{1}{7} = \\dfrac{1}{14}$ and similarly the probability that a customer arrives in the afternoon shift is $\\dfrac{1}{14}$.\n",
    "\n",
    "But under this description, it is now possible to have 2 customers arrive in a day. In fact,\n",
    "the probability of seeing 0, 1 or 2 customers in a day is given by the following table:\n",
    "\n",
    "\n",
    "| # customers  | probability  |\n",
    "| :---------:  | ----: |\n",
    "| 0            | $\\dfrac{13 \\cdot 13 }{14 \\cdot 14}$ |\n",
    "| 1            | $\\dfrac{2 \\cdot 13}{14 \\cdot 14}$   |\n",
    "| 2            | $\\dfrac{1}{14 \\cdot 14}$ |\n",
    "\n",
    "\n"
   ]
  },
  {
   "cell_type": "markdown",
   "metadata": {
    "slideshow": {
     "slide_type": "subslide"
    }
   },
   "source": [
    "\n",
    "Let's compute the *expected value* for the random variable $A$ representing \"number of customers arriving in a day\":\n",
    "\n",
    "$$E(A) = 0 \\cdot \\dfrac{13^2}{14^2}  + 1 \\cdot \\dfrac{2 \\cdot 13}{14 \\cdot 14} + 2 \\dfrac{1}{14^2} = \\dfrac{2}{14} = \\dfrac{1}{7}$$\n",
    "\n",
    "Thus the expected value for the day agrees with the earlier assumption."
   ]
  },
  {
   "cell_type": "markdown",
   "metadata": {
    "slideshow": {
     "slide_type": "slide"
    }
   },
   "source": [
    "More subdivision\n",
    "================\n",
    "\n",
    "Consider instead 4 shifts each of length 2-hours (\"early morning\", \"late morning\", \"early afternoon\", ...) and again suppose that the likelihood of customer arrival is the same for all four shifts. Thus the probability with which a customer arrives during any of the four 2-hour shifts is:\n",
    "\n",
    "$$p_4 = \\dfrac{1}{2}\\cdot \\dfrac{1}{14} = \\dfrac{1}{2^2} \\dfrac{1}{7} = \\dfrac{1}{28}.$$\n",
    "\n",
    "With this description, it is now possible to have 4 customers arrive during a day; this will happen\n",
    "with probabilty\n",
    "\n",
    "$$(p_4)^4 = \\dfrac{1}{28^4}$$\n",
    "\n",
    "\n"
   ]
  },
  {
   "cell_type": "markdown",
   "metadata": {
    "slideshow": {
     "slide_type": "subslide"
    }
   },
   "source": [
    "\n",
    "With what probability do we see 3 customers? Well, this situation will correspond to the arrival of a customer in all but one of the shifts. Now, the probability of having a customer in each shift except (say) the morning shift is\n",
    "\n",
    "$$p_4^3 \\cdot (1-p_4) = \\dfrac{1}{28^3} \\cdot \\left(\\dfrac{27}{28}\\right)$$\n",
    "\n",
    "Thus the probability of having exactly 3 customers arrive in a day is\n",
    "\n",
    "$$4 \\cdot (p_4)^3 \\cdot (1-p_4)$$"
   ]
  },
  {
   "cell_type": "markdown",
   "metadata": {
    "slideshow": {
     "slide_type": "slide"
    }
   },
   "source": [
    "The Binomial Theorem\n",
    "====================\n",
    "\n",
    "Let $X,Y$ be variables, and let $n \\ge 1$ be a whole number. Then\n",
    "\n",
    "$$(X+Y)^n = X^n + \\dbinom{n}{1}X^{n-1}Y + \\dbinom{n}{2}X^{n-2}Y^2 + \\cdots + \\dbinom{n}{n-2} X^2 Y^{n-2} + \\dbinom{n}{n-1} X Y^{n-1} + Y^n$$\n",
    "\n",
    "$$= \\sum_{m=0}^n \\dbinom{n}{m} X^{n-m} Y^m$$\n",
    "\n",
    "where the *binomial coefficients* are given by the formula\n",
    "\n",
    "$$\\dbinom{n}{m} = \\dfrac{n!}{m!(n-m)!}$$\n",
    "\n",
    "For example, since $\\dbinom{4}{2} = 6$ and $\\dbinom{4}{3} = 4$, we have\n",
    "\n",
    "$$(X+Y)^4 = X^4 + 4 X^3Y  + 6 X^2Y^2 + 4 X Y^3 + Y^4$$"
   ]
  },
  {
   "cell_type": "markdown",
   "metadata": {
    "slideshow": {
     "slide_type": "subslide"
    }
   },
   "source": [
    "Return to example:\n",
    "==================\n",
    "\n",
    "For $n$ shifts each day, write $p_n = \\dfrac{1}{n} \\cdot \\dfrac{1}{7} = \\dfrac{1}{7n}$.\n",
    "\n",
    "Then the probability that $0 \\le m \\le n$ customers arrive during the day is given by the product \n",
    "\n",
    "$$(\\clubsuit) \\quad \\dbinom{n}{m} (p_n)^m (1-p_n)^{n-m}$$\n",
    "\n",
    "Indeed, let's represent the outcome symbolically as a list of length $n$, where each member of the list is either the symbol ``1`` or the symbol ``0``.\n",
    "\n",
    "Thus if $n=5$, the list\n",
    "$[1,0,0,1,0]$\n",
    "represents the outcome \"a customer arrived in the first and fourth shifts, and no customers arrived in the remaining shifts\".\n",
    "\n"
   ]
  },
  {
   "cell_type": "markdown",
   "metadata": {
    "slideshow": {
     "slide_type": "subslide"
    }
   },
   "source": [
    "\n",
    "Now, the probability with which a given list $[a_1,a_2,\\dots,a_n]$ occurs is $(p_n)^m (1-p_n)^{n-m}$ where\n",
    "$m$ is the number of indices $i$ for which $a_i = 1$.\n",
    "And to find the probability that $m$ customers arrive during a given day, one needs to add the probabilities for all such lists' this sum is evidently just the product of the *number* of such lists and the quantity $(p_n)^m (1-p_n)^{n-m}$.\n",
    "\n",
    "Thus, $(\\clubsuit)$ amounts to the assertion that $\\dbinom{n}{m}$ is equal to the number of lists $[a_1,a_2,\\dots,a_n]$ with $a_i \\in \\{0,1\\}$  for which $m = \\#\\{i \\mid a_i = 1\\}$.\n",
    "\n",
    "**Remark**:\n",
    "Thus the binomial coefficient $\\dbinom{n}{m}$ \"counts\" the number of ways of choosing $m$ things from a list of $n$ things.\n",
    "\n",
    "**Remark**:\n",
    "Think about \"FOILing\" the expression $(X+Y)^n = (X+Y)(X+Y)^{n-1}$. The coefficient of $X^mY^{n-m}$ in this  expression is a sum of terms\n",
    "which arise from lists $[a_1,a_2,\\dots,a_n]$ as above, where $m = \\#\\{i \\mid a_i = 1\\}$. \n",
    "\n",
    "E.g. if $n=7$, the list $[0,0,1,1,1,0,1]$ determines the terrm $Y\\cdot Y \\cdot X \\cdot X \\cdot X \\cdot Y \\cdot X = X^4Y^3$.\n",
    "\n",
    "--------------"
   ]
  },
  {
   "cell_type": "markdown",
   "metadata": {
    "slideshow": {
     "slide_type": "subslide"
    }
   },
   "source": [
    "\n",
    "Observe that $(\\clubsuit)$ together with the binomial Theorem tell us that the probabilities we have found sum to 1:\n",
    "\n",
    "$$\\sum_{m=0}^n \\dbinom{n}{m} (p_n)^{n-m} (1-p_n)^m = (1-p_n + p_n)^n = 1^n = 1$$\n",
    "\n",
    "(use $X = p_n$ and $Y = (1-p_n)$).\n",
    "\n",
    "Consider the *$Y$-partial derivative* of the expression for $(X+Y)^n$ given by the binomial theorem. One finds that\n",
    "\n",
    "$$n(X+Y)^{n-1} = \\sum_{m=1}^n m\\dbinom{n}{m}X^{n-m}Y^{m-1}\n",
    "=\\sum_{m=0}^n m\\dbinom{n}{m}X^{n-m}Y^{m-1}$$\n",
    "\n",
    "\n",
    "so that\n",
    "$$(\\diamondsuit) \\quad nY(X+Y)^{n-1} = \\sum_{m=0}^n m\\dbinom{n}{m}X^{n-m}Y^m$$\n",
    "\n",
    "\n"
   ]
  },
  {
   "cell_type": "markdown",
   "metadata": {
    "slideshow": {
     "slide_type": "subslide"
    }
   },
   "source": [
    "\n",
    "\n",
    "For $n$ shifts in a day, use $(\\clubsuit)$ to see that the expected value for the number of customers arriving in a day is given by\n",
    "\n",
    "$$E(A) = \\sum_{i=0}^n i \\cdot \\dbinom{n}{i} (p_n)^i (1-p_n)^{n-i}$$\n",
    "\n",
    "Using $(\\diamondsuit)$ with $Y = p_n$ and $X = (1-p_n)$, find that\n",
    "\n",
    "$$E(A) = n \\cdot p_n = p_1$$\n",
    "\n",
    "i.e. in the example $E(A) = \\dfrac{1}{7}$ is the \"daily probability\" we've seen before."
   ]
  },
  {
   "cell_type": "markdown",
   "metadata": {
    "slideshow": {
     "slide_type": "slide"
    }
   },
   "source": [
    "Binomial distribution\n",
    "=====================\n",
    "\n",
    "Consider a random variable $B$ representing the outcome of a \"binomial experiment\" -- thus there are two outcomes: \"succeed\" and \"fail\", with \"succeed\" occuring with probability $0 < p < 1$ and \"fail\" occuring with probability $1-p$.\n",
    "\n",
    "Now, we consider $n$ trials of the binomial experiment, and we write $X_n$ for the discrete random variable that represents the number of successes from the $n$ trials.\n",
    "\n",
    "Just like our \"customer arrival\" setting, $X_n$ is determined by the binomial distribution. Namely,\n",
    "the probability $P(X_n=m)$ representing the probability of $m$ successes in $n$ trials\n",
    "is given by the formula\n",
    "\n",
    "$$P(X_n = m) = \\dbinom{n}{m} p^m (1-p)^{n-m}.$$\n"
   ]
  },
  {
   "cell_type": "markdown",
   "metadata": {
    "slideshow": {
     "slide_type": "subslide"
    }
   },
   "source": [
    "\n",
    "A good example of the binomial distribution arises when $B$ is the toss of a fair coin -- so that $p = \\dfrac{1}{2}$. In this case, the value of $X_n$ reflects (say) the number of heads in a trial of $n$ coin tosses.\n",
    "\n",
    "Such a binomial distribution is not *quite* the same as our customer arrival example, though. In our case, the probability of customer arrival depends on the number $n$ of \"trials\" (or rather, \"shifts\").\n",
    "\n",
    "Consider a random variable $B$ describing a binomial outcome as before, where the \"success\" outcome has probability $0<p<1$. Now consider instead the random variable $Y_n$ which counts the number of successes in  $n$ trials of a binomial experiment\n",
    "with success probability $\\dfrac{p}{n}$. One still often refers to $Y_n$ is a \"binomial distribution\" --  it satisfies\n",
    "\n",
    "$$P(Y_n = m) = \\dbinom{n}{m} \\left(\\dfrac{p}{n}\\right)^m \\left(1-\\dfrac{p}{n}\\right)^{n-m}.$$\n"
   ]
  },
  {
   "cell_type": "markdown",
   "metadata": {
    "slideshow": {
     "slide_type": "slide"
    }
   },
   "source": [
    "A limit of binomial distributions\n",
    "====================\n",
    "\n",
    "Let's keep working in the setting of the binomial distribution $Y_n$ just described.\n",
    "\n",
    "Fix $m$, and consider the probability of $m$ successes in $n$ trials, where we allow $n \\to \\infty$.\n",
    "\n",
    "We have\n",
    "$$P(Y_n = m) = \\dbinom{n}{m} \\left(\\dfrac{p}{n}\\right)^m \\left(1-\\dfrac{p}{n}\\right)^{n-m}.$$\n",
    "\n",
    "Thus\n",
    "$$(\\heartsuit) = \\lim_{n \\to \\infty} P(Y_n = m) = \\lim_{n \\to \\infty} \\dbinom{n}{m}\\left(\\dfrac{p}{n}\\right)^m \\left(1-\\dfrac{p}{n}\\right)^{n-m}$$\n",
    "\n",
    "$$= \\lim_{n \\to \\infty} \\dbinom{n}{m}\\left(\\dfrac{p}{n}\\right)^m \\left(1-\\dfrac{p}{n}\\right)^n\\left(1-\\dfrac{p}{n}\\right)^{-m} = A \\cdot B \\cdot C$$\n",
    "\n",
    "where\n",
    "\n",
    "$$A= \\lim_{n \\to \\infty} \\dbinom{n}{m} \\cdot \\left(\\dfrac{p}{n}\\right)^m \n",
    "\\quad \\text{and} \\quad \n",
    "B= \\lim_{n \\to \\infty} \\left(1-\\dfrac{p}{n}\\right)^n\n",
    "\\quad \\text{and} \\quad\n",
    "C= \\lim_{n \\to \\infty} \\left(1-\\dfrac{p}{n}\\right)^{-m}$$\n",
    "\n",
    "-------------------------------\n"
   ]
  },
  {
   "cell_type": "markdown",
   "metadata": {
    "slideshow": {
     "slide_type": "subslide"
    }
   },
   "source": [
    "$$(\\heartsuit) = A \\cdot B \\cdot C \\quad \\text{where} \\quad A= \\lim_{n \\to \\infty}\\dbinom{n}{m} \\cdot \\left(\\dfrac{p}{n}\\right)^m, \\quad\n",
    "B= \\lim_{n \\to \\infty}\\left(1-\\dfrac{p}{n}\\right)^n, \\quad\n",
    "C= \\lim_{n \\to \\infty}\\left(1-\\dfrac{p}{n}\\right)^{-m}$$\n",
    "\n",
    "\n",
    "First notice that since $m$  is fixed, we have:\n",
    "\n",
    "$$\\left(1-\\dfrac{p}{n}\\right)^{-m} \\to 1 \\quad \\text{as $n \\to \\infty$}$$\n",
    "\n",
    "so $C=1$.\n",
    "\n",
    "Now recall that $\\left(1 + \\dfrac{x}{n}\\right)^n \\to e^x$ as $n \\to \\infty$ (calculus!) so that\n",
    "$B = e^{-p}.$\n",
    "\n",
    "Finally, \n",
    "\n",
    "$$\\dbinom{n}{m} \\dfrac{p^m}{n^m} = \\dfrac{p^m}{m!}\\dfrac{n!}{(n-m)!n^m}\n",
    "= \\dfrac{p^m}{m!} \\dfrac{n(n-1)\\cdots(n-(m-1))}{n^m}$$\n",
    "\n",
    "$$= \\dfrac{p^m}{m!} 1 \\cdot \\left(1-\\dfrac{1}{n}\\right)\\left(1 - \\dfrac{2}{n}\\right) \\cdots \\left(1-\\dfrac{m-1}{n}\\right)$$\n",
    "\n",
    "$$\\to \\dfrac{p^m}{m!}\n",
    "$$\n",
    "as $n \\to \\infty$. \n",
    "\n",
    "This shows that $A = \\dfrac{p^m}{m!}$ so that the \n",
    "$$(\\heartsuit) = \\dfrac{p^me^{-p}}{m!}.$$ "
   ]
  },
  {
   "cell_type": "markdown",
   "metadata": {
    "slideshow": {
     "slide_type": "slide"
    }
   },
   "source": [
    "Poisson distribution\n",
    "====================\n",
    "\n",
    "\n",
    "The limiting distribution described in the previous cell is called the Poisson distribution.\n",
    "It is a discrete random variable with a countably infinite set of outcomes. More precisely, the Poisson distribution describes a random variable $X_{\\operatorname{poisson}}$ whose\n",
    "outcomes are $m=0,1,2,\\dots$ and for which \n",
    "\n",
    "$$P(X_{\\operatorname{poisson}} = m) =  \\dfrac{p^me^{-p}}{m!}$$\n",
    "\n",
    "for $m = 0,1,2,\\cdots$.\n",
    "\n",
    "Now, if this is really a probability distribution, it should be the case that\n",
    "\n",
    "$$\\sum_{m \\ge 0} P(X_{\\operatorname{poisson}} = m) = 1$$.\n",
    "\n",
    "Well,\n",
    "\n",
    "$$\\sum_{m \\ge 0} P(X_{\\operatorname{poisson}} = m) = \\sum_{m \\ge 0} \\dfrac{p^me^{-p}}{m!} = \n",
    "e^{-p} \\sum_{m \\ge 0} \\dfrac{p^m}{m!} = e^{-p} e^p = 1.$$"
   ]
  },
  {
   "cell_type": "markdown",
   "metadata": {
    "slideshow": {
     "slide_type": "subslide"
    }
   },
   "source": [
    "\n",
    "Let's compute the *expected value* $E(X_{\\operatorname{poisson}})$. Well,\n",
    "\n",
    "$$E(X_{\\operatorname{poisson}}) = \\sum_{m \\ge 0} m \\cdot P(X_{\\operatorname{poisson}} = m)$$\n",
    "\n",
    "$$ = \\sum_{m \\ge 0} m \\dfrac{p^m e^{-p}}{m!} = pe^pe^{-p} = p.$$\n",
    "\n"
   ]
  },
  {
   "cell_type": "markdown",
   "metadata": {
    "slideshow": {
     "slide_type": "slide"
    }
   },
   "source": [
    "Return to JFTE\n",
    "==============\n",
    "\n",
    "We may use the Poisson distribution to model customer arrival $X$ -- thus the probability that\n",
    "$m$ customers arrive over the course of 1 day is given by\n",
    "\n",
    "$$P(X = m) = \\dfrac{p^m\\cdot e^{-p}}{m!}$$\n",
    "\n",
    "where $p = \\dfrac{1}{7}$.\n",
    "\n",
    "Remarks:\n",
    "=======\n",
    "\n",
    "- Poisson distributions are important in queuing theory and other areas, as they describe prob-\n",
    "abilities of independent events, such as the arrival of customers.\n",
    "\n",
    "- The first practical application was due to Ladislaus Bortkiewicz. In 1898, he investigated\n",
    "the number of soldiers in the Prussian army who died each year from being kicked by a horse. Poisson distributions are ideal for modeling events that have a really low probability of occurring, but many opportunities to occur."
   ]
  },
  {
   "cell_type": "markdown",
   "metadata": {
    "slideshow": {
     "slide_type": "slide"
    }
   },
   "source": [
    "Implementation\n",
    "===============\n",
    "\n",
    "How can we use the Poisson distribution in practice? e.g. with our JFTE simulation??\n",
    "\n",
    "Let's compute the probabilities for $m = 0,1,2,...$ for customer arrival, as before:\n"
   ]
  },
  {
   "cell_type": "code",
   "execution_count": 1,
   "metadata": {
    "slideshow": {
     "slide_type": "fragment"
    }
   },
   "outputs": [
    {
     "name": "stdout",
     "output_type": "stream",
     "text": [
      "m = 0 -- q_1 = P(X=0) = 0.86687790\n",
      "m = 1 -- q_2 = P(X=1) = 0.12383970\n",
      "m = 2 -- q_3 = P(X=2) = 0.00884569\n",
      "m = 3 -- q_4 = P(X=3) = 0.00042122\n",
      "m = 4 -- q_5 = P(X=4) = 0.00001504\n",
      "m = 5 -- q_6 = P(X=5) = 0.00000043\n"
     ]
    }
   ],
   "source": [
    "import numpy as np\n",
    "\n",
    "def poisson(p,m):\n",
    "    return (1.*p**m/ np.math.factorial(m))*np.exp(-p)\n",
    "\n",
    "print(\"\\n\".join([f\"m = {m} -- q_{m+1} = P(X={m}) = {poisson(1./7,m):.8f}\" for m in range(6)]))"
   ]
  },
  {
   "cell_type": "markdown",
   "metadata": {
    "slideshow": {
     "slide_type": "subslide"
    }
   },
   "source": [
    "Addendum\n",
    "========\n",
    "\n",
    "We want to simulate arrival of customers according to the Poisson distribution. \n",
    "In fact, we only approximate this, because while the Poisson distribution allows for any number of customers, our simulation is going to impose an upper bound on the number.\n",
    "\n",
    "So: we desire a ``python`` function which takes as arguments ``p`` the base probability of an event and ``M`` the maximum number of  events to consider.\n",
    "\n",
    "In our case we are modeling customer arrivals, so we'll call this function ``arrival``. Our function will compute the first ``M-1`` probabilities ``q0,q1,...,q{M-1}`` for the Poisson distribution.\n",
    "We then set ``qM`` to be ``1 - q0 - q1 - ...``\n",
    "\n",
    "```\n",
    "def arrival(p=1./7,M = 10,rng=default_rng()):\n",
    "    qq = list(map(lambda m:poisson(p,m),range(M)))\n",
    "    qq = qq + [1-sum(qq,0)]\n",
    "    \n",
    "    return rng.choose(range(M+1),p=qq)\n",
    "```"
   ]
  },
  {
   "cell_type": "code",
   "execution_count": 2,
   "metadata": {
    "slideshow": {
     "slide_type": "fragment"
    }
   },
   "outputs": [],
   "source": [
    "from numpy.random import default_rng\n",
    "rng=default_rng()\n",
    "\n",
    "def arrival(p=1./7,M = 10,rng=default_rng()):\n",
    "    qq = list(map(lambda m:poisson(p,m),range(M)))\n",
    "    qq = qq + [1-sum(qq,0)]\n",
    "    \n",
    "    return rng.choice(list(range(M+1)),p=qq)"
   ]
  },
  {
   "cell_type": "markdown",
   "metadata": {
    "slideshow": {
     "slide_type": "subslide"
    }
   },
   "source": [
    "Another construction\n",
    "====================\n",
    "\n",
    "*Originally, I used the following alternative construction for the function ``arrival``. It is slightly more complicated, but I'll leave it here for reference.*\n",
    "\n",
    "We now consider the consecutive intervals\n",
    "\n",
    "$$I_0=[0=q_0,q_1), \\quad I_1=[q_1,q_1+q_2), \\quad I_2=[q_1+q_2,q_1+q_2+q_3), \\quad \n",
    "\\cdots$$\n",
    "\n",
    "We simulate a value of $X$ by choosing a  random number $0 < r < 1$; we then find the value of $m$ such that\n",
    "$r \\in I_m$ and we set $X=m$.\n",
    "\n",
    "Thus $X=m$ if and only if $$\\sum_{i=1}^m q_i \\le r < \\sum_{i=1}^{m+1} q_i$$\n",
    "\n",
    "We'll write a ``python`` function which takes as parameter the base probability $p$, and a specified \"maximum number of customers\" ``N``. The function computes $q_0,q_1,\\cdots,q_N$,\n",
    "gets a random real number $r$ in $[0,1]$ and determines which subinterval $I_m$ contains $r$,\n",
    "where for $m<N$ the interval $I_m$ is as before, and where the $N$th subinterval is defined to be $$I_N = \\left[\\sum_{i=1}^N q_i,1\\right].$$"
   ]
  },
  {
   "cell_type": "code",
   "execution_count": 3,
   "metadata": {
    "slideshow": {
     "slide_type": "subslide"
    }
   },
   "outputs": [],
   "source": [
    "from numpy.random import default_rng\n",
    "\n",
    "rng=default_rng()\n",
    "\n",
    "def partial_sum(l,i):\n",
    "    return sum(l[0:i],0)\n",
    "\n",
    "def arrival_alt(p=1.7,M=10,rng=default_rng()):\n",
    "    ## make a list of the values q_i \n",
    "    qq = list(map(lambda m:poisson(p,m),range(M+1)))\n",
    "    \n",
    "    ## find the \"partial sums\" of the list qq\n",
    "    pq = list(map(lambda m:partial_sum(qq,m),range(M+1)))\n",
    "    \n",
    "    r = rng.random()\n",
    "    \n",
    "    for i in range(M):\n",
    "        if r < pq[i+1]:\n",
    "            return i\n",
    "    else:\n",
    "        return M\n",
    "    "
   ]
  },
  {
   "cell_type": "markdown",
   "metadata": {
    "slideshow": {
     "slide_type": "subslide"
    }
   },
   "source": [
    "-------------------------\n",
    "\n",
    "The function ``arrival`` *(or ``arrival_alt``)* just introduced makes it possible to simulate customer arrival using the Poisson distribution.\n",
    "\n",
    "For example, to create a list containing a simulation of 6 months worth of customer arrival data with probability ``p=1/7``, allowing no more than 10 customers per day, proceed as follows:\n",
    "\n",
    "```\n",
    "customers = [arrival(p=1./7,M=10) for n in range(6*4*7)]\n",
    "```\n",
    "\n",
    "or equivalently\n",
    "```\n",
    "customers = []\n",
    "for n in range(6*4*7):\n",
    "  customers.append(arrival(p=1./7,M=10))\n",
    "```\n"
   ]
  },
  {
   "cell_type": "code",
   "execution_count": 4,
   "metadata": {
    "slideshow": {
     "slide_type": "fragment"
    }
   },
   "outputs": [],
   "source": [
    "customers_1 = [arrival(p=1./7,M=10) for n in range(6*4*7)]\n",
    "\n",
    "customers_2 = []\n",
    "for n in range(6*4*7):\n",
    "  customers_2.append(arrival(p=1./7,M=10))"
   ]
  },
  {
   "cell_type": "markdown",
   "metadata": {
    "slideshow": {
     "slide_type": "subslide"
    }
   },
   "source": [
    "If you inspect the lists ``customers_1`` or ``customers_2`` from the preceding cell, you should\n",
    "see that the lists mainly -- perhaps even exclusively -- contain the entries ``0`` and ``1``.\n",
    "\n",
    "To make larger numbers of customer arrivals likely to appear in our arrival data, we need to wait longer!!\n",
    "\n",
    "Let's use a ``pandas`` DataFrame to keep track of the frequency of customer counts:"
   ]
  },
  {
   "cell_type": "code",
   "execution_count": 5,
   "metadata": {
    "slideshow": {
     "slide_type": "subslide"
    }
   },
   "outputs": [
    {
     "data": {
      "text/plain": [
       "0    3162\n",
       "1     447\n",
       "2      30\n",
       "3       1\n",
       "dtype: int64"
      ]
     },
     "execution_count": 5,
     "metadata": {},
     "output_type": "execute_result"
    }
   ],
   "source": [
    "import pandas as pd\n",
    "\n",
    "def get_customers(p,N):\n",
    "    return [arrival(p,10) for n in range(N)]\n",
    "\n",
    "year = 52*7\n",
    "\n",
    "data = pd.DataFrame(get_customers(1./7,10*year))\n",
    "data.value_counts()"
   ]
  },
  {
   "cell_type": "code",
   "execution_count": 6,
   "metadata": {
    "slideshow": {
     "slide_type": "fragment"
    }
   },
   "outputs": [
    {
     "data": {
      "text/plain": [
       "0    31679\n",
       "1     4390\n",
       "2      317\n",
       "3       14\n",
       "dtype: int64"
      ]
     },
     "execution_count": 6,
     "metadata": {},
     "output_type": "execute_result"
    }
   ],
   "source": [
    "## values for 100 years\n",
    "pd.DataFrame(get_customers(1./7,100*year)).value_counts()"
   ]
  },
  {
   "cell_type": "code",
   "execution_count": 8,
   "metadata": {
    "slideshow": {
     "slide_type": "fragment"
    }
   },
   "outputs": [
    {
     "data": {
      "text/plain": [
       "0    315320\n",
       "1     45340\n",
       "2      3181\n",
       "3       155\n",
       "4         4\n",
       "dtype: int64"
      ]
     },
     "execution_count": 8,
     "metadata": {},
     "output_type": "execute_result"
    }
   ],
   "source": [
    "## values for 1,000 years\n",
    "pd.DataFrame(get_customers(1./7,1000*year)).value_counts()"
   ]
  },
  {
   "cell_type": "code",
   "execution_count": null,
   "metadata": {},
   "outputs": [],
   "source": []
  }
 ],
 "metadata": {
  "jupytext": {
   "formats": "ipynb,md"
  },
  "kernelspec": {
   "display_name": "Python 3",
   "language": "python",
   "name": "python3"
  },
  "language_info": {
   "codemirror_mode": {
    "name": "ipython",
    "version": 3
   },
   "file_extension": ".py",
   "mimetype": "text/x-python",
   "name": "python",
   "nbconvert_exporter": "python",
   "pygments_lexer": "ipython3",
   "version": "3.7.3"
  }
 },
 "nbformat": 4,
 "nbformat_minor": 4
}
