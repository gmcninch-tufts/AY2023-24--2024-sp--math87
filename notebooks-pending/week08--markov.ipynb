{
 "cells": [
  {
   "cell_type": "markdown",
   "metadata": {},
   "source": [
    "Math087 - Mathematical Modeling\n",
    "===============================\n",
    "[Tufts University](http://www.tufts.edu) -- [Department of Math](http://math.tufts.edu)  \n",
    "[George McNinch](http://gmcninch.math.tufts.edu) <george.mcninch@tufts.edu>  \n",
    "*Fall 2020*\n",
    "\n",
    "Course material (Week 8): Stochastic matrices & Markov Chains\n",
    "---------------------------------------------------------------"
   ]
  },
  {
   "cell_type": "markdown",
   "metadata": {
    "slideshow": {
     "slide_type": "slide"
    }
   },
   "source": [
    "Probability, power iteration, and stochastic matrices\n",
    "-----------------------------------------------------\n",
    "\n",
    "A vector $\\mathbf{v} = \\begin{bmatrix} v_1 & v_2 & \\cdots & v_n \\end{bmatrix}^T \\in \\mathbb{R}^n$ will be said to be a *probability vector* if\n",
    "all of its entries $v_i$ satisfy $v_i \\ge 0$ and if\n",
    "$$\\begin{bmatrix} 1 & 1 & \\cdots & 1 \\end{bmatrix} \\cdot \\mathbf{v} = \\sum_{i=1}^n v_i = 1.$$\n",
    "\n",
    "Let $A = \\begin{bmatrix} a_{ij} \\end{bmatrix} \\in \\mathbb{R}^{n \\times n}$. We say that $A$ is a *stochastic matrix* if $a_{ij} \\ge 0$ for all $i,j$ and if\n",
    "$$\\begin{bmatrix} 1 & 1 & \\cdots & 1 \\end{bmatrix} \\cdot A = \\begin{bmatrix} 1 &  1 &  \\cdots & 1 \\end{bmatrix};$$\n",
    "in words, $A$ is a stochastic matrix if each column of $A$ is a probability vector.\n",
    "\n",
    "Notice that if $\\mathbf{v}$ is a probability vector, and $A$ is a stochastic matrix, then $A \\mathbf{v}$ is again a probability vector.\n",
    "\n",
    "Indeed, by the definitions we have\n",
    "$$\\begin{bmatrix} 1 & 1 & \\cdots & 1 \\end{bmatrix} \\cdot A \\cdot\\mathbf{v}\n",
    "= \\begin{bmatrix} 1 & 1 & \\cdots & 1 \\end{bmatrix} \\cdot \\mathbf{v} = 1$$\n",
    "\n",
    "As a consequence if $A$ and $B$ are stochastic $n \\times n$ matrices, then \n",
    "also $A B$ is stochastic. In particular, $A^m$ is stochastic for all $m \\ge 0$."
   ]
  },
  {
   "cell_type": "markdown",
   "metadata": {
    "slideshow": {
     "slide_type": "slide"
    }
   },
   "source": [
    "Eigenvalues of stochastic matrices\n",
    "----------------------------------\n",
    "\n",
    "**Proposition:** Let $A$ be a stochastic matrix.  \n",
    "**a)** $A$ has an eigenvector with eigenvalue 1.  \n",
    "**b)** Let $\\lambda$ be any eigenvalue of a $A$.  Then $|\\lambda| \\le 1$.  \n",
    "**c)** If $\\mathbf{w}$ is an eigenvector of $A$ with eigenvalue $\\lambda$ satisfying\n",
    "$\\lambda \\ne 1$ then $\\begin{bmatrix} 1 & 1 & \\cdots & 1 \\end{bmatrix} \\mathbf{w} = 0$.\n",
    "\n",
    "*Sketch:* \n",
    "\n",
    "For **a)**, note that taking transposes and applying the definition, we find that\n",
    "$$A^T \\cdot \\begin{bmatrix} 1 & 1 & \\cdots & 1 \\end{bmatrix}^T = \\begin{bmatrix} 1 & 1 & \\cdots & 1 \\end{bmatrix}^T;$$\n",
    "thus $\\begin{bmatrix} 1 & 1 & \\cdots & 1 \\end{bmatrix}^T$ is an eigenvector for $A^T$ with eigenvalue $1$. Since the matrices $A$ and $A^T$ have the same characteristic polynomial and hence the same eigenvalues, the assertion **a)** now follows. \n",
    "\n",
    "Since all entries $a_{ij}$ of $A$ satisfy $0 \\le a_{ij} \\le 1$, assertion **b)** is a consequence of [Gershgorin's Theorem](https://en.wikipedia.org/wiki/Gershgorin_circle_theorem).\n",
    "\n"
   ]
  },
  {
   "cell_type": "markdown",
   "metadata": {
    "slideshow": {
     "slide_type": "subslide"
    }
   },
   "source": [
    "Proof of **c)**:\n",
    "-----------------\n",
    "\n",
    "On one hand, we have \n",
    "\n",
    "$$\\begin{bmatrix} 1 & 1 & \\cdots & 1 \\end{bmatrix} \\lambda \\mathbf{w} = \\lambda  \n",
    "\\left(\\begin{bmatrix} 1 & 1 & \\cdots & 1 \\end{bmatrix} \\mathbf{w}\\right)$$\n",
    "\n",
    "On the other hand, since $A$ is stochastic we have\n",
    "\n",
    "$$\\begin{bmatrix} 1 & 1 & \\cdots & 1 \\end{bmatrix} A \\mathbf{w}\n",
    "= \\begin{bmatrix} 1 & 1 & \\cdots & 1 \\end{bmatrix} \\mathbf{w};$$\n",
    "\n",
    "since $A\\mathbf{w} = \\lambda \\mathbf{w}$ and since $\\mathbf{w} \\ne \\mathbf{0}$, we conclude\n",
    "that\n",
    "\n",
    "$$ \\begin{bmatrix} 1 & 1 & \\cdots & 1 \\end{bmatrix} \\mathbf{w} = \n",
    "\\lambda \\begin{bmatrix} 1 & 1 & \\cdots & 1 \\end{bmatrix} \\mathbf{w}.$$\n",
    "\n",
    "Since $\\lambda \\ne 1$ by assumption, this is only possible if\n",
    "$\\begin{bmatrix} 1 & 1 & \\cdots & 1 \\end{bmatrix} \\mathbf{w} = 0$, as asserted."
   ]
  },
  {
   "cell_type": "markdown",
   "metadata": {
    "slideshow": {
     "slide_type": "slide"
    }
   },
   "source": [
    "Power iteration for stochastic matrices\n",
    "----------------------------------------\n",
    "\n",
    "Let $A$ be a stochastic matrix, and *suppose* that the eigenvalue $\\lambda = 1$ has multiplicity one. This means that the *1-eigenspace* has dimension 1. \n",
    "\n",
    "More concretely, this means that $A - \\mathbf{I_n}$ has rank $n-1$.\n",
    "\n",
    "**Remark:** If $A$ has $n$ distinct eigenvalues, then the each eigenspace has dimension 1.\n",
    "\n",
    "We have the following:\n"
   ]
  },
  {
   "cell_type": "markdown",
   "metadata": {
    "slideshow": {
     "slide_type": "subslide"
    }
   },
   "source": [
    "Corollary \n",
    "----------\n",
    "Suppose that the stochastic matrix $A$ is diagonalizable, and that  the *1-eigenspace* of $A$ has dimension 1. Let $\\mathbf{v}$ be an eigenvector for $A$ with eigenvalue 1, and set $c = \\begin{bmatrix} 1 & 1 & \\cdots & 1 \\end{bmatrix} \\mathbf{v}$.\n",
    "Then $\\mathbf{w} = \\dfrac{\\mathbf{v}}{c}$ is a probability vector, and\n",
    "\n",
    "$$A^m \\to B \\quad \\text{as $m \\to \\infty$}$$\n",
    "\n",
    "for a stochastic matrix $B$. Each column of $B$ is equal to $\\mathbf{w}$.\n",
    "\n"
   ]
  },
  {
   "cell_type": "markdown",
   "metadata": {
    "slideshow": {
     "slide_type": "subslide"
    }
   },
   "source": [
    "**Sketch:**\n",
    "\n",
    "For $1 \\le i \\le n$, the $i$-th column of $B$ may be computed as \n",
    "\n",
    "$$\\lim_{m \\to \\infty} A^m \\mathbf{e}_i$$\n",
    "\n",
    "where $\\mathbf{e}_i$ is the $i$-th standard basis vector.\n",
    "\n",
    "Let $\\mathbf{v} = \\mathbf{v}_1,\\dots,\\mathbf{v}_n$ be linearly independent eigenvectors for $A$.\n",
    "\n",
    "When $j>1$, the eigenvalue for $\\mathbf{v}_j$ is $<1$ by assumption, and it follows from the preceding results that $\\begin{bmatrix} 1 & 1 & \\cdots & 1 \\end{bmatrix} \\cdot \\mathbf{v}_j = 0$\n",
    "for $j>1$.\n",
    "\n",
    "\n",
    "Fix $1 \\le i \\le n$ and consider the expression\n",
    "$$\\mathbf{e}_i = \\sum_{j=1}^n c_j \\mathbf{v}_j.$$\n",
    "\n",
    "Since $\\begin{bmatrix} 1 & 1 & \\cdots & 1 \\end{bmatrix} \\mathbf{e}_i \\ne 0$, it follows\n",
    "that $c_1 \\ne 0$. Thus a result proved in the previous notebook shows that\n",
    "$\\lim_{m \\to \\infty} A^m \\mathbf{e}_i$ is a non-zero multiple of $\\mathbf{w}$.\n",
    "\n",
    "Since $B$ is stochastic, each column of $B$ is a probability vector, and must coincide with $\\mathbf{w}$.\n"
   ]
  },
  {
   "cell_type": "markdown",
   "metadata": {
    "slideshow": {
     "slide_type": "slide"
    }
   },
   "source": [
    "Markov Chains\n",
    "-------------\n",
    "\n",
    "Let's pause to recap our *finite-state machine* point-of-view.\n",
    "\n",
    "We consider a system with a list of *states*. The system undergoes\n",
    "transitions, which we take to be given by probabilities.\n",
    "\n",
    "We represent the system by a directed graph. \n",
    "Each state determines a node. A directed edge between two nodes $a \\to b$ labeled with $p = p_{a,b}$\n",
    "indicates that if the system is currently in state $a$, it will transform to state $b$ with probability $p$.\n",
    "\n",
    "Thus for each node $a$, the sum of the probabilities on the edges $a \\to b$ must be 1:\n",
    "\n",
    "$$\\sum_{(a \\to b)} p_{a,b} = 1$$\n",
    "\n",
    "The resulting matrix $P = (p_{a,b})_{a,b}$ has the property that its column-sums are all equal to 1. Thus $P$ is a *stochastic matrix*.\n",
    "\n",
    "\n",
    "Let $G$ be the directed graph attached to our probabilistic finite-state machine as before. We will refer to $G$ as a *transition diagram*, and we call the *system* described by $G$ a *Markov chain*.\n"
   ]
  },
  {
   "cell_type": "markdown",
   "metadata": {
    "slideshow": {
     "slide_type": "subslide"
    }
   },
   "source": [
    "Diagram properties\n",
    "------------------\n",
    "\n",
    "Let $G$ be the transition diagram of a Markov chain.\n",
    "\n",
    "**Definition:** $G$ is *strongly connected* if for each pair of nodes $a,b$, there is sequence of directed edges $e_1,\\dots,e_m$ connecting $a$ to $b$.\n",
    "\n",
    "**Remark:** If $P$ is the corresponding stochastic matrix, one often says that $P$ is *irreducible* when the transition diagram $G$ is *strongly connected*.\n"
   ]
  },
  {
   "cell_type": "markdown",
   "metadata": {
    "slideshow": {
     "slide_type": "subslide"
    }
   },
   "source": [
    "Example:\n",
    "--------\n",
    "The following graph is not *strongly connected*."
   ]
  },
  {
   "cell_type": "code",
   "execution_count": 6,
   "metadata": {
    "slideshow": {
     "slide_type": "fragment"
    },
    "tags": [
     "hide"
    ]
   },
   "outputs": [
    {
     "data": {
      "image/svg+xml": [
       "<?xml version=\"1.0\" encoding=\"UTF-8\" standalone=\"no\"?>\n",
       "<!DOCTYPE svg PUBLIC \"-//W3C//DTD SVG 1.1//EN\"\n",
       " \"http://www.w3.org/Graphics/SVG/1.1/DTD/svg11.dtd\">\n",
       "<!-- Generated by graphviz version 2.40.1 (20161225.0304)\n",
       " -->\n",
       "<!-- Title: %3 Pages: 1 -->\n",
       "<svg width=\"170pt\" height=\"116pt\"\n",
       " viewBox=\"0.00 0.00 170.00 116.00\" xmlns=\"http://www.w3.org/2000/svg\" xmlns:xlink=\"http://www.w3.org/1999/xlink\">\n",
       "<g id=\"graph0\" class=\"graph\" transform=\"scale(1 1) rotate(0) translate(4 112)\">\n",
       "<title>%3</title>\n",
       "<polygon fill=\"#ffffff\" stroke=\"transparent\" points=\"-4,4 -4,-112 166,-112 166,4 -4,4\"/>\n",
       "<!-- A1 -->\n",
       "<g id=\"node1\" class=\"node\">\n",
       "<title>A1</title>\n",
       "<ellipse fill=\"none\" stroke=\"#000000\" cx=\"27\" cy=\"-90\" rx=\"27\" ry=\"18\"/>\n",
       "<text text-anchor=\"middle\" x=\"27\" y=\"-86.3\" font-family=\"Times,serif\" font-size=\"14.00\" fill=\"#000000\">A1</text>\n",
       "</g>\n",
       "<!-- A1&#45;&gt;A1 -->\n",
       "<g id=\"edge1\" class=\"edge\">\n",
       "<title>A1&#45;&gt;A1</title>\n",
       "<path fill=\"none\" stroke=\"#000000\" d=\"M46.895,-102.4321C59.688,-105.6753 72,-101.5313 72,-90 72,-81.6218 65.5006,-77.1433 57.0395,-76.5644\"/>\n",
       "<polygon fill=\"#000000\" stroke=\"#000000\" points=\"56.5019,-73.1004 46.895,-77.5679 57.191,-80.0665 56.5019,-73.1004\"/>\n",
       "</g>\n",
       "<!-- A2 -->\n",
       "<g id=\"node2\" class=\"node\">\n",
       "<title>A2</title>\n",
       "<ellipse fill=\"none\" stroke=\"#000000\" cx=\"27\" cy=\"-18\" rx=\"27\" ry=\"18\"/>\n",
       "<text text-anchor=\"middle\" x=\"27\" y=\"-14.3\" font-family=\"Times,serif\" font-size=\"14.00\" fill=\"#000000\">A2</text>\n",
       "</g>\n",
       "<!-- A1&#45;&gt;A2 -->\n",
       "<g id=\"edge2\" class=\"edge\">\n",
       "<title>A1&#45;&gt;A2</title>\n",
       "<path fill=\"none\" stroke=\"#000000\" d=\"M21.0843,-72.2022C20.2798,-64.1807 20.0571,-54.5231 20.4162,-45.5957\"/>\n",
       "<polygon fill=\"#000000\" stroke=\"#000000\" points=\"23.9097,-45.8099 21.105,-35.593 16.9262,-45.3289 23.9097,-45.8099\"/>\n",
       "</g>\n",
       "<!-- A2&#45;&gt;A1 -->\n",
       "<g id=\"edge3\" class=\"edge\">\n",
       "<title>A2&#45;&gt;A1</title>\n",
       "<path fill=\"none\" stroke=\"#000000\" d=\"M32.895,-35.593C33.7094,-43.5865 33.942,-53.2363 33.5928,-62.1759\"/>\n",
       "<polygon fill=\"#000000\" stroke=\"#000000\" points=\"30.0976,-61.9891 32.9157,-72.2022 37.0817,-62.4608 30.0976,-61.9891\"/>\n",
       "</g>\n",
       "<!-- A2&#45;&gt;A2 -->\n",
       "<g id=\"edge4\" class=\"edge\">\n",
       "<title>A2&#45;&gt;A2</title>\n",
       "<path fill=\"none\" stroke=\"#000000\" d=\"M46.895,-30.4321C59.688,-33.6753 72,-29.5313 72,-18 72,-9.6218 65.5006,-5.1433 57.0395,-4.5644\"/>\n",
       "<polygon fill=\"#000000\" stroke=\"#000000\" points=\"56.5019,-1.1004 46.895,-5.5679 57.191,-8.0665 56.5019,-1.1004\"/>\n",
       "</g>\n",
       "<!-- B1 -->\n",
       "<g id=\"node3\" class=\"node\">\n",
       "<title>B1</title>\n",
       "<ellipse fill=\"none\" stroke=\"#000000\" cx=\"117\" cy=\"-90\" rx=\"27\" ry=\"18\"/>\n",
       "<text text-anchor=\"middle\" x=\"117\" y=\"-86.3\" font-family=\"Times,serif\" font-size=\"14.00\" fill=\"#000000\">B1</text>\n",
       "</g>\n",
       "<!-- B1&#45;&gt;B1 -->\n",
       "<g id=\"edge5\" class=\"edge\">\n",
       "<title>B1&#45;&gt;B1</title>\n",
       "<path fill=\"none\" stroke=\"#000000\" d=\"M136.895,-102.4321C149.688,-105.6753 162,-101.5313 162,-90 162,-81.6218 155.5006,-77.1433 147.0395,-76.5644\"/>\n",
       "<polygon fill=\"#000000\" stroke=\"#000000\" points=\"146.5019,-73.1004 136.895,-77.5679 147.191,-80.0665 146.5019,-73.1004\"/>\n",
       "</g>\n",
       "<!-- B2 -->\n",
       "<g id=\"node4\" class=\"node\">\n",
       "<title>B2</title>\n",
       "<ellipse fill=\"none\" stroke=\"#000000\" cx=\"117\" cy=\"-18\" rx=\"27\" ry=\"18\"/>\n",
       "<text text-anchor=\"middle\" x=\"117\" y=\"-14.3\" font-family=\"Times,serif\" font-size=\"14.00\" fill=\"#000000\">B2</text>\n",
       "</g>\n",
       "<!-- B1&#45;&gt;B2 -->\n",
       "<g id=\"edge6\" class=\"edge\">\n",
       "<title>B1&#45;&gt;B2</title>\n",
       "<path fill=\"none\" stroke=\"#000000\" d=\"M111.0843,-72.2022C110.2798,-64.1807 110.0571,-54.5231 110.4162,-45.5957\"/>\n",
       "<polygon fill=\"#000000\" stroke=\"#000000\" points=\"113.9097,-45.8099 111.105,-35.593 106.9262,-45.3289 113.9097,-45.8099\"/>\n",
       "</g>\n",
       "<!-- B2&#45;&gt;B1 -->\n",
       "<g id=\"edge7\" class=\"edge\">\n",
       "<title>B2&#45;&gt;B1</title>\n",
       "<path fill=\"none\" stroke=\"#000000\" d=\"M122.895,-35.593C123.7094,-43.5865 123.942,-53.2363 123.5928,-62.1759\"/>\n",
       "<polygon fill=\"#000000\" stroke=\"#000000\" points=\"120.0976,-61.9891 122.9157,-72.2022 127.0817,-62.4608 120.0976,-61.9891\"/>\n",
       "</g>\n",
       "<!-- B2&#45;&gt;B2 -->\n",
       "<g id=\"edge8\" class=\"edge\">\n",
       "<title>B2&#45;&gt;B2</title>\n",
       "<path fill=\"none\" stroke=\"#000000\" d=\"M136.895,-30.4321C149.688,-33.6753 162,-29.5313 162,-18 162,-9.6218 155.5006,-5.1433 147.0395,-4.5644\"/>\n",
       "<polygon fill=\"#000000\" stroke=\"#000000\" points=\"146.5019,-1.1004 136.895,-5.5679 147.191,-8.0665 146.5019,-1.1004\"/>\n",
       "</g>\n",
       "</g>\n",
       "</svg>\n"
      ],
      "text/plain": [
       "<graphviz.dot.Digraph at 0x7ff620a75ef0>"
      ]
     },
     "execution_count": 6,
     "metadata": {},
     "output_type": "execute_result"
    }
   ],
   "source": [
    "from graphviz import Digraph\n",
    "from itertools import product\n",
    "g = Digraph()\n",
    "\n",
    "for i in [\"A\",\"B\"]:\n",
    "    for j in [1,2]:\n",
    "        g.node(f\"{i}{j}\")\n",
    "    for (j,k) in product([1,2],[1,2]):\n",
    "        g.edge(f\"{i}{j}\",f\"{i}{k}\")\n",
    "\n",
    "g\n",
    "    "
   ]
  },
  {
   "cell_type": "markdown",
   "metadata": {
    "slideshow": {
     "slide_type": "subslide"
    }
   },
   "source": [
    "Example:\n",
    "--------\n",
    "The following graph appears to be \"connected\" at least in some sense, but is not *strongly connected*.\n",
    "\n",
    "Note that there is no path from the node $5$ to the node $1$, for example."
   ]
  },
  {
   "cell_type": "code",
   "execution_count": 15,
   "metadata": {
    "slideshow": {
     "slide_type": "fragment"
    },
    "tags": [
     "hide"
    ]
   },
   "outputs": [
    {
     "data": {
      "image/svg+xml": [
       "<?xml version=\"1.0\" encoding=\"UTF-8\" standalone=\"no\"?>\n",
       "<!DOCTYPE svg PUBLIC \"-//W3C//DTD SVG 1.1//EN\"\n",
       " \"http://www.w3.org/Graphics/SVG/1.1/DTD/svg11.dtd\">\n",
       "<!-- Generated by graphviz version 2.40.1 (20161225.0304)\n",
       " -->\n",
       "<!-- Title: %3 Pages: 1 -->\n",
       "<svg width=\"278pt\" height=\"116pt\"\n",
       " viewBox=\"0.00 0.00 278.00 116.00\" xmlns=\"http://www.w3.org/2000/svg\" xmlns:xlink=\"http://www.w3.org/1999/xlink\">\n",
       "<g id=\"graph0\" class=\"graph\" transform=\"scale(1 1) rotate(0) translate(4 112)\">\n",
       "<title>%3</title>\n",
       "<polygon fill=\"#ffffff\" stroke=\"transparent\" points=\"-4,4 -4,-112 274,-112 274,4 -4,4\"/>\n",
       "<!-- 1 -->\n",
       "<g id=\"node1\" class=\"node\">\n",
       "<title>1</title>\n",
       "<ellipse fill=\"none\" stroke=\"#000000\" cx=\"27\" cy=\"-90\" rx=\"27\" ry=\"18\"/>\n",
       "<text text-anchor=\"middle\" x=\"27\" y=\"-86.3\" font-family=\"Times,serif\" font-size=\"14.00\" fill=\"#000000\">1</text>\n",
       "</g>\n",
       "<!-- 2 -->\n",
       "<g id=\"node2\" class=\"node\">\n",
       "<title>2</title>\n",
       "<ellipse fill=\"none\" stroke=\"#000000\" cx=\"99\" cy=\"-90\" rx=\"27\" ry=\"18\"/>\n",
       "<text text-anchor=\"middle\" x=\"99\" y=\"-86.3\" font-family=\"Times,serif\" font-size=\"14.00\" fill=\"#000000\">2</text>\n",
       "</g>\n",
       "<!-- 1&#45;&gt;2 -->\n",
       "<g id=\"edge1\" class=\"edge\">\n",
       "<title>1&#45;&gt;2</title>\n",
       "<path fill=\"none\" stroke=\"#000000\" d=\"M48.375,-78.728C54.7773,-76.7773 61.1796,-76.1075 67.5818,-76.7187\"/>\n",
       "<polygon fill=\"#000000\" stroke=\"#000000\" points=\"67.15,-80.2016 77.6426,-78.7334 68.5245,-73.3379 67.15,-80.2016\"/>\n",
       "</g>\n",
       "<!-- 5 -->\n",
       "<g id=\"node5\" class=\"node\">\n",
       "<title>5</title>\n",
       "<ellipse fill=\"none\" stroke=\"#000000\" cx=\"135\" cy=\"-18\" rx=\"27\" ry=\"18\"/>\n",
       "<text text-anchor=\"middle\" x=\"135\" y=\"-14.3\" font-family=\"Times,serif\" font-size=\"14.00\" fill=\"#000000\">5</text>\n",
       "</g>\n",
       "<!-- 1&#45;&gt;5 -->\n",
       "<g id=\"edge7\" class=\"edge\">\n",
       "<title>1&#45;&gt;5</title>\n",
       "<path fill=\"none\" stroke=\"#000000\" d=\"M46.3082,-77.1278C63.3555,-65.763 88.4019,-49.0654 107.5344,-36.3104\"/>\n",
       "<polygon fill=\"#000000\" stroke=\"#000000\" points=\"109.4799,-39.2199 115.8589,-30.7607 105.5969,-33.3956 109.4799,-39.2199\"/>\n",
       "</g>\n",
       "<!-- 2&#45;&gt;1 -->\n",
       "<g id=\"edge2\" class=\"edge\">\n",
       "<title>2&#45;&gt;1</title>\n",
       "<path fill=\"none\" stroke=\"#000000\" d=\"M77.6426,-101.2666C71.2403,-103.2197 64.838,-103.8918 58.4357,-103.283\"/>\n",
       "<polygon fill=\"#000000\" stroke=\"#000000\" points=\"58.8671,-99.8001 48.375,-101.272 57.495,-106.6643 58.8671,-99.8001\"/>\n",
       "</g>\n",
       "<!-- 3 -->\n",
       "<g id=\"node3\" class=\"node\">\n",
       "<title>3</title>\n",
       "<ellipse fill=\"none\" stroke=\"#000000\" cx=\"171\" cy=\"-90\" rx=\"27\" ry=\"18\"/>\n",
       "<text text-anchor=\"middle\" x=\"171\" y=\"-86.3\" font-family=\"Times,serif\" font-size=\"14.00\" fill=\"#000000\">3</text>\n",
       "</g>\n",
       "<!-- 2&#45;&gt;3 -->\n",
       "<g id=\"edge3\" class=\"edge\">\n",
       "<title>2&#45;&gt;3</title>\n",
       "<path fill=\"none\" stroke=\"#000000\" d=\"M120.375,-78.728C126.7773,-76.7773 133.1796,-76.1075 139.5818,-76.7187\"/>\n",
       "<polygon fill=\"#000000\" stroke=\"#000000\" points=\"139.15,-80.2016 149.6426,-78.7334 140.5245,-73.3379 139.15,-80.2016\"/>\n",
       "</g>\n",
       "<!-- 3&#45;&gt;2 -->\n",
       "<g id=\"edge4\" class=\"edge\">\n",
       "<title>3&#45;&gt;2</title>\n",
       "<path fill=\"none\" stroke=\"#000000\" d=\"M149.6426,-101.2666C143.2403,-103.2197 136.838,-103.8918 130.4357,-103.283\"/>\n",
       "<polygon fill=\"#000000\" stroke=\"#000000\" points=\"130.8671,-99.8001 120.375,-101.272 129.495,-106.6643 130.8671,-99.8001\"/>\n",
       "</g>\n",
       "<!-- 4 -->\n",
       "<g id=\"node4\" class=\"node\">\n",
       "<title>4</title>\n",
       "<ellipse fill=\"none\" stroke=\"#000000\" cx=\"243\" cy=\"-90\" rx=\"27\" ry=\"18\"/>\n",
       "<text text-anchor=\"middle\" x=\"243\" y=\"-86.3\" font-family=\"Times,serif\" font-size=\"14.00\" fill=\"#000000\">4</text>\n",
       "</g>\n",
       "<!-- 3&#45;&gt;4 -->\n",
       "<g id=\"edge5\" class=\"edge\">\n",
       "<title>3&#45;&gt;4</title>\n",
       "<path fill=\"none\" stroke=\"#000000\" d=\"M192.375,-78.728C198.7773,-76.7773 205.1796,-76.1075 211.5818,-76.7187\"/>\n",
       "<polygon fill=\"#000000\" stroke=\"#000000\" points=\"211.15,-80.2016 221.6426,-78.7334 212.5245,-73.3379 211.15,-80.2016\"/>\n",
       "</g>\n",
       "<!-- 4&#45;&gt;3 -->\n",
       "<g id=\"edge6\" class=\"edge\">\n",
       "<title>4&#45;&gt;3</title>\n",
       "<path fill=\"none\" stroke=\"#000000\" d=\"M221.6426,-101.2666C215.2403,-103.2197 208.838,-103.8918 202.4357,-103.283\"/>\n",
       "<polygon fill=\"#000000\" stroke=\"#000000\" points=\"202.8671,-99.8001 192.375,-101.272 201.495,-106.6643 202.8671,-99.8001\"/>\n",
       "</g>\n",
       "<!-- 4&#45;&gt;5 -->\n",
       "<g id=\"edge8\" class=\"edge\">\n",
       "<title>4&#45;&gt;5</title>\n",
       "<path fill=\"none\" stroke=\"#000000\" d=\"M223.6918,-77.1278C206.6445,-65.763 181.5981,-49.0654 162.4656,-36.3104\"/>\n",
       "<polygon fill=\"#000000\" stroke=\"#000000\" points=\"164.4031,-33.3956 154.1411,-30.7607 160.5201,-39.2199 164.4031,-33.3956\"/>\n",
       "</g>\n",
       "<!-- 5&#45;&gt;5 -->\n",
       "<g id=\"edge9\" class=\"edge\">\n",
       "<title>5&#45;&gt;5</title>\n",
       "<path fill=\"none\" stroke=\"#000000\" d=\"M154.895,-30.4321C167.688,-33.6753 180,-29.5313 180,-18 180,-9.6218 173.5006,-5.1433 165.0395,-4.5644\"/>\n",
       "<polygon fill=\"#000000\" stroke=\"#000000\" points=\"164.5019,-1.1004 154.895,-5.5679 165.191,-8.0665 164.5019,-1.1004\"/>\n",
       "</g>\n",
       "</g>\n",
       "</svg>\n"
      ],
      "text/plain": [
       "<graphviz.dot.Digraph at 0x7ff620a7ff98>"
      ]
     },
     "execution_count": 15,
     "metadata": {},
     "output_type": "execute_result"
    }
   ],
   "source": [
    "h = Digraph()\n",
    "\n",
    "I = [1,2,3,4]\n",
    "\n",
    "with h.subgraph() as c:\n",
    "    c.attr(rank=\"same\")\n",
    "    for i in I:\n",
    "        c.node(f\"{i}\")\n",
    "    for (j,k) in [(i,j) for (i,j) in product(I,I) if i == j+1 or i == j-1]:\n",
    "        h.edge(f\"{j}\",f\"{k}\")\n",
    "    \n",
    "h.edge(f\"1\",f\"5\")\n",
    "h.edge(f\"4\",f\"5\")\n",
    "h.edge(f\"5\",f\"5\")\n",
    "\n",
    "h"
   ]
  },
  {
   "cell_type": "markdown",
   "metadata": {
    "slideshow": {
     "slide_type": "subslide"
    }
   },
   "source": [
    "Cycles\n",
    "-------\n",
    "\n",
    "A *cycle* of length $n$ in a transition diagram is a sequence $e_1,\\dots,e_n$ of edges for which that initial node of $e_1$ is equal to the terminal node of $e_n$.\n",
    "\n",
    "Here is an example of a cycle of length 5:"
   ]
  },
  {
   "cell_type": "code",
   "execution_count": 40,
   "metadata": {
    "slideshow": {
     "slide_type": "fragment"
    },
    "tags": [
     "hide"
    ]
   },
   "outputs": [
    {
     "data": {
      "image/svg+xml": [
       "<?xml version=\"1.0\" encoding=\"UTF-8\" standalone=\"no\"?>\n",
       "<!DOCTYPE svg PUBLIC \"-//W3C//DTD SVG 1.1//EN\"\n",
       " \"http://www.w3.org/Graphics/SVG/1.1/DTD/svg11.dtd\">\n",
       "<!-- Generated by graphviz version 2.40.1 (20161225.0304)\n",
       " -->\n",
       "<!-- Title: %3 Pages: 1 -->\n",
       "<svg width=\"450pt\" height=\"79pt\"\n",
       " viewBox=\"0.00 0.00 450.00 79.00\" xmlns=\"http://www.w3.org/2000/svg\" xmlns:xlink=\"http://www.w3.org/1999/xlink\">\n",
       "<g id=\"graph0\" class=\"graph\" transform=\"scale(1 1) rotate(0) translate(4 75)\">\n",
       "<title>%3</title>\n",
       "<polygon fill=\"#ffffff\" stroke=\"transparent\" points=\"-4,4 -4,-75 446,-75 446,4 -4,4\"/>\n",
       "<!-- 0 -->\n",
       "<g id=\"node1\" class=\"node\">\n",
       "<title>0</title>\n",
       "<ellipse fill=\"none\" stroke=\"#000000\" cx=\"27\" cy=\"-18\" rx=\"27\" ry=\"18\"/>\n",
       "<text text-anchor=\"middle\" x=\"27\" y=\"-14.3\" font-family=\"Times,serif\" font-size=\"14.00\" fill=\"#000000\">0</text>\n",
       "</g>\n",
       "<!-- 1 -->\n",
       "<g id=\"node2\" class=\"node\">\n",
       "<title>1</title>\n",
       "<ellipse fill=\"none\" stroke=\"#000000\" cx=\"124\" cy=\"-49\" rx=\"27\" ry=\"18\"/>\n",
       "<text text-anchor=\"middle\" x=\"124\" y=\"-45.3\" font-family=\"Times,serif\" font-size=\"14.00\" fill=\"#000000\">1</text>\n",
       "</g>\n",
       "<!-- 0&#45;&gt;1 -->\n",
       "<g id=\"edge1\" class=\"edge\">\n",
       "<title>0&#45;&gt;1</title>\n",
       "<path fill=\"none\" stroke=\"#000000\" d=\"M51.4772,-25.8226C63.0799,-29.5307 77.1367,-34.0231 89.774,-38.0618\"/>\n",
       "<polygon fill=\"#000000\" stroke=\"#000000\" points=\"88.9398,-41.4695 99.5306,-41.1799 91.0707,-34.8017 88.9398,-41.4695\"/>\n",
       "<text text-anchor=\"middle\" x=\"75.5\" y=\"-37.8\" font-family=\"Times,serif\" font-size=\"14.00\" fill=\"#000000\">1</text>\n",
       "</g>\n",
       "<!-- 2 -->\n",
       "<g id=\"node3\" class=\"node\">\n",
       "<title>2</title>\n",
       "<ellipse fill=\"none\" stroke=\"#000000\" cx=\"221\" cy=\"-53\" rx=\"27\" ry=\"18\"/>\n",
       "<text text-anchor=\"middle\" x=\"221\" y=\"-49.3\" font-family=\"Times,serif\" font-size=\"14.00\" fill=\"#000000\">2</text>\n",
       "</g>\n",
       "<!-- 1&#45;&gt;2 -->\n",
       "<g id=\"edge2\" class=\"edge\">\n",
       "<title>1&#45;&gt;2</title>\n",
       "<path fill=\"none\" stroke=\"#000000\" d=\"M151.0199,-50.1142C161.1304,-50.5312 172.8016,-51.0124 183.6794,-51.461\"/>\n",
       "<polygon fill=\"#000000\" stroke=\"#000000\" points=\"183.6528,-54.9628 193.7886,-51.8779 183.9413,-47.9687 183.6528,-54.9628\"/>\n",
       "<text text-anchor=\"middle\" x=\"172.5\" y=\"-54.8\" font-family=\"Times,serif\" font-size=\"14.00\" fill=\"#000000\">1</text>\n",
       "</g>\n",
       "<!-- 3 -->\n",
       "<g id=\"node4\" class=\"node\">\n",
       "<title>3</title>\n",
       "<ellipse fill=\"none\" stroke=\"#000000\" cx=\"318\" cy=\"-50\" rx=\"27\" ry=\"18\"/>\n",
       "<text text-anchor=\"middle\" x=\"318\" y=\"-46.3\" font-family=\"Times,serif\" font-size=\"14.00\" fill=\"#000000\">3</text>\n",
       "</g>\n",
       "<!-- 2&#45;&gt;3 -->\n",
       "<g id=\"edge3\" class=\"edge\">\n",
       "<title>2&#45;&gt;3</title>\n",
       "<path fill=\"none\" stroke=\"#000000\" d=\"M248.0199,-52.1643C258.1304,-51.8516 269.8016,-51.4907 280.6794,-51.1542\"/>\n",
       "<polygon fill=\"#000000\" stroke=\"#000000\" points=\"280.9016,-54.6491 290.7886,-50.8416 280.6851,-47.6525 280.9016,-54.6491\"/>\n",
       "<text text-anchor=\"middle\" x=\"269.5\" y=\"-54.8\" font-family=\"Times,serif\" font-size=\"14.00\" fill=\"#000000\">1</text>\n",
       "</g>\n",
       "<!-- 4 -->\n",
       "<g id=\"node5\" class=\"node\">\n",
       "<title>4</title>\n",
       "<ellipse fill=\"none\" stroke=\"#000000\" cx=\"415\" cy=\"-18\" rx=\"27\" ry=\"18\"/>\n",
       "<text text-anchor=\"middle\" x=\"415\" y=\"-14.3\" font-family=\"Times,serif\" font-size=\"14.00\" fill=\"#000000\">4</text>\n",
       "</g>\n",
       "<!-- 3&#45;&gt;4 -->\n",
       "<g id=\"edge4\" class=\"edge\">\n",
       "<title>3&#45;&gt;4</title>\n",
       "<path fill=\"none\" stroke=\"#000000\" d=\"M342.4772,-41.925C354.0799,-38.0973 368.1367,-33.4601 380.774,-29.291\"/>\n",
       "<polygon fill=\"#000000\" stroke=\"#000000\" points=\"382.1306,-32.5291 390.5306,-26.0724 379.9375,-25.8815 382.1306,-32.5291\"/>\n",
       "<text text-anchor=\"middle\" x=\"366.5\" y=\"-37.8\" font-family=\"Times,serif\" font-size=\"14.00\" fill=\"#000000\">1</text>\n",
       "</g>\n",
       "<!-- 4&#45;&gt;0 -->\n",
       "<g id=\"edge5\" class=\"edge\">\n",
       "<title>4&#45;&gt;0</title>\n",
       "<path fill=\"none\" stroke=\"#000000\" d=\"M389.6594,-11.4922C370.1969,-7.0625 342.5777,-2 318,-2 124,-2 124,-2 124,-2 103.3586,-2 80.5719,-5.5708 62.2734,-9.3386\"/>\n",
       "<polygon fill=\"#000000\" stroke=\"#000000\" points=\"61.3719,-5.9526 52.3406,-11.4922 62.8552,-12.7937 61.3719,-5.9526\"/>\n",
       "<text text-anchor=\"middle\" x=\"221\" y=\"-5.8\" font-family=\"Times,serif\" font-size=\"14.00\" fill=\"#000000\">1</text>\n",
       "</g>\n",
       "</g>\n",
       "</svg>\n"
      ],
      "text/plain": [
       "<graphviz.dot.Digraph at 0x7ff5f252ecf8>"
      ]
     },
     "execution_count": 40,
     "metadata": {},
     "output_type": "execute_result"
    }
   ],
   "source": [
    "import numpy as np\n",
    "\n",
    "def cycle(n=5,labels=None):\n",
    "    if labels==None:\n",
    "        labels= n*[1]\n",
    "    cyc = Digraph()\n",
    "    cyc.attr(rankdir='LR')\n",
    "    I = list(range(n))\n",
    "\n",
    "    for i in I:\n",
    "        cyc.node(f\"{i}\")\n",
    "\n",
    "    for i in I:\n",
    "        cyc.edge(f\"{i}\",f\"{np.mod(i+1,n)}\",f\"{labels[i]}\")\n",
    "\n",
    "    return cyc\n",
    "    \n",
    "cycle()"
   ]
  },
  {
   "cell_type": "markdown",
   "metadata": {
    "slideshow": {
     "slide_type": "subslide"
    }
   },
   "source": [
    "Aperiodic\n",
    "---------\n",
    "\n",
    "Given a transition diagram $G$, consider all possible cycles in $G$.\n",
    "\n",
    "A transition diagram is said to be *aperiodic* if no integer $n>1$ divides the length of each cycle.\n",
    "\n",
    "In other language, the diagram $G$ is aperiodic if the greatest common divisor of the lengths of the cycles in $G$ is equal to 1.\n",
    "\n",
    "Example: The preceding graph $G$ with 5 nodes is not *aperiodic* since every cycle has length a multiple of 5.\n",
    "\n",
    "Example: The following graph *is* aperiodic, since it contains a cycle of length 1."
   ]
  },
  {
   "cell_type": "code",
   "execution_count": 41,
   "metadata": {
    "slideshow": {
     "slide_type": "fragment"
    },
    "tags": [
     "hide"
    ]
   },
   "outputs": [
    {
     "data": {
      "image/svg+xml": [
       "<?xml version=\"1.0\" encoding=\"UTF-8\" standalone=\"no\"?>\n",
       "<!DOCTYPE svg PUBLIC \"-//W3C//DTD SVG 1.1//EN\"\n",
       " \"http://www.w3.org/Graphics/SVG/1.1/DTD/svg11.dtd\">\n",
       "<!-- Generated by graphviz version 2.40.1 (20161225.0304)\n",
       " -->\n",
       "<!-- Title: %3 Pages: 1 -->\n",
       "<svg width=\"450pt\" height=\"79pt\"\n",
       " viewBox=\"0.00 0.00 450.00 79.00\" xmlns=\"http://www.w3.org/2000/svg\" xmlns:xlink=\"http://www.w3.org/1999/xlink\">\n",
       "<g id=\"graph0\" class=\"graph\" transform=\"scale(1 1) rotate(0) translate(4 75)\">\n",
       "<title>%3</title>\n",
       "<polygon fill=\"#ffffff\" stroke=\"transparent\" points=\"-4,4 -4,-75 446,-75 446,4 -4,4\"/>\n",
       "<!-- 0 -->\n",
       "<g id=\"node1\" class=\"node\">\n",
       "<title>0</title>\n",
       "<ellipse fill=\"none\" stroke=\"#000000\" cx=\"27\" cy=\"-18\" rx=\"27\" ry=\"18\"/>\n",
       "<text text-anchor=\"middle\" x=\"27\" y=\"-14.3\" font-family=\"Times,serif\" font-size=\"14.00\" fill=\"#000000\">0</text>\n",
       "</g>\n",
       "<!-- 1 -->\n",
       "<g id=\"node2\" class=\"node\">\n",
       "<title>1</title>\n",
       "<ellipse fill=\"none\" stroke=\"#000000\" cx=\"124\" cy=\"-49\" rx=\"27\" ry=\"18\"/>\n",
       "<text text-anchor=\"middle\" x=\"124\" y=\"-45.3\" font-family=\"Times,serif\" font-size=\"14.00\" fill=\"#000000\">1</text>\n",
       "</g>\n",
       "<!-- 0&#45;&gt;1 -->\n",
       "<g id=\"edge1\" class=\"edge\">\n",
       "<title>0&#45;&gt;1</title>\n",
       "<path fill=\"none\" stroke=\"#000000\" d=\"M51.4772,-25.8226C63.0799,-29.5307 77.1367,-34.0231 89.774,-38.0618\"/>\n",
       "<polygon fill=\"#000000\" stroke=\"#000000\" points=\"88.9398,-41.4695 99.5306,-41.1799 91.0707,-34.8017 88.9398,-41.4695\"/>\n",
       "<text text-anchor=\"middle\" x=\"75.5\" y=\"-37.8\" font-family=\"Times,serif\" font-size=\"14.00\" fill=\"#000000\">1</text>\n",
       "</g>\n",
       "<!-- 2 -->\n",
       "<g id=\"node3\" class=\"node\">\n",
       "<title>2</title>\n",
       "<ellipse fill=\"none\" stroke=\"#000000\" cx=\"221\" cy=\"-53\" rx=\"27\" ry=\"18\"/>\n",
       "<text text-anchor=\"middle\" x=\"221\" y=\"-49.3\" font-family=\"Times,serif\" font-size=\"14.00\" fill=\"#000000\">2</text>\n",
       "</g>\n",
       "<!-- 1&#45;&gt;2 -->\n",
       "<g id=\"edge2\" class=\"edge\">\n",
       "<title>1&#45;&gt;2</title>\n",
       "<path fill=\"none\" stroke=\"#000000\" d=\"M151.0199,-50.1142C161.1304,-50.5312 172.8016,-51.0124 183.6794,-51.461\"/>\n",
       "<polygon fill=\"#000000\" stroke=\"#000000\" points=\"183.6528,-54.9628 193.7886,-51.8779 183.9413,-47.9687 183.6528,-54.9628\"/>\n",
       "<text text-anchor=\"middle\" x=\"172.5\" y=\"-54.8\" font-family=\"Times,serif\" font-size=\"14.00\" fill=\"#000000\">1</text>\n",
       "</g>\n",
       "<!-- 3 -->\n",
       "<g id=\"node4\" class=\"node\">\n",
       "<title>3</title>\n",
       "<ellipse fill=\"none\" stroke=\"#000000\" cx=\"318\" cy=\"-50\" rx=\"27\" ry=\"18\"/>\n",
       "<text text-anchor=\"middle\" x=\"318\" y=\"-46.3\" font-family=\"Times,serif\" font-size=\"14.00\" fill=\"#000000\">3</text>\n",
       "</g>\n",
       "<!-- 2&#45;&gt;3 -->\n",
       "<g id=\"edge3\" class=\"edge\">\n",
       "<title>2&#45;&gt;3</title>\n",
       "<path fill=\"none\" stroke=\"#000000\" d=\"M248.0199,-52.1643C258.1304,-51.8516 269.8016,-51.4907 280.6794,-51.1542\"/>\n",
       "<polygon fill=\"#000000\" stroke=\"#000000\" points=\"280.9016,-54.6491 290.7886,-50.8416 280.6851,-47.6525 280.9016,-54.6491\"/>\n",
       "<text text-anchor=\"middle\" x=\"269.5\" y=\"-54.8\" font-family=\"Times,serif\" font-size=\"14.00\" fill=\"#000000\">1</text>\n",
       "</g>\n",
       "<!-- 4 -->\n",
       "<g id=\"node5\" class=\"node\">\n",
       "<title>4</title>\n",
       "<ellipse fill=\"none\" stroke=\"#000000\" cx=\"415\" cy=\"-18\" rx=\"27\" ry=\"18\"/>\n",
       "<text text-anchor=\"middle\" x=\"415\" y=\"-14.3\" font-family=\"Times,serif\" font-size=\"14.00\" fill=\"#000000\">4</text>\n",
       "</g>\n",
       "<!-- 3&#45;&gt;4 -->\n",
       "<g id=\"edge4\" class=\"edge\">\n",
       "<title>3&#45;&gt;4</title>\n",
       "<path fill=\"none\" stroke=\"#000000\" d=\"M342.4772,-41.925C354.0799,-38.0973 368.1367,-33.4601 380.774,-29.291\"/>\n",
       "<polygon fill=\"#000000\" stroke=\"#000000\" points=\"382.1306,-32.5291 390.5306,-26.0724 379.9375,-25.8815 382.1306,-32.5291\"/>\n",
       "<text text-anchor=\"middle\" x=\"366.5\" y=\"-37.8\" font-family=\"Times,serif\" font-size=\"14.00\" fill=\"#000000\">1</text>\n",
       "</g>\n",
       "<!-- 4&#45;&gt;0 -->\n",
       "<g id=\"edge5\" class=\"edge\">\n",
       "<title>4&#45;&gt;0</title>\n",
       "<path fill=\"none\" stroke=\"#000000\" d=\"M389.6594,-11.4922C370.1969,-7.0625 342.5777,-2 318,-2 124,-2 124,-2 124,-2 103.3586,-2 80.5719,-5.5708 62.2734,-9.3386\"/>\n",
       "<polygon fill=\"#000000\" stroke=\"#000000\" points=\"61.3719,-5.9526 52.3406,-11.4922 62.8552,-12.7937 61.3719,-5.9526\"/>\n",
       "<text text-anchor=\"middle\" x=\"221\" y=\"-5.8\" font-family=\"Times,serif\" font-size=\"14.00\" fill=\"#000000\">0.5</text>\n",
       "</g>\n",
       "<!-- 4&#45;&gt;4 -->\n",
       "<g id=\"edge6\" class=\"edge\">\n",
       "<title>4&#45;&gt;4</title>\n",
       "<path fill=\"none\" stroke=\"#000000\" d=\"M406.4307,-35.4099C404.8311,-45.0879 407.6875,-54 415,-54 419.5703,-54 422.4,-50.5187 423.489,-45.5449\"/>\n",
       "<polygon fill=\"#000000\" stroke=\"#000000\" points=\"426.9899,-45.4374 423.5693,-35.4099 419.9901,-45.3818 426.9899,-45.4374\"/>\n",
       "<text text-anchor=\"middle\" x=\"415\" y=\"-57.8\" font-family=\"Times,serif\" font-size=\"14.00\" fill=\"#000000\">.5</text>\n",
       "</g>\n",
       "</g>\n",
       "</svg>\n"
      ],
      "text/plain": [
       "<graphviz.dot.Digraph at 0x7ff5f252ea58>"
      ]
     },
     "execution_count": 41,
     "metadata": {},
     "output_type": "execute_result"
    }
   ],
   "source": [
    "acycle = cycle(labels=[1,1,1,1,.5])\n",
    "acycle.edge(\"4\",\"4\",\".5\")\n",
    "acycle"
   ]
  },
  {
   "cell_type": "markdown",
   "metadata": {
    "slideshow": {
     "slide_type": "slide"
    }
   },
   "source": [
    "Theorem: (Perron-Frobenius)\n",
    "---------------------------\n",
    "\n",
    "Let $G$ be a transition diagram for a Markov chain, and suppose that $G$ is strongly connected and aperiodic. Let $P$ be the corresponding\n",
    "stochastic matrix. The multiplicity of the eigenvalue $\\lambda = 1$ for $P$ is 1 -- i.e.\n",
    "\n",
    "$$\\dim \\operatorname{Null}(P-I_n) = 1.$$\n",
    "\n",
    "All other eigenvalues $\\lambda$ satisfy $|\\lambda|  < 1$.\n",
    "\n",
    "There is a $1$-eigenvector $\\mathbf{v}$ which is a probability vector.\n",
    "\n",
    "Corollary\n",
    "----------\n",
    "\n",
    "**a)** $\\displaystyle \\lim_{m \\to \\infty} P^m$ is a matrix for which each column is equal to $\\mathbf{v}$.  \n",
    "**b)** If $\\mathbf{w}$ is a vector for which $\\begin{bmatrix} 1 & 1 & \\cdots & 1 \\end{bmatrix} \\mathbf{v} >  0$, then $\\displaystyle \\lim_{m \\to \\infty} P^m \\mathbf{w}$ is a positive multiple of $\\mathbf{v}$."
   ]
  },
  {
   "cell_type": "markdown",
   "metadata": {
    "slideshow": {
     "slide_type": "slide"
    }
   },
   "source": [
    "Financial market example\n",
    "=========================\n",
    "\n",
    "Recall this example from a previous *problem session*.\n",
    "\n",
    "Consider the state of a financial market from week to week. \n",
    "\n",
    "- by a *bull market* we mean a week of generally rising prices. \n",
    "- by a *bear market* we mean a week of genreally declining prices.\n",
    "- by a *recession* we mean a general slowdown of the economy.\n",
    "\n",
    "Empirical observation shows for each of these three states what the probability of the state for the subsequent week, as follows:\n",
    "\n",
    "|                              | *bull*   | *bear*   | *recession*| \n",
    "| :--------------------------- | -------: | -------: | ---------: |\n",
    "|     followed by bull         | 0.90     | 0.15     | 0.25       |\n",
    "|     followed by bear         | 0.075    | 0.80     | 0.25       |\n",
    "|     followed by recession    | 0.025    | 0.05     | 0.50       |\n",
    "\n",
    "In words, the first col indicates that if one has a bull market, then 90% of the time the next week is a bull market, 7.5% of the time the next week is a bear market, and 2.5% of the time the next week is in recession."
   ]
  },
  {
   "cell_type": "markdown",
   "metadata": {
    "slideshow": {
     "slide_type": "subslide"
    }
   },
   "source": [
    "matrix\n",
    "------\n",
    "The matrix $A$ describing the state transformations is a stochastic matrix."
   ]
  },
  {
   "cell_type": "code",
   "execution_count": 8,
   "metadata": {
    "slideshow": {
     "slide_type": "fragment"
    }
   },
   "outputs": [
    {
     "data": {
      "text/plain": [
       "array([1.00, 1.00, 1.00])"
      ]
     },
     "execution_count": 8,
     "metadata": {},
     "output_type": "execute_result"
    }
   ],
   "source": [
    "ones = np.ones(3)\n",
    "\n",
    "A = np.array([[0.90 , 0.15 , 0.25],\n",
    "              [0.075, 0.80 , 0.25],\n",
    "              [0.025, 0.05 , 0.50]])\n",
    "\n",
    "ones @ A"
   ]
  },
  {
   "cell_type": "markdown",
   "metadata": {
    "slideshow": {
     "slide_type": "fragment"
    }
   },
   "source": [
    "$A$ has 3 distinct eigenvalues:"
   ]
  },
  {
   "cell_type": "code",
   "execution_count": 10,
   "metadata": {
    "slideshow": {
     "slide_type": "fragment"
    }
   },
   "outputs": [
    {
     "data": {
      "text/plain": [
       "array([1.00, 0.74, 0.46])"
      ]
     },
     "execution_count": 10,
     "metadata": {},
     "output_type": "execute_result"
    }
   ],
   "source": [
    "##\n",
    "e_vals,e_vecs = npl.eig(A)\n",
    "\n",
    "e_vals"
   ]
  },
  {
   "cell_type": "markdown",
   "metadata": {
    "slideshow": {
     "slide_type": "subslide"
    }
   },
   "source": [
    "In particular, it follows that the $1$-eigenspace of $A$ has dimension 1.\n",
    "\n",
    "A 1-eigenvector is given by"
   ]
  },
  {
   "cell_type": "code",
   "execution_count": 12,
   "metadata": {
    "slideshow": {
     "slide_type": "fragment"
    }
   },
   "outputs": [
    {
     "data": {
      "text/plain": [
       "array([0.89, 0.45, 0.09])"
      ]
     },
     "execution_count": 12,
     "metadata": {},
     "output_type": "execute_result"
    }
   ],
   "source": [
    "v = e_vecs[:,0]\n",
    "v"
   ]
  },
  {
   "cell_type": "markdown",
   "metadata": {},
   "source": [
    "Rescaling ``v`` to make a probability vector, we indeed see\n",
    "that $A^m \\to \\begin{bmatrix} \\mathbf{w}& \\mathbf{w} &\\mathbf{w} \\end{bmatrix}$."
   ]
  },
  {
   "cell_type": "code",
   "execution_count": 29,
   "metadata": {
    "slideshow": {
     "slide_type": "subslide"
    }
   },
   "outputs": [
    {
     "name": "stdout",
     "output_type": "stream",
     "text": [
      "w = \n",
      "\n",
      "[0.6250 0.3125 0.0625]\n",
      "\n",
      "A^200 = \n",
      "\n",
      "[[0.6250 0.6250 0.6250]\n",
      " [0.3125 0.3125 0.3125]\n",
      " [0.0625 0.0625 0.0625]]\n"
     ]
    }
   ],
   "source": [
    "\n",
    "float_formatter = \"{:.4f}\".format\n",
    "np.set_printoptions(formatter={'float_kind':float_formatter})\n",
    "\n",
    "\n",
    "w = (1/sum(v,0))*v\n",
    "\n",
    "B=npl.matrix_power(A,200)\n",
    "\n",
    "print(f\"w = \\n\\n{w}\\n\\nA^200 = \\n\\n{B}\")"
   ]
  },
  {
   "cell_type": "markdown",
   "metadata": {
    "slideshow": {
     "slide_type": "subslide"
    }
   },
   "source": [
    "Interpretation:\n",
    "---------------\n",
    "\n",
    "Recall that $A$ describes the state transitions for a financial market.\n",
    "\n",
    "The interpretation here means that *in the long run*,\n",
    "there is a 62.5 % chance of a bull market,\n",
    "a 31.25 % chance of a bear market,\n",
    "and a 6.25% chance of a recession."
   ]
  }
 ],
 "metadata": {
  "jupytext": {
   "formats": "ipynb,md"
  },
  "kernelspec": {
   "display_name": "Python 3",
   "language": "python",
   "name": "python3"
  },
  "language_info": {
   "codemirror_mode": {
    "name": "ipython",
    "version": 3
   },
   "file_extension": ".py",
   "mimetype": "text/x-python",
   "name": "python",
   "nbconvert_exporter": "python",
   "pygments_lexer": "ipython3",
   "version": "3.7.3"
  }
 },
 "nbformat": 4,
 "nbformat_minor": 4
}
