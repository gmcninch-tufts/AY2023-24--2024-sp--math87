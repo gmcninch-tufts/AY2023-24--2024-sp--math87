{
 "cells": [
  {
   "cell_type": "markdown",
   "metadata": {},
   "source": [
    "Math087 - Mathematical Modeling\n",
    "===============================\n",
    "[Tufts University](http://www.tufts.edu) -- [Department of Math](http://math.tufts.edu)  \n",
    "[George McNinch](http://gmcninch.math.tufts.edu) <george.mcninch@tufts.edu>  \n",
    "*Fall 2020*\n",
    "\n",
    "Course material: Bi-partite graphs - code and data for problem set 5\n",
    "----------------------------------------------------------------------------"
   ]
  },
  {
   "cell_type": "code",
   "execution_count": 3,
   "metadata": {},
   "outputs": [],
   "source": [
    "import numpy as np\n",
    "from scipy.optimize import linprog\n",
    "from itertools import product\n",
    "\n",
    "## the function find_matching defined below finds a maximal matching\n",
    "## for a bi-partite graph\n",
    "\n",
    "## the graph is given by 3 pieces of data: a set `U`, a set `W`, and a\n",
    "## set `edge` of pairs (u,v) in the product U x V\n",
    "\n",
    "## the matching is found by solving a linear program. Recall that we\n",
    "## first associate a directed graph to the bi-partite graph, and solve\n",
    "## the ``max-flow`` linear program for that directed graph.\n",
    "\n",
    "def sbv(index,size):\n",
    "    return np.array([1.0 if i == index else 0.0 for i in range(size)])\n",
    "\n",
    "def to_vector(l,X):\n",
    "    ## argument X is a list, and l is a list of elements from X.\n",
    "    ## suppose that l=[x1,x2,...,xm] and suppose that\n",
    "    ## n1,n2,...,nm are the indices of the xi in the list X.\n",
    "    ## \n",
    "    ## this function returns the sum of the standard basis vectors\n",
    "    ## sbv(ni,#X) for i =1,...,m\n",
    "    ii = map(X.index,l)\n",
    "    return sum([sbv(i,len(X)) for i in ii],np.zeros(len(X)))\n",
    "\n",
    "def find_matching(U,W,edges):\n",
    "    UW = list(product(U,W))\n",
    "\n",
    "    edge_dict = {(u,w):True if (u,w) in edges else False for (u,w) in UW}\n",
    "    \n",
    "    def U_node(x):\n",
    "        # compute the row-vector corresponding to the conservation law\n",
    "        # for nodes in U the directed graph has an edge s -> u for\n",
    "        # each u in U, and an edge w -> t for each w in W, as well as\n",
    "        # the edges u->w coming from the original bi-partite graph.\n",
    "        # Thus the rows of the constraint matrix for the linear program\n",
    "        # have length #U + (#U)(#W) + #W\n",
    "        return np.block([to_vector([x],U),\n",
    "                         (-1)*to_vector([(x,w) for w in W if edge_dict[(x,w)]],UW),\n",
    "                         np.zeros(len(W))])\n",
    "                     \n",
    "\n",
    "    def W_node(x):\n",
    "        # compute the row-vector corresponding to the conservation law for a node in W\n",
    "        # this row again has length #U + (#U)(#W) + #W.\n",
    "        return np.block([np.zeros(len(U)),\n",
    "                         (-1)*to_vector([(u,x) for u in U if edge_dict[(u,x)]],UW),\n",
    "                         to_vector([x],W)])\n",
    "\n",
    "    ## construct the equality constraint matrix from conservation laws\n",
    "    A = np.array([U_node(x) for x in U] + [W_node(x) for x in W])\n",
    "\n",
    "    ## construct the row for the objective function\n",
    "    c = np.block([np.ones(len(U)), np.zeros(len(UW)), np.zeros(len(W))])\n",
    "\n",
    "    lp_result = linprog((-1)*c,\n",
    "                        A_eq=A,\n",
    "                        b_eq=np.zeros(len(U) + len(W)),\n",
    "                        bounds=(0,1),\n",
    "                        method='revised simplex')\n",
    "\n",
    "    def compare(r,targ=0,ee=1e-5):\n",
    "        return True if np.abs(r-targ)<ee else False\n",
    "\n",
    "    def extract(vec):\n",
    "        pv = [vec[k + len(U)] for k in range(len(UW))]\n",
    "        ## our optimal solution \"should\" have all entries either 0 or 1.\n",
    "        ## if that isn't so, we raise an exception.\n",
    "        test = [True if compare(x,1) or compare(x,0) else False for x in pv]\n",
    "        if all(test):\n",
    "            match = [(u,w)  for (u,w) in UW if compare(pv[UW.index((u,w))],1)]\n",
    "            return match\n",
    "        else:\n",
    "            raise Exception(\"linprog solution not of correct form.\")\n",
    "\n",
    "    match=extract(lp_result.x)\n",
    "    \n",
    "    if lp_result.success:\n",
    "        return match\n",
    "    else:\n",
    "        raise Exception(\"linprog failed\")\n",
    "    \n",
    "\n",
    "def display_matching(U,W,edges):\n",
    "    UW = list(product(U,W))\n",
    "    match = find_matching(U,W,edges)\n",
    "    l = [f\"length of matching: {len(match)}\"] \n",
    "    s = [f\"{u}  ---> {w}\" for (u,w) in match]\n",
    "    return \"\\n\".join(l+s)\n",
    "\n"
   ]
  },
  {
   "cell_type": "code",
   "execution_count": 28,
   "metadata": {},
   "outputs": [
    {
     "name": "stdout",
     "output_type": "stream",
     "text": [
      "length of matching: 7\n",
      "a  ---> A\n",
      "c  ---> K\n",
      "e  ---> F\n",
      "f  ---> C\n",
      "g  ---> E\n",
      "h  ---> B\n",
      "k  ---> D\n"
     ]
    }
   ],
   "source": [
    "U = ['a','b','c','d','e','f','g','h','i','j','k']\n",
    "W = ['A','B','C','D','E','F','G','H','I','J','K']\n",
    "\n",
    "edges = [('a', 'A'), ('b', 'A'), ('c', 'B'), ('c', 'K'), \n",
    "         ('e', 'F'), ('e', 'G'), ('f', 'C'), ('f', 'G'), \n",
    "         ('f', 'H'), ('f', 'I'), ('f', 'J'), ('f', 'K'), \n",
    "         ('g', 'A'), ('g', 'E'), ('g', 'H'), ('h', 'B'), \n",
    "         ('h', 'D'), ('h', 'E'), ('h', 'F'), ('h', 'J'), \n",
    "         ('k', 'D'), ('k', 'I')]\n",
    "\n",
    "print(display_matching(U,W,edges))\n"
   ]
  },
  {
   "cell_type": "code",
   "execution_count": 25,
   "metadata": {},
   "outputs": [
    {
     "name": "stdout",
     "output_type": "stream",
     "text": [
      "length of matching: 11\n",
      "a  ---> B\n",
      "b  ---> C\n",
      "c  ---> D\n",
      "d  ---> E\n",
      "e  ---> F\n",
      "f  ---> G\n",
      "g  ---> H\n",
      "h  ---> I\n",
      "i  ---> J\n",
      "j  ---> K\n",
      "k  ---> A\n"
     ]
    }
   ],
   "source": [
    "print(display_matching(U,W,product(U,W)))"
   ]
  },
  {
   "cell_type": "code",
   "execution_count": 30,
   "metadata": {},
   "outputs": [
    {
     "data": {
      "text/plain": [
       "[(1, 4), (1, 5), (2, 4), (2, 5), (3, 4), (3, 5)]"
      ]
     },
     "execution_count": 30,
     "metadata": {},
     "output_type": "execute_result"
    }
   ],
   "source": [
    "list(product([1,2,3],[4,5]))"
   ]
  },
  {
   "cell_type": "code",
   "execution_count": null,
   "metadata": {},
   "outputs": [],
   "source": []
  }
 ],
 "metadata": {
  "jupytext": {
   "formats": "ipynb,md"
  },
  "kernelspec": {
   "display_name": "Python 3",
   "language": "python",
   "name": "python3"
  },
  "language_info": {
   "codemirror_mode": {
    "name": "ipython",
    "version": 3
   },
   "file_extension": ".py",
   "mimetype": "text/x-python",
   "name": "python",
   "nbconvert_exporter": "python",
   "pygments_lexer": "ipython3",
   "version": "3.7.3"
  }
 },
 "nbformat": 4,
 "nbformat_minor": 4
}
