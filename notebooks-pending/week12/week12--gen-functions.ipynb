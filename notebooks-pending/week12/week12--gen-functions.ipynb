{
 "cells": [
  {
   "cell_type": "markdown",
   "metadata": {
    "slideshow": {
     "slide_type": "slide"
    }
   },
   "source": [
    "Math087 - Mathematical Modeling\n",
    "===============================\n",
    "[Tufts University](http://www.tufts.edu) -- [Department of Math](http://math.tufts.edu)  \n",
    "[George McNinch](http://gmcninch.math.tufts.edu) <george.mcninch@tufts.edu>  \n",
    "*Fall 2020*\n",
    "\n",
    "Course material (Week 12): Recurrence relations & generating functions\n",
    "----------------------------------------------------------------"
   ]
  },
  {
   "cell_type": "markdown",
   "metadata": {
    "slideshow": {
     "slide_type": "slide"
    }
   },
   "source": [
    "Discrete-time problems\n",
    "======================\n",
    "\n",
    "Our goal in this notebook is to discuss some deterministic models which are naturally \"discrete in the time parameter\". We'll try to make that precise as we go forward!"
   ]
  },
  {
   "cell_type": "markdown",
   "metadata": {
    "slideshow": {
     "slide_type": "subslide"
    }
   },
   "source": [
    "Example\n",
    "-------\n",
    "\n",
    "Suppose that you have a \\\\$2000 balance on your credit card. Each month, you charge \\\\$500\n",
    "and pay \\\\$750 off of the balance, but interest is charged at a rate of 1.5\\% of the unpaid balance each\n",
    "month. \n",
    "\n",
    "Write $b_i$ for the balance after $i$ months. Thus $b_0 = 2000$, and the relation \n",
    "\n",
    "$$(\\clubsuit) \\quad b_{i+1} = b_i + 500 - 750 + 0.015b_i = 1.015 b_i - 250$$\n",
    "\n",
    "holds.\n",
    "\n",
    "Question: How long does it take to pay off the balance?\n",
    "\n",
    "The description $(\\clubsuit)$ is known as *a recurrence relation*.\n",
    "\n",
    "In order to give a ``code``-based solution, we can use recursion, as follows:"
   ]
  },
  {
   "cell_type": "code",
   "execution_count": 1,
   "metadata": {
    "slideshow": {
     "slide_type": "subslide"
    }
   },
   "outputs": [
    {
     "name": "stdout",
     "output_type": "stream",
     "text": [
      "00 - $ 2000.00\n",
      "01 - $ 1780.00\n",
      "02 - $ 1556.70\n",
      "03 - $ 1330.05\n",
      "04 - $ 1100.00\n",
      "05 - $ 866.50\n",
      "06 - $ 629.50\n",
      "07 - $ 388.94\n",
      "08 - $ 144.78\n",
      "09 - $ -103.05\n"
     ]
    }
   ],
   "source": [
    "def balance(i):\n",
    "    ## return the balance after i months\n",
    "    if i == 0: \n",
    "        return 2000\n",
    "    else:\n",
    "        return (1.015)*balance(i-1) -250\n",
    "    \n",
    "def month_range(n):\n",
    "    res = [f\"{i:02d} - $ {balance(i):.02f}\" for i in range(n)]\n",
    "    return \"\\n\".join(res)\n",
    "\n",
    "print(month_range(10))"
   ]
  },
  {
   "cell_type": "markdown",
   "metadata": {
    "slideshow": {
     "slide_type": "fragment"
    }
   },
   "source": [
    "Thus the loan is repaid after 9 months....\n",
    "\n",
    "But this required us to *guess* a possible solution and use the code to check whether it works."
   ]
  },
  {
   "cell_type": "markdown",
   "metadata": {
    "slideshow": {
     "slide_type": "slide"
    }
   },
   "source": [
    "Example\n",
    "-------\n",
    "\n",
    "Suppose that you want to buy a house. You will need to take out a \\\\$300,000 mortgage to\n",
    "do so. The interest accumulates at a rate of 0.4\\% per month (4.\\8% per year), and your monthly\n",
    "payment is \\\\$1600. \n",
    "\n",
    "How long does it take to pay off the mortgage?\n",
    "\n",
    "Again, if $b_i$ is the balance after $i$  months, then $b_0 = 300000$ and\n",
    "\n",
    "$$b_{i+1} = b_i + 0.004 b_i - 1600 = 1.004 b_i - 1600$$\n",
    "\n",
    "This is pretty similar to the previous example...."
   ]
  },
  {
   "cell_type": "markdown",
   "metadata": {
    "slideshow": {
     "slide_type": "slide"
    }
   },
   "source": [
    "Example\n",
    "-------\n",
    "\n",
    "Consider an idealized rabbit population. Assume that a newly born pair of rabbits, one male and one female, are put in a field. Rabbits are able to mate at the age of one month, so that at the end of her second month, a female can produce a new pair of rabbits. A mating pair always produces a new mating pair (one male and one female) every month from the second month on. For purposes of this model, we are going to ignore rabbit mortality (we'll assume that rabbits don't die...)!!\n",
    "\n",
    "How many pairs of rabbits will there be after $k$ months?\n",
    "\n",
    "Write $f_k$ = number of pairs of rabbits in the field after $k$ months. Thus $f_0 = 0$ and $f_1 = 1$.\n",
    "\n",
    "For $k \\ge 2$ all pairs of rabbits who are at least two months old reproduce, and all pairs from month $k-1$ are still alive, so:\n",
    "\n",
    "$$f_k = f_{k-1} + f_{k-2}$$\n",
    "\n",
    "This is the [Fibonacci sequence](https://en.wikipedia.org/wiki/Fibonacci)"
   ]
  },
  {
   "cell_type": "code",
   "execution_count": 2,
   "metadata": {
    "slideshow": {
     "slide_type": "subslide"
    }
   },
   "outputs": [
    {
     "name": "stdout",
     "output_type": "stream",
     "text": [
      "0 - 0\n",
      "1 - 1\n",
      "2 - 1\n",
      "3 - 2\n",
      "4 - 3\n",
      "5 - 5\n",
      "6 - 8\n",
      "7 - 13\n",
      "8 - 21\n",
      "9 - 34\n",
      "\n",
      "10 - 55\n",
      "15 - 610\n",
      "20 - 6765\n",
      "25 - 75025\n",
      "30 - 832040\n",
      "35 - 9227465\n"
     ]
    }
   ],
   "source": [
    "def fibonacci(n):\n",
    "    if n==0:\n",
    "        return 0\n",
    "    if n==1:\n",
    "        return 1\n",
    "    else:\n",
    "        return fibonacci(n-1) + fibonacci(n-2)\n",
    "    \n",
    "fib = [f\"{m} - {fibonacci(m)}\" for m in range(10)]\n",
    "print(\"\\n\".join(fib))\n",
    "print()\n",
    "\n",
    "fib_by_5 = [f\"{m} - {fibonacci(m)}\" for m in range(10,40,5)]\n",
    "print(\"\\n\".join(fib_by_5))"
   ]
  },
  {
   "cell_type": "markdown",
   "metadata": {
    "lines_to_next_cell": 2,
    "slideshow": {
     "slide_type": "slide"
    }
   },
   "source": [
    "Generating functions\n",
    "--------------------\n",
    "\n",
    "It is often desirable to have a *closed-form* description of a solution\n",
    "to a recurrence problem. For *some* problems involving recurrence relations, we can find a so-called *generating function* which provides a nice description of the solution.\n",
    "\n",
    "Our main trick is going to be usage of a so-called *formal power series*:\n",
    "\n",
    "$$f(x) = \\sum_{k=0}^\\infty f_k x^k$$\n",
    "\n",
    "where we still need to specify the *coefficients* $f_k$ of $f(x)$.\n",
    "\n",
    "\n",
    "Let's consider such a formal series in the case of the Fibonacci example. Thus the coefficient\n",
    "$f_k$ of $x^k$ in the series $f(x)$ is precisely the $k$-th Fibonacci number.\n",
    "\n",
    "This means that the coefficients satisfy the recurrence relation\n",
    "\n",
    "$$f_{k+2} = f_{k+1} + f_k$$\n",
    "\n",
    "for $k \\ge 0$.\n",
    "\n",
    "We are going to argue that this recurrence relationship leads to an algebraic identity involving the formal power series $f(x)$."
   ]
  },
  {
   "cell_type": "markdown",
   "metadata": {
    "slideshow": {
     "slide_type": "subslide"
    }
   },
   "source": [
    "Multiplying each side of this equality by $x^{k+2}$ we obtain\n",
    "\n",
    "$$f_{k+2} x^{k+2} = f_{k+1} x^{k+2} + f_k x^{k+2}.$$\n",
    "\n",
    "Now, summing over all $k \\ge 0$ and *ignoring convergence issues* (!) we obtain\n",
    "\n",
    "$$(\\clubsuit) \\quad \\sum_{k=0}^\\infty f_{k+2} x^{k+2} = \\sum_{k=0}^\\infty f_{k+1} x^{k+2} + \\sum_{k=0}^\\infty f_k x^{k+2}$$\n",
    "\n",
    "Let's notice that \n",
    "\n",
    "$$(\\mathbf{a}) \\quad \\sum_{k=0}^\\infty f_k x^{k+2} = x^2 \\sum_{k=0}^\\infty f_k x^{k} = x^2 f(x)$$\n",
    "\n",
    "Moreover, reindexing the left-most term in $(\\clubsuit)$ via $j=k+2$ we get\n",
    "\n",
    "$$(\\mathbf{b}) \\quad \\sum_{k=0}^\\infty f_{k+2} x^{k+2} = \\sum_{j=2}^\\infty f_j x^j = f(x) - f_0x^0 - f_1x^1 = f(x) - f_0 - f_1 x$$\n",
    "\n",
    "and\n",
    "\n",
    "$$(\\mathbf{c}) \\quad \\sum_{k=0}^\\infty f_{k+1} x^{k+2} = x\\sum_{k=0}^\\infty f_{k+1} x^{k+1} = x\\sum_{k=1}^\\infty f_k x^k = x(f(x) - f_0)$$"
   ]
  },
  {
   "cell_type": "markdown",
   "metadata": {
    "slideshow": {
     "slide_type": "subslide"
    }
   },
   "source": [
    "Combining $(\\mathbf{a}), (\\mathbf{b})$ and $(\\mathbf{c})$ with the recurrence relation $(\\clubsuit)$, we find that\n",
    "\n",
    "$$f(x) - f_0 - f_1 x = x(f(x) - f_0) + x^2 f(x)$$\n",
    "\n",
    "Thus\n",
    "\n",
    "$$f(x) - xf(x) - x^2 f(x) = f_0 + f_1x - f_0 x$$\n",
    "\n",
    "$\\implies$\n",
    "\n",
    "$$(1-x-x^2) f(x) = f_0 + (f_1 - f_0) x$$\n",
    "\n",
    "$\\implies$\n",
    "\n",
    "$$f(x) = \\dfrac{f_0 + (f_1 - f_0)x}{1 - x - x^2}$$\n",
    "\n",
    "Since $f_0 = 0$ and $f_1 = 1$, we find an *identity of formal power series*:\n",
    "\n",
    "$$f(x) = \\dfrac{x}{1 - x - x^2}$$"
   ]
  },
  {
   "cell_type": "markdown",
   "metadata": {
    "slideshow": {
     "slide_type": "slide"
    }
   },
   "source": [
    "Application\n",
    "-----------\n",
    "\n",
    "The idea is that we can use the Taylor series development at $x=0$ of $\\dfrac{x}{1 - x - x^2}$ to find\n",
    "a formulat for the coefficients $f_k$.\n",
    "\n",
    "Our main tool will be the geometric series:\n",
    "\n",
    "$$\\dfrac{1}{1 + \\alpha x} = 1 - \\alpha x + \\alpha^2 x^2 - \\cdots = \\sum_{i=0}^\\infty (-1)^i\\alpha^i x^i$$\n",
    "\n",
    "We start by factoring $1 - x - x^2 = -(x^2 + x - 1)$; using the quadratic formula, we see that the roots are \n",
    "\n",
    "$$\\phi = \\dfrac{-1 + \\sqrt{5}}{2} \\qquad \\text{and} \\qquad \\psi = \\dfrac{-1 - \\sqrt{5}}{2}.$$\n",
    "\n"
   ]
  },
  {
   "cell_type": "markdown",
   "metadata": {
    "slideshow": {
     "slide_type": "subslide"
    }
   },
   "source": [
    "This leads to the factorization:\n",
    "\n",
    "$$1 - x - x^2 = -(x-\\phi)(x-\\psi)$$\n",
    "\n",
    "and we see that these roots satisfy the identities\n",
    "\n",
    "$$ \\phi \\cdot \\psi = -1 \\qquad \\text{and} \\qquad \\phi + \\psi = -1.$$\n",
    "\n",
    "Thus\n",
    "\n",
    "$$1 - x - x^2 = -(x-\\phi)(x-\\psi) = \\phi \\psi (x-\\phi)(x-\\psi) = (\\phi x + 1)(\\psi x + 1)$$\n",
    "\n",
    "\n",
    "Let's notice the following identities:\n",
    "\n",
    "$$(\\diamondsuit) \\qquad \\phi - \\psi = \\sqrt{5}$$\n"
   ]
  },
  {
   "cell_type": "markdown",
   "metadata": {
    "slideshow": {
     "slide_type": "subslide"
    }
   },
   "source": [
    "\n",
    "We now use the method of *partial fractions* to rewrite the series $f(x)$ we must find constants $A$ and $B$ which make the following expression valid:\n",
    "\n",
    "$$f(x) = \\dfrac{x}{1-x-x^2} = \\dfrac{x}{(1 + \\phi x)(1 + \\psi x)} = \\dfrac{A}{1 + \\phi x} + \\dfrac{B}{1 + \\psi x}$$\n",
    "\n",
    "Getting a common denominator on the RHS, we see that $A,B$ are determined by the equation:\n",
    "\n",
    "$$x = A(1 + \\psi x) + B(1 + \\phi x) = (A+B) + (A\\psi + B\\phi)x$$\n",
    "\n",
    "So we must have\n",
    "\n",
    "$$\\begin{matrix}\n",
    " A + B = 0 \\\\\n",
    " A \\psi + B\\phi = 1\n",
    "\\end{matrix};\n",
    "\\qquad \\text{i.e.} \\qquad\n",
    "\\begin{bmatrix}\n",
    "1 & 1 \\\\\n",
    "\\psi & \\phi\n",
    "\\end{bmatrix}\n",
    "\\begin{bmatrix}\n",
    "A \\\\ B\n",
    "\\end{bmatrix}\n",
    "=\n",
    "\\begin{bmatrix}\n",
    "0 \\\\ 1\n",
    "\\end{bmatrix}\n",
    "$$\n"
   ]
  },
  {
   "cell_type": "code",
   "execution_count": null,
   "metadata": {},
   "outputs": [],
   "source": []
  },
  {
   "cell_type": "markdown",
   "metadata": {
    "slideshow": {
     "slide_type": "subslide"
    }
   },
   "source": [
    "\n",
    "Performing row-operations on the corresponding augmented matrix, we see that \n",
    "$$\\begin{bmatrix}\n",
    "1 & 1 & 0\\\\\n",
    "\\psi & \\phi & 1 \n",
    "\\end{bmatrix}\n",
    "\\approx\n",
    "\\begin{bmatrix}\n",
    "1 & 1 & 0\\\\\n",
    "0 & \\phi - \\psi & 1 \n",
    "\\end{bmatrix}\n",
    "\\approx\n",
    "\\begin{bmatrix}\n",
    "1 & 1 & 0\\\\\n",
    "0 & 1 & 1/(\\phi - \\psi) \n",
    "\\end{bmatrix}\n",
    "\\approx\n",
    "\\begin{bmatrix}\n",
    "1 & 0 & -1/(\\phi - \\psi)\\\\\n",
    "0 & 1 & 1/(\\phi - \\psi) \n",
    "\\end{bmatrix}.\n",
    "$$\n",
    "\n",
    "Combined with $(\\diamondsuit)$, this shows the following:\n",
    "\n",
    "$$A = -\\dfrac{1}{\\phi - \\psi} = \\dfrac{-1}{\\sqrt{5}} \\qquad \\text{and} \\qquad\n",
    "B = \\dfrac{1}{\\phi - \\psi} = \\dfrac{1}{\\sqrt{5}}$$\n"
   ]
  },
  {
   "cell_type": "markdown",
   "metadata": {
    "slideshow": {
     "slide_type": "subslide"
    }
   },
   "source": [
    "\n",
    "Conclude that\n",
    "\n",
    "$$f(x) = \\dfrac{x}{1 - x - x^2} = \\dfrac{-1}{\\sqrt{5}} \\cdot \\dfrac{1}{1 + \\phi x} + \\dfrac{1}{\\sqrt{5}}\n",
    "\\cdot \\dfrac{1}{1 + \\psi x}$$\n",
    "\n",
    "$$=  \\dfrac{-1}{\\sqrt{5}} \\cdot \\sum_{i=0}^\\infty (-1)^i \\phi^i x^i + \\dfrac{1}{\\sqrt{5}}\n",
    "\\cdot \\sum_{i=0}^\\infty (-1)^i \\psi^i x^i $$\n",
    "\n",
    "\n",
    "$$=  \\sum_{i=0}^\\infty \\left(\\dfrac{(-1)^{i+1}\\phi^i + (-1)^i \\psi^i}{\\sqrt{5}} \\right)x^i $$\n",
    "\n",
    "$$=  \\sum_{i=0}^\\infty \\left(\\dfrac{(-\\psi)^i -(-\\phi)^i}{\\sqrt{5}} \\right)x^i.$$\n",
    "\n",
    "This leads to the following formula for the Fibonacci numbers:\n",
    "\n",
    "$$f_i = \\dfrac{(-\\psi)^i -(-\\phi)^i}{\\sqrt{5}}$$\n",
    "\n",
    "-------\n"
   ]
  },
  {
   "cell_type": "markdown",
   "metadata": {
    "slideshow": {
     "slide_type": "subslide"
    }
   },
   "source": [
    "\n",
    "We can write code to implement this, as follows. This code avoids recursion, but gets some noise from the floating point calculations:"
   ]
  },
  {
   "cell_type": "code",
   "execution_count": 3,
   "metadata": {
    "slideshow": {
     "slide_type": "subslide"
    }
   },
   "outputs": [
    {
     "name": "stdout",
     "output_type": "stream",
     "text": [
      "0 - 0.0\n",
      "1 - 1.0\n",
      "2 - 1.0\n",
      "3 - 2.0\n",
      "4 - 3.0000000000000004\n",
      "5 - 5.000000000000001\n",
      "6 - 8.000000000000002\n",
      "7 - 13.000000000000002\n",
      "8 - 21.000000000000004\n",
      "9 - 34.00000000000001\n",
      "\n",
      "10 - 55.000000000000014\n",
      "15 - 610.0000000000003\n",
      "20 - 6765.000000000005\n",
      "25 - 75025.00000000006\n",
      "30 - 832040.0000000008\n",
      "35 - 9227465.000000011\n"
     ]
    }
   ],
   "source": [
    "import numpy as np\n",
    "\n",
    "def fib_closed_form(i):\n",
    "    m_phi = (-1)*(-1 + np.sqrt(5))/2\n",
    "    m_psi = (-1)*(-1 - np.sqrt(5))/2\n",
    "    return (m_psi**i - m_phi**i)/np.sqrt(5)\n",
    "\n",
    "fib_closed = [f\"{m} - {fib_closed_form(m)}\" for m in range(10)]\n",
    "print(\"\\n\".join(fib_closed))\n",
    "print()\n",
    "\n",
    "fib_closed_by_5 = [f\"{m} - {fib_closed_form(m)}\" for m in range(10,40,5)]\n",
    "print(\"\\n\".join(fib_closed_by_5))"
   ]
  },
  {
   "cell_type": "markdown",
   "metadata": {
    "slideshow": {
     "slide_type": "slide"
    }
   },
   "source": [
    "Linear Homogeneous recurrence relations\n",
    "--------------------------------\n",
    "\n",
    "The technique just described for giving a formula for the Fibonacci numbers works more generally for linear homogeneous recurrence relations with constant coefficients.\n",
    "\n",
    "Let's give a rough formulation of this more general setting; you can see a  [more details on the definition here](https://en.wikipedia.org/wiki/Recurrence_relation#Definition). We consider a sequence of quantities\n",
    "$b_0,b_1,b_2,\\cdots$\n",
    "\n",
    "We consider such recurrence relations of order $k \\in \\mathbb{Z}_{\\ge 1}$. This means that there are some coefficients $c_1,c_2,\\cdots,c_k$ with $c_k \\ne 0$ and a relation for each $n \\ge k$ of the form\n",
    "\n",
    "$$(\\clubsuit) \\quad b_n = c_1 b_{n-1} + c_2 b_{n-2} + \\cdots + c_k b_{n-k}$$\n",
    "\n",
    "In particular, the Fibonacci sequence is determined by a recurrence relation as above of order $k=2$.\n",
    "\n",
    "Note in particular, there is no constant term in the formula for $b_i$ (this is what is meant by the term \"homogeneous\").\n",
    "Becaues of this, the credit card and mortgage examples are *not* linear homogeneous recurrence relations (see below, though!)\n"
   ]
  },
  {
   "cell_type": "markdown",
   "metadata": {
    "slideshow": {
     "slide_type": "subslide"
    }
   },
   "source": [
    "\n",
    "In the situation of a constant coefficient linear homogeneous recurrence as above, again consider the generating function\n",
    "\n",
    "$$b(x) = \\sum_{i=0}^\\infty b_i x^i.$$\n",
    "\n",
    "The expression $(\\clubsuit)$ can be used to show that the formal power series $b(x)$ identifies\n",
    "with the Taylor expansion of a *rational function of $x$* -- see [generating functions](https://en.wikipedia.org/wiki/Generating_function). Now one uses the method of partial fractions as we did in the case of the generating function for the Fibonacci numbers."
   ]
  },
  {
   "cell_type": "markdown",
   "metadata": {
    "slideshow": {
     "slide_type": "slide"
    }
   },
   "source": [
    "Inhomogenous case?\n",
    "==================\n",
    "\n",
    "How should we proceed in the case of an inhomogeneous recurrence relation, like that found in our credit card example and mortgage example??\n",
    "\n",
    "Let's discuss first the mortgage example. Recall that $b_0 = 300000$ and $$b_{i+1} = 1.004b_i - 1600 \\quad \\text{for} \\quad i \\ge 0.$$\n",
    "\n"
   ]
  },
  {
   "cell_type": "markdown",
   "metadata": {
    "slideshow": {
     "slide_type": "subslide"
    }
   },
   "source": [
    "First approach\n",
    "---------------\n",
    "Let's notice that \n",
    "\n",
    "$$b_{i+1} = 1.004b_i - 1600  \\implies b_{i+1} - 1.004b_i = - 1600$$\n",
    "\n",
    "and\n",
    "\n",
    "$$b_{i+2} = 1.004b_{i+1} - 1600 \\implies b_{i+2} - 1.004b_{i+1} = - 1600$$\n",
    "\n",
    "Subtracting the equations gives\n",
    "\n",
    "$$b_{i+2} - 2.004 \\cdot b_{i+1} + 1.004 \\cdot b_i = 0 \\implies b_{i+2} = 2.004 \\cdot b_{i+1} - 1.004 \\cdot b_i$$ \n",
    "\n",
    "Thus we have replaced the inhomogeneous recurrence relation with a homogeneous relation which we can now solve as in the Fibonacci example."
   ]
  },
  {
   "cell_type": "markdown",
   "metadata": {
    "slideshow": {
     "slide_type": "subslide"
    }
   },
   "source": [
    "Second approach\n",
    "---------------\n",
    "\n",
    "Let's first find a *steady-state* solution. Under what circumstances is it true that $b_i = b_{i+1} = b^*$ for all sufficiently large $i$?\n",
    "\n",
    "Well, this equation implies that\n",
    "\n",
    "$$b^* = 1.004b^* - 1600 \\implies 0.004b^* = 1600 \\implies b^* = 400000$$\n",
    "\n",
    "This indicates that if the loan had a balance of \\\\$400,000, the loan would never be paid off (in fact, the balance would remain constant!).\n",
    "\n",
    "However, our assumption was that the loan value *started* at \\\\$300,000. Nevertheless, we can\n",
    "use our steady-state solution $b^* = 400000$ as follows:\n",
    "\n"
   ]
  },
  {
   "cell_type": "markdown",
   "metadata": {
    "slideshow": {
     "slide_type": "subslide"
    }
   },
   "source": [
    "Let $c_i = b_i - b^*$. Since\n",
    "\n",
    "$$b_{i+1} = 1.004 b_i - 1600 \\qquad \\text{and} \\qquad b^* = 1.004 b^* - 1600$$\n",
    "\n",
    "we find that\n",
    "\n",
    "$$b_{i+1} - b^* = 1.004 (b_i - b^*)$$\n",
    "\n",
    "for $i \\ge 0$. But this means\n",
    "\n",
    "$$c_{i+1} = 1.004 c_i \\qquad \\text{for $i \\ge 0$}$$\n",
    "\n",
    "and it is then easy to see that\n",
    "\n",
    "$$c_i = (1.004)^i c_0 \\qquad \\text{for $i \\ge 0$}$$\n",
    "\n",
    "This means that the generating function for the $c_i$ satisfies\n",
    "\n",
    "$$c(x) = \\sum_{i=0}^\\infty c_i x^i = \\sum_{i=0}^\\infty (1.004)^ic_0 x^i = \\dfrac{c_0}{1-1.004x}$$\n"
   ]
  },
  {
   "cell_type": "markdown",
   "metadata": {
    "slideshow": {
     "slide_type": "subslide"
    }
   },
   "source": [
    "\n",
    "Returning to the coefficients $b_i$, we find now:\n",
    "\n",
    "$$b(x) = \\sum_{i=0}^\\infty b_i x^i = \\sum_{i=0}^\\infty (c_i + b^*)x^i = \n",
    "\\sum_{i=0}^\\infty c_ix^i + \\sum_{i=0}^\\infty b^* x^i$$ \n",
    "\n",
    "$$=\\dfrac{c_0}{1-1.004x} + \\dfrac{b^*}{1-x}$$\n",
    "\n"
   ]
  },
  {
   "cell_type": "markdown",
   "metadata": {
    "slideshow": {
     "slide_type": "subslide"
    }
   },
   "source": [
    "\n",
    "In particular,\n",
    "\n",
    "$$b_i = c_i + b^* = (1.004)^i c_0 + b^* = (1.004)^i (b_0 - b^*) + b^*$$\n",
    "\n",
    "Since $b_0 = 300000$ and $b^* = 400000$ we see that\n",
    "\n",
    "$$b_i = 400000 - 100000(1.004)^i$$\n",
    "\n",
    "Now, $$b_i = 0 \\implies 4 = 1.004^i \\implies \\ln(4) = i\\cdot \\ln(1.004) \\implies i = \\dfrac{\\ln(4)}{\\ln(1.004)}$$"
   ]
  },
  {
   "cell_type": "code",
   "execution_count": 4,
   "metadata": {
    "slideshow": {
     "slide_type": "fragment"
    }
   },
   "outputs": [
    {
     "data": {
      "text/plain": [
       "347.2662762842735"
      ]
     },
     "execution_count": 4,
     "metadata": {},
     "output_type": "execute_result"
    }
   ],
   "source": [
    "np.log(4)/np.log(1.004)"
   ]
  },
  {
   "cell_type": "code",
   "execution_count": 5,
   "metadata": {
    "slideshow": {
     "slide_type": "fragment"
    }
   },
   "outputs": [
    {
     "data": {
      "text/plain": [
       "29.0"
      ]
     },
     "execution_count": 5,
     "metadata": {},
     "output_type": "execute_result"
    }
   ],
   "source": [
    "348/12."
   ]
  },
  {
   "cell_type": "markdown",
   "metadata": {
    "slideshow": {
     "slide_type": "fragment"
    }
   },
   "source": [
    "Thus the loan is paid off in 348 months, i.e. in 29 years."
   ]
  }
 ],
 "metadata": {
  "jupytext": {
   "formats": "ipynb,md"
  },
  "kernelspec": {
   "display_name": "Python 3",
   "language": "python",
   "name": "python3"
  },
  "language_info": {
   "codemirror_mode": {
    "name": "ipython",
    "version": 3
   },
   "file_extension": ".py",
   "mimetype": "text/x-python",
   "name": "python",
   "nbconvert_exporter": "python",
   "pygments_lexer": "ipython3",
   "version": "3.7.3"
  }
 },
 "nbformat": 4,
 "nbformat_minor": 4
}
