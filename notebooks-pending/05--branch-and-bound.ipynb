{
 "cells": [
  {
   "cell_type": "markdown",
   "metadata": {
    "slideshow": {
     "slide_type": "slide"
    }
   },
   "source": [
    "Math087 - Mathematical Modeling\n",
    "===============================\n",
    "[Tufts University](http://www.tufts.edu) -- [Department of Math](http://math.tufts.edu)  \n",
    "[George McNinch](http://gmcninch.math.tufts.edu) <george.mcninch@tufts.edu>  \n",
    "*Fall 2020*\n",
    "\n",
    "Course material (Week 5): Integer programming via Branch & Bound\n",
    "----------------------------------------------------------------"
   ]
  },
  {
   "cell_type": "markdown",
   "metadata": {
    "slideshow": {
     "slide_type": "slide"
    }
   },
   "source": [
    "Integer programming: summary of some issue(s)\n",
    "---------------------------------------------\n",
    "\n",
    "\n",
    "As an example, consider the linear program:\n",
    "\n",
    "``maximize`` $f(x_1,x_2) = x_1 + 5x_2$; i.e. $\\mathbf{c} \\cdot \\mathbf{x}$ where $\\mathbf{c} = \\begin{bmatrix} 1 & 5 \\end{bmatrix}$.\n",
    "\n",
    "such that $A \\mathbf{x} = \\begin{bmatrix} 1 & 10 \\\\ 1 & 0 \\end{bmatrix} \\begin{bmatrix} x_1 \\\\ x_2 \\end{bmatrix} \\le\n",
    "\\begin{bmatrix} 20 \\\\ 2 \\end{bmatrix}$ and $\\mathbf{x} \\ge \\mathbf{0}$.\n",
    "\n",
    "Let's find the optimal solution $\\mathbf{x} \\in \\mathbb{R}^2$, and the optimal *integral* solution\n",
    "$\\mathbf{x}$ with $x_1,x_2 \\in \\mathbb{Z}$.\n",
    "\n",
    "We'll start by solving the *relaxed* problem, where the integrality condition is ignored:"
   ]
  },
  {
   "cell_type": "code",
   "execution_count": 1,
   "metadata": {
    "slideshow": {
     "slide_type": "subslide"
    }
   },
   "outputs": [
    {
     "name": "stdout",
     "output_type": "stream",
     "text": [
      "result = [2.  1.8]\n",
      "maxvalue = 11.00\n"
     ]
    }
   ],
   "source": [
    "from scipy.optimize import linprog\n",
    "import numpy as np\n",
    "\n",
    "A = np.array([[1,10],[1,0]])\n",
    "b = np.array([20,2])\n",
    "c = np.array([1,5])\n",
    "\n",
    "result=linprog((-1)*c,A_ub = A, b_ub = b)\n",
    "print(f\"result = {result.x}\\nmaxvalue = {(-1)*result.fun:.2f}\")"
   ]
  },
  {
   "cell_type": "markdown",
   "metadata": {
    "slideshow": {
     "slide_type": "subslide"
    }
   },
   "source": [
    "This calculution shows that an optimal solution with no integer constraint is $\\mathbf{x} = \\begin{bmatrix} 2 \\\\ 1.8 \\end{bmatrix}$ and that the optimal value is roughly 11.\n"
   ]
  },
  {
   "cell_type": "markdown",
   "metadata": {
    "slideshow": {
     "slide_type": "subslide"
    }
   },
   "source": [
    "Let's make an image of the feasible set:"
   ]
  },
  {
   "cell_type": "code",
   "execution_count": 2,
   "metadata": {
    "lines_to_next_cell": 2,
    "slideshow": {
     "slide_type": "fragment"
    },
    "tags": [
     "to_remove"
    ]
   },
   "outputs": [],
   "source": [
    "%matplotlib notebook\n",
    "%matplotlib inline\n",
    "import matplotlib.pyplot as plt\n",
    "import itertools\n",
    "\n",
    "plt.rcParams.update({'font.size': 17})\n",
    "\n",
    "# plot the feasible region\n",
    "d = np.linspace(-.5,3,500)\n",
    "X,Y = np.meshgrid(d,d)\n",
    "\n",
    "def vector_le(b,c):\n",
    "    return np.logical_and.reduce(b<=c)\n",
    "\n",
    "@np.vectorize\n",
    "def feasible(x,y):\n",
    "    p=np.array([x,y])\n",
    "    if vector_le(A@p,b) and vector_le(np.zeros(2),p):\n",
    "        return 1.0\n",
    "    else:\n",
    "        return 0.0\n",
    "               \n",
    "Z=feasible(X,Y)\n"
   ]
  },
  {
   "cell_type": "code",
   "execution_count": 3,
   "metadata": {
    "slideshow": {
     "slide_type": "fragment"
    },
    "tags": [
     "to_remove"
    ]
   },
   "outputs": [
    {
     "data": {
      "image/png": "[encoded data removed]",
      "text/plain": [
       "<Figure size 504x504 with 1 Axes>"
      ]
     },
     "metadata": {
      "needs_background": "light"
     },
     "output_type": "display_data"
    }
   ],
   "source": [
    "\n",
    "fig,ax = plt.subplots(figsize=(7,7))\n",
    "ax.axhline(y=0, color = \"black\")\n",
    "ax.axvline(x=0, color = \"black\")\n",
    "\n",
    "# draw the region defind by x >= 0 and Ax <= b. \n",
    "ax.imshow(Z,\n",
    "          extent=(X.min(),X.max(),Y.min(),Y.max()),\n",
    "          origin=\"lower\", \n",
    "          cmap=\"Reds\", \n",
    "          alpha = 0.2)\n",
    "\n",
    "def dot(x,y):\n",
    "    return ax.scatter(x,y,s=100,color=\"blue\")\n",
    "\n",
    "# draw the integer points\n",
    "for i,j in itertools.product(range(3),range(3)):\n",
    "    dot(i,j)\n"
   ]
  },
  {
   "cell_type": "markdown",
   "metadata": {
    "lines_to_next_cell": 2,
    "slideshow": {
     "slide_type": "subslide"
    }
   },
   "source": [
    "You might imagine that the optimal *integer* solution is just obtained by rounding. Note the following:\n",
    "\n",
    "$(2,2)$ is infeasible.\n",
    "\n",
    "$(2,1)$ is feasible and $f(2,1) = 2 + 5\\cdot 1 = 7$\n",
    "\n",
    "$(1,2)$ is infeasible\n",
    "\n",
    "$(1,1)$ is feasible and $f(1,1) = 1 + 5 \\cdot 1 = 6$\n",
    "\n",
    "But as it turns out, the optimal integer solution is the point $(0,2)$ for which $f(0,2) = 0 + 5 \\cdot 2 = 10$.\n",
    "\n",
    "Of course, this optimal integral solution is nowhere near the optimal non-integral solution. So in general, rounding is inadequate!\n",
    "\n",
    "-------"
   ]
  },
  {
   "cell_type": "markdown",
   "metadata": {
    "slideshow": {
     "slide_type": "slide"
    }
   },
   "source": [
    "How to proceed? Well, in this case there are not very many integral feasible points, so to optimize, we can just check the value of $f$ at all such points!\n",
    "\n",
    "Consider a linear program in standard form for $\\mathbf{x} \\in \\mathbb{R}^n$ with $\\mathbf{x} \\ge \\mathbf{0}$, with inequality constraint $A \\mathbf{x} \\le \\mathbf{b}$ which seeks to ``maximize`` its objective function $f$.\n",
    "\n"
   ]
  },
  {
   "cell_type": "markdown",
   "metadata": {
    "slideshow": {
     "slide_type": "subslide"
    }
   },
   "source": [
    "Here is a systematic way that we might proceed:\n",
    "\n",
    "Find an integer $M \\ge 0$ with the property that $$\\mathbf{x} > M \\begin{bmatrix} 1 \\\\ 1 \\\\ \\vdots \\\\ 1 \\end{bmatrix} \\implies \\text{$\\mathbf{x}$ is infeasible}.$$\n",
    "\n",
    "There are $(M+1)^n$ points $\\mathbf{x}$ with integer coordinates for which $\\mathbf{0} \\le \\mathbf{x} \\le M \\begin{bmatrix} 1 \\\\ 1 \\\\ \\vdots \\\\ 1 \\end{bmatrix}$.\n",
    "\n",
    "For each of these points $\\mathbf{x}$, we do the following:\n",
    "- if $\\mathbf{x}$ is infeasible, discard\n",
    "- otherwise, record the pair $(\\mathbf{x},f(\\mathbf{x}))$.\n",
    "\n",
    "When we are finished, we just scan the list of recorded pairs and select that with  the largest objective function value; this selection solves the problem.\n",
    "\n"
   ]
  },
  {
   "cell_type": "markdown",
   "metadata": {
    "slideshow": {
     "slide_type": "slide"
    }
   },
   "source": [
    "The strategy just described is systematic, easy to describe, and works OK when $(M+1)^n$ isn't so large. But e.g. if $M = 3$ and $n=20$, then already\n",
    "$$(M+1)^n \\approx 1.1 \\times 10^{12},$$ \n",
    "which gives us a huge number of points to check!!!"
   ]
  },
  {
   "cell_type": "markdown",
   "metadata": {
    "slideshow": {
     "slide_type": "slide"
    }
   },
   "source": [
    "A more systematic approach: \"Branch & Bound\"\n",
    "============================================\n",
    "\n",
    "We are going to describe an algorithm that implements a [branch-and-bound strategy](https://en.wikipedia.org/wiki/Branch_and_bound) to approach the problem described above.\n",
    "\n",
    "Let's fix some notation; after we formulate some generalities, we'll specialize our treatment to some examples.\n"
   ]
  },
  {
   "cell_type": "markdown",
   "metadata": {
    "slideshow": {
     "slide_type": "subslide"
    }
   },
   "source": [
    "\n",
    "Notation\n",
    "--------\n",
    "\n",
    "We consider a ``integer linear program``:\n",
    "\n",
    "$(\\clubsuit)$ ``maximize`` $f(\\mathbf{x}) = \\mathbf{c}\\cdot \\mathbf{x}$\n",
    "\n",
    "subject to:\n",
    "\n",
    "- $\\mathbf{x} \\in \\mathbb{Z}^n, \\mathbf{x} \\ge \\mathbf{0}$ \n",
    "- $A \\mathbf{x} \\le \\mathbf{b}$ for some $A \\in \\mathbb{R}^{r \\times n}$ and $\\mathbf{b} \\in \\mathbb{R}^r$.\n",
    "\n",
    "Recall that $\\mathbb{Z} = \\{0, \\pm 1, \\pm 2, \\cdots\\}$ is the set of *integers*, and  $\\mathbb{Z}^n$ is the just the set of vectors $\\begin{bmatrix} a_1 & a_2 & \\cdots & a_n \\end{bmatrix}^T$ where $a_1,a_2, \\dots, a_n \\in \\mathbb{Z}$.\n",
    "\n"
   ]
  },
  {
   "cell_type": "markdown",
   "metadata": {
    "slideshow": {
     "slide_type": "subslide"
    }
   },
   "source": [
    "We are going to suppose that we have some vector \n",
    "\n",
    "$$\\mathbf{M} = \\begin{bmatrix} m_1 & m_2 & \\cdots & m_n \\end{bmatrix}^T \\in \\mathbb{Z}^n, \\quad \\mathbf{M} \\ge \\mathbf{0}$$ \n",
    "\n",
    "with the property that $\\mathbf{x} > \\mathbf{M} \\implies \\mathbf{x}$ is infeasible (i.e. $\\mathbf{x} > \\mathbf{M} \\implies A \\mathbf{x} > \\mathbf{b}$).\n",
    "\n",
    "In practice, it'll often be the case that $m_1 = m_2 = \\cdots = m_n$ but that isn't a requirement for us.\n",
    "\n",
    "Let's write\n",
    "\n",
    "$$S = \\{ \\mathbf{x} \\in \\mathbb{Z}^n \\mid \\mathbf{0} \\le \\mathbf{x} \\le \\mathbf{M} \\}.$$ \n",
    "\n",
    "Note that the number of elements $|S|$ in the set $S$ is given by the product \n",
    "$$S = \\prod_{i=1}^n (m_i + 1) = (m_1 + 1) \\times (m_2 + 1) \\times \\cdots \\times (m_n + 1).$$\n",
    "\n",
    "\n",
    "And according to our assumption, $S$ contains every feasible point $\\mathbf{x}$ whose coordinates are integers. So a brute force approach to finding an optimal integral point $\\mathbf{x}$ could\n",
    "be achieved just by testing each element of $S$.\n",
    "\n",
    "Our goal is to systematically eliminate many of the points in $S$."
   ]
  },
  {
   "cell_type": "markdown",
   "metadata": {
    "slideshow": {
     "slide_type": "slide"
    }
   },
   "source": [
    "Algorithm overview\n",
    "------------------\n",
    "\n",
    "Keep the preceding notations. We sometimes refer to the entries $x_i$ of $\\mathbf{x}$ as \"variables\".\n",
    "\n",
    "Let's focus on one entry of $\\mathbf{x} = \\begin{bmatrix} x_1 & x_2 & \\cdots & x_n \\end{bmatrix}^T \\in \\mathbb{Z}^n$, say the $j$-th entry for some $1 \\le j \\le n$ (we'll say more below about how we should select $j$).  i.e. we focus on the variable $x_j$.\n",
    "\n",
    "Now, $x_j$ may take the values $0,1,2,\\cdots,m_j$, so we consider\n",
    "the following subsets of $S$:\n",
    "\n",
    "$$\\begin{matrix} \n",
    "S_0 &=& \\{\\mathbf{x} \\in S \\mid x_j = 0\\} \\\\\n",
    "S_1 &=& \\{\\mathbf{x} \\in S \\mid x_j = 1\\} \\\\\n",
    "\\vdots & \\vdots & \\vdots \\\\\n",
    "S_{m_j} & = & \\{\\mathbf{x} \\in S \\mid x_j = m_j\\}\n",
    "\\end{matrix}$$\n",
    " \n",
    "Thus we have *partitioned* $S$ as a *disjoint union* of certain subsets:\n",
    "\n",
    "$$S = S_0 \\cup S_1 \\cup \\cdots \\cup S_{m_j}$$\n",
    "\n"
   ]
  },
  {
   "cell_type": "markdown",
   "metadata": {
    "slideshow": {
     "slide_type": "subslide"
    }
   },
   "source": [
    "For $0 \\le \\ell \\le m_j$, write $f_\\ell$ for the maximum value of the objective function on points in $S_\\ell$:\n",
    "\n",
    "$$f_\\ell = \\max\\left(f(\\mathbf{x}) = \\mathbf{c} \\cdot \\mathbf{x} \\mid \\mathbf{x} \\in S_\\ell\\right ).$$\n",
    "\n",
    "If we know for some $\\ell_0$ that the quantity $f_{\\ell_0}$ exceeds $f_\\ell$ for every $\\ell \\not = \\ell_0$, then of course an optimal integral \n",
    "to $(\\clubsuit)$ is contained in the subset $S_{\\ell_0}$.\n",
    "\n",
    "So we can then *prune* all the $S_\\ell$ with $\\ell \\not = \\ell_0$ and continue our search for optimal solutions to $(\\clubsuit)$ only considering points in $S_{\\ell_0}$.\n",
    "\n",
    "We may now *repeat* the above procedure by focusing on a *new entry of $\\mathbf{x}$* (different from the $j$-th entry), checking only points in $S_{\\ell_0}$.\n",
    "\n",
    "Iterating after selection of the subset $S_{\\ell_0}$ is known as *branching*."
   ]
  },
  {
   "cell_type": "markdown",
   "metadata": {
    "slideshow": {
     "slide_type": "subslide"
    }
   },
   "source": [
    "The main question now is this: how can we compare the values $f_\\ell, 0 \\le \\ell \\le m_j$ with one another, in order to carry out our pruning? This is known as *bounding*; so the question is: \"how do we bound\"?\n",
    "\n",
    "The answer is to use \"relaxed\" versions of the integer linear program $(\\clubsuit)$, obtained by omitting variables (imposing additional equality constraints) and/or eliminating the \"integral\" requirement.\n",
    "\n",
    "E.g. using ordinary linear programming, we may find the optimal *value* $v_\\ell$ of the objective function for the linear program obtained from $(\\clubsuit)$ by considering $\\mathbf{x} \\in \\mathbb{R}^n$ rather than $\\in \\mathbb{Z}^n$ and\n",
    "by imposing the additional equality constraint $x_j = \\ell$.\n",
    "\n",
    "Then of course $f_\\ell \\le v_\\ell$ -- i.e. $v_\\ell$ is an *upper bound* for $f_\\ell$.\n",
    "\n",
    "On the other hand, for any point $\\mathbf{\\widetilde x} \\in S_\\ell$, the must have \n",
    "$$f(\\widetilde x) = \\mathbf{c} \\cdot \\mathbf{\\widetilde x} \\le f_\\ell$$\n",
    "(since $f_\\ell$ is the maximum of such values!).\n",
    "\n",
    "These observations give us access to upper and lower bounds for the $f_\\ell$; we can now *bound* - i.e. prune - $S_\\ell$ if we can demonstrate that a lower bound for $f_{\\ell_0}$ exceeds an upper bound for $f_\\ell$\n",
    "for $\\ell \\not = \\ell_0$.\n"
   ]
  },
  {
   "cell_type": "markdown",
   "metadata": {
    "slideshow": {
     "slide_type": "slide"
    }
   },
   "source": [
    "Example\n",
    "-------------------\n",
    "\n",
    "Let's see how this works in practice!\n",
    "\n",
    "As a guiding heuristic, when we have a (non-integral) optimal point for a linear program, we choose\n",
    "to branch on the variable whose value (for this optimal point) is non-integral but closest to a integer."
   ]
  },
  {
   "cell_type": "markdown",
   "metadata": {
    "slideshow": {
     "slide_type": "subslide"
    }
   },
   "source": [
    "Consider again  the integer linear program\n",
    "\n",
    "$(\\diamondsuit) \\quad $ ``maximize`` $f(x_1,x_2) = x_1 + 5x_2$; i.e. $\\mathbf{c} \\cdot \\mathbf{x}$ where $\\mathbf{c} = \\begin{bmatrix} 1 & 5 \\end{bmatrix}$.\n",
    "\n",
    "such that $A \\mathbf{x} = \\begin{bmatrix} 1 & 10 \\\\ 1 & 0 \\end{bmatrix} \\begin{bmatrix} x_1 \\\\ x_2 \\end{bmatrix} \\le\n",
    "\\begin{bmatrix} 20 \\\\ 2 \\end{bmatrix}$ and $\\mathbf{x} \\ge \\mathbf{0}$ for $\\mathbf{x} \\in \\mathbb{Z}^2$.\n",
    "\n",
    "We notice that $(*) \\quad \\mathbf{x} > \\begin{bmatrix} 2 & 2 \\end{bmatrix}^T \\implies \\mathbf{x}$ is not feasible.\n",
    "\n",
    "To begin, we first solve the linear program obtained from $(\\diamondsuit)$ by consider $\\mathbf{x} \\in \\mathbb{R}^2$. The optimal value is $v = 11$ and an optimal solution is $\\mathbf{x} = (2,1.8)$.\n",
    "\n",
    "Thus for this optimal solution, $x_1$ is already an integer, so we branch on $x_2$.\n",
    "\n",
    "\n"
   ]
  },
  {
   "cell_type": "markdown",
   "metadata": {
    "slideshow": {
     "slide_type": "subslide"
    }
   },
   "source": [
    "According to $(*)$, $x_2$ can take the values $0,1,2$; we consider these cases in turn:\n",
    "\n",
    "- $x_2 = 0$\n",
    "\n",
    "  We solve the linear program obtained from $(\\diamondsuit)$ be considering \n",
    "  $\\mathbf{x} \\in \\mathbb{R}^2$ and by imposing the additional equality constraint $x_2 = 0$;\n",
    "  the optimal value is $v_0 = 2$ and \n",
    "  an optimal solution is $\\mathbf{x} = (2,0)$.\n",
    "  \n",
    "- $x_2 = 1$\n",
    "\n",
    "  We solve the linear program obtained from $(\\diamondsuit)$ be considering \n",
    "  $\\mathbf{x} \\in \\mathbb{R}^2$ and by imposing the additional equality constraint $x_2 = 1$;\n",
    "  the optimal value is $v_1 = 7$ and \n",
    "  an optimal solution is $\\mathbf{x} = (2,1)$.\n",
    "  \n",
    "- $x_2 = 2$\n",
    "\n",
    "  We solve the linear program obtained from $(\\diamondsuit)$ be considering \n",
    "  $\\mathbf{x} \\in \\mathbb{R}^2$ and by imposing the additional equality constraint $x_2 = 2$;\n",
    "  the optimal value is $v_2 = 10$ and \n",
    "  an optimal solution is $\\mathbf{x} = (0,2)$.\n",
    "  \n"
   ]
  },
  {
   "cell_type": "markdown",
   "metadata": {
    "slideshow": {
     "slide_type": "subslide"
    }
   },
   "source": [
    "\n",
    "We also see that $f_0 \\le 2, f_1 \\le 7$ and (since $(0,2)$ is an integral solution) $10 \\le f_2$;\n",
    "thus $f_2$ exceeds $f_0$ and $f_1$. Thus we ``prune`` $S_0$ and $S_1$.\n",
    "\n",
    "Moreover, \n",
    "since the optimal solution $v_2$ is actually integral, we find $f_2 = v_2$.\n",
    "\n",
    "Thus $f_2 = 10$ is the optimal value for $(\\diamondsuit)$ and an optimal integral solution is $\\mathbf{x} = (x_1,x_2) = (0,2)$.\n"
   ]
  },
  {
   "cell_type": "markdown",
   "metadata": {
    "slideshow": {
     "slide_type": "subslide"
    }
   },
   "source": [
    "One often presents this algorithm via a tree diagram, like the following:"
   ]
  },
  {
   "cell_type": "code",
   "execution_count": 4,
   "metadata": {
    "slideshow": {
     "slide_type": "fragment"
    },
    "tags": [
     "to_remove"
    ]
   },
   "outputs": [
    {
     "data": {
      "image/svg+xml": [
       "<?xml version=\"1.0\" encoding=\"UTF-8\" standalone=\"no\"?>\n",
       "<!DOCTYPE svg PUBLIC \"-//W3C//DTD SVG 1.1//EN\"\n",
       " \"http://www.w3.org/Graphics/SVG/1.1/DTD/svg11.dtd\">\n",
       "<!-- Generated by graphviz version 2.40.1 (20161225.0304)\n",
       " -->\n",
       "<!-- Title: bb1 Pages: 1 -->\n",
       "<svg width=\"388pt\" height=\"286pt\"\n",
       " viewBox=\"0.00 0.00 388.00 286.00\" xmlns=\"http://www.w3.org/2000/svg\" xmlns:xlink=\"http://www.w3.org/1999/xlink\">\n",
       "<g id=\"graph0\" class=\"graph\" transform=\"scale(1 1) rotate(0) translate(4 282)\">\n",
       "<title>bb1</title>\n",
       "<polygon fill=\"#ffffff\" stroke=\"transparent\" points=\"-4,4 -4,-282 384,-282 384,4 -4,4\"/>\n",
       "<!-- S -->\n",
       "<g id=\"node1\" class=\"node\">\n",
       "<title>S</title>\n",
       "<polygon fill=\"none\" stroke=\"#000000\" points=\"248,-278 140,-278 140,-170 248,-170 248,-278\"/>\n",
       "<text text-anchor=\"middle\" x=\"194\" y=\"-227.8\" font-family=\"Times,serif\" font-size=\"14.00\" fill=\"#000000\">S:</text>\n",
       "<text text-anchor=\"middle\" x=\"194\" y=\"-212.8\" font-family=\"Times,serif\" font-size=\"14.00\" fill=\"#000000\">v=11, x=(2, 1.8)</text>\n",
       "</g>\n",
       "<!-- S0 -->\n",
       "<g id=\"node2\" class=\"node\">\n",
       "<title>S0</title>\n",
       "<polygon fill=\"none\" stroke=\"#000000\" points=\"116,-117.5 0,-117.5 0,-1.5 116,-1.5 116,-117.5\"/>\n",
       "<text text-anchor=\"middle\" x=\"58\" y=\"-78.8\" font-family=\"Times,serif\" font-size=\"14.00\" fill=\"#000000\">*pruned*</text>\n",
       "<text text-anchor=\"middle\" x=\"58\" y=\"-47.8\" font-family=\"Times,serif\" font-size=\"14.00\" fill=\"#000000\">S_0:</text>\n",
       "<text text-anchor=\"middle\" x=\"58\" y=\"-32.8\" font-family=\"Times,serif\" font-size=\"14.00\" fill=\"#000000\">v_0 = 2, x = (2,0)</text>\n",
       "</g>\n",
       "<!-- S&#45;&#45;S0 -->\n",
       "<g id=\"edge1\" class=\"edge\">\n",
       "<title>S&#45;&#45;S0</title>\n",
       "<path fill=\"none\" stroke=\"#000000\" d=\"M149.0916,-169.6806C135.3196,-153.0226 120.1137,-134.6302 106.1354,-117.7226\"/>\n",
       "<text text-anchor=\"middle\" x=\"149.5\" y=\"-140.8\" font-family=\"Times,serif\" font-size=\"14.00\" fill=\"#000000\">x2=0</text>\n",
       "</g>\n",
       "<!-- S1 -->\n",
       "<g id=\"node3\" class=\"node\">\n",
       "<title>S1</title>\n",
       "<polygon fill=\"none\" stroke=\"#000000\" points=\"253.5,-119 134.5,-119 134.5,0 253.5,0 253.5,-119\"/>\n",
       "<text text-anchor=\"middle\" x=\"194\" y=\"-78.8\" font-family=\"Times,serif\" font-size=\"14.00\" fill=\"#000000\">*pruned*</text>\n",
       "<text text-anchor=\"middle\" x=\"194\" y=\"-47.8\" font-family=\"Times,serif\" font-size=\"14.00\" fill=\"#000000\">S_1:</text>\n",
       "<text text-anchor=\"middle\" x=\"194\" y=\"-32.8\" font-family=\"Times,serif\" font-size=\"14.00\" fill=\"#000000\">v_1 = 7, x = (2,1) </text>\n",
       "</g>\n",
       "<!-- S&#45;&#45;S1 -->\n",
       "<g id=\"edge2\" class=\"edge\">\n",
       "<title>S&#45;&#45;S1</title>\n",
       "<path fill=\"none\" stroke=\"#000000\" d=\"M194,-169.6806C194,-153.4906 194,-135.6621 194,-119.1509\"/>\n",
       "<text text-anchor=\"middle\" x=\"208.5\" y=\"-140.8\" font-family=\"Times,serif\" font-size=\"14.00\" fill=\"#000000\">x2=1</text>\n",
       "</g>\n",
       "<!-- S2 -->\n",
       "<g id=\"node4\" class=\"node\">\n",
       "<title>S2</title>\n",
       "<polygon fill=\"none\" stroke=\"#000000\" points=\"380,-113.5 272,-113.5 272,-5.5 380,-5.5 380,-113.5\"/>\n",
       "<text text-anchor=\"middle\" x=\"326\" y=\"-47.3\" font-family=\"Times,serif\" font-size=\"14.00\" fill=\"#000000\">S_2</text>\n",
       "<text text-anchor=\"middle\" x=\"326\" y=\"-32.3\" font-family=\"Times,serif\" font-size=\"14.00\" fill=\"#000000\">v_2 = 2, x=(0,2)</text>\n",
       "</g>\n",
       "<!-- S&#45;&#45;S2 -->\n",
       "<g id=\"edge3\" class=\"edge\">\n",
       "<title>S&#45;&#45;S2</title>\n",
       "<path fill=\"none\" stroke=\"#000000\" d=\"M237.5876,-169.6806C252.0058,-151.7124 268.0434,-131.7262 282.4582,-113.7623\"/>\n",
       "<text text-anchor=\"middle\" x=\"274.5\" y=\"-140.8\" font-family=\"Times,serif\" font-size=\"14.00\" fill=\"#000000\">x2=2</text>\n",
       "</g>\n",
       "</g>\n",
       "</svg>\n"
      ],
      "text/plain": [
       "<graphviz.dot.Graph at 0x7f6646401550>"
      ]
     },
     "execution_count": 4,
     "metadata": {},
     "output_type": "execute_result"
    }
   ],
   "source": [
    "from graphviz import Graph\n",
    "\n",
    "## https://www.graphviz.org/\n",
    "## https://graphviz.readthedocs.io/en/stable/index.html\n",
    "\n",
    "dot = Graph('bb1')\n",
    "\n",
    "dot.node('S','S:\\nv=11, x=(2, 1.8)',shape=\"square\")\n",
    "\n",
    "dot.node('S0','*pruned*\\n\\nS_0:\\nv_0 = 2, x = (2,0)',shape=\"square\")\n",
    "dot.node('S1','*pruned*\\n\\nS_1:\\nv_1 = 7, x = (2,1) ',shape=\"square\")\n",
    "dot.node('S2','\\n\\nS_2\\nv_2 = 2, x=(0,2)',shape=\"square\")\n",
    "\n",
    "\n",
    "dot.edge('S','S0','x2=0')\n",
    "dot.edge('S','S1','x2=1')\n",
    "dot.edge('S','S2','x2=2')\n",
    "\n",
    "dot"
   ]
  },
  {
   "cell_type": "markdown",
   "metadata": {
    "slideshow": {
     "slide_type": "slide"
    }
   },
   "source": [
    "--------------------\n",
    "Now let's consider a more elaborate example.\n",
    "\n",
    "Example\n",
    "=======\n",
    "\n",
    "$(\\heartsuit) \\quad $ ``maximize`` $f(\\mathbf{x}) = \\begin{bmatrix} 10 & 7 & 4 & 3 & 1 & 0 \\end{bmatrix} \\cdot \\mathbf{x}$\n",
    "\n",
    "subject to: $\\mathbf{x} = \\begin{bmatrix} x_1 & x_2 & x_3 & x_4 &x_5 & x_6 \\end{bmatrix}^T \\in \\mathbb{R}^5$, $\\mathbf{x} \\ge \\mathbf{0}$, \n",
    "\n",
    "$x_1,x_2,x_3,x_4,x_5 \\in \\{0,1\\}$\n",
    "\n",
    "and $A \\mathbf{x} \\le \\mathbf{b}$\n",
    "\n",
    "where $A = \\begin{bmatrix}\n",
    " 2 & 6 & 1 & 0 & 0 & 1 \\\\\n",
    " 1 & 0 & 2 & -3 & 1 & -1 \\\\\n",
    " 2 & -3 & 4 & 1 & 1 & 0 \\\\\n",
    " 1 & 1 & 1 & 1 & -1 & 0  \\\\\n",
    "\\end{bmatrix}, \\quad\n",
    "\\mathbf{b} = \\begin{bmatrix}\n",
    "7 \\\\ -1 \\\\ 3 \\\\ 3\n",
    "\\end{bmatrix}.$\n"
   ]
  },
  {
   "cell_type": "markdown",
   "metadata": {
    "slideshow": {
     "slide_type": "subslide"
    }
   },
   "source": [
    "Notice that we *aren't* imposing any integral condition on $x_6$, but we require that $x_i \\in \\mathbb{Z}$ for $1 \\le i \\le 5$, and even more: these coordinates may only take the value $0$ or $1$.\n",
    "\n",
    "The procedure described above can (with perhaps some minor adaptations) be applied to this problem, as we now describe. Note that -- unlike the previous example -- we now must iterate our procedure. \n"
   ]
  },
  {
   "cell_type": "markdown",
   "metadata": {
    "slideshow": {
     "slide_type": "subslide"
    }
   },
   "source": [
    "**(A)** \n",
    "\n",
    "We begin by finding an optimal solution to the linear program obtained from $(\\heartsuit)$ by replacing\n",
    "the condition \n",
    "\n",
    "$x_1,x_2,x_3,x_4,x_5 \\in \\{0,1\\}$\n",
    "with the condition $\\begin{bmatrix} x_1 & x_2 & x_3 & x_4 &x_5 \\end{bmatrix}^T \\le \\begin{bmatrix} 1 & 1 & 1 & 1 & 1\\end{bmatrix}$ \n",
    "\n",
    "(note that the variables are already required to be non-negative by other conditions in $(\\heartsuit)$).\n",
    "\n",
    "The optimal value of the objective function is $v_A=20.21$ and an optimal solution is \n",
    "$\\mathbf{x}_A = (1,0.72,0.49,1,0.21,0.19)$\n",
    "\n",
    "Of the non-integer coordinates of $\\mathbf{x}^*$, the one closest to an integer is $x_5 =.21$.\n",
    "\n",
    "**Branch on (A)** with $x_5$:\n",
    "\n"
   ]
  },
  {
   "cell_type": "markdown",
   "metadata": {
    "slideshow": {
     "slide_type": "subslide"
    }
   },
   "source": [
    "**(B)**:  branching from **(A)** with $x_5 = 0$ \n",
    "\n",
    "Find an optimal solution to the linear program of **(A)** with the\n",
    "additional equality constraint $x_5 = 0$. The optimal value is $v_B=19.44$\n",
    "and an optimal solution is $\\mathbf{x}_B = (1.00, 0.78, 0.33, 0.89, 0.00,\n",
    "0.00)$.\n",
    "\n",
    "**(C)**: branching from **(A)** with $x_5 = 1$\n",
    "\n",
    "Find an optimal solution to the linear program of **(A)** with the\n",
    "additional equality constraint $x_5 = 1$. The optimal value is $v_C=19.97$\n",
    "and an optimal solution is $\\mathbf{x}_C = (1.00, 0.70, 0.27, 1.00, 1.00, 0.55)$.\n",
    "\n",
    "We must now branch off of both **(B)** and **(C)**. We'll begin with **(C)**, and branch \n",
    "on $x_3$:"
   ]
  },
  {
   "cell_type": "markdown",
   "metadata": {
    "slideshow": {
     "slide_type": "subslide"
    }
   },
   "source": [
    "**(D)**: branching from **(C)** with $x_3 = 0$.\n",
    "\n",
    "Find an optimal solution to the linear program of **(C)** with \n",
    "equality constraints $x_5=1$, $x_3 = 0$. The optimal value is $v_D=19.83$\n",
    "and an optimal solution is $\\mathbf{x}_D = (1.00, 0.83, 0.00, 1.00, 1.00, 0.00)$.\n",
    "\n",
    "**(E)**: branching from **(C*)** with $x_3=1$.\n",
    "\n",
    "We try to find an optimal solution to the linear program of **(C)** with\n",
    "equality constraints $x_5=1$, $x_3 = 1$. But there are no feasible points.\n",
    "\n",
    "So we may **Prune** **(E)**.\n"
   ]
  },
  {
   "cell_type": "markdown",
   "metadata": {
    "slideshow": {
     "slide_type": "subslide"
    }
   },
   "source": [
    "We now branch on **(D)** with $x_2$.\n",
    "\n",
    "**(F)**: branching from **(D)** with $x_2 = 0$.\n",
    "\n",
    "Find an optimal solution to the linear program of **(D)** with \n",
    "equality constraints $x_5=1$, $x_3 = 0$, $x_2 = 0$. The optimal value is $v_F=11.0$\n",
    "and an optimal solution is $\\mathbf{x}_F = (1.00, 0.00, 0.00, 0.00, 1.00, 3.92)$.\n",
    "\n",
    "Observe that $\\mathbf{x}_F$ is an integral solution (we have no integrality requirement for $x_6$) so we can stop examining this branch of the tree.\n",
    "\n",
    "**(G)**: branching from **(D)** with $x_2 = 1$.\n",
    "\n",
    "Find an optimal solution to the linear program of **(D)** with\n",
    "equality constraints $x_5=1$, $x_3 = 0$, $x_2 = 1$. The optimal value is $v_G=16$\n",
    "and an optimal solution is $\\mathbf{x}_G = (0.50, 1.00, 0.00, 1.00, 1.00, 0.00)$\n",
    "\n"
   ]
  },
  {
   "cell_type": "markdown",
   "metadata": {
    "slideshow": {
     "slide_type": "subslide"
    }
   },
   "source": [
    "We are now done branching \"below **(C)**\", and so we return and **branch on (B)** with $x_4$:\n",
    "\n",
    "**(H)**: branching from **(B)** with $x_4 = 0$.\n",
    "\n",
    "Find an optimal solution to the linear program of **(B)** with\n",
    "equality constraints $x_5=0$, $x_4 = 0$. The optimal value is $v_H=13.73$\n",
    "and an optimal solution is $\\mathbf{x}_H = (1.00, 0.27, 0.45, 0.00, 0.00, 2.91)$\n",
    "\n",
    "\n",
    "**(I)**: branching from **(B)** with $x_4 = 1$.\n",
    "\n",
    "Find an optimal solution to the linear program of **(B)** with\n",
    "equality constraint $x_5=0$, $x_4 = 1$. The optimal value is $v_I=19.4$\n",
    "and an optimal solution is $\\mathbf{x}_I = (1.00, 0.80, 0.20, 1.00, 0.00, 0.00)$\n"
   ]
  },
  {
   "cell_type": "markdown",
   "metadata": {
    "slideshow": {
     "slide_type": "subslide"
    }
   },
   "source": [
    "\n",
    "Now **branch on (I)** with $x_2$:\n",
    "\n",
    "**(J)**: branching from **(I)** with $x_2=0$.\n",
    "\n",
    "Find an optimal solution to the linear program of **(I)** with \n",
    "equality constraints $x_5=0$, $x_4 = 1$, $x_2 = 0$. The optimal value is $v_J=13$\n",
    "and an optimal solution is $\\mathbf{x}_J = (1.00, 0.00, 0.00, 1.00, 0.00, 2.26)$\n",
    "\n",
    "This is an integer point, and $13$ is larger than the objective function value for the point from **(F)**,\n",
    "so we **Prune (F)**.\n",
    "\n",
    "**(K)**: branching from **(I)** with $x_2=1$.\n",
    "\n",
    "Find an optimal solution to the linear program of **(I)** with\n",
    "equality constraints $x_5=0$, $x_4 = 1$, $x_2 = 1$. The optimal value is $v_K=15$\n",
    "and an optimal solution is $\\mathbf{x}_K = (0.50, 1.00, 0.00, 1.00, 0.00, 0.00)$\n",
    "\n"
   ]
  },
  {
   "cell_type": "markdown",
   "metadata": {
    "slideshow": {
     "slide_type": "subslide"
    }
   },
   "source": [
    "Now **branch from (G)** with $x_1$:\n",
    "\n",
    "**(L)**: branching from **(G)** with $x_1=0$\n",
    "\n",
    "\n",
    "Find an optimal solution to the linear program of **(G)** with\n",
    "equality constraints $x_5=1$, $x_3 = 0$, $x_2 = 1$, $x_1 = 0$. The optimal value is $v_L=11$\n",
    "and an optimal solution is $\\mathbf{x}_L = (0.00, 1.00, 0.00, 1.00, 1.00, 0.53)$\n",
    "\n",
    "This is an integer solution **prune (L)** since the integer solution from **(J)** has an larger  objective function value than 11.\n",
    "\n",
    "**(M)**: branching from **(G)** with $x_1=1$\n",
    "\n",
    "\n",
    "Try to find an optimal solution to the linear program of **(G)** with\n",
    "equality constraints $x_5=1$, $x_3 = 0$, $x_2 = 1$, $x_1 = 1$. This linear program is infeasible.\n",
    "\n"
   ]
  },
  {
   "cell_type": "markdown",
   "metadata": {
    "slideshow": {
     "slide_type": "subslide"
    }
   },
   "source": [
    "\n",
    "\n",
    "Finally, **branch from (K)** with $x_1$\n",
    "\n",
    "**(N)**: branching from **(K)** with $x_1=0$\n",
    "\n",
    "\n",
    "Find an optimal solution to the linear program of **(K)** with\n",
    "equality constraints $x_5=0$, $x_4 = 1$, $x_2 = 1$, $x_1 = 0$. The optimal value is $v_N=14$ \n",
    "and an optimal solution is $\\mathbf{x}_N = (0.00, 1.00, 1.00, 1.00, 0.00, 0.00)$\n",
    "\n",
    "This is an integer solution.\n",
    "\n",
    "**(O)**: branching from **(K)** with $x_1=1$\n",
    "\n",
    "Try to find an optimal solution to the linear program of **(K)** with \n",
    "equality constraints $x_5=0$, $x_4 = 1$, $x_2 = 1$, $x_1 = 1$. This linear program is infeasible.\n",
    "\n",
    "Finally,we **Prune (H) and (J)** since the objective function for the point in **(N)** exceeds an upper bound for the objective functions in **(H)** and in **(J)**. \n",
    "\n",
    "We are now **finished**; the integer point $\\mathbf{x}_N = (0.00, 1.00, 1.00, 1.00, 0.00, 0.00)$ with $v_N = 14$\n",
    "is an optimal point for $(\\heartsuit)$.\n",
    "\n",
    "-------------"
   ]
  },
  {
   "cell_type": "markdown",
   "metadata": {
    "slideshow": {
     "slide_type": "slide"
    }
   },
   "source": [
    "We have included below ``python`` code used to find the optimal solutions/values given in **(A)--(O)**. \n",
    "Before giving that code, we also construct (via ``graphviz``) the *tree* corresponding to the branch-and-bound just carried out; see below.\n"
   ]
  },
  {
   "cell_type": "code",
   "execution_count": 5,
   "metadata": {
    "slideshow": {
     "slide_type": "subslide"
    },
    "tags": [
     "to_remove"
    ]
   },
   "outputs": [
    {
     "data": {
      "image/svg+xml": [
       "<?xml version=\"1.0\" encoding=\"UTF-8\" standalone=\"no\"?>\n",
       "<!DOCTYPE svg PUBLIC \"-//W3C//DTD SVG 1.1//EN\"\n",
       " \"http://www.w3.org/Graphics/SVG/1.1/DTD/svg11.dtd\">\n",
       "<!-- Generated by graphviz version 2.40.1 (20161225.0304)\n",
       " -->\n",
       "<!-- Title: bb1 Pages: 1 -->\n",
       "<svg width=\"820pt\" height=\"557pt\"\n",
       " viewBox=\"0.00 0.00 820.00 557.00\" xmlns=\"http://www.w3.org/2000/svg\" xmlns:xlink=\"http://www.w3.org/1999/xlink\">\n",
       "<g id=\"graph0\" class=\"graph\" transform=\"scale(1 1) rotate(0) translate(4 553)\">\n",
       "<title>bb1</title>\n",
       "<polygon fill=\"#ffffff\" stroke=\"transparent\" points=\"-4,4 -4,-553 816,-553 816,4 -4,4\"/>\n",
       "<!-- A -->\n",
       "<g id=\"node1\" class=\"node\">\n",
       "<title>A</title>\n",
       "<polygon fill=\"none\" stroke=\"#000000\" points=\"116,-379 0,-379 0,-263 116,-263 116,-379\"/>\n",
       "<text text-anchor=\"middle\" x=\"58\" y=\"-324.8\" font-family=\"Times,serif\" font-size=\"14.00\" fill=\"#000000\">A: relaxed linprog</text>\n",
       "<text text-anchor=\"middle\" x=\"58\" y=\"-309.8\" font-family=\"Times,serif\" font-size=\"14.00\" fill=\"#000000\">v_A=20.21</text>\n",
       "</g>\n",
       "<!-- B -->\n",
       "<g id=\"node2\" class=\"node\">\n",
       "<title>B</title>\n",
       "<polygon fill=\"none\" stroke=\"#000000\" points=\"290,-432 188,-432 188,-330 290,-330 290,-432\"/>\n",
       "<text text-anchor=\"middle\" x=\"239\" y=\"-377.3\" font-family=\"Times,serif\" font-size=\"14.00\" fill=\"#000000\">B: v_B = 19.45</text>\n",
       "</g>\n",
       "<!-- A&#45;&#45;B -->\n",
       "<g id=\"edge1\" class=\"edge\">\n",
       "<title>A&#45;&#45;B</title>\n",
       "<path fill=\"none\" stroke=\"#000000\" d=\"M116.2658,-340.3146C139.3115,-347.9541 165.5651,-356.6569 187.8603,-364.0476\"/>\n",
       "<text text-anchor=\"middle\" x=\"152\" y=\"-359.8\" font-family=\"Times,serif\" font-size=\"14.00\" fill=\"#000000\">x_5=0</text>\n",
       "</g>\n",
       "<!-- C -->\n",
       "<g id=\"node3\" class=\"node\">\n",
       "<title>C</title>\n",
       "<polygon fill=\"none\" stroke=\"#000000\" points=\"290,-312 188,-312 188,-210 290,-210 290,-312\"/>\n",
       "<text text-anchor=\"middle\" x=\"239\" y=\"-257.3\" font-family=\"Times,serif\" font-size=\"14.00\" fill=\"#000000\">C: v_C = 19.97</text>\n",
       "</g>\n",
       "<!-- A&#45;&#45;C -->\n",
       "<g id=\"edge2\" class=\"edge\">\n",
       "<title>A&#45;&#45;C</title>\n",
       "<path fill=\"none\" stroke=\"#000000\" d=\"M116.2658,-301.6854C139.3115,-294.0459 165.5651,-285.3431 187.8603,-277.9524\"/>\n",
       "<text text-anchor=\"middle\" x=\"152\" y=\"-297.8\" font-family=\"Times,serif\" font-size=\"14.00\" fill=\"#000000\">x_5=1</text>\n",
       "</g>\n",
       "<!-- D -->\n",
       "<g id=\"node4\" class=\"node\">\n",
       "<title>D</title>\n",
       "<polygon fill=\"none\" stroke=\"#000000\" points=\"466,-549 362,-549 362,-445 466,-445 466,-549\"/>\n",
       "<text text-anchor=\"middle\" x=\"414\" y=\"-508.3\" font-family=\"Times,serif\" font-size=\"14.00\" fill=\"#000000\">**pruned**</text>\n",
       "<text text-anchor=\"middle\" x=\"414\" y=\"-493.3\" font-family=\"Times,serif\" font-size=\"14.00\" fill=\"#000000\">========</text>\n",
       "<text text-anchor=\"middle\" x=\"414\" y=\"-478.3\" font-family=\"Times,serif\" font-size=\"14.00\" fill=\"#000000\">D: v_D = 13.73</text>\n",
       "</g>\n",
       "<!-- B&#45;&#45;D -->\n",
       "<g id=\"edge3\" class=\"edge\">\n",
       "<title>B&#45;&#45;D</title>\n",
       "<path fill=\"none\" stroke=\"#000000\" d=\"M290.0877,-414.8638C312.6862,-429.8434 339.2286,-447.4372 361.9385,-462.4906\"/>\n",
       "<text text-anchor=\"middle\" x=\"326\" y=\"-452.8\" font-family=\"Times,serif\" font-size=\"14.00\" fill=\"#000000\">x_4=0</text>\n",
       "</g>\n",
       "<!-- E -->\n",
       "<g id=\"node5\" class=\"node\">\n",
       "<title>E</title>\n",
       "<polygon fill=\"none\" stroke=\"#000000\" points=\"461,-427 367,-427 367,-333 461,-333 461,-427\"/>\n",
       "<text text-anchor=\"middle\" x=\"414\" y=\"-376.3\" font-family=\"Times,serif\" font-size=\"14.00\" fill=\"#000000\">E: v_E = 19.4</text>\n",
       "</g>\n",
       "<!-- B&#45;&#45;E -->\n",
       "<g id=\"edge4\" class=\"edge\">\n",
       "<title>B&#45;&#45;E</title>\n",
       "<path fill=\"none\" stroke=\"#000000\" d=\"M290.0877,-380.7081C314.3003,-380.5697 343.0405,-380.4055 366.7434,-380.27\"/>\n",
       "<text text-anchor=\"middle\" x=\"326\" y=\"-383.8\" font-family=\"Times,serif\" font-size=\"14.00\" fill=\"#000000\">x_4=1</text>\n",
       "</g>\n",
       "<!-- F -->\n",
       "<g id=\"node6\" class=\"node\">\n",
       "<title>F</title>\n",
       "<polygon fill=\"none\" stroke=\"#000000\" points=\"463.5,-313.5 364.5,-313.5 364.5,-214.5 463.5,-214.5 463.5,-313.5\"/>\n",
       "<text text-anchor=\"middle\" x=\"414\" y=\"-260.3\" font-family=\"Times,serif\" font-size=\"14.00\" fill=\"#000000\">F: v_F = 19.83</text>\n",
       "</g>\n",
       "<!-- C&#45;&#45;F -->\n",
       "<g id=\"edge5\" class=\"edge\">\n",
       "<title>C&#45;&#45;F</title>\n",
       "<path fill=\"none\" stroke=\"#000000\" d=\"M290.0877,-261.8758C313.4932,-262.277 341.1295,-262.7508 364.3566,-263.149\"/>\n",
       "<text text-anchor=\"middle\" x=\"326\" y=\"-265.8\" font-family=\"Times,serif\" font-size=\"14.00\" fill=\"#000000\">x_3=0</text>\n",
       "</g>\n",
       "<!-- G -->\n",
       "<g id=\"node7\" class=\"node\">\n",
       "<title>G</title>\n",
       "<polygon fill=\"none\" stroke=\"#000000\" points=\"457,-196 371,-196 371,-110 457,-110 457,-196\"/>\n",
       "<text text-anchor=\"middle\" x=\"414\" y=\"-164.3\" font-family=\"Times,serif\" font-size=\"14.00\" fill=\"#000000\">**pruned**</text>\n",
       "<text text-anchor=\"middle\" x=\"414\" y=\"-149.3\" font-family=\"Times,serif\" font-size=\"14.00\" fill=\"#000000\">========</text>\n",
       "<text text-anchor=\"middle\" x=\"414\" y=\"-134.3\" font-family=\"Times,serif\" font-size=\"14.00\" fill=\"#000000\">G: infeasible</text>\n",
       "</g>\n",
       "<!-- C&#45;&#45;G -->\n",
       "<g id=\"edge6\" class=\"edge\">\n",
       "<title>C&#45;&#45;G</title>\n",
       "<path fill=\"none\" stroke=\"#000000\" d=\"M290.0877,-229.4716C315.7127,-213.6573 346.4089,-194.7134 370.8381,-179.6371\"/>\n",
       "<text text-anchor=\"middle\" x=\"326\" y=\"-220.8\" font-family=\"Times,serif\" font-size=\"14.00\" fill=\"#000000\">x_3=1</text>\n",
       "</g>\n",
       "<!-- H -->\n",
       "<g id=\"node8\" class=\"node\">\n",
       "<title>H</title>\n",
       "<polygon fill=\"none\" stroke=\"#000000\" points=\"639,-534.5 538,-534.5 538,-433.5 639,-433.5 639,-534.5\"/>\n",
       "<text text-anchor=\"middle\" x=\"588.5\" y=\"-502.8\" font-family=\"Times,serif\" font-size=\"14.00\" fill=\"#000000\">**pruned**</text>\n",
       "<text text-anchor=\"middle\" x=\"588.5\" y=\"-487.8\" font-family=\"Times,serif\" font-size=\"14.00\" fill=\"#000000\">========</text>\n",
       "<text text-anchor=\"middle\" x=\"588.5\" y=\"-472.8\" font-family=\"Times,serif\" font-size=\"14.00\" fill=\"#000000\">H: v_H = 13</text>\n",
       "<text text-anchor=\"middle\" x=\"588.5\" y=\"-457.8\" font-family=\"Times,serif\" font-size=\"14.00\" fill=\"#000000\">**integer sol**</text>\n",
       "</g>\n",
       "<!-- E&#45;&#45;H -->\n",
       "<g id=\"edge7\" class=\"edge\">\n",
       "<title>E&#45;&#45;H</title>\n",
       "<path fill=\"none\" stroke=\"#000000\" d=\"M461.2222,-408.1439C484.942,-422.2806 513.701,-439.4206 537.8763,-453.8289\"/>\n",
       "<text text-anchor=\"middle\" x=\"502\" y=\"-444.8\" font-family=\"Times,serif\" font-size=\"14.00\" fill=\"#000000\">x_2=0</text>\n",
       "</g>\n",
       "<!-- I -->\n",
       "<g id=\"node9\" class=\"node\">\n",
       "<title>I</title>\n",
       "<polygon fill=\"none\" stroke=\"#000000\" points=\"626.5,-415 550.5,-415 550.5,-339 626.5,-339 626.5,-415\"/>\n",
       "<text text-anchor=\"middle\" x=\"588.5\" y=\"-373.3\" font-family=\"Times,serif\" font-size=\"14.00\" fill=\"#000000\">I: v_I = 15</text>\n",
       "</g>\n",
       "<!-- E&#45;&#45;I -->\n",
       "<g id=\"edge8\" class=\"edge\">\n",
       "<title>E&#45;&#45;I</title>\n",
       "<path fill=\"none\" stroke=\"#000000\" d=\"M461.2222,-379.1882C489.1813,-378.7075 524.1417,-378.1064 550.3443,-377.656\"/>\n",
       "<text text-anchor=\"middle\" x=\"502\" y=\"-381.8\" font-family=\"Times,serif\" font-size=\"14.00\" fill=\"#000000\">x_2=1</text>\n",
       "</g>\n",
       "<!-- J -->\n",
       "<g id=\"node10\" class=\"node\">\n",
       "<title>J</title>\n",
       "<polygon fill=\"none\" stroke=\"#000000\" points=\"639,-316.5 538,-316.5 538,-215.5 639,-215.5 639,-316.5\"/>\n",
       "<text text-anchor=\"middle\" x=\"588.5\" y=\"-284.8\" font-family=\"Times,serif\" font-size=\"14.00\" fill=\"#000000\">**pruned**</text>\n",
       "<text text-anchor=\"middle\" x=\"588.5\" y=\"-269.8\" font-family=\"Times,serif\" font-size=\"14.00\" fill=\"#000000\">========</text>\n",
       "<text text-anchor=\"middle\" x=\"588.5\" y=\"-254.8\" font-family=\"Times,serif\" font-size=\"14.00\" fill=\"#000000\">J: v_J = 11</text>\n",
       "<text text-anchor=\"middle\" x=\"588.5\" y=\"-239.8\" font-family=\"Times,serif\" font-size=\"14.00\" fill=\"#000000\">**integer sol**</text>\n",
       "</g>\n",
       "<!-- F&#45;&#45;J -->\n",
       "<g id=\"edge9\" class=\"edge\">\n",
       "<title>F&#45;&#45;J</title>\n",
       "<path fill=\"none\" stroke=\"#000000\" d=\"M463.5379,-264.5678C486.8138,-264.8345 514.5236,-265.1521 537.9285,-265.4204\"/>\n",
       "<text text-anchor=\"middle\" x=\"502\" y=\"-268.8\" font-family=\"Times,serif\" font-size=\"14.00\" fill=\"#000000\">x_2=0</text>\n",
       "</g>\n",
       "<!-- K -->\n",
       "<g id=\"node11\" class=\"node\">\n",
       "<title>K</title>\n",
       "<polygon fill=\"none\" stroke=\"#000000\" points=\"631.5,-197 545.5,-197 545.5,-111 631.5,-111 631.5,-197\"/>\n",
       "<text text-anchor=\"middle\" x=\"588.5\" y=\"-150.3\" font-family=\"Times,serif\" font-size=\"14.00\" fill=\"#000000\">K: v_K = 16</text>\n",
       "</g>\n",
       "<!-- F&#45;&#45;K -->\n",
       "<g id=\"edge10\" class=\"edge\">\n",
       "<title>F&#45;&#45;K</title>\n",
       "<path fill=\"none\" stroke=\"#000000\" d=\"M463.5379,-232.7726C489.3329,-216.5122 520.5734,-196.8191 545.3652,-181.191\"/>\n",
       "<text text-anchor=\"middle\" x=\"502\" y=\"-222.8\" font-family=\"Times,serif\" font-size=\"14.00\" fill=\"#000000\">x_2=1</text>\n",
       "</g>\n",
       "<!-- L -->\n",
       "<g id=\"node12\" class=\"node\">\n",
       "<title>L</title>\n",
       "<polygon fill=\"none\" stroke=\"#000000\" points=\"812,-431.5 711,-431.5 711,-330.5 812,-330.5 812,-431.5\"/>\n",
       "<text text-anchor=\"middle\" x=\"761.5\" y=\"-384.8\" font-family=\"Times,serif\" font-size=\"14.00\" fill=\"#000000\">L: v_L = 14</text>\n",
       "<text text-anchor=\"middle\" x=\"761.5\" y=\"-369.8\" font-family=\"Times,serif\" font-size=\"14.00\" fill=\"#000000\">**integer sol**</text>\n",
       "</g>\n",
       "<!-- I&#45;&#45;L -->\n",
       "<g id=\"edge11\" class=\"edge\">\n",
       "<title>I&#45;&#45;L</title>\n",
       "<path fill=\"none\" stroke=\"#000000\" d=\"M626.8943,-377.8877C651.5815,-378.4585 683.9341,-379.2066 710.7341,-379.8262\"/>\n",
       "<text text-anchor=\"middle\" x=\"675\" y=\"-382.8\" font-family=\"Times,serif\" font-size=\"14.00\" fill=\"#000000\">x_1=0</text>\n",
       "</g>\n",
       "<!-- M -->\n",
       "<g id=\"node13\" class=\"node\">\n",
       "<title>M</title>\n",
       "<polygon fill=\"none\" stroke=\"#000000\" points=\"806,-312.5 717,-312.5 717,-223.5 806,-223.5 806,-312.5\"/>\n",
       "<text text-anchor=\"middle\" x=\"761.5\" y=\"-279.3\" font-family=\"Times,serif\" font-size=\"14.00\" fill=\"#000000\">**pruned**</text>\n",
       "<text text-anchor=\"middle\" x=\"761.5\" y=\"-264.3\" font-family=\"Times,serif\" font-size=\"14.00\" fill=\"#000000\">========</text>\n",
       "<text text-anchor=\"middle\" x=\"761.5\" y=\"-249.3\" font-family=\"Times,serif\" font-size=\"14.00\" fill=\"#000000\">M: infeasible</text>\n",
       "</g>\n",
       "<!-- I&#45;&#45;M -->\n",
       "<g id=\"edge12\" class=\"edge\">\n",
       "<title>I&#45;&#45;M</title>\n",
       "<path fill=\"none\" stroke=\"#000000\" d=\"M626.8943,-352.8094C653.4729,-336.0633 688.9363,-313.7193 716.79,-296.1699\"/>\n",
       "<text text-anchor=\"middle\" x=\"675\" y=\"-335.8\" font-family=\"Times,serif\" font-size=\"14.00\" fill=\"#000000\">x_1=1</text>\n",
       "</g>\n",
       "<!-- N -->\n",
       "<g id=\"node14\" class=\"node\">\n",
       "<title>N</title>\n",
       "<polygon fill=\"none\" stroke=\"#000000\" points=\"812,-205.5 711,-205.5 711,-104.5 812,-104.5 812,-205.5\"/>\n",
       "<text text-anchor=\"middle\" x=\"761.5\" y=\"-173.8\" font-family=\"Times,serif\" font-size=\"14.00\" fill=\"#000000\">**pruned**</text>\n",
       "<text text-anchor=\"middle\" x=\"761.5\" y=\"-158.8\" font-family=\"Times,serif\" font-size=\"14.00\" fill=\"#000000\">========</text>\n",
       "<text text-anchor=\"middle\" x=\"761.5\" y=\"-143.8\" font-family=\"Times,serif\" font-size=\"14.00\" fill=\"#000000\">N: v_N = 11</text>\n",
       "<text text-anchor=\"middle\" x=\"761.5\" y=\"-128.8\" font-family=\"Times,serif\" font-size=\"14.00\" fill=\"#000000\">**integer sol**</text>\n",
       "</g>\n",
       "<!-- K&#45;&#45;N -->\n",
       "<g id=\"edge13\" class=\"edge\">\n",
       "<title>K&#45;&#45;N</title>\n",
       "<path fill=\"none\" stroke=\"#000000\" d=\"M631.7089,-154.2498C655.7283,-154.3886 685.7481,-154.5621 710.8652,-154.7073\"/>\n",
       "<text text-anchor=\"middle\" x=\"675\" y=\"-158.8\" font-family=\"Times,serif\" font-size=\"14.00\" fill=\"#000000\">x_1=0</text>\n",
       "</g>\n",
       "<!-- O -->\n",
       "<g id=\"node15\" class=\"node\">\n",
       "<title>O</title>\n",
       "<polygon fill=\"none\" stroke=\"#000000\" points=\"804.5,-86 718.5,-86 718.5,0 804.5,0 804.5,-86\"/>\n",
       "<text text-anchor=\"middle\" x=\"761.5\" y=\"-54.3\" font-family=\"Times,serif\" font-size=\"14.00\" fill=\"#000000\">**pruned**</text>\n",
       "<text text-anchor=\"middle\" x=\"761.5\" y=\"-39.3\" font-family=\"Times,serif\" font-size=\"14.00\" fill=\"#000000\">========</text>\n",
       "<text text-anchor=\"middle\" x=\"761.5\" y=\"-24.3\" font-family=\"Times,serif\" font-size=\"14.00\" fill=\"#000000\">O: infeasible</text>\n",
       "</g>\n",
       "<!-- K&#45;&#45;O -->\n",
       "<g id=\"edge14\" class=\"edge\">\n",
       "<title>K&#45;&#45;O</title>\n",
       "<path fill=\"none\" stroke=\"#000000\" d=\"M631.7089,-126.2763C658.1303,-109.3239 691.8121,-87.7131 718.2423,-70.7549\"/>\n",
       "<text text-anchor=\"middle\" x=\"675\" y=\"-112.8\" font-family=\"Times,serif\" font-size=\"14.00\" fill=\"#000000\">x_1=1</text>\n",
       "</g>\n",
       "</g>\n",
       "</svg>\n"
      ],
      "text/plain": [
       "<graphviz.dot.Graph at 0x7f6646422160>"
      ]
     },
     "execution_count": 5,
     "metadata": {},
     "output_type": "execute_result"
    }
   ],
   "source": [
    "from graphviz import Graph\n",
    "\n",
    "## https://www.graphviz.org/\n",
    "## https://graphviz.readthedocs.io/en/stable/index.html\n",
    "\n",
    "dot = Graph('bb1')\n",
    "dot.attr(rankdir='LR')\n",
    "dot.node('A','A: relaxed linprog\\nv_A=20.21',shape=\"square\")\n",
    "\n",
    "dot.node('B','B: v_B = 19.45',shape=\"square\")\n",
    "dot.node('C','C: v_C = 19.97',shape=\"square\")\n",
    "dot.node('D','**pruned**\\n========\\nD: v_D = 13.73',shape=\"square\")\n",
    "dot.node('E','E: v_E = 19.4',shape=\"square\")\n",
    "dot.node('F','F: v_F = 19.83',shape=\"square\")\n",
    "dot.node('G','**pruned**\\n========\\nG: infeasible',shape=\"square\")\n",
    "dot.node('H','**pruned**\\n========\\nH: v_H = 13\\n**integer sol**',shape=\"square\")\n",
    "dot.node('I','I: v_I = 15',shape=\"square\")\n",
    "dot.node('J','**pruned**\\n========\\nJ: v_J = 11\\n**integer sol**',shape=\"square\")\n",
    "dot.node('K','K: v_K = 16',shape=\"square\")\n",
    "dot.node('L','L: v_L = 14\\n**integer sol**',shape=\"square\")\n",
    "dot.node('M','**pruned**\\n========\\nM: infeasible',shape=\"square\")\n",
    "dot.node('N','**pruned**\\n========\\nN: v_N = 11\\n**integer sol**',shape=\"square\")\n",
    "dot.node('O','**pruned**\\n========\\nO: infeasible',shape=\"square\")\n",
    "\n",
    "\n",
    "dot.edge('A','B','x_5=0')\n",
    "dot.edge('A','C','x_5=1')\n",
    "\n",
    "dot.edge('B','D','x_4=0')\n",
    "dot.edge('B','E','x_4=1')\n",
    "\n",
    "dot.edge('C','F','x_3=0')\n",
    "dot.edge('C','G','x_3=1')\n",
    "\n",
    "dot.edge('E','H','x_2=0')\n",
    "dot.edge('E','I','x_2=1')\n",
    "\n",
    "dot.edge('F','J','x_2=0')\n",
    "dot.edge('F','K','x_2=1')\n",
    "\n",
    "dot.edge('I','L','x_1=0')\n",
    "dot.edge('I','M','x_1=1')\n",
    "\n",
    "\n",
    "dot.edge('K','N','x_1=0')\n",
    "dot.edge('K','O','x_1=1')\n",
    "\n",
    "\n",
    "\n",
    "dot"
   ]
  },
  {
   "cell_type": "code",
   "execution_count": 6,
   "metadata": {
    "slideshow": {
     "slide_type": "slide"
    },
    "tags": [
     "to_remove"
    ]
   },
   "outputs": [
    {
     "name": "stdout",
     "output_type": "stream",
     "text": [
      "A - OK? True    opt value: 20.21  opt point: [1.00 0.72 0.49 1.00 0.21 0.19]\n",
      "B - OK? True    opt value: 19.44  opt point: [1.00 0.78 0.33 0.89 0.00 0.00]\n",
      "C - OK? True    opt value: 19.97  opt point: [1.00 0.70 0.27 1.00 1.00 0.55]\n",
      "D - OK? True    opt value: 19.83  opt point: [1.00 0.83 0.00 1.00 1.00 0.00]\n",
      "E - OK? False   opt value: 13.62  opt point: [0.01 0.84 1.00 0.88 1.00 1.29]\n",
      "F - OK? True    opt value: 11.00  opt point: [1.00 0.00 0.00 0.00 1.00 3.92]\n",
      "G - OK? True    opt value: 16.00  opt point: [0.50 1.00 0.00 1.00 1.00 0.00]\n",
      "H - OK? True    opt value: 13.73  opt point: [1.00 0.27 0.45 0.00 0.00 2.91]\n",
      "I - OK? True    opt value: 19.40  opt point: [1.00 0.80 0.20 1.00 0.00 0.00]\n",
      "J - OK? True    opt value: 13.00  opt point: [1.00 0.00 0.00 1.00 0.00 2.26]\n",
      "K - OK? True    opt value: 15.00  opt point: [0.50 1.00 0.00 1.00 0.00 0.00]\n",
      "L - OK? True    opt value: 11.00  opt point: [0.00 1.00 0.00 1.00 1.00 0.53]\n",
      "M - OK? False   opt value: 22.23  opt point: [1.00 1.00 0.00 1.41 1.00 3.04]\n",
      "N - OK? True    opt value: 14.00  opt point: [0.00 1.00 1.00 1.00 0.00 0.00]\n",
      "O - OK? False   opt value: 20.83  opt point: [1.00 1.00 0.21 1.00 0.00 0.68]\n"
     ]
    }
   ],
   "source": [
    "import numpy as np\n",
    "from scipy.optimize import linprog\n",
    "\n",
    "float_formatter = \"{:.2f}\".format\n",
    "np.set_printoptions(formatter={'float_kind':float_formatter})\n",
    "\n",
    "def sbv(index,size):\n",
    "    return np.array([1.0 if i == index-1 else 0.0 for i in range(size)])\n",
    "\n",
    "def eq_coords(idx,size):\n",
    "    return np.array([sbv(i,size) for i in idx])\n",
    "\n",
    "A = np.array([[2,6,1,0,0,1],[1,0,2,-3,1,-1],[2,-3,4,1,1,0],[1,1,1,1,-1,0]])\n",
    "b = np.array([7,-1,3,3])\n",
    "c = np.array([10,7,4,3,1,0])\n",
    "\n",
    "bb = 5*[(0,1)] + [(0,None)]\n",
    "\n",
    "resA = linprog((-1)*c,A_ub=A,b_ub=b,bounds=bb)\n",
    "resB = linprog((-1)*c,A_ub=A,b_ub=b,bounds=bb,A_eq=np.array([sbv(5,6)]),b_eq=0)\n",
    "resC = linprog((-1)*c,A_ub=A,b_ub=b,bounds=bb,A_eq=np.array([sbv(5,6)]),b_eq=1)\n",
    "\n",
    "resD = linprog((-1)*c,A_ub=A,b_ub=b,bounds=bb,A_eq=eq_coords([5,3],6),b_eq=np.array([1,0]))\n",
    "resE = linprog((-1)*c,A_ub=A,b_ub=b,bounds=bb,A_eq=eq_coords([5,3],6),b_eq=np.array([1,1]))\n",
    "\n",
    "resF = linprog((-1)*c,A_ub=A,b_ub=b,bounds=bb,A_eq=eq_coords([5,3,2],6),b_eq=np.array([1,0,0]))\n",
    "resG = linprog((-1)*c,A_ub=A,b_ub=b,bounds=bb,A_eq=eq_coords([5,3,2],6),b_eq=np.array([1,0,1]))\n",
    "\n",
    "resH = linprog((-1)*c,A_ub=A,b_ub=b,bounds=bb,A_eq=eq_coords([5,4],6),b_eq=np.array([0,0]))\n",
    "resI = linprog((-1)*c,A_ub=A,b_ub=b,bounds=bb,A_eq=eq_coords([5,4],6),b_eq=np.array([0,1]))\n",
    "\n",
    "resJ = linprog((-1)*c,A_ub=A,b_ub=b,bounds=bb,A_eq=eq_coords([5,4,2],6),b_eq=np.array([0,1,0]))\n",
    "resK = linprog((-1)*c,A_ub=A,b_ub=b,bounds=bb,A_eq=eq_coords([5,4,2],6),b_eq=np.array([0,1,1]))\n",
    "\n",
    "\n",
    "resL = linprog((-1)*c,A_ub=A,b_ub=b,bounds=bb,A_eq=eq_coords([5,3,2,1],6),b_eq=np.array([1,0,1,0]))\n",
    "resM = linprog((-1)*c,A_ub=A,b_ub=b,bounds=bb,A_eq=eq_coords([5,3,2,1],6),b_eq=np.array([1,0,1,1]))\n",
    "\n",
    "\n",
    "resN = linprog((-1)*c,A_ub=A,b_ub=b,bounds=bb,A_eq=eq_coords([5,4,2,1],6),b_eq=np.array([0,1,1,0]))\n",
    "resO = linprog((-1)*c,A_ub=A,b_ub=b,bounds=bb,A_eq=eq_coords([5,4,2,1],6),b_eq=np.array([0,1,1,1]))\n",
    "\n",
    "\n",
    "def report(res):\n",
    "    return f\"OK? {str(res.success):6s}  opt value: {(-1)*res.fun:.2f}  opt point: {res.x}\"\n",
    "\n",
    "print(\"A - \" + report(resA))\n",
    "print(\"B - \" + report(resB))\n",
    "print(\"C - \" + report(resC))\n",
    "print(\"D - \" + report(resD))\n",
    "print(\"E - \" + report(resE))\n",
    "print(\"F - \" + report(resF))\n",
    "print(\"G - \" + report(resG))\n",
    "print(\"H - \" + report(resH))\n",
    "print(\"I - \" + report(resI))\n",
    "print(\"J - \" + report(resJ))\n",
    "print(\"K - \" + report(resK))\n",
    "print(\"L - \" + report(resL))\n",
    "print(\"M - \" + report(resM))\n",
    "print(\"N - \" + report(resN))\n",
    "print(\"O - \" + report(resO))\n"
   ]
  },
  {
   "cell_type": "markdown",
   "metadata": {
    "slideshow": {
     "slide_type": "slide"
    }
   },
   "source": [
    "Postcript\n",
    "=========\n",
    "\n",
    "It turns out that solving integer programming problems is *hard*. In fact, in computer\n",
    "science integer programming problems are in a class of problems called [**NP Hard** problems](https://en.wikipedia.org/wiki/NP-completeness) -- see the [discussion here.](https://en.wikipedia.org/wiki/Integer_programming).\n",
    "\n",
    "The algorithm we describe above is a type of ``branch and bound algorithm``, which is a common approach. While our description gives pretty good evidence that this approach is effective, we haven't said anything e.g. about the ``run time`` of our algorithm, etc."
   ]
  },
  {
   "cell_type": "code",
   "execution_count": null,
   "metadata": {},
   "outputs": [],
   "source": []
  }
 ],
 "metadata": {
  "jupytext": {
   "formats": "ipynb,md"
  },
  "kernelspec": {
   "display_name": "Python 3",
   "language": "python",
   "name": "python3"
  },
  "language_info": {
   "codemirror_mode": {
    "name": "ipython",
    "version": 3
   },
   "file_extension": ".py",
   "mimetype": "text/x-python",
   "name": "python",
   "nbconvert_exporter": "python",
   "pygments_lexer": "ipython3",
   "version": "3.7.3"
  }
 },
 "nbformat": 4,
 "nbformat_minor": 4
}
