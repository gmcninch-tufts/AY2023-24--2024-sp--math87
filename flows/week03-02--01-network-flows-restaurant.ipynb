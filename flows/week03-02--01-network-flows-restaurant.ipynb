{
 "cells": [
  {
   "cell_type": "markdown",
   "id": "229ebf75-c0c7-441e-ae01-cc3ae29596ee",
   "metadata": {},
   "source": []
  },
  {
   "cell_type": "markdown",
   "id": "cd8dbdbe-3d49-4dd9-b395-712b44f5db6d",
   "metadata": {},
   "source": [
    "# [George McNinch](http://gmcninch.math.tufts.edu) Math 87 - Spring 2024\n",
    "\n",
    "# Week 3\n",
    "\n",
    "# § Network flows and linear programming 01"
   ]
  }
 ],
 "metadata": {
  "jupytext": {
   "text_representation": {
    "extension": ".md",
    "format_name": "markdown",
    "format_version": "1.2",
    "jupytext_version": "1.6.0"
   }
  },
  "kernelspec": {
   "display_name": "Python 3 (ipykernel)",
   "language": "python",
   "name": "python3"
  },
  "language_info": {
   "codemirror_mode": {
    "name": "ipython",
    "version": 3
   },
   "file_extension": ".py",
   "mimetype": "text/x-python",
   "name": "python",
   "nbconvert_exporter": "python",
   "pygments_lexer": "ipython3",
   "version": "3.11.6"
  }
 },
 "nbformat": 4,
 "nbformat_minor": 5
}
